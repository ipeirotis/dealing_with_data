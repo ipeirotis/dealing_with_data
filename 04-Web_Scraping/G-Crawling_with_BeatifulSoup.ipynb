{
  "cells": [
    {
      "cell_type": "markdown",
      "metadata": {
        "deletable": true,
        "editable": true,
        "id": "OG2KIvpAvJVm"
      },
      "source": [
        "---\n",
        "# Web scraping with Python\n",
        "\n",
        "---"
      ]
    },
    {
      "cell_type": "markdown",
      "metadata": {
        "deletable": true,
        "editable": true,
        "id": "1DileW24vJVo"
      },
      "source": [
        "### What is Web Scraping?\n",
        "\n",
        "**Web Scraping** (also termed Screen Scraping, Web Data Extraction, etc.) is a technique employed to extract large amounts of data from websites whereby the data is extracted and saved to a local file in your computer or to a database in table (spreadsheet) format.\n",
        "\n",
        "Data displayed by most websites can only be viewed using a web browser. Examples are data litsings at yellow pages directories, real estate sites, social networks, industrial inventory, online shopping sites, contact databases etc. Most websites do not offer the functionality to save a copy of the data which they display to your computer. The only option then is to manually copy and paste the data displayed by the website in your browser to a local file in your computer - a very tedious job which can take many hours or sometimes days to complete.\n",
        "\n",
        "Web Scraping is the technique of automating this process, so that instead of manually copying the data from websites, the Web Scraping software will perform the same task within a fraction of the time.\n",
        "\n",
        "A Web Scraping software will interact with websites in the same way as your web browser. But instead of displaying the data served by the website on screen, the Web Scraping software saves the required data from the web page to a local file or database.\n",
        "\n",
        "<img src=\"https://github.com/ipeirotis/dealing_with_data/blob/master/04-Web_Scraping/images/scraping.png?raw=1\" width=120%>"
      ]
    },
    {
      "cell_type": "markdown",
      "metadata": {
        "collapsed": true,
        "deletable": true,
        "editable": true,
        "id": "wOoFMSOzvJVp"
      },
      "source": [
        "### Python tools for Web Scraping\n",
        "\n",
        "[**_BeautifulSoup_**](http://www.crummy.com/software/BeautifulSoup/bs4/doc/) is an incredible Python tool (open library) for pulling out information from a webpage. You can use it to extract tables, lists, paragraph and you can also put filters to extract information from web pages.\n",
        "\n",
        "You can install it usin pip, for eaxmple:\n",
        "\n",
        "    $ pip3 install -U beautifulsoup4\n",
        "    \n",
        "BeautifulSoup does not fetch the web page for us. That’s why, we will use [**_requests_**](http://docs.python-requests.org/en/master/) library in combination with the BeautifulSoup library.\n",
        "\n",
        "Python has several other options for HTML scraping in addition to BeatifulSoup. Here are some others:\n",
        "\n",
        "* [`mechanize`](http://wwwsearch.sourceforge.net/mechanize/);\n",
        "* [`scrapemark`](http://arshaw.com/scrapemark/);\n",
        "* [`scrapy`](http://scrapy.org/).\n",
        "\n",
        "Let's import need libraries:"
      ]
    },
    {
      "cell_type": "code",
      "execution_count": 2,
      "metadata": {
        "collapsed": true,
        "deletable": true,
        "editable": true,
        "id": "ZMO17aDfvJVp"
      },
      "outputs": [],
      "source": [
        "from bs4 import BeautifulSoup\n",
        "import requests"
      ]
    },
    {
      "cell_type": "markdown",
      "metadata": {
        "deletable": true,
        "editable": true,
        "id": "kngy-PQ1vJVq"
      },
      "source": [
        "### A few words about HTML tags\n",
        "\n",
        "While performing web scarping, we deal with html tags. Thus, we must have good understanding of them. If you already know basics of HTML, you can skip this section. Below is the basic syntax of HTML:\n",
        "\n",
        "<img src=\"https://github.com/ipeirotis/dealing_with_data/blob/master/04-Web_Scraping/images/html1.png?raw=1\">\n",
        "\n",
        "This syntax has various tags as elaborated below:\n",
        "\n",
        "1. **`<!DOCTYPE html>`**: HTML documents must start with a type declaration;\n",
        "2. HTML document is contained between **`<html>`** and **`</html>`**;\n",
        "3. The visible part of the HTML document is between **`<body>`** and **`</body>`**;\n",
        "4. HTML headings are defined with the **`<h1>`** to **`<h6>`** tags;\n",
        "5. HTML paragraphs are defined with the **`<p>`** tag.\n",
        "\n",
        "Other useful HTML tags are:\n",
        "\n",
        "* HTML links are defined with the **`<a>`** tag, **`<a href=\"http://www.test.com\">This is a link for test.com</a>`**;\n",
        "* HTML tables are defined with **`<table>`**, row as **`<tr>`** and rows are divided into data as **`<td>`**;\n",
        "\n",
        "<img src=\"https://github.com/ipeirotis/dealing_with_data/blob/master/04-Web_Scraping/images/html2.png?raw=1\">\n",
        "\n",
        "* HTML list starts with **`<ul>`** (unordered) and **`<ol>`** (ordered). Each item of list starts with **`<li>`**;\n",
        "\n",
        "<img src=\"https://github.com/ipeirotis/dealing_with_data/blob/master/04-Web_Scraping/images/html3.jpg?raw=1\" style=\"padding: 0 250px 0 0;\" width=40%>\n",
        "\n",
        "* There are two type of specific HTML tags **`<div>`** and **`<span>`** that play role of wrappers for some other tags;\n",
        "\n",
        "* **`class`** and **`id`** attributes are identifiers of some HTML tags.\n",
        "\n",
        "<img src=\"https://github.com/ipeirotis/dealing_with_data/blob/master/04-Web_Scraping/images/html4.jpg?raw=1\" width=36%>\n",
        "<img src=\"https://github.com/ipeirotis/dealing_with_data/blob/master/04-Web_Scraping/images/html5.jpg?raw=1\" width=52%>\n",
        "\n",
        "If you are new to this HTML tags, I would also recommend you to refer [HTML tutorial from W3schools](http://www.w3schools.com/html/), for example. This will give you a clear understanding about HTML tags."
      ]
    },
    {
      "cell_type": "markdown",
      "metadata": {
        "deletable": true,
        "editable": true,
        "id": "GjE4fAxrvJVq"
      },
      "source": [
        "### Scraping of IMDB site\n",
        "\n",
        "The general idea behind web scraping is to retrieve data that exists on a website, and convert it into a format that is usable for analysis. Webpages are rendered by the brower from HTML and CSS code, but much of the information included in the HTML underlying any website is not interesting to us.\n",
        "\n",
        "We will extract data about most popular movies from [IMDB](http://www.imdb.com/). The same approach can be applied to scraping data from any other web site.\n",
        "\n",
        "First of all, we scrape data about 50 most popular movies, which were released from 1900 to 2015, using this link: <br></br> http://www.imdb.com/search/title?sort=num_votes,desc&start=1&title_type=feature&year=1900,2015.\n",
        "\n",
        "We begin by reading in the source code for a given web page and creating a BeautifulSoup object with the `BeautifulSoup` function."
      ]
    },
    {
      "cell_type": "code",
      "execution_count": null,
      "metadata": {
        "deletable": true,
        "editable": true,
        "id": "x09LrqrivJVq"
      },
      "outputs": [],
      "source": [
        "url = \"http://www.imdb.com/search/title?sort=num_votes,desc&start=1&title_type=feature&year=1900,2015\"\n",
        "# Get data from URL\n",
        "page = requests.get(url)\n",
        "\n",
        "# Display HTML page\n",
        "print(page.text)"
      ]
    },
    {
      "cell_type": "code",
      "execution_count": null,
      "metadata": {
        "deletable": true,
        "editable": true,
        "id": "ETff2duLvJVr"
      },
      "outputs": [],
      "source": [
        "# Parse the HTML in the `page` variable, and store it in Beautiful Soup format\n",
        "bs = BeautifulSoup(page.text, 'html.parser')\n",
        "# `'html.parser'` is an not required argument which allows to process large HTML code\n",
        "bs"
      ]
    },
    {
      "cell_type": "markdown",
      "metadata": {
        "deletable": true,
        "editable": true,
        "id": "6pvBNOdAvJVs"
      },
      "source": [
        "Each browser provides a tool for analysis and watching of web page content. Commonly, it is called Web Inspector. The easiest way to open Inspector window is a mouse right click on some webpage. After that you should select respective option in context menu. Particularly, for Google Chrome browser (note, all further screenshots are made in this browser) you should select \"Inspect\" option.\n",
        "\n",
        "So, let's go to the page http://www.imdb.com/search/title?sort=num_votes,desc&start=1&title_type=feature&year=1900,2015 and open Inspector. The Elements menu shows the HTML code of the web page. The Inspector window should looks like this (or it may be display horizontally down the page)\n",
        "\n",
        "<img src=\"https://github.com/ipeirotis/dealing_with_data/blob/master/04-Web_Scraping/images/imdb1.jpg?raw=1\">"
      ]
    },
    {
      "cell_type": "markdown",
      "metadata": {
        "deletable": true,
        "editable": true,
        "id": "jYabHZokvJVs"
      },
      "source": [
        "Each movie in the list left of the web page is an **`<tr>`** tag of the HTML code, where **`<td>`** tag with `class` attribute  equals to `\"title\"` corresponds text data about the movie\n",
        "\n",
        "<img src=\"https://github.com/ipeirotis/dealing_with_data/blob/master/04-Web_Scraping/images/imdb2.jpg?raw=1\">\n",
        "\n",
        "`findAll(tags)` method of BeautifulSoup collect all tags `tags` in the defined BeautifulSoup instance and return a Python list of all these object. Thus, let's extract data for \"The Shawshank Redemption\":"
      ]
    },
    {
      "cell_type": "code",
      "execution_count": 22,
      "metadata": {
        "deletable": true,
        "editable": true,
        "scrolled": true,
        "id": "1Mi88lpbvJVs",
        "outputId": "9246120c-7261-488d-a1d9-a89a899f4451",
        "colab": {
          "base_uri": "https://localhost:8080/"
        }
      },
      "outputs": [
        {
          "output_type": "stream",
          "name": "stdout",
          "text": [
            "Found 50 movies on the web page\n",
            "\n"
          ]
        },
        {
          "output_type": "execute_result",
          "data": {
            "text/plain": [
              "<div class=\"lister-item mode-advanced\">\n",
              "<div class=\"lister-top-right\">\n",
              "<div class=\"ribbonize\" data-caller=\"filmosearch\" data-tconst=\"tt0111161\"></div>\n",
              "</div>\n",
              "<div class=\"lister-item-image float-left\">\n",
              "<a href=\"/title/tt0111161/\"> <img alt=\"The Shawshank Redemption\" class=\"loadlate\" data-tconst=\"tt0111161\" height=\"98\" loadlate=\"https://m.media-amazon.com/images/M/MV5BNDE3ODcxYzMtY2YzZC00NmNlLWJiNDMtZDViZWM2MzIxZDYwXkEyXkFqcGdeQXVyNjAwNDUxODI@._V1_UX67_CR0,0,67,98_AL_.jpg\" src=\"https://m.media-amazon.com/images/S/sash/4FyxwxECzL-U1J8.png\" width=\"67\"/>\n",
              "</a> </div>\n",
              "<div class=\"lister-item-content\">\n",
              "<h3 class=\"lister-item-header\">\n",
              "<span class=\"lister-item-index unbold text-primary\">1.</span>\n",
              "<a href=\"/title/tt0111161/\">The Shawshank Redemption</a>\n",
              "<span class=\"lister-item-year text-muted unbold\">(1994)</span>\n",
              "</h3>\n",
              "<p class=\"text-muted\">\n",
              "<span class=\"certificate\">R</span>\n",
              "<span class=\"ghost\">|</span>\n",
              "<span class=\"runtime\">142 min</span>\n",
              "<span class=\"ghost\">|</span>\n",
              "<span class=\"genre\">\n",
              "Drama            </span>\n",
              "</p>\n",
              "<div class=\"ratings-bar\">\n",
              "<div class=\"inline-block ratings-imdb-rating\" data-value=\"9.3\" name=\"ir\">\n",
              "<span class=\"global-sprite rating-star imdb-rating\"></span>\n",
              "<strong>9.3</strong>\n",
              "</div>\n",
              "<div class=\"inline-block ratings-user-rating\">\n",
              "<span class=\"userRatingValue\" data-tconst=\"tt0111161\" id=\"urv_tt0111161\">\n",
              "<span class=\"global-sprite rating-star no-rating\"></span>\n",
              "<span class=\"rate\" data-no-rating=\"Rate this\" data-value=\"0\" name=\"ur\">Rate this</span>\n",
              "</span>\n",
              "<div class=\"starBarWidget\" id=\"sb_tt0111161\">\n",
              "<div class=\"rating rating-list\" data-csrf-token=\"\" data-ga-identifier=\"\" data-starbar-class=\"rating-list\" data-user=\"\" id=\"tt0111161|imdb|9.3|9.3|adv_li_tt||advsearch|title\" itemprop=\"aggregateRating\" itemscope=\"\" itemtype=\"http://schema.org/AggregateRating\" title=\"Users rated this 9.3/10 (2,811,095 votes) - click stars to rate\">\n",
              "<meta content=\"9.3\" itemprop=\"ratingValue\"/>\n",
              "<meta content=\"10\" itemprop=\"bestRating\"/>\n",
              "<meta content=\"2811095\" itemprop=\"ratingCount\"/>\n",
              "<span class=\"rating-bg\"> </span>\n",
              "<span class=\"rating-imdb\" style=\"width: 130.2px\"> </span>\n",
              "<span class=\"rating-stars\">\n",
              "<a href=\"/register/login?why=vote\" rel=\"nofollow\" title=\"Register or login to rate this title\"><span>1</span></a>\n",
              "<a href=\"/register/login?why=vote\" rel=\"nofollow\" title=\"Register or login to rate this title\"><span>2</span></a>\n",
              "<a href=\"/register/login?why=vote\" rel=\"nofollow\" title=\"Register or login to rate this title\"><span>3</span></a>\n",
              "<a href=\"/register/login?why=vote\" rel=\"nofollow\" title=\"Register or login to rate this title\"><span>4</span></a>\n",
              "<a href=\"/register/login?why=vote\" rel=\"nofollow\" title=\"Register or login to rate this title\"><span>5</span></a>\n",
              "<a href=\"/register/login?why=vote\" rel=\"nofollow\" title=\"Register or login to rate this title\"><span>6</span></a>\n",
              "<a href=\"/register/login?why=vote\" rel=\"nofollow\" title=\"Register or login to rate this title\"><span>7</span></a>\n",
              "<a href=\"/register/login?why=vote\" rel=\"nofollow\" title=\"Register or login to rate this title\"><span>8</span></a>\n",
              "<a href=\"/register/login?why=vote\" rel=\"nofollow\" title=\"Register or login to rate this title\"><span>9</span></a>\n",
              "<a href=\"/register/login?why=vote\" rel=\"nofollow\" title=\"Register or login to rate this title\"><span>10</span></a>\n",
              "</span>\n",
              "<span class=\"rating-rating\"><span class=\"value\">9.3</span><span class=\"grey\">/</span><span class=\"grey\">10</span></span>\n",
              "<span class=\"rating-cancel\"><a href=\"/title/tt0111161/vote\" rel=\"nofollow\" title=\"Delete\"><span>X</span></a></span>\n",
              " </div>\n",
              "</div>\n",
              "</div>\n",
              "<div class=\"inline-block ratings-metascore\">\n",
              "<span class=\"metascore favorable\">82        </span>\n",
              "        Metascore\n",
              "            </div>\n",
              "</div>\n",
              "<p class=\"text-muted\">\n",
              "Over the course of several years, two convicts form a friendship, seeking consolation and, eventually, redemption through basic compassion.</p>\n",
              "<p class=\"\">\n",
              "    Director:\n",
              "<a href=\"/name/nm0001104/\">Frank Darabont</a>\n",
              "<span class=\"ghost\">|</span> \n",
              "    Stars:\n",
              "<a href=\"/name/nm0000209/\">Tim Robbins</a>, \n",
              "<a href=\"/name/nm0000151/\">Morgan Freeman</a>, \n",
              "<a href=\"/name/nm0348409/\">Bob Gunton</a>, \n",
              "<a href=\"/name/nm0006669/\">William Sadler</a>\n",
              "</p>\n",
              "<p class=\"sort-num_votes-visible\">\n",
              "<span class=\"text-muted\">Votes:</span>\n",
              "<span data-value=\"2811095\" name=\"nv\">2,811,095</span>\n",
              "<span class=\"ghost\">|</span> <span class=\"text-muted\">Gross:</span>\n",
              "<span data-value=\"28,341,469\" name=\"nv\">$28.34M</span>\n",
              "</p>\n",
              "</div>\n",
              "</div>"
            ]
          },
          "metadata": {},
          "execution_count": 22
        }
      ],
      "source": [
        "# The first argument of `findAll` method is tag name, the other one is class name\n",
        "movies = bs.select('.lister-item')\n",
        "print(\"Found {} movies on the web page\\n\".format(len(movies)))\n",
        "\n",
        "movie_1 = movies[0]\n",
        "movie_1"
      ]
    },
    {
      "cell_type": "markdown",
      "metadata": {
        "deletable": true,
        "editable": true,
        "id": "6SgrxCqivJVs"
      },
      "source": [
        "The next screenshot shows the respective HTML tags (blocks), which we will extract data:\n",
        "\n",
        "<img src=\"https://github.com/ipeirotis/dealing_with_data/blob/master/04-Web_Scraping/images/imdb3.jpg?raw=1\" width=70%>\n",
        "\n",
        "Thus, for \"The Shawshank Redemption\":"
      ]
    },
    {
      "cell_type": "code",
      "execution_count": 29,
      "metadata": {
        "deletable": true,
        "editable": true,
        "id": "RUvnIAqfvJVt",
        "outputId": "7eb9fda0-147e-4892-b838-4bf16a6522af",
        "colab": {
          "base_uri": "https://localhost:8080/"
        }
      },
      "outputs": [
        {
          "output_type": "stream",
          "name": "stdout",
          "text": [
            "Title: The Shawshank Redemption\n",
            "Genres: \n",
            "Drama            \n",
            "Runtime: 142 min\n",
            "Rating: 9.3\n",
            "Year: (1994)\n"
          ]
        }
      ],
      "source": [
        "# All HTML tags are highlighted above.\n",
        "# Note, method `find()` returns only the first occurrence tag\n",
        "# attribute `contents` gives content of the tag (what is recorded inside a tag)\n",
        "# Pay attention how we search the neccesary blocks\n",
        "title = movie_1.select_one('h3 a').text\n",
        "genres = movie_1.find('span', {\"class\": 'genre'}).text\n",
        "runtime = movie_1.find('span', {\"class\": 'runtime'}).text\n",
        "rating = movie_1.select_one('.ratings-imdb-rating strong').text\n",
        "year = movie_1.find('span', {\"class\": 'lister-item-year'}).text\n",
        "print('Title: {}\\nGenres: {}\\nRuntime: {}\\nRating: {}\\nYear: {}'.format(title, genres, runtime, rating, year))"
      ]
    },
    {
      "cell_type": "markdown",
      "metadata": {
        "deletable": true,
        "editable": true,
        "id": "YhLbBGIfvJVt"
      },
      "source": [
        "---\n",
        "> ### Exercise:\n",
        "\n",
        "> Supplement the above list of field data with the short description of the movie, which is highighted by `outline` in the picture below. Call this variable also `outline`.\n",
        "\n",
        "> Further we will collect these six fields for each movie.\n",
        "\n",
        "---"
      ]
    },
    {
      "cell_type": "code",
      "execution_count": null,
      "metadata": {
        "collapsed": true,
        "deletable": true,
        "editable": true,
        "id": "m6rcoiFWvJVt"
      },
      "outputs": [],
      "source": [
        "# type your code here"
      ]
    },
    {
      "cell_type": "markdown",
      "metadata": {
        "deletable": true,
        "editable": true,
        "id": "9Vf_A3OevJVt"
      },
      "source": [
        "We can extract data about each movie using `for` loop:"
      ]
    },
    {
      "cell_type": "code",
      "execution_count": null,
      "metadata": {
        "deletable": true,
        "editable": true,
        "scrolled": true,
        "id": "MyiyQlp8vJVt",
        "outputId": "e975ef79-af1d-4ac0-aa3d-cd9df1755fce"
      },
      "outputs": [
        {
          "name": "stdout",
          "output_type": "stream",
          "text": [
            "The Shawshank Redemption [u'Crime', u'Drama'] 142 mins. 9.3 (1994)\n",
            "The Dark Knight [u'Action', u'Crime', u'Drama'] 152 mins. 9.0 (2008)\n",
            "Inception [u'Action', u'Mystery', u'Sci-Fi', u'Thriller'] 148 mins. 8.8 (2010)\n",
            "Fight Club [u'Drama'] 139 mins. 8.9 (1999)\n",
            "Pulp Fiction [u'Crime', u'Drama'] 154 mins. 8.9 (1994)\n",
            "The Lord of the Rings: The Fellowship of the Ring [u'Adventure', u'Drama', u'Fantasy'] 178 mins. 8.8 (2001)\n",
            "Forrest Gump [u'Drama', u'Romance'] 142 mins. 8.8 (1994)\n",
            "The Matrix [u'Action', u'Sci-Fi'] 136 mins. 8.7 (1999)\n",
            "The Lord of the Rings: The Return of the King [u'Adventure', u'Drama', u'Fantasy'] 201 mins. 8.9 (2003)\n",
            "The Godfather [u'Crime', u'Drama'] 175 mins. 9.2 (1972)\n",
            "The Dark Knight Rises [u'Action', u'Thriller'] 164 mins. 8.5 (2012)\n",
            "The Lord of the Rings: The Two Towers [u'Adventure', u'Drama', u'Fantasy'] 179 mins. 8.7 (2002)\n",
            "Se7en [u'Crime', u'Drama', u'Mystery', u'Thriller'] 127 mins. 8.6 (1995)\n",
            "Gladiator [u'Action', u'Drama'] 155 mins. 8.5 (2000)\n",
            "The Avengers [u'Action', u'Adventure', u'Sci-Fi'] 143 mins. 8.1 (2012)\n",
            "Batman Begins [u'Action', u'Adventure'] 140 mins. 8.3 (2005)\n",
            "Django Unchained [u'Drama', u'Western'] 165 mins. 8.5 (2012)\n",
            "Star Wars [u'Action', u'Adventure', u'Fantasy', u'Sci-Fi'] 121 mins. 8.7 (1977)\n",
            "Avatar [u'Action', u'Adventure', u'Fantasy', u'Sci-Fi'] 162 mins. 7.9 (2009)\n",
            "Interstellar [u'Adventure', u'Drama', u'Sci-Fi'] 169 mins. 8.6 (2014)\n",
            "The Silence of the Lambs [u'Crime', u'Drama', u'Thriller'] 118 mins. 8.6 (1991)\n",
            "Saving Private Ryan [u'Action', u'Drama', u'War'] 169 mins. 8.6 (1998)\n",
            "Inglourious Basterds [u'Adventure', u'Drama', u'War'] 153 mins. 8.3 (2009)\n",
            "The Departed [u'Crime', u'Drama', u'Thriller'] 151 mins. 8.5 (2006)\n",
            "Schindler's List [u'Biography', u'Drama', u'History'] 195 mins. 8.9 (1993)\n",
            "Memento [u'Mystery', u'Thriller'] 113 mins. 8.5 (2000)\n",
            "The Prestige [u'Drama', u'Mystery', u'Sci-Fi', u'Thriller'] 130 mins. 8.5 (2006)\n",
            "Star Wars: Episode V - The Empire Strikes Back [u'Action', u'Adventure', u'Fantasy', u'Sci-Fi'] 124 mins. 8.8 (1980)\n",
            "American Beauty [u'Drama', u'Romance'] 122 mins. 8.4 (1999)\n",
            "Pirates of the Caribbean: The Curse of the Black Pearl [u'Action', u'Adventure', u'Fantasy'] 143 mins. 8.1 (2003)\n",
            "Titanic [u'Drama', u'Romance'] 194 mins. 7.7 (1997)\n",
            "V for Vendetta [u'Action', u'Drama', u'Thriller'] 132 mins. 8.2 (2005)\n",
            "The Godfather: Part II [u'Crime', u'Drama'] 202 mins. 9.0 (1974)\n",
            "American History X [u'Crime', u'Drama'] 119 mins. 8.6 (1998)\n",
            "Shutter Island [u'Mystery', u'Thriller'] 138 mins. 8.1 (2010)\n",
            "The Green Mile [u'Crime', u'Drama', u'Fantasy', u'Mystery'] 189 mins. 8.5 (1999)\n",
            "The Wolf of Wall Street [u'Biography', u'Comedy', u'Crime', u'Drama'] 180 mins. 8.2 (2013)\n",
            "Terminator 2: Judgment Day [u'Action', u'Sci-Fi'] 137 mins. 8.5 (1991)\n",
            "The Usual Suspects [u'Crime', u'Drama', u'Mystery', u'Thriller'] 106 mins. 8.6 (1995)\n",
            "Braveheart [u'Biography', u'Drama', u'History', u'War'] 178 mins. 8.4 (1995)\n",
            "Kill Bill: Vol. 1 [u'Action'] 111 mins. 8.1 (2003)\n",
            "Goodfellas [u'Biography', u'Crime', u'Drama'] 146 mins. 8.7 (1990)\n",
            "Back to the Future [u'Adventure', u'Comedy', u'Sci-Fi'] 116 mins. 8.5 (1985)\n",
            "Léon: The Professional [u'Crime', u'Drama', u'Thriller'] 110 mins. 8.6 (1994)\n",
            "WALL·E [u'Animation', u'Adventure', u'Family', u'Sci-Fi'] 98 mins. 8.4 (2008)\n",
            "The Hunger Games [u'Adventure', u'Drama', u'Sci-Fi', u'Thriller'] 142 mins. 7.3 (2012)\n",
            "The Sixth Sense [u'Drama', u'Mystery', u'Thriller'] 107 mins. 8.1 (1999)\n",
            "Iron Man [u'Action', u'Adventure', u'Sci-Fi'] 126 mins. 7.9 (2008)\n",
            "One Flew Over the Cuckoo's Nest [u'Drama'] 133 mins. 8.7 (1975)\n",
            "Finding Nemo [u'Animation', u'Adventure', u'Comedy', u'Family'] 100 mins. 8.1 (2003)\n"
          ]
        }
      ],
      "source": [
        "for movie in movies:\n",
        "    title = movie.find('a').contents[0]\n",
        "    genres = movie.find('span','genre').findAll('a')\n",
        "    genres = [g.contents[0] for g in genres]\n",
        "    runtime = movie.find('span','runtime').contents[0]\n",
        "    rating = movie.find('span','value').contents[0]\n",
        "    year = movie.find('span','year_type').contents[0]\n",
        "    print title, genres, runtime, rating, year"
      ]
    },
    {
      "cell_type": "markdown",
      "metadata": {
        "deletable": true,
        "editable": true,
        "id": "eqfU1J0avJVt"
      },
      "source": [
        "We want also obtain data about director(s) and actors who play the mail roles in the movie. These data is placed in the **`span`** with class name `credit` (see picture above). Moreover, each name represents the link for the page with information about the respective person. So, we will scrape directors/actors names and links to its pages, after that we will scrape dome data from these pages.\n",
        "\n",
        "Let's make all actions at first for \"The Shawshank Redemption\", then we will repeat them for all other movies."
      ]
    },
    {
      "cell_type": "code",
      "execution_count": null,
      "metadata": {
        "deletable": true,
        "editable": true,
        "id": "QME9V4pXvJVt",
        "outputId": "0eb23ffd-f927-467d-a2a2-aa66f476bf84"
      },
      "outputs": [
        {
          "name": "stdout",
          "output_type": "stream",
          "text": [
            "[<a href=\"/name/nm0001104/\">Frank Darabont</a>, <a href=\"/name/nm0000209/\">Tim Robbins</a>, <a href=\"/name/nm0000151/\">Morgan Freeman</a>, <a href=\"/name/nm0348409/\">Bob Gunton</a>]\n"
          ]
        }
      ],
      "source": [
        "persons = movie_1.find('span', 'credit').findAll('a')\n",
        "print persons"
      ]
    },
    {
      "cell_type": "code",
      "execution_count": null,
      "metadata": {
        "deletable": true,
        "editable": true,
        "id": "eZpS1NLpvJVu",
        "outputId": "4d31326f-7422-4cbe-da9c-6ef667955f4b"
      },
      "outputs": [
        {
          "name": "stdout",
          "output_type": "stream",
          "text": [
            "{'link': u'http://www.imdb.com/name/nm0001104/', 'name': u'Frank Darabont'}\n",
            "{'link': u'http://www.imdb.com/name/nm0000209/', 'name': u'Tim Robbins'}\n",
            "{'link': u'http://www.imdb.com/name/nm0000151/', 'name': u'Morgan Freeman'}\n",
            "{'link': u'http://www.imdb.com/name/nm0348409/', 'name': u'Bob Gunton'}\n"
          ]
        }
      ],
      "source": [
        "# Pay attention, `href` attribute of `<a>` tag contains the URL value.\n",
        "# To obtain it we should call this attribute like a key of Python dictionary\n",
        "vals = []\n",
        "for i in persons:\n",
        "    vals.append({'name': i.contents[0], 'link': 'http://www.imdb.com' + i['href']})\n",
        "    print vals[-1]"
      ]
    },
    {
      "cell_type": "markdown",
      "metadata": {
        "deletable": true,
        "editable": true,
        "id": "ljaq_d41vJVu"
      },
      "source": [
        "Great, but in this way we lost data about who of these four person is the director of the movie. Thus, we will go in more sophisticated way:"
      ]
    },
    {
      "cell_type": "code",
      "execution_count": null,
      "metadata": {
        "deletable": true,
        "editable": true,
        "id": "DkJ_4kUCvJVu",
        "outputId": "e6a60d92-c967-494b-c18e-7d61575af543"
      },
      "outputs": [
        {
          "name": "stdout",
          "output_type": "stream",
          "text": [
            "<span class=\"credit\">\n",
            " Dir:\n",
            " <a href=\"/name/nm0001104/\">\n",
            "  Frank Darabont\n",
            " </a>\n",
            " With:\n",
            " <a href=\"/name/nm0000209/\">\n",
            "  Tim Robbins\n",
            " </a>\n",
            " ,\n",
            " <a href=\"/name/nm0000151/\">\n",
            "  Morgan Freeman\n",
            " </a>\n",
            " ,\n",
            " <a href=\"/name/nm0348409/\">\n",
            "  Bob Gunton\n",
            " </a>\n",
            "</span>\n",
            "\n"
          ]
        }
      ],
      "source": [
        "# 1. Extract full tag including all its content\n",
        "persons = movie_1.find('span','credit')\n",
        "# We can use `prettify()` method to make outputs more readable\n",
        "print persons.prettify()"
      ]
    },
    {
      "cell_type": "code",
      "execution_count": null,
      "metadata": {
        "deletable": true,
        "editable": true,
        "id": "MskOcUY8vJVv",
        "outputId": "5c97a9c7-9bd3-4855-e939-1fe687f50914"
      },
      "outputs": [
        {
          "name": "stdout",
          "output_type": "stream",
          "text": [
            "<span class=\"credit\">\n",
            "    Dir: <a href=\"/name/nm0001104/\">Frank Darabont</a>\n",
            "\n",
            "<a href=\"/name/nm0000209/\">Tim Robbins</a>, <a href=\"/name/nm0000151/\">Morgan Freeman</a>, <a href=\"/name/nm0348409/\">Bob Gunton</a>\n",
            "</span>\n"
          ]
        }
      ],
      "source": [
        "# 2. Convert above tag into a Python string and then divide it into director's and actors' parts\n",
        "dirs, actors = str(persons).split(\"With:\")\n",
        "print dirs.strip()\n",
        "print\n",
        "print actors.strip()"
      ]
    },
    {
      "cell_type": "code",
      "execution_count": null,
      "metadata": {
        "deletable": true,
        "editable": true,
        "id": "UJr98ZnevJVv",
        "outputId": "6bf9f4a6-0050-484a-c12a-c11699ccb3b4"
      },
      "outputs": [
        {
          "name": "stdout",
          "output_type": "stream",
          "text": [
            "<html>\n",
            " <body>\n",
            "  <span class=\"credit\">\n",
            "   Dir:\n",
            "   <a href=\"/name/nm0001104/\">\n",
            "    Frank Darabont\n",
            "   </a>\n",
            "  </span>\n",
            " </body>\n",
            "</html>\n",
            "\n",
            "<html>\n",
            " <body>\n",
            "  <span>\n",
            "   <a href=\"/name/nm0000209/\">\n",
            "    Tim Robbins\n",
            "   </a>\n",
            "   ,\n",
            "   <a href=\"/name/nm0000151/\">\n",
            "    Morgan Freeman\n",
            "   </a>\n",
            "   ,\n",
            "   <a href=\"/name/nm0348409/\">\n",
            "    Bob Gunton\n",
            "   </a>\n",
            "  </span>\n",
            " </body>\n",
            "</html>\n"
          ]
        }
      ],
      "source": [
        "# 3. Prepare separate BeautifulSoup instances for each above string\n",
        "# Note, we must provide open or close pair of `<span>` tag for these strings\n",
        "dirs = BeautifulSoup(dirs.strip() + '</span>')\n",
        "actors = BeautifulSoup('<span>' + actors.strip())\n",
        "print dirs.prettify()\n",
        "print\n",
        "print actors.prettify()"
      ]
    },
    {
      "cell_type": "code",
      "execution_count": null,
      "metadata": {
        "deletable": true,
        "editable": true,
        "id": "rcuH1WgGvJVv",
        "outputId": "36dd453a-15d0-4dfc-ff6a-5b48c810478c"
      },
      "outputs": [
        {
          "name": "stdout",
          "output_type": "stream",
          "text": [
            "[{'link': 'http://www.imdb.com/name/nm0001104/', 'name': u'Frank Darabont'}]\n"
          ]
        }
      ],
      "source": [
        "# 4. And now can extract data about director(s)\n",
        "a = dirs.findAll('a')\n",
        "directors = []\n",
        "for i in a:\n",
        "    # We add below the 'http://www.imdb.com' path, because URLs is written in shorted form in the `href` attribute\n",
        "    directors.append({'name': i.contents[0], 'link': 'http://www.imdb.com' + i['href']})\n",
        "print directors"
      ]
    },
    {
      "cell_type": "code",
      "execution_count": null,
      "metadata": {
        "deletable": true,
        "editable": true,
        "id": "0AxA2Zj3vJVv",
        "outputId": "7fadb102-0563-4c8b-97cc-2ba63a13bdc2"
      },
      "outputs": [
        {
          "name": "stdout",
          "output_type": "stream",
          "text": [
            "[{'link': 'http://www.imdb.com/name/nm0000209/', 'name': u'Tim Robbins'}, {'link': 'http://www.imdb.com/name/nm0000151/', 'name': u'Morgan Freeman'}, {'link': 'http://www.imdb.com/name/nm0348409/', 'name': u'Bob Gunton'}]\n"
          ]
        }
      ],
      "source": [
        "# and actors\n",
        "a = actors.findAll('a')\n",
        "actors = []\n",
        "for i in a:\n",
        "    actors.append({'name': i.contents[0], 'link': 'http://www.imdb.com' + i['href']})\n",
        "print actors"
      ]
    },
    {
      "cell_type": "markdown",
      "metadata": {
        "deletable": true,
        "editable": true,
        "id": "LkSzX2hZvJVw"
      },
      "source": [
        "Now we can go to personal page of any director or actor and collect data about him.\n",
        "\n",
        "So, let's open the page about Morgan Freeman http://www.imdb.com/name/nm0000151/\n",
        "\n",
        "<img src=\"https://github.com/ipeirotis/dealing_with_data/blob/master/04-Web_Scraping/images/imdb4.jpg?raw=1\">\n",
        "\n",
        "and scrape the following data:\n",
        "\n",
        "* image URL\n",
        "* birthday\n",
        "* place of birth\n",
        "\n",
        "<img src=\"https://github.com/ipeirotis/dealing_with_data/blob/master/04-Web_Scraping/images/imdb5.jpg?raw=1\" width=70%>"
      ]
    },
    {
      "cell_type": "code",
      "execution_count": null,
      "metadata": {
        "deletable": true,
        "editable": true,
        "id": "HaOFu9TlvJVw",
        "outputId": "20f48497-1301-4022-be38-80a8b3f1550b"
      },
      "outputs": [
        {
          "name": "stdout",
          "output_type": "stream",
          "text": [
            "Name: Morgan Freeman\n",
            "Birthday: 1937-6-1\n",
            "Place of birth: Memphis, Tennessee, USA\n"
          ]
        }
      ],
      "source": [
        "# Define URL\n",
        "sub_url = actors[1]['link']\n",
        "# Get page content\n",
        "sub_r = requests.get(sub_url)\n",
        "# Parse the HTML\n",
        "an_actor = BeautifulSoup(sub_r.text, 'html.parser')\n",
        "# Extract block for person info\n",
        "# Note, we can find a specific tag using argument `attrs`, where we can define class, id or other additional identifiers\n",
        "info = an_actor.find('table', attrs={'id': 'name-overview-widget-layout'})\n",
        "image_url = info.find('div', 'image').find('img')['src']\n",
        "birth_data = info.find('div', attrs={'id': 'name-born-info'})\n",
        "birth_day = birth_data.find('time')['datetime']\n",
        "birth_place = birth_data.findAll('a')[-1].contents[0]\n",
        "print \"Name: {}\\nBirthday: {}\\nPlace of birth: {}\".format(actors[1]['name'], birth_day, birth_place)"
      ]
    },
    {
      "cell_type": "code",
      "execution_count": null,
      "metadata": {
        "deletable": true,
        "editable": true,
        "id": "SBDDSyfyvJVw",
        "outputId": "0ca3af1e-c459-4fdc-cfc9-11f778919991"
      },
      "outputs": [
        {
          "data": {
            "image/jpeg": "[encoded data removed]",
            "text/plain": [
              "<IPython.core.display.Image object>"
            ]
          },
          "metadata": {},
          "output_type": "display_data"
        },
        {
          "name": "stdout",
          "output_type": "stream",
          "text": [
            "Morgan Freeman\n"
          ]
        }
      ],
      "source": [
        "# Display also image\n",
        "from IPython.display import Image, display\n",
        "\n",
        "display(Image(image_url))\n",
        "print actors[1]['name']"
      ]
    },
    {
      "cell_type": "markdown",
      "metadata": {
        "deletable": true,
        "editable": true,
        "id": "sXyzxxLcvJVw"
      },
      "source": [
        "Now let's combine all above steps into one block"
      ]
    },
    {
      "cell_type": "code",
      "execution_count": null,
      "metadata": {
        "deletable": true,
        "editable": true,
        "id": "lrfemwHmvJVw",
        "outputId": "904a0767-8f0a-4bfc-eea5-b7690dc023ce"
      },
      "outputs": [
        {
          "name": "stdout",
          "output_type": "stream",
          "text": [
            "50\n"
          ]
        },
        {
          "data": {
            "text/plain": [
              "{'actors': [{'birth_place': u'West Covina, California, USA',\n",
              "   'born': u'1958-10-16',\n",
              "   'image_url': u'http://ia.media-imdb.com/images/M/MV5BMTI1OTYxNzAxOF5BMl5BanBnXkFtZTYwNTE5ODI4._V1_UY317_CR16,0,214,317_AL_.jpg',\n",
              "   'name': u'Tim Robbins'},\n",
              "  {'birth_place': u'Memphis, Tennessee, USA',\n",
              "   'born': u'1937-6-1',\n",
              "   'image_url': u'http://ia.media-imdb.com/images/M/MV5BMTc0MDMyMzI2OF5BMl5BanBnXkFtZTcwMzM2OTk1MQ@@._V1_UX214_CR0,0,214,317_AL_.jpg',\n",
              "   'name': u'Morgan Freeman'},\n",
              "  {'birth_place': u'Santa Monica, California, USA',\n",
              "   'born': u'1945-11-15',\n",
              "   'image_url': u'http://ia.media-imdb.com/images/M/MV5BMTc3MzY0MTQzM15BMl5BanBnXkFtZTcwMTM0ODYxNw@@._V1_UY317_CR91,0,214,317_AL_.jpg',\n",
              "   'name': u'Bob Gunton'}],\n",
              " 'description': u'Two imprisoned men bond over a number of years, finding solace and eventual redemption through acts of common decency.',\n",
              " 'directors': [{'birth_place': u'Montb\\xe9liard, Doubs, France',\n",
              "   'born': u'1959-1-28',\n",
              "   'image_url': u'http://ia.media-imdb.com/images/M/MV5BNjk0MTkxNzQwOF5BMl5BanBnXkFtZTcwODM5OTMwNA@@._V1_UY317_CR20,0,214,317_AL_.jpg',\n",
              "   'name': u'Frank Darabont'}],\n",
              " 'genres': [u'Crime', u'Drama'],\n",
              " 'rating': u'9.3',\n",
              " 'released': u'(1994)',\n",
              " 'runtime': u'142 mins.',\n",
              " 'title': u'The Shawshank Redemption'}"
            ]
          },
          "execution_count": 16,
          "metadata": {},
          "output_type": "execute_result"
        }
      ],
      "source": [
        "# Let's write scraped data into a list\n",
        "data = []\n",
        "\n",
        "\n",
        "# Define the function which will scrape data about a person and return it\n",
        "def get_person_data(url):\n",
        "    an_actor = BeautifulSoup(requests.get(url).text, 'html.parser')\n",
        "    info = an_actor.find('table', attrs={'id': 'name-overview-widget-layout'})\n",
        "    image = info.find('div', 'image').find('img')\n",
        "    # We must write additional condition if some person's page is empty like this one http://www.imdb.com/name/nm0095029/\n",
        "    if image is not None:\n",
        "        image_url = image['src']\n",
        "    else:\n",
        "        image_url = ''\n",
        "    birth_data = info.find('div', attrs={'id': 'name-born-info'})\n",
        "    if birth_data is not None:\n",
        "        birthday = birth_data.find('time')['datetime']\n",
        "        birth_place = birth_data.findAll('a')[-1].contents[0]\n",
        "    else:\n",
        "        birthday = birth_place = ''\n",
        "    return image_url, birthday, birth_place\n",
        "\n",
        "\n",
        "for movie in movies:\n",
        "    # old fields\n",
        "    title = movie.find('a').contents[0]\n",
        "    genres = movie.find('span','genre').findAll('a')\n",
        "    genres = [g.contents[0] for g in genres]\n",
        "    runtime = movie.find('span','runtime').contents[0]\n",
        "    rating = movie.find('span','value').contents[0]\n",
        "    year = movie.find('span','year_type').contents[0]\n",
        "    # Here we already add the outline data :)\n",
        "    outline = movie.find('span', 'outline').contents[0]\n",
        "\n",
        "    # new fields\n",
        "    dirs, acts = str(movie.find('span','credit')).split(\"With:\")\n",
        "    dirs = BeautifulSoup(dirs + '</span>')\n",
        "    acts = BeautifulSoup('<span>' + acts)\n",
        "\n",
        "    directors = []\n",
        "    for i in dirs.findAll('a'):\n",
        "        image_url, birthday, birth_place = get_person_data('http://www.imdb.com' + i['href'])\n",
        "        directors.append(\n",
        "            {\n",
        "                'name': i.contents[0],\n",
        "                'image_url': image_url,\n",
        "                'born': birthday,\n",
        "                'birth_place': birth_place\n",
        "            }\n",
        "        )\n",
        "\n",
        "    actors = []\n",
        "    for i in acts.findAll('a'):\n",
        "        image_url, birthday, birth_place = get_person_data('http://www.imdb.com' + i['href'])\n",
        "        actors.append(\n",
        "            {\n",
        "                'name': i.contents[0],\n",
        "                'image_url': image_url,\n",
        "                'born': birthday,\n",
        "                'birth_place': birth_place\n",
        "            }\n",
        "        )\n",
        "\n",
        "    # Let's collect each movie data into a dictionary\n",
        "    data.append({\n",
        "        'title': title,\n",
        "        'genres': genres,\n",
        "        'runtime': runtime,\n",
        "        'rating': rating,\n",
        "        'released': year,\n",
        "        'description': outline,\n",
        "        'directors': directors,\n",
        "        'actors': actors,\n",
        "    })\n",
        "\n",
        "print len(data)\n",
        "# Display collected data for the first movie\n",
        "data[0]"
      ]
    },
    {
      "cell_type": "markdown",
      "metadata": {
        "deletable": true,
        "editable": true,
        "id": "Fgbjmh7hvJVx"
      },
      "source": [
        "---\n",
        "> ### Exercise:\n",
        "\n",
        "> Many fields of collected data have a bad form, e.g. a released year is written in brackets, runtime contains \"mins.\".\n",
        "\n",
        "> 1. Remove brackets in the `released` field.\n",
        "> 2. Remain only numeric value in `runtime` field.\n",
        "> 3. Divide the `birth_place` field into `country` and `city` fields.\n",
        "\n",
        "> As we are collecting movies with released year starting from 1900, there are people who have already died, e.g. the famous american actor [Marlon Brando](http://www.imdb.com/name/nm0000008/). Thus, collect also data about the date of its death (`died`).\n",
        "\n",
        "---"
      ]
    },
    {
      "cell_type": "code",
      "execution_count": null,
      "metadata": {
        "collapsed": true,
        "deletable": true,
        "editable": true,
        "id": "71T8XcWhvJVx"
      },
      "outputs": [],
      "source": [
        "# type your code here"
      ]
    },
    {
      "cell_type": "markdown",
      "metadata": {
        "deletable": true,
        "editable": true,
        "id": "h3L2P2sxvJVx"
      },
      "source": [
        "As you may see we have taken into account only one page with the first 50 movies. Let's collect data about the 1500 of the most popular movies, thus, we need to scrape 30 first pages of the chosen filter. We can define the page number by setting of the `start` attribute in the URL <br></br> http://www.imdb.com/search/title?sort=num_votes,desc&start=1&title_type=feature&year=1900,2015.<br></br> This URL corresponds to the web page with movies from the first one to 50th one. The URL <br></br> http://www.imdb.com/search/title?sort=num_votes,desc&start=51&title_type=feature&year=1900,2015<br></br> corresponds to movies from 51 to 100 in the list, the page <br></br> http://www.imdb.com/search/title?sort=num_votes,desc&start=101&title_type=feature&year=1900,2015<br></br> contains 101-150 movies, etc. Please, check it.\n",
        "\n",
        "Thus, we can scrape data from each this web page using, for example, `for` loop:"
      ]
    },
    {
      "cell_type": "code",
      "execution_count": null,
      "metadata": {
        "deletable": true,
        "editable": true,
        "id": "W8hALW8hvJVx",
        "outputId": "6f17a9b3-689e-4b90-b34d-0ccd69377822"
      },
      "outputs": [
        {
          "name": "stdout",
          "output_type": "stream",
          "text": [
            "Page 1\n",
            "Page 2\n",
            "Page 3\n",
            "Page 4\n",
            "Page 5\n",
            "Page 6\n",
            "Page 7\n",
            "Page 8\n",
            "Page 9\n",
            "Page 10\n",
            "Page 11\n",
            "Page 12\n",
            "Page 13\n",
            "Page 14\n",
            "Page 15\n",
            "Page 16\n",
            "Page 17\n",
            "Page 18\n",
            "Page 19\n",
            "Page 20\n",
            "Page 21\n",
            "Page 22\n",
            "Page 23\n",
            "Page 24\n",
            "Page 25\n",
            "Page 26\n",
            "Page 27\n",
            "Page 28\n",
            "Page 29\n",
            "Page 30\n",
            "\n",
            "Data about 1500 movies were collected\n"
          ]
        }
      ],
      "source": [
        "# We will scrape data only from the main page without redirection into persons pages (for now)\n",
        "def crawl_page(startswith):\n",
        "    url = \"http://www.imdb.com/search/title?sort=num_votes,desc&start={}&title_type=feature&year=1900,2015\".format(startswith)\n",
        "    r = requests.get(url)\n",
        "    data = []\n",
        "    bs = BeautifulSoup(r.text, 'html.parser')\n",
        "    for movie in bs.findAll('td','title'):\n",
        "        item = {}\n",
        "        item['title'] = movie.find('a').contents[0]\n",
        "        genres = movie.find('span','genre').findAll('a')\n",
        "        item['genres'] = [g.contents[0] for g in genres]\n",
        "        item['outline'] = movie.find('span', 'outline').contents[0]\n",
        "        item['runtime'] = movie.find('span','runtime').contents[0]\n",
        "        item['rating'] = movie.find('span','value').contents[0]\n",
        "        item['released'] = movie.find('span','year_type').contents[0]\n",
        "        data.append(item)\n",
        "    return data\n",
        "\n",
        "data = []\n",
        "for i, j in enumerate(range(1, 1501, 50)):\n",
        "    print 'Page', i+1\n",
        "    data.extend(crawl_page(i))\n",
        "\n",
        "print \"\\nData about {} movies were collected\".format(len(data))"
      ]
    },
    {
      "cell_type": "markdown",
      "metadata": {
        "collapsed": true,
        "deletable": true,
        "editable": true,
        "id": "n7sAznYFvJVx"
      },
      "source": [
        "---\n",
        "> ### Exercise:\n",
        "\n",
        "> Replace `crawl_page()` function `for` loop body with the code, which we have used earlier for scraping data from persons pages also and with your changes regarding the previous tasks. Collect full data about first 1500 movies and its directors/actors.\n",
        "\n",
        "> Save result as an JSON file. Let's call it \"imdb_movies_1500.json\", because we will use it in the following lessons.\n",
        "\n",
        "---"
      ]
    },
    {
      "cell_type": "code",
      "execution_count": null,
      "metadata": {
        "collapsed": true,
        "deletable": true,
        "editable": true,
        "id": "MVjgiSt2vJVx"
      },
      "outputs": [],
      "source": [
        "# type your code here"
      ]
    }
  ],
  "metadata": {
    "kernelspec": {
      "display_name": "Python 3",
      "language": "python",
      "name": "python3"
    },
    "language_info": {
      "codemirror_mode": {
        "name": "ipython",
        "version": 3
      },
      "file_extension": ".py",
      "mimetype": "text/x-python",
      "name": "python",
      "nbconvert_exporter": "python",
      "pygments_lexer": "ipython3",
      "version": "3.5.2"
    },
    "colab": {
      "provenance": []
    }
  },
  "nbformat": 4,
  "nbformat_minor": 0
}