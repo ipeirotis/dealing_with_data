{
  "nbformat": 4,
  "nbformat_minor": 0,
  "metadata": {
    "kernelspec": {
      "display_name": "Python 3",
      "language": "python",
      "name": "python3"
    },
    "language_info": {
      "codemirror_mode": {
        "name": "ipython",
        "version": 3
      },
      "file_extension": ".py",
      "mimetype": "text/x-python",
      "name": "python",
      "nbconvert_exporter": "python",
      "pygments_lexer": "ipython3",
      "version": "3.6.6"
    },
    "colab": {
      "name": "Crawling HTML Pages",
      "provenance": [],
      "include_colab_link": true
    }
  },
  "cells": [
    {
      "cell_type": "markdown",
      "metadata": {
        "id": "view-in-github",
        "colab_type": "text"
      },
      "source": [
        "<a href=\"https://colab.research.google.com/github/ipeirotis/dealing_with_data/blob/master/04-Web_Scraping/B-Crawling_HTML_Pages.ipynb\" target=\"_parent\"><img src=\"https://colab.research.google.com/assets/colab-badge.svg\" alt=\"Open In Colab\"/></a>"
      ]
    },
    {
      "cell_type": "markdown",
      "metadata": {
        "id": "VGMIH8iiQkaU"
      },
      "source": [
        "# Crawling and Extracting Data from Websites"
      ]
    },
    {
      "cell_type": "code",
      "metadata": {
        "id": "dYNQSVkqQkaV"
      },
      "source": [
        "from bs4 import BeautifulSoup"
      ],
      "execution_count": 1,
      "outputs": []
    },
    {
      "cell_type": "markdown",
      "metadata": {
        "id": "tNLZmq2gQkag"
      },
      "source": [
        "## Searching in HTML: Fetching the webpage title from ESPN.com\n",
        "\n",
        "Let's start by trying to fetch the headlines from the site ESPN.com.\n",
        "\n"
      ]
    },
    {
      "cell_type": "code",
      "metadata": {
        "id": "vCx_Tvm3Qkah"
      },
      "source": [
        "import requests # This command allows us to fetch URLs\n",
        "import pandas # To create a dataframe\n",
        "\n",
        "# Let's start by fetching the page, and parsing it\n",
        "url = \"http://www.espn.com/\"\n",
        "\n",
        "# Add a user-agent, to pretend to be a browser, not a Python script\n",
        "headers = {\n",
        "    'User-Agent': 'Mozilla/5.0 (Windows NT 10.0; Win64; x64) AppleWebKit/537.36 (KHTML, like Gecko) Chrome/91.0.4472.124 Safari/537.36'\n",
        "}\n",
        "\n",
        "# get the html of that url\n",
        "response = requests.get(url, headers=headers)\n",
        "\n",
        "# Parse the web page\n",
        "espn_soup = BeautifulSoup(response.text, 'html.parser')"
      ],
      "execution_count": 5,
      "outputs": []
    },
    {
      "cell_type": "markdown",
      "metadata": {
        "id": "3szL2NDkQkap"
      },
      "source": [
        "Let's start by getting the content of the `<title>` node from the site:"
      ]
    },
    {
      "cell_type": "code",
      "metadata": {
        "id": "C70sDo6dQkaz",
        "outputId": "f0f3001c-4468-4dea-dd83-a99b83b00b4b",
        "colab": {
          "base_uri": "https://localhost:8080/"
        }
      },
      "source": [
        "# This code finds the tag <title> in the HTML of ESPN.com\n",
        "results = espn_soup.find('title')\n",
        "results"
      ],
      "execution_count": 6,
      "outputs": [
        {
          "output_type": "execute_result",
          "data": {
            "text/plain": [
              "<title>ESPN - Serving Sports Fans. Anytime. Anywhere.</title>"
            ]
          },
          "metadata": {},
          "execution_count": 6
        }
      ]
    },
    {
      "cell_type": "code",
      "metadata": {
        "id": "Zude0Ys5Qkap",
        "outputId": "444455da-1d07-4eb2-d35a-d8d326bb5154",
        "colab": {
          "base_uri": "https://localhost:8080/",
          "height": 35
        }
      },
      "source": [
        "# Now let's get the text of that node\n",
        "results = espn_soup.find('title').string\n",
        "results"
      ],
      "execution_count": 7,
      "outputs": [
        {
          "output_type": "execute_result",
          "data": {
            "text/plain": [
              "'ESPN - Serving Sports Fans. Anytime. Anywhere.'"
            ],
            "application/vnd.google.colaboratory.intrinsic+json": {
              "type": "string"
            }
          },
          "metadata": {},
          "execution_count": 7
        }
      ]
    },
    {
      "cell_type": "markdown",
      "metadata": {
        "id": "cVUdtBuVTcUv"
      },
      "source": [
        "### Exercise\n",
        "\n",
        "* Connect to the NYU Stern website, and fetch the title of the page"
      ]
    },
    {
      "cell_type": "code",
      "metadata": {
        "id": "5e4dq_o-Ti7U",
        "outputId": "9dbd6ab2-1543-45c8-ea54-0a4b40c6360b",
        "colab": {
          "base_uri": "https://localhost:8080/"
        }
      },
      "source": [
        "# your code here\n",
        "\n",
        "# Let's start by fetching the page, and parsing it\n",
        "url = \"http://www.stern.nyu.edu/\"\n",
        "\n",
        "# Add a user-agent, to pretend to be a browser, not a Python script\n",
        "headers = {\n",
        "    'User-Agent': 'Mozilla/5.0 (Windows NT 10.0; Win64; x64) AppleWebKit/537.36 (KHTML, like Gecko) Chrome/91.0.4472.124 Safari/537.36'\n",
        "}\n",
        "\n",
        "# get the html of that url\n",
        "response = requests.get(url, headers=headers)\n",
        "\n",
        "# Parse the web page\n",
        "stern_soup = BeautifulSoup(response.text, 'html.parser')\n",
        "\n",
        "stern_soup.find('title')"
      ],
      "execution_count": 10,
      "outputs": [
        {
          "output_type": "execute_result",
          "data": {
            "text/plain": [
              "<title>NYU Stern School of Business | Full-time MBA, Part-time (Langone) MBA, Undergraduate, PhD, Executive MBA Business Programs - NYU Stern</title>"
            ]
          },
          "metadata": {},
          "execution_count": 10
        }
      ]
    },
    {
      "cell_type": "code",
      "metadata": {
        "id": "oBSnvmd0Qka-",
        "cellView": "form"
      },
      "source": [
        "# @title Solution\n",
        "stern_url = 'http://www.stern.nyu.edu'\n",
        "stern_html = requests.get(stern_url).text\n",
        "stern_soup = BeautifulSoup(stern_html, 'html.parser')\n",
        "\n",
        "title = stern_soup.find('title').string\n",
        "title"
      ],
      "execution_count": null,
      "outputs": []
    },
    {
      "cell_type": "markdown",
      "metadata": {
        "id": "_p6aTxluTnlS"
      },
      "source": [
        "## Searching for elements of interest in the web page"
      ]
    },
    {
      "cell_type": "markdown",
      "metadata": {
        "id": "DNzG7ZY9QkbH"
      },
      "source": [
        "Now, let's say that we are looking to retrieve *multiple* elements from a web page. For that we can use the `soup.find_all` command."
      ]
    },
    {
      "cell_type": "markdown",
      "metadata": {
        "id": "MgTvqXmNQkbI"
      },
      "source": [
        "For example, to find all the `<a ...> ... </a>` tags in the returned html, which store the links in the page, we issue the command:"
      ]
    },
    {
      "cell_type": "code",
      "metadata": {
        "id": "e-G5eLsCQkbM",
        "outputId": "e8b46509-e8d7-4a16-983f-a55ee029e442",
        "colab": {
          "base_uri": "https://localhost:8080/"
        }
      },
      "source": [
        "# Get all the <a ...> ... </a> elements, which are the links on the page\n",
        "links = espn_soup.find_all(\"a\")\n",
        "len(links)"
      ],
      "execution_count": 11,
      "outputs": [
        {
          "output_type": "execute_result",
          "data": {
            "text/plain": [
              "164"
            ]
          },
          "metadata": {},
          "execution_count": 11
        }
      ]
    },
    {
      "cell_type": "code",
      "metadata": {
        "id": "CzNj3eZ4QkbY",
        "outputId": "84844672-ff6c-4694-cfaa-b1b71998f976",
        "colab": {
          "base_uri": "https://localhost:8080/"
        }
      },
      "source": [
        "# Let's pick now one of the many links\n",
        "lnk = links[80]\n",
        "type(lnk.string)"
      ],
      "execution_count": 12,
      "outputs": [
        {
          "output_type": "execute_result",
          "data": {
            "text/plain": [
              "bs4.element.NavigableString"
            ]
          },
          "metadata": {},
          "execution_count": 12
        }
      ]
    },
    {
      "cell_type": "code",
      "source": [
        "links[80]"
      ],
      "metadata": {
        "id": "f8fA_rI_3LZt",
        "outputId": "1049067a-017d-4002-abd5-d5a323fd18fb",
        "colab": {
          "base_uri": "https://localhost:8080/"
        }
      },
      "execution_count": 14,
      "outputs": [
        {
          "output_type": "execute_result",
          "data": {
            "text/plain": [
              "<a class=\"\" data-mptype=\"headline\" href=\"/sports-betting/story/_/id/38749633/2023-nba-thursday-betting-odds-tips-lines-stats-more\" name=\"&amp;lpos=fp:feed:xx:story:1:related\">NBA betting: Three picks for Thursday</a>"
            ]
          },
          "metadata": {},
          "execution_count": 14
        }
      ]
    },
    {
      "cell_type": "markdown",
      "metadata": {
        "id": "BhwPXAb1Qkbe"
      },
      "source": [
        " To get parts of the html element that we need, we can use the `get` method (e.g., to get the `href` attribute) and the `text` method (to get the text within the `<a>...</a>` tag."
      ]
    },
    {
      "cell_type": "code",
      "metadata": {
        "id": "PvhzBi6cQkbf",
        "outputId": "43e05d75-0fa6-4ae2-ffb3-7c22ce3f7091",
        "colab": {
          "base_uri": "https://localhost:8080/",
          "height": 35
        }
      },
      "source": [
        "lnk.get(\"href\")"
      ],
      "execution_count": 15,
      "outputs": [
        {
          "output_type": "execute_result",
          "data": {
            "text/plain": [
              "'/sports-betting/story/_/id/38749633/2023-nba-thursday-betting-odds-tips-lines-stats-more'"
            ],
            "application/vnd.google.colaboratory.intrinsic+json": {
              "type": "string"
            }
          },
          "metadata": {},
          "execution_count": 15
        }
      ]
    },
    {
      "cell_type": "code",
      "metadata": {
        "id": "WSPOFRDyQkbl",
        "outputId": "ea0ee1f7-9a7c-47ac-a555-0b9cf2c862b0",
        "colab": {
          "base_uri": "https://localhost:8080/",
          "height": 35
        }
      },
      "source": [
        "lnk.text"
      ],
      "execution_count": 16,
      "outputs": [
        {
          "output_type": "execute_result",
          "data": {
            "text/plain": [
              "'NBA betting: Three picks for Thursday'"
            ],
            "application/vnd.google.colaboratory.intrinsic+json": {
              "type": "string"
            }
          },
          "metadata": {},
          "execution_count": 16
        }
      ]
    },
    {
      "cell_type": "code",
      "metadata": {
        "id": "6EbdACF-Qkbp"
      },
      "source": [
        "# The strip() removes blank spaces before and after the text\n",
        "lnk.text.strip()"
      ],
      "execution_count": null,
      "outputs": []
    },
    {
      "cell_type": "markdown",
      "source": [
        "Let's put everything together"
      ],
      "metadata": {
        "id": "eO2mcITht8gx"
      }
    },
    {
      "cell_type": "code",
      "metadata": {
        "id": "Qaj4BbALQkbS",
        "outputId": "5e8b8ffe-29b1-461c-b082-5423c94a069b",
        "colab": {
          "base_uri": "https://localhost:8080/"
        }
      },
      "source": [
        "links = espn_soup.find_all(\"a\")\n",
        "\n",
        "# Iterates over all the links (this means all the nodes\n",
        "# that matched the //a XPath query) and prints the content\n",
        "# of the attribute href and the text for that node\n",
        "for link in links:\n",
        "    print(\"==================================\")\n",
        "    print(link.get(\"href\"), \"==>\", link.text.strip())"
      ],
      "execution_count": 17,
      "outputs": [
        {
          "output_type": "stream",
          "name": "stdout",
          "text": [
            "==================================\n",
            "# ==> Menu\n",
            "==================================\n",
            "/ ==> ESPN\n",
            "==================================\n",
            "# ==> \n",
            "==================================\n",
            "# ==> scores\n",
            "==================================\n",
            "/nfl/ ==> NFL\n",
            "==================================\n",
            "/mlb/ ==> MLB\n",
            "==================================\n",
            "/college-football/ ==> NCAAF\n",
            "==================================\n",
            "/nba/ ==> NBA\n",
            "==================================\n",
            "/nhl/ ==> NHL\n",
            "==================================\n",
            "/soccer/ ==> Soccer\n",
            "==================================\n",
            "# ==> …\n",
            "==================================\n",
            "/mens-college-basketball/ ==> NCAAM\n",
            "==================================\n",
            "/womens-college-basketball/ ==> NCAAW\n",
            "==================================\n",
            "/sports-betting/ ==> Sports Betting\n",
            "==================================\n",
            "/boxing/ ==> Boxing\n",
            "==================================\n",
            "http://www.tsn.ca/cfl ==> CFL\n",
            "==================================\n",
            "/college-sports/ ==> NCAA\n",
            "==================================\n",
            "https://www.espncricinfo.com/ ==> Cricket\n",
            "==================================\n",
            "/f1/ ==> F1\n",
            "==================================\n",
            "/golf/ ==> Golf\n",
            "==================================\n",
            "/horse-racing/ ==> Horse\n",
            "==================================\n",
            "/little-league-world-series/ ==> LLWS\n",
            "==================================\n",
            "/mma/ ==> MMA\n",
            "==================================\n",
            "/racing/nascar/ ==> NASCAR\n",
            "==================================\n",
            "/nba-g-league/ ==> NBA G League\n",
            "==================================\n",
            "/olympics/ ==> Olympic Sports\n",
            "==================================\n",
            "/pll/ ==> PLL\n",
            "==================================\n",
            "/racing/ ==> Racing\n",
            "==================================\n",
            "/college-sports/basketball/recruiting/ ==> RN BB\n",
            "==================================\n",
            "/college-sports/football/recruiting/ ==> RN FB\n",
            "==================================\n",
            "/rugby/ ==> Rugby\n",
            "==================================\n",
            "/tennis/ ==> Tennis\n",
            "==================================\n",
            "/wnba/ ==> WNBA\n",
            "==================================\n",
            "/wwe/ ==> WWE\n",
            "==================================\n",
            "http://xgames.com/ ==> X Games\n",
            "==================================\n",
            "/xfl/ ==> XFL\n",
            "==================================\n",
            "# ==> More ESPN\n",
            "==================================\n",
            "/fantasy/ ==> Fantasy\n",
            "==================================\n",
            "https://www.espn.com/espnradio/index ==> Listen\n",
            "==================================\n",
            "https://www.espn.com/watch/ ==> Watch\n",
            "==================================\n",
            "https://www.espn.com/espnplus/?om-navmethod=topnav ==> ESPN+\n",
            "==================================\n",
            "http://www.espn.com/watch/espnplus/ ==> \n",
            "==================================\n",
            "https://secure.web.plus.espn.com/billing/purchase/ESPN_PURCHASE_CMPGN/ESPN_PURCHASE_VOCHR/YESPN?start=login&locale=en_US&om-navmethod=LRailSubscribe ==> SUBSCRIBE NOW\n",
            "==================================\n",
            "https://www.espn.com/espnplus/player/_/id/20734b62-333e-499e-a47c-7f44d13cc85e ==> Top Rank PPV: Fury vs. Ngannou (Sat., 2 p.m. ET)\n",
            "==================================\n",
            "https://www.espn.com/espnplus/catalog/1a5f0227-a13e-396c-8cea-8961bc288666/nhl ==> NHL: Select Games\n",
            "==================================\n",
            "https://www.espn.com/watch/catalog/5d759e0a-c80d-4dec-96a5-8b6bce747ad1 ==> The Pat McAfee Show\n",
            "==================================\n",
            "https://www.espn.com/nfl/draft2024/insider/story/_/id/38725599/2024-nfl-mock-draft-round-1-predictions-32-picks ==> Jordan Reid's 2024 NFL Mock Draft\n",
            "==================================\n",
            "https://www.espn.com/mlb/story/_/id/38513473/2023-mlb-playoffs-world-series-schedule-postseason-bracket-standings ==> MLB Playoffs\n",
            "==================================\n",
            "https://www.espn.com/nba/schedule/_/date/20231024 ==> NBA Opening Week Schedule\n",
            "==================================\n",
            "https://www.espn.com/college-football/schedule ==> College Football Schedule\n",
            "==================================\n",
            "https://www.espn.com/nfl/schedule ==> NFL Schedule\n",
            "==================================\n",
            "https://fantasy.espn.com/football ==> Fantasy Football\n",
            "==================================\n",
            "https://www.espn.com/nhl/story/_/id/38278359/2023-24-nhl-schedule-espn-tv-listings-games-matchups ==> How To Watch NHL Games\n",
            "==================================\n",
            "None ==> \n",
            "==================================\n",
            "# ==> Manage Favorites\n",
            "==================================\n",
            "https://espndeportes.espn.com ==> ESPN Deportes\n",
            "==================================\n",
            "https://andscape.com/ ==> Andscape\n",
            "==================================\n",
            "http://www.espn.com/espnw/ ==> espnW\n",
            "==================================\n",
            "https://www.espn.com/soccer/ ==> ESPNFC\n",
            "==================================\n",
            "http://xgames.espn.com ==> X Games\n",
            "==================================\n",
            "https://www.secsports.com ==> SEC Network\n",
            "==================================\n",
            "http://www.espn.com/espn/apps/download?app=espn ==> ESPN\n",
            "==================================\n",
            "http://www.espn.com/espn/mobile/products/products/_/id/17145860 ==> ESPN Fantasy\n",
            "==================================\n",
            "https://www.facebook.com/ESPN ==> Facebook\n",
            "==================================\n",
            "https://twitter.com/espn ==> X/Twitter\n",
            "==================================\n",
            "https://www.instagram.com/espn/ ==> Instagram\n",
            "==================================\n",
            "https://www.snapchat.com/discover/ESPN/7296089122 ==> Snapchat\n",
            "==================================\n",
            "https://www.tiktok.com/@espn ==> TikTok\n",
            "==================================\n",
            "https://www.youtube.com/channel/UCiWLfSweyRNmLpgEHekhoAg?ex_cid=espn-left-nav-follow-us-youtube ==> YouTube\n",
            "==================================\n",
            "/college-football/story/_/id/38749342/michigan-sign-stealing-allegations-ncaa-big-ten-investigation ==> Michigan sign-stealing allegations: Latest on investigation, punishments and moreWhere do things stand with the investigation into Michigan's alleged sign-stealing operation? And what does it mean for the Wolverines this season? We break down the latest news.5hESPNAP Photo/Carlos Osorio\n",
            "==================================\n",
            "/nfl/story/_/id/38750787/dolphins-wr-tyreek-hill-says-good-play-vs-patriots ==> Fins WR Hill says he's 'good,' will play vs. Pats\n",
            "==================================\n",
            "/mlb/story/_/id/38750240/astros-dusty-baker-retires-26-seasons-mlb-manager ==> Retiring Baker: Not goodbye, just 'see you later'\n",
            "==================================\n",
            "/nba/story/_/id/38750754/suns-stars-bradley-beal-devin-booker-lakers ==> Suns without stars Beal, Booker against Lakers\n",
            "==================================\n",
            "/golf/story/_/id/38749880/masters-unlikely-change-qualifying-criteria-liv-golfers ==> Masters unlikely to ease entry for LIV golfers\n",
            "==================================\n",
            "/nhl/story/_/id/38749754/sources-senators-shane-pinto-suspended-41-games-gambling ==> Sens' Pinto gets 41-game gambling suspension\n",
            "==================================\n",
            "/nfl/story/_/id/38749890/deshaun-watson-unsure-how-long-shoulder-injury-linger ==> Browns' Watson unsure how long injury will linger\n",
            "==================================\n",
            "/college-football/story/_/id/38750516/ncaa-michigan-sign-stealing-investigation-sources-say ==> NCAA at Michigan for investigation, sources say\n",
            "==================================\n",
            "/soccer/story/_/id/38750217/lionel-messi-named-finalist-mls-newcomer-award-playing-6-games ==> Messi named finalist for MLS newcomer award\n",
            "==================================\n",
            "/nfl/insider/story/_/id/38725576/nfl-week-8-trade-deadline-fantasy-tips-upset-prediction-buzz ==> Latest NFL trade deadline buzz\n",
            "==================================\n",
            "/nba/story/_/id/38745364/damian-lillard-giannis-antetokounmpo-highest-stakes-gamble-nba ==> In acquiring Dame and making Giannis happy, Bucks 'had to think big'Inside the yearslong effort to land Damian Lillard in Milwaukee, and why the Bucks and Giannis Antetokounmpo desperately need this experiment to work -- and fast.9hRamona ShelburneBenny Sieu-USA TODAY Sports\n",
            "==================================\n",
            "/sports-betting/story/_/id/38749633/2023-nba-thursday-betting-odds-tips-lines-stats-more ==> NBA betting: Three picks for Thursday\n",
            "==================================\n",
            "/fantasy/basketball/story/_/id/38749749/mens-fantasy-basketball-tips-projections-cheat-sheet-thursday-10-26-23 ==> Fantasy tips and projections for Thursday\n",
            "==================================\n",
            "https://www.espn.com/espn/feature/story/_/id/38632774/notre-dame-power-five-schools-gender-bias-tweets-analysis ==> Power 5 schools and their gender bias on Twitter, explained14h\n",
            "==================================\n",
            "/mlb/insider/story/_/id/38735152/2023-world-series-player-ranking-rangers-diamondbacks ==> Kiley McDaniel ranks all 52 players in the 2023 World SeriesDiamondbacks-Rangers is a surprising World Series matchup, but there are stars on both sides. Here's how the players stack up.10hKiley McDanielIllustration by ESPN\n",
            "==================================\n",
            "/mlb/insider/story/_/id/38737205/world-series-2023-texas-rangers-arizona-diamondbacks-surprise-stars ==> Unexpected heroes: The surprise stars of OctoberYou know the headliners. But neither team would be left standing without these players who stepped up.1dDavid Schoenfield\n",
            "==================================\n",
            "/mlb/story/_/id/38728143/2023-world-series-texas-rangers-arizona-diamondbacks-first-look ==> What Rangers and D-backs need to do to win it all\n",
            "==================================\n",
            "/espn/betting/story/_/id/38736932/world-series-betting-tips-picks-2023-mvp-texas-rangers-arizona-diamondbacks ==> Betting tips, picks, MVP predictions\n",
            "==================================\n",
            "/nfl/story/_/id/38615590/running-back-rachaad-white-career-journey-far-2016-2023 ==> 'Breaking generational curses': How Bucs RB Rachaad White went from sleeping on floors to the NFLIn his second year, White earned the starting job in Tampa, but the hurdles and adversity he faced to get there helped shape him.11hJenna LaineDustin Satloff/Getty Images\n",
            "==================================\n",
            "/nfl/story/_/id/38743236/buffalo-bills-swoon-complicating-sean-mcdermott ==> Bills' swoon complicating Sean McDermott's first season with added DC dutiesInjuries and inconsistency are testing McDermott's mettle.11hAlaina Getzenberg\n",
            "==================================\n",
            "/sports-betting/story/_/id/38743592/buffalo-bills-tampa-bay-buccaneers-thursday-night-nfl-betting-odds-picks-tips ==> Betting tips for Bills-Buccaneers\n",
            "==================================\n",
            "/nfl/insider/story/_/id/38735652/rating-nfl-four-most-improved-teams-2023-playoff-chances-ravens-dolphins-lions-jaguars ==> Barnwell: Why the playoff chances for four NFL teams have spiked ... and why the good times might lastLet's break down what has gone right (and wrong) for the four NFL teams that have seen their postseason chances improve most.10hBill BarnwellPhoto by Greg Fiume/Getty Images\n",
            "==================================\n",
            "/nhl/insider/story/_/id/38745368/philadelphia-flyers-rebuild-plans-new-era-draft-free-agency ==> Welcome to the 'New Era of Orange': How the Flyers are selling their rebuild to fansAs the other Philly sports teams achieve success, there's a long road ahead for the Flyers. Here's how they plan to get it right.7hGreg WyshynskiTim Nwachukwu/Getty Images\n",
            "==================================\n",
            "/college-football/insider/story/_/id/38741955/cfb-week-9-buzz-oregon-utah-playoff-drama-heisman-upsets ==> How Kyle Whittingham keeps winning, CFP drama for Michigan and upsets from our insidersCan Utah end Oregon's Playoff hopes? Speaking of the CFP, is the SEC in danger of being left out of the first rankings? Our insiders look ahead to Week 9.9hHeather Dinich and Adam RittenbergKirby Lee/USA TODAY Sports\n",
            "==================================\n",
            "/college-football/story/_/page/gamedaykickoff102623/college-football-preview-week-9-gameday-kickoff-cfp ==> Preview: What one-loss teams must do to stay in the CFP raceFor teams such as Oregon and Penn State, Week 9 is a must win.10hESPN Staff\n",
            "==================================\n",
            "/college-football/insider/story/_/id/38725730/college-football-2023-unbeaten-teams-ranking-biggest-questions ==> Ranking the remaining unbeaten teams\n",
            "==================================\n",
            "/nfl/story/_/id/38750787/dolphins-wr-tyreek-hill-says-good-play-vs-patriots ==> Fins WR Hill says he's 'good,' will play vs. Pats\n",
            "==================================\n",
            "/mlb/story/_/id/38750240/astros-dusty-baker-retires-26-seasons-mlb-manager ==> Retiring Baker: Not goodbye, just 'see you later'\n",
            "==================================\n",
            "/nba/story/_/id/38750754/suns-stars-bradley-beal-devin-booker-lakers ==> Suns without stars Beal, Booker against Lakers\n",
            "==================================\n",
            "/golf/story/_/id/38749880/masters-unlikely-change-qualifying-criteria-liv-golfers ==> Masters unlikely to ease entry for LIV golfers\n",
            "==================================\n",
            "/nhl/story/_/id/38749754/sources-senators-shane-pinto-suspended-41-games-gambling ==> Sens' Pinto gets 41-game gambling suspension\n",
            "==================================\n",
            "/nfl/story/_/id/38749890/deshaun-watson-unsure-how-long-shoulder-injury-linger ==> Browns' Watson unsure how long injury will linger\n",
            "==================================\n",
            "/college-football/story/_/id/38750516/ncaa-michigan-sign-stealing-investigation-sources-say ==> NCAA at Michigan for investigation, sources say\n",
            "==================================\n",
            "/soccer/story/_/id/38750217/lionel-messi-named-finalist-mls-newcomer-award-playing-6-games ==> Messi named finalist for MLS newcomer award\n",
            "==================================\n",
            "/nfl/insider/story/_/id/38725576/nfl-week-8-trade-deadline-fantasy-tips-upset-prediction-buzz ==> Latest NFL trade deadline buzz\n",
            "==================================\n",
            "None ==> \n",
            "==================================\n",
            "# ==> Manage Favorites\n",
            "==================================\n",
            "http://www.espn.com/fantasy/ ==> Fantasy Home\n",
            "==================================\n",
            "http://espn.com/video/clip?id=38745934 ==> \n",
            "==================================\n",
            "/video/clip?id=38745934 ==> Zion shows off with poster over JJJ, half-court alley-oop in 13 seconds\n",
            "==================================\n",
            "/nba/insider/story/_/id/38730094/nba-tiers-ranking-league-best-worst-teams ==> \n",
            "==================================\n",
            "/nba/insider/story/_/id/38730094/nba-tiers-ranking-league-best-worst-teams ==> Lowe's annual NBA tiers: Ranking the league's best and worst teams\n",
            "==================================\n",
            "/nfl/insider/story/_/id/38720747/ranking-nfl-best-defenses-2023-which-team-best-case-chiefs-ravens-browns-49ers ==> \n",
            "==================================\n",
            "/nfl/insider/story/_/id/38720747/ranking-nfl-best-defenses-2023-which-team-best-case-chiefs-ravens-browns-49ers ==> Ranking NFL's best defenses in 2023: Which team has best case?\n",
            "==================================\n",
            "/college-football/insider/story/_/id/38712510/ranking-1-loss-teams-best-chance-reach-college-football-playoff ==> \n",
            "==================================\n",
            "/college-football/insider/story/_/id/38712510/ranking-1-loss-teams-best-chance-reach-college-football-playoff ==> Ranking 1-loss teams by best chance of making the playoff\n",
            "==================================\n",
            "/nfl/story/_/id/38733244/deion-sanders-nfl-coach-prime-colorado-buffaloes ==> \n",
            "==================================\n",
            "/nfl/story/_/id/38733244/deion-sanders-nfl-coach-prime-colorado-buffaloes ==> How Deion Sanders' NFL career foreshadowed Coach Prime\n",
            "==================================\n",
            "/college-football/story/_/id/38727764/what-college-football-coaches-saying-sign-stealing ==> \n",
            "==================================\n",
            "/college-football/story/_/id/38727764/what-college-football-coaches-saying-sign-stealing ==> What college football coaches are saying about sign stealing\n",
            "==================================\n",
            "/nba/story/_/id/38674600/then-alligators-got-memphis-grizzlies-star-ja-morant-18-month-downfall ==> \n",
            "==================================\n",
            "/nba/story/_/id/38674600/then-alligators-got-memphis-grizzlies-star-ja-morant-18-month-downfall ==> 'Then the alligators got him': Inside Ja Morant's 18-month downfall\n",
            "==================================\n",
            "https://fantasy.espn.com/basketball/welcome?addata=right_rail_create_fba2024 ==> Create A League\n",
            "==================================\n",
            "https://fantasy.espn.com/basketball/welcome?addata=right_rail_join_fba2024 ==> Join a Public League\n",
            "==================================\n",
            "https://fantasy.espn.com/basketball/tools/reactivate?seasonId=2023&addata=right_rail_reactivate_fba2024 ==> Reactivate a League\n",
            "==================================\n",
            "https://fantasy.espn.com/basketball/mockdraftlobby?addata=right_rail_mock_fba2024 ==> Practice With a Mock Draft\n",
            "==================================\n",
            "https://fantasy.espn.com/hockey/welcome?addata=fhl_2024_right_rail_create ==> Create A League\n",
            "==================================\n",
            "https://fantasy.espn.com/hockey/welcome?addata=fhl_2024_right_rail_join ==> Join a Public League\n",
            "==================================\n",
            "https://fantasy.espn.com/hockey/tools/reactivate?seasonId=2021&addata=fhl_2024_right_rail_reactivate ==> Reactivate a League\n",
            "==================================\n",
            "https://fantasy.espn.com/hockey/mockdraftlobby?addata=fhl_2024_right_rail_mock ==> Practice with a Mock Draft\n",
            "==================================\n",
            "https://www.espn.com/espnplus/player/_/id/20734b62-333e-499e-a47c-7f44d13cc85e ==> Top Rank PPV: Fury vs. Ngannou (Sat., 2 p.m. ET)\n",
            "==================================\n",
            "https://www.espn.com/espnplus/catalog/1a5f0227-a13e-396c-8cea-8961bc288666/nhl ==> NHL: Select Games\n",
            "==================================\n",
            "https://www.espn.com/watch/catalog/ac34effe-35e5-4e49-9fc0-89f001f9cbba ==> ICC Cricket World Cup\n",
            "==================================\n",
            "https://www.espn.com/watch/catalog/5d759e0a-c80d-4dec-96a5-8b6bce747ad1 ==> The Pat McAfee Show\n",
            "==================================\n",
            "https://www.espn.com/nfl/draft2024/insider/story/_/id/38725599/2024-nfl-mock-draft-round-1-predictions-32-picks ==> Jordan Reid's 2024 NFL Mock Draft\n",
            "==================================\n",
            "https://www.espn.com/mlb/story/_/id/38513473/2023-mlb-playoffs-world-series-schedule-postseason-bracket-standings ==> MLB Playoffs\n",
            "==================================\n",
            "https://www.espn.com/nba/schedule/_/date/20231024 ==> NBA Opening Week Schedule\n",
            "==================================\n",
            "https://www.espn.com/college-football/schedule ==> College Football Schedule\n",
            "==================================\n",
            "https://www.espn.com/nfl/schedule ==> NFL Schedule\n",
            "==================================\n",
            "https://fantasy.espn.com/football ==> Fantasy Football\n",
            "==================================\n",
            "https://www.espn.com/nhl/story/_/id/38278359/2023-24-nhl-schedule-espn-tv-listings-games-matchups ==> How To Watch NHL Games\n",
            "==================================\n",
            "https://espndeportes.espn.com ==> ESPN Deportes\n",
            "==================================\n",
            "https://andscape.com/ ==> Andscape\n",
            "==================================\n",
            "http://www.espn.com/espnw/ ==> espnW\n",
            "==================================\n",
            "https://www.espn.com/soccer/ ==> ESPNFC\n",
            "==================================\n",
            "http://xgames.espn.com ==> X Games\n",
            "==================================\n",
            "https://www.secsports.com ==> SEC Network\n",
            "==================================\n",
            "http://www.espn.com/espn/apps/download?app=espn ==> ESPN\n",
            "==================================\n",
            "http://www.espn.com/espn/mobile/products/products/_/id/17145860 ==> ESPN Fantasy\n",
            "==================================\n",
            "https://www.facebook.com/ESPN ==> Facebook\n",
            "==================================\n",
            "https://twitter.com/espn ==> X/Twitter\n",
            "==================================\n",
            "https://www.instagram.com/espn/ ==> Instagram\n",
            "==================================\n",
            "https://www.snapchat.com/discover/ESPN/7296089122 ==> Snapchat\n",
            "==================================\n",
            "https://www.tiktok.com/@espn ==> TikTok\n",
            "==================================\n",
            "https://www.youtube.com/channel/UCiWLfSweyRNmLpgEHekhoAg?ex_cid=espn-footer-follow-us-youtube ==> YouTube\n",
            "==================================\n",
            "https://disneytermsofuse.com/english/ ==> Terms of Use\n",
            "==================================\n",
            "https://privacy.thewaltdisneycompany.com/en/current-privacy-policy/ ==> Privacy Policy\n",
            "==================================\n",
            "https://privacy.thewaltdisneycompany.com/en/current-privacy-policy/your-us-state-privacy-rights/ ==> Your US State Privacy Rights\n",
            "==================================\n",
            "https://disneyprivacycenter.com/kids-privacy-policy/english/ ==> Children's Online Privacy Policy\n",
            "==================================\n",
            "http://preferences-mgr.truste.com/?type=espn&affiliateId=148 ==> Interest-Based Ads\n",
            "==================================\n",
            "http://www.nielsen.com/digitalprivacy ==> About Nielsen Measurement\n",
            "==================================\n",
            "https://privacy.thewaltdisneycompany.com/en/dnssmpi/ ==> Do Not Sell or Share My Personal Information\n",
            "==================================\n",
            "https://www.espn.com/espn/news/story?page=contact-index ==> Contact Us\n",
            "==================================\n",
            "https://disneyadsales.com/ ==> Disney Ad Sales Site\n",
            "==================================\n",
            "https://jobs.disneycareers.com/espn ==> Work for ESPN\n"
          ]
        }
      ]
    },
    {
      "cell_type": "markdown",
      "metadata": {
        "id": "sJ4eRqTBQkbr"
      },
      "source": [
        "Now, let's revisit the _list comprehension_ approach that we discussed in the Python Primer session, for quickly constructing lists:"
      ]
    },
    {
      "cell_type": "code",
      "metadata": {
        "id": "E1Vz3APqQkbs",
        "outputId": "342b7a25-197c-4d3e-f358-86b58d213811",
        "colab": {
          "base_uri": "https://localhost:8080/"
        }
      },
      "source": [
        "# List comprehension approach\n",
        "urls = [lnk.get(\"href\") for lnk in espn_soup.find_all('a')]\n",
        "urls\n",
        "\n",
        "# Verbose version instead of the link comprehension approach\n",
        "urls = []\n",
        "for lnk in espn_soup.find_all('a'):\n",
        "  urls.append(lnk.get(\"href\"))\n"
      ],
      "execution_count": 18,
      "outputs": [
        {
          "output_type": "execute_result",
          "data": {
            "text/plain": [
              "['#',\n",
              " '/',\n",
              " '#',\n",
              " '#',\n",
              " '/nfl/',\n",
              " '/mlb/',\n",
              " '/college-football/',\n",
              " '/nba/',\n",
              " '/nhl/',\n",
              " '/soccer/',\n",
              " '#',\n",
              " '/mens-college-basketball/',\n",
              " '/womens-college-basketball/',\n",
              " '/sports-betting/',\n",
              " '/boxing/',\n",
              " 'http://www.tsn.ca/cfl',\n",
              " '/college-sports/',\n",
              " 'https://www.espncricinfo.com/',\n",
              " '/f1/',\n",
              " '/golf/',\n",
              " '/horse-racing/',\n",
              " '/little-league-world-series/',\n",
              " '/mma/',\n",
              " '/racing/nascar/',\n",
              " '/nba-g-league/',\n",
              " '/olympics/',\n",
              " '/pll/',\n",
              " '/racing/',\n",
              " '/college-sports/basketball/recruiting/',\n",
              " '/college-sports/football/recruiting/',\n",
              " '/rugby/',\n",
              " '/tennis/',\n",
              " '/wnba/',\n",
              " '/wwe/',\n",
              " 'http://xgames.com/',\n",
              " '/xfl/',\n",
              " '#',\n",
              " '/fantasy/',\n",
              " 'https://www.espn.com/espnradio/index',\n",
              " 'https://www.espn.com/watch/',\n",
              " 'https://www.espn.com/espnplus/?om-navmethod=topnav',\n",
              " 'http://www.espn.com/watch/espnplus/',\n",
              " 'https://secure.web.plus.espn.com/billing/purchase/ESPN_PURCHASE_CMPGN/ESPN_PURCHASE_VOCHR/YESPN?start=login&locale=en_US&om-navmethod=LRailSubscribe',\n",
              " 'https://www.espn.com/espnplus/player/_/id/20734b62-333e-499e-a47c-7f44d13cc85e',\n",
              " 'https://www.espn.com/espnplus/catalog/1a5f0227-a13e-396c-8cea-8961bc288666/nhl',\n",
              " 'https://www.espn.com/watch/catalog/5d759e0a-c80d-4dec-96a5-8b6bce747ad1',\n",
              " 'https://www.espn.com/nfl/draft2024/insider/story/_/id/38725599/2024-nfl-mock-draft-round-1-predictions-32-picks',\n",
              " 'https://www.espn.com/mlb/story/_/id/38513473/2023-mlb-playoffs-world-series-schedule-postseason-bracket-standings',\n",
              " 'https://www.espn.com/nba/schedule/_/date/20231024',\n",
              " 'https://www.espn.com/college-football/schedule',\n",
              " 'https://www.espn.com/nfl/schedule',\n",
              " 'https://fantasy.espn.com/football',\n",
              " 'https://www.espn.com/nhl/story/_/id/38278359/2023-24-nhl-schedule-espn-tv-listings-games-matchups',\n",
              " None,\n",
              " '#',\n",
              " 'https://espndeportes.espn.com',\n",
              " 'https://andscape.com/',\n",
              " 'http://www.espn.com/espnw/',\n",
              " 'https://www.espn.com/soccer/',\n",
              " 'http://xgames.espn.com',\n",
              " 'https://www.secsports.com',\n",
              " 'http://www.espn.com/espn/apps/download?app=espn',\n",
              " 'http://www.espn.com/espn/mobile/products/products/_/id/17145860',\n",
              " 'https://www.facebook.com/ESPN',\n",
              " 'https://twitter.com/espn',\n",
              " 'https://www.instagram.com/espn/',\n",
              " 'https://www.snapchat.com/discover/ESPN/7296089122',\n",
              " 'https://www.tiktok.com/@espn',\n",
              " 'https://www.youtube.com/channel/UCiWLfSweyRNmLpgEHekhoAg?ex_cid=espn-left-nav-follow-us-youtube',\n",
              " '/college-football/story/_/id/38749342/michigan-sign-stealing-allegations-ncaa-big-ten-investigation',\n",
              " '/nfl/story/_/id/38750787/dolphins-wr-tyreek-hill-says-good-play-vs-patriots',\n",
              " '/mlb/story/_/id/38750240/astros-dusty-baker-retires-26-seasons-mlb-manager',\n",
              " '/nba/story/_/id/38750754/suns-stars-bradley-beal-devin-booker-lakers',\n",
              " '/golf/story/_/id/38749880/masters-unlikely-change-qualifying-criteria-liv-golfers',\n",
              " '/nhl/story/_/id/38749754/sources-senators-shane-pinto-suspended-41-games-gambling',\n",
              " '/nfl/story/_/id/38749890/deshaun-watson-unsure-how-long-shoulder-injury-linger',\n",
              " '/college-football/story/_/id/38750516/ncaa-michigan-sign-stealing-investigation-sources-say',\n",
              " '/soccer/story/_/id/38750217/lionel-messi-named-finalist-mls-newcomer-award-playing-6-games',\n",
              " '/nfl/insider/story/_/id/38725576/nfl-week-8-trade-deadline-fantasy-tips-upset-prediction-buzz',\n",
              " '/nba/story/_/id/38745364/damian-lillard-giannis-antetokounmpo-highest-stakes-gamble-nba',\n",
              " '/sports-betting/story/_/id/38749633/2023-nba-thursday-betting-odds-tips-lines-stats-more',\n",
              " '/fantasy/basketball/story/_/id/38749749/mens-fantasy-basketball-tips-projections-cheat-sheet-thursday-10-26-23',\n",
              " 'https://www.espn.com/espn/feature/story/_/id/38632774/notre-dame-power-five-schools-gender-bias-tweets-analysis',\n",
              " '/mlb/insider/story/_/id/38735152/2023-world-series-player-ranking-rangers-diamondbacks',\n",
              " '/mlb/insider/story/_/id/38737205/world-series-2023-texas-rangers-arizona-diamondbacks-surprise-stars',\n",
              " '/mlb/story/_/id/38728143/2023-world-series-texas-rangers-arizona-diamondbacks-first-look',\n",
              " '/espn/betting/story/_/id/38736932/world-series-betting-tips-picks-2023-mvp-texas-rangers-arizona-diamondbacks',\n",
              " '/nfl/story/_/id/38615590/running-back-rachaad-white-career-journey-far-2016-2023',\n",
              " '/nfl/story/_/id/38743236/buffalo-bills-swoon-complicating-sean-mcdermott',\n",
              " '/sports-betting/story/_/id/38743592/buffalo-bills-tampa-bay-buccaneers-thursday-night-nfl-betting-odds-picks-tips',\n",
              " '/nfl/insider/story/_/id/38735652/rating-nfl-four-most-improved-teams-2023-playoff-chances-ravens-dolphins-lions-jaguars',\n",
              " '/nhl/insider/story/_/id/38745368/philadelphia-flyers-rebuild-plans-new-era-draft-free-agency',\n",
              " '/college-football/insider/story/_/id/38741955/cfb-week-9-buzz-oregon-utah-playoff-drama-heisman-upsets',\n",
              " '/college-football/story/_/page/gamedaykickoff102623/college-football-preview-week-9-gameday-kickoff-cfp',\n",
              " '/college-football/insider/story/_/id/38725730/college-football-2023-unbeaten-teams-ranking-biggest-questions',\n",
              " '/nfl/story/_/id/38750787/dolphins-wr-tyreek-hill-says-good-play-vs-patriots',\n",
              " '/mlb/story/_/id/38750240/astros-dusty-baker-retires-26-seasons-mlb-manager',\n",
              " '/nba/story/_/id/38750754/suns-stars-bradley-beal-devin-booker-lakers',\n",
              " '/golf/story/_/id/38749880/masters-unlikely-change-qualifying-criteria-liv-golfers',\n",
              " '/nhl/story/_/id/38749754/sources-senators-shane-pinto-suspended-41-games-gambling',\n",
              " '/nfl/story/_/id/38749890/deshaun-watson-unsure-how-long-shoulder-injury-linger',\n",
              " '/college-football/story/_/id/38750516/ncaa-michigan-sign-stealing-investigation-sources-say',\n",
              " '/soccer/story/_/id/38750217/lionel-messi-named-finalist-mls-newcomer-award-playing-6-games',\n",
              " '/nfl/insider/story/_/id/38725576/nfl-week-8-trade-deadline-fantasy-tips-upset-prediction-buzz',\n",
              " None,\n",
              " '#',\n",
              " 'http://www.espn.com/fantasy/',\n",
              " 'http://espn.com/video/clip?id=38745934',\n",
              " '/video/clip?id=38745934',\n",
              " '/nba/insider/story/_/id/38730094/nba-tiers-ranking-league-best-worst-teams',\n",
              " '/nba/insider/story/_/id/38730094/nba-tiers-ranking-league-best-worst-teams',\n",
              " '/nfl/insider/story/_/id/38720747/ranking-nfl-best-defenses-2023-which-team-best-case-chiefs-ravens-browns-49ers',\n",
              " '/nfl/insider/story/_/id/38720747/ranking-nfl-best-defenses-2023-which-team-best-case-chiefs-ravens-browns-49ers',\n",
              " '/college-football/insider/story/_/id/38712510/ranking-1-loss-teams-best-chance-reach-college-football-playoff',\n",
              " '/college-football/insider/story/_/id/38712510/ranking-1-loss-teams-best-chance-reach-college-football-playoff',\n",
              " '/nfl/story/_/id/38733244/deion-sanders-nfl-coach-prime-colorado-buffaloes',\n",
              " '/nfl/story/_/id/38733244/deion-sanders-nfl-coach-prime-colorado-buffaloes',\n",
              " '/college-football/story/_/id/38727764/what-college-football-coaches-saying-sign-stealing',\n",
              " '/college-football/story/_/id/38727764/what-college-football-coaches-saying-sign-stealing',\n",
              " '/nba/story/_/id/38674600/then-alligators-got-memphis-grizzlies-star-ja-morant-18-month-downfall',\n",
              " '/nba/story/_/id/38674600/then-alligators-got-memphis-grizzlies-star-ja-morant-18-month-downfall',\n",
              " 'https://fantasy.espn.com/basketball/welcome?addata=right_rail_create_fba2024',\n",
              " 'https://fantasy.espn.com/basketball/welcome?addata=right_rail_join_fba2024',\n",
              " 'https://fantasy.espn.com/basketball/tools/reactivate?seasonId=2023&addata=right_rail_reactivate_fba2024',\n",
              " 'https://fantasy.espn.com/basketball/mockdraftlobby?addata=right_rail_mock_fba2024',\n",
              " 'https://fantasy.espn.com/hockey/welcome?addata=fhl_2024_right_rail_create',\n",
              " 'https://fantasy.espn.com/hockey/welcome?addata=fhl_2024_right_rail_join',\n",
              " 'https://fantasy.espn.com/hockey/tools/reactivate?seasonId=2021&addata=fhl_2024_right_rail_reactivate',\n",
              " 'https://fantasy.espn.com/hockey/mockdraftlobby?addata=fhl_2024_right_rail_mock',\n",
              " 'https://www.espn.com/espnplus/player/_/id/20734b62-333e-499e-a47c-7f44d13cc85e',\n",
              " 'https://www.espn.com/espnplus/catalog/1a5f0227-a13e-396c-8cea-8961bc288666/nhl',\n",
              " 'https://www.espn.com/watch/catalog/ac34effe-35e5-4e49-9fc0-89f001f9cbba',\n",
              " 'https://www.espn.com/watch/catalog/5d759e0a-c80d-4dec-96a5-8b6bce747ad1',\n",
              " 'https://www.espn.com/nfl/draft2024/insider/story/_/id/38725599/2024-nfl-mock-draft-round-1-predictions-32-picks',\n",
              " 'https://www.espn.com/mlb/story/_/id/38513473/2023-mlb-playoffs-world-series-schedule-postseason-bracket-standings',\n",
              " 'https://www.espn.com/nba/schedule/_/date/20231024',\n",
              " 'https://www.espn.com/college-football/schedule',\n",
              " 'https://www.espn.com/nfl/schedule',\n",
              " 'https://fantasy.espn.com/football',\n",
              " 'https://www.espn.com/nhl/story/_/id/38278359/2023-24-nhl-schedule-espn-tv-listings-games-matchups',\n",
              " 'https://espndeportes.espn.com',\n",
              " 'https://andscape.com/',\n",
              " 'http://www.espn.com/espnw/',\n",
              " 'https://www.espn.com/soccer/',\n",
              " 'http://xgames.espn.com',\n",
              " 'https://www.secsports.com',\n",
              " 'http://www.espn.com/espn/apps/download?app=espn',\n",
              " 'http://www.espn.com/espn/mobile/products/products/_/id/17145860',\n",
              " 'https://www.facebook.com/ESPN',\n",
              " 'https://twitter.com/espn',\n",
              " 'https://www.instagram.com/espn/',\n",
              " 'https://www.snapchat.com/discover/ESPN/7296089122',\n",
              " 'https://www.tiktok.com/@espn',\n",
              " 'https://www.youtube.com/channel/UCiWLfSweyRNmLpgEHekhoAg?ex_cid=espn-footer-follow-us-youtube',\n",
              " 'https://disneytermsofuse.com/english/',\n",
              " 'https://privacy.thewaltdisneycompany.com/en/current-privacy-policy/',\n",
              " 'https://privacy.thewaltdisneycompany.com/en/current-privacy-policy/your-us-state-privacy-rights/',\n",
              " 'https://disneyprivacycenter.com/kids-privacy-policy/english/',\n",
              " 'http://preferences-mgr.truste.com/?type=espn&affiliateId=148',\n",
              " 'http://www.nielsen.com/digitalprivacy',\n",
              " 'https://privacy.thewaltdisneycompany.com/en/dnssmpi/',\n",
              " 'https://www.espn.com/espn/news/story?page=contact-index',\n",
              " 'https://disneyadsales.com/',\n",
              " 'https://jobs.disneycareers.com/espn']"
            ]
          },
          "metadata": {},
          "execution_count": 18
        }
      ]
    },
    {
      "cell_type": "code",
      "source": [
        "# You can safely skip the code below.\n",
        "# A bit fancier, adding a prefix of http://www.espn.com/ when the URL is\n",
        "# relative and does not include the domain\n",
        "domain = \"http://www.espn.com/\"\n",
        "urls = [\n",
        "    lnk.get(\"href\") if lnk.get(\"href\").startswith(\"http\") else domain + lnk.get(\"href\")\n",
        "    for lnk in espn_soup.find_all('a') if lnk.get(\"href\")\n",
        "]\n",
        "urls"
      ],
      "metadata": {
        "id": "lYpCdc5XOf4o"
      },
      "execution_count": null,
      "outputs": []
    },
    {
      "cell_type": "markdown",
      "metadata": {
        "id": "KNgg6P7HQkbv"
      },
      "source": [
        "### Exercise\n",
        "\n",
        "Use a list compresension approach, to get the text_content of all the URLs in the page."
      ]
    },
    {
      "cell_type": "code",
      "metadata": {
        "id": "a0K4iQ82Qkbv"
      },
      "source": [
        "# your code here\n"
      ],
      "execution_count": null,
      "outputs": []
    },
    {
      "cell_type": "markdown",
      "metadata": {
        "id": "tv8k8jCUQkby"
      },
      "source": [
        "And now create a list where we put together text content and the URL for each link"
      ]
    },
    {
      "cell_type": "code",
      "metadata": {
        "id": "FYN_XbBPRTiy"
      },
      "source": [
        "# your code here"
      ],
      "execution_count": null,
      "outputs": []
    },
    {
      "cell_type": "markdown",
      "metadata": {
        "id": "NhJIYxiDRU2f"
      },
      "source": [
        "#### Solution"
      ]
    },
    {
      "cell_type": "code",
      "metadata": {
        "id": "HYw-F6zPRSzN"
      },
      "source": [
        "text = [lnk.text.strip() for lnk in espn_soup.find_all(\"a\")]\n",
        "text"
      ],
      "execution_count": null,
      "outputs": []
    },
    {
      "cell_type": "code",
      "source": [
        "# Do not include empty pieces of text\n",
        "text = [lnk.text.strip() for lnk in espn_soup.find_all(\"a\") if len(lnk.text.strip())>0]\n",
        "text"
      ],
      "metadata": {
        "id": "Vi73A_GHPEl4"
      },
      "execution_count": null,
      "outputs": []
    },
    {
      "cell_type": "code",
      "metadata": {
        "id": "OnRT3ecxQkbz"
      },
      "source": [
        "# Creating a list of tuples where we put together href and text for each link\n",
        "list_tuples = [(lnk.get(\"href\"), lnk.text.strip()) for lnk in espn_soup.find_all(\"a\")]\n",
        "list_tuples"
      ],
      "execution_count": null,
      "outputs": []
    },
    {
      "cell_type": "code",
      "metadata": {
        "id": "bGMfS0tHQkb1"
      },
      "source": [
        "# Creating a list of dictionaries with the text and URL for each link\n",
        "list_dicts = [{\"URL\": lnk.get(\"href\"), \"Text\": lnk.text.strip()} for lnk in espn_soup.find_all(\"a\")]\n",
        "list_dicts"
      ],
      "execution_count": null,
      "outputs": []
    },
    {
      "cell_type": "code",
      "metadata": {
        "collapsed": true,
        "id": "7VO7birqQkb4"
      },
      "source": [
        "import pandas as pd\n",
        "pd.DataFrame(list_dicts)"
      ],
      "execution_count": null,
      "outputs": []
    },
    {
      "cell_type": "markdown",
      "metadata": {
        "id": "3eyJ4fu-Qkb7"
      },
      "source": [
        "### More Advanced Example: Get the list of headlines from ESPN\n"
      ]
    },
    {
      "cell_type": "markdown",
      "metadata": {
        "id": "_qTPkHGnQkb7"
      },
      "source": [
        "Now, let's examine how we can get the data from the website. The key is to understand the structure of the HTML, where the data that we need is stored, and how to fetch the elements. Then, using the appropriate XPath queries, we will get what we want."
      ]
    },
    {
      "cell_type": "markdown",
      "metadata": {
        "id": "u2_recHuQkb9"
      },
      "source": [
        "Let's start by fetching the page, and parsing it"
      ]
    },
    {
      "cell_type": "code",
      "metadata": {
        "id": "ueC9w3oAQkb-"
      },
      "source": [
        "# Let's start by fetching the page, and parsing it\n",
        "url = \"http://www.espn.com/\"\n",
        "\n",
        "# Add a user-agent, to pretend to be a browser, not a Python script\n",
        "headers = {\n",
        "    'User-Agent': 'Mozilla/5.0 (Windows NT 10.0; Win64; x64) AppleWebKit/537.36 (KHTML, like Gecko) Chrome/91.0.4472.124 Safari/537.36'\n",
        "}\n",
        "\n",
        "# get the html of that url\n",
        "response = requests.get(url, headers=headers)\n",
        "\n",
        "# Parse the web page\n",
        "espn_soup = BeautifulSoup(response.text, 'html.parser')"
      ],
      "execution_count": 20,
      "outputs": []
    },
    {
      "cell_type": "markdown",
      "metadata": {
        "id": "9H9-IZeEQkcB"
      },
      "source": [
        "By using the `\"Right-Click > Inspect\"` option of Chrome,\n",
        "we right click on the headlines and select `\"Inspect\"`.\n",
        "This opens the source code.\n",
        "There we see that all under a `<div class=\"headlineStack\">` tag."
      ]
    },
    {
      "cell_type": "code",
      "metadata": {
        "id": "eEd6g0HJQkcI"
      },
      "source": [
        "headlineNode = espn_soup.find_all('div', class_='headlineStack')"
      ],
      "execution_count": 21,
      "outputs": []
    },
    {
      "cell_type": "markdown",
      "metadata": {
        "id": "-YE3ytU0QkcK"
      },
      "source": [
        "The result of that operation is a list with 8 elements."
      ]
    },
    {
      "cell_type": "code",
      "metadata": {
        "id": "Wrhr3KS0QkcL",
        "outputId": "c33e1cc4-b26d-4835-d5b1-65ff5492e863",
        "colab": {
          "base_uri": "https://localhost:8080/"
        }
      },
      "source": [
        "type(headlineNode)"
      ],
      "execution_count": 22,
      "outputs": [
        {
          "output_type": "execute_result",
          "data": {
            "text/plain": [
              "bs4.element.ResultSet"
            ]
          },
          "metadata": {},
          "execution_count": 22
        }
      ]
    },
    {
      "cell_type": "code",
      "metadata": {
        "id": "jJSB5D2VQkcO",
        "outputId": "49025fc2-4b42-4407-b637-b84bd490713d",
        "colab": {
          "base_uri": "https://localhost:8080/"
        }
      },
      "source": [
        "len(headlineNode)"
      ],
      "execution_count": 23,
      "outputs": [
        {
          "output_type": "execute_result",
          "data": {
            "text/plain": [
              "6"
            ]
          },
          "metadata": {},
          "execution_count": 23
        }
      ]
    },
    {
      "cell_type": "markdown",
      "metadata": {
        "id": "jq1X3MtdQkcT"
      },
      "source": [
        "Each headline is under a  `<li><a href=\"....\"></a>` tag.\n",
        "So, we get all the `<li><a ...>` tags within the `<div class=\"headlineStack\">`\n",
        "(which is stored in the \"`headlineNode`\" variable)"
      ]
    },
    {
      "cell_type": "code",
      "metadata": {
        "id": "T-n8Ajb5QkcU",
        "outputId": "9213e879-77a2-4f4b-bc0e-93eaa53f6b50",
        "colab": {
          "base_uri": "https://localhost:8080/"
        }
      },
      "source": [
        "headlines = headlineNode[0].find_all('li')\n",
        "headlines = [li.find('a') for li in headlines]\n",
        "len(headlines)"
      ],
      "execution_count": 26,
      "outputs": [
        {
          "output_type": "execute_result",
          "data": {
            "text/plain": [
              "9"
            ]
          },
          "metadata": {},
          "execution_count": 26
        }
      ]
    },
    {
      "cell_type": "code",
      "source": [
        "headlines[1]"
      ],
      "metadata": {
        "id": "KRpX7f907dgX",
        "outputId": "8029bb48-fbf8-40e9-ebe7-233cd791205e",
        "colab": {
          "base_uri": "https://localhost:8080/"
        }
      },
      "execution_count": 28,
      "outputs": [
        {
          "output_type": "execute_result",
          "data": {
            "text/plain": [
              "<a class=\"\" data-mptype=\"headline\" href=\"/mlb/story/_/id/38750240/astros-dusty-baker-retires-26-seasons-mlb-manager\" name=\"&amp;lpos=fp:feed:xx:coll:headlines:2\">Retiring Baker: Not goodbye, just 'see you later'</a>"
            ]
          },
          "metadata": {},
          "execution_count": 28
        }
      ]
    },
    {
      "cell_type": "markdown",
      "metadata": {
        "id": "4StKUBexQkcX"
      },
      "source": [
        "Now, we have the nodes with the conent in the headlines variable.\n",
        "We extract the text and the URL."
      ]
    },
    {
      "cell_type": "code",
      "metadata": {
        "id": "_ALKiqXwQkcX",
        "outputId": "80e2c840-c632-42ac-ffb8-5e48a3c2cd47",
        "colab": {
          "base_uri": "https://localhost:8080/"
        }
      },
      "source": [
        "data = [{\"Title\": a.text, \"URL\": a.get(\"href\")} for a in headlines]\n",
        "data"
      ],
      "execution_count": 29,
      "outputs": [
        {
          "output_type": "execute_result",
          "data": {
            "text/plain": [
              "[{'Title': \"Fins WR Hill says he's 'good,' will play vs. Pats\",\n",
              "  'URL': '/nfl/story/_/id/38750787/dolphins-wr-tyreek-hill-says-good-play-vs-patriots'},\n",
              " {'Title': \"Retiring Baker: Not goodbye, just 'see you later'\",\n",
              "  'URL': '/mlb/story/_/id/38750240/astros-dusty-baker-retires-26-seasons-mlb-manager'},\n",
              " {'Title': 'Suns without stars Beal, Booker against Lakers',\n",
              "  'URL': '/nba/story/_/id/38750754/suns-stars-bradley-beal-devin-booker-lakers'},\n",
              " {'Title': 'Masters unlikely to ease entry for LIV golfers',\n",
              "  'URL': '/golf/story/_/id/38749880/masters-unlikely-change-qualifying-criteria-liv-golfers'},\n",
              " {'Title': \"Sens' Pinto gets 41-game gambling suspension\",\n",
              "  'URL': '/nhl/story/_/id/38749754/sources-senators-shane-pinto-suspended-41-games-gambling'},\n",
              " {'Title': \"Browns' Watson unsure how long injury will linger\",\n",
              "  'URL': '/nfl/story/_/id/38749890/deshaun-watson-unsure-how-long-shoulder-injury-linger'},\n",
              " {'Title': 'NCAA at Michigan for investigation, sources say',\n",
              "  'URL': '/college-football/story/_/id/38750516/ncaa-michigan-sign-stealing-investigation-sources-say'},\n",
              " {'Title': 'Messi named finalist for MLS newcomer award',\n",
              "  'URL': '/soccer/story/_/id/38750217/lionel-messi-named-finalist-mls-newcomer-award-playing-6-games'},\n",
              " {'Title': 'Latest NFL trade deadline buzz',\n",
              "  'URL': '/nfl/insider/story/_/id/38725576/nfl-week-8-trade-deadline-fantasy-tips-upset-prediction-buzz'}]"
            ]
          },
          "metadata": {},
          "execution_count": 29
        }
      ]
    },
    {
      "cell_type": "markdown",
      "metadata": {
        "id": "GRzf_DJMQkca"
      },
      "source": [
        "And let's create our dataframe, so that we can have a better view"
      ]
    },
    {
      "cell_type": "code",
      "metadata": {
        "id": "bki_w9yoQkca",
        "outputId": "a5f0a958-5756-4efe-b715-e850702f92dd",
        "colab": {
          "base_uri": "https://localhost:8080/",
          "height": 331
        }
      },
      "source": [
        "dataframe = pandas.DataFrame(data)\n",
        "dataframe"
      ],
      "execution_count": 30,
      "outputs": [
        {
          "output_type": "execute_result",
          "data": {
            "text/plain": [
              "                                               Title  \\\n",
              "0  Fins WR Hill says he's 'good,' will play vs. Pats   \n",
              "1  Retiring Baker: Not goodbye, just 'see you later'   \n",
              "2     Suns without stars Beal, Booker against Lakers   \n",
              "3     Masters unlikely to ease entry for LIV golfers   \n",
              "4       Sens' Pinto gets 41-game gambling suspension   \n",
              "5  Browns' Watson unsure how long injury will linger   \n",
              "6    NCAA at Michigan for investigation, sources say   \n",
              "7        Messi named finalist for MLS newcomer award   \n",
              "8                     Latest NFL trade deadline buzz   \n",
              "\n",
              "                                                 URL  \n",
              "0  /nfl/story/_/id/38750787/dolphins-wr-tyreek-hi...  \n",
              "1  /mlb/story/_/id/38750240/astros-dusty-baker-re...  \n",
              "2  /nba/story/_/id/38750754/suns-stars-bradley-be...  \n",
              "3  /golf/story/_/id/38749880/masters-unlikely-cha...  \n",
              "4  /nhl/story/_/id/38749754/sources-senators-shan...  \n",
              "5  /nfl/story/_/id/38749890/deshaun-watson-unsure...  \n",
              "6  /college-football/story/_/id/38750516/ncaa-mic...  \n",
              "7  /soccer/story/_/id/38750217/lionel-messi-named...  \n",
              "8  /nfl/insider/story/_/id/38725576/nfl-week-8-tr...  "
            ],
            "text/html": [
              "\n",
              "  <div id=\"df-356c71e8-2bff-479c-a3ff-c4051484f3b1\" class=\"colab-df-container\">\n",
              "    <div>\n",
              "<style scoped>\n",
              "    .dataframe tbody tr th:only-of-type {\n",
              "        vertical-align: middle;\n",
              "    }\n",
              "\n",
              "    .dataframe tbody tr th {\n",
              "        vertical-align: top;\n",
              "    }\n",
              "\n",
              "    .dataframe thead th {\n",
              "        text-align: right;\n",
              "    }\n",
              "</style>\n",
              "<table border=\"1\" class=\"dataframe\">\n",
              "  <thead>\n",
              "    <tr style=\"text-align: right;\">\n",
              "      <th></th>\n",
              "      <th>Title</th>\n",
              "      <th>URL</th>\n",
              "    </tr>\n",
              "  </thead>\n",
              "  <tbody>\n",
              "    <tr>\n",
              "      <th>0</th>\n",
              "      <td>Fins WR Hill says he's 'good,' will play vs. Pats</td>\n",
              "      <td>/nfl/story/_/id/38750787/dolphins-wr-tyreek-hi...</td>\n",
              "    </tr>\n",
              "    <tr>\n",
              "      <th>1</th>\n",
              "      <td>Retiring Baker: Not goodbye, just 'see you later'</td>\n",
              "      <td>/mlb/story/_/id/38750240/astros-dusty-baker-re...</td>\n",
              "    </tr>\n",
              "    <tr>\n",
              "      <th>2</th>\n",
              "      <td>Suns without stars Beal, Booker against Lakers</td>\n",
              "      <td>/nba/story/_/id/38750754/suns-stars-bradley-be...</td>\n",
              "    </tr>\n",
              "    <tr>\n",
              "      <th>3</th>\n",
              "      <td>Masters unlikely to ease entry for LIV golfers</td>\n",
              "      <td>/golf/story/_/id/38749880/masters-unlikely-cha...</td>\n",
              "    </tr>\n",
              "    <tr>\n",
              "      <th>4</th>\n",
              "      <td>Sens' Pinto gets 41-game gambling suspension</td>\n",
              "      <td>/nhl/story/_/id/38749754/sources-senators-shan...</td>\n",
              "    </tr>\n",
              "    <tr>\n",
              "      <th>5</th>\n",
              "      <td>Browns' Watson unsure how long injury will linger</td>\n",
              "      <td>/nfl/story/_/id/38749890/deshaun-watson-unsure...</td>\n",
              "    </tr>\n",
              "    <tr>\n",
              "      <th>6</th>\n",
              "      <td>NCAA at Michigan for investigation, sources say</td>\n",
              "      <td>/college-football/story/_/id/38750516/ncaa-mic...</td>\n",
              "    </tr>\n",
              "    <tr>\n",
              "      <th>7</th>\n",
              "      <td>Messi named finalist for MLS newcomer award</td>\n",
              "      <td>/soccer/story/_/id/38750217/lionel-messi-named...</td>\n",
              "    </tr>\n",
              "    <tr>\n",
              "      <th>8</th>\n",
              "      <td>Latest NFL trade deadline buzz</td>\n",
              "      <td>/nfl/insider/story/_/id/38725576/nfl-week-8-tr...</td>\n",
              "    </tr>\n",
              "  </tbody>\n",
              "</table>\n",
              "</div>\n",
              "    <div class=\"colab-df-buttons\">\n",
              "\n",
              "  <div class=\"colab-df-container\">\n",
              "    <button class=\"colab-df-convert\" onclick=\"convertToInteractive('df-356c71e8-2bff-479c-a3ff-c4051484f3b1')\"\n",
              "            title=\"Convert this dataframe to an interactive table.\"\n",
              "            style=\"display:none;\">\n",
              "\n",
              "  <svg xmlns=\"http://www.w3.org/2000/svg\" height=\"24px\" viewBox=\"0 -960 960 960\">\n",
              "    <path d=\"M120-120v-720h720v720H120Zm60-500h600v-160H180v160Zm220 220h160v-160H400v160Zm0 220h160v-160H400v160ZM180-400h160v-160H180v160Zm440 0h160v-160H620v160ZM180-180h160v-160H180v160Zm440 0h160v-160H620v160Z\"/>\n",
              "  </svg>\n",
              "    </button>\n",
              "\n",
              "  <style>\n",
              "    .colab-df-container {\n",
              "      display:flex;\n",
              "      gap: 12px;\n",
              "    }\n",
              "\n",
              "    .colab-df-convert {\n",
              "      background-color: #E8F0FE;\n",
              "      border: none;\n",
              "      border-radius: 50%;\n",
              "      cursor: pointer;\n",
              "      display: none;\n",
              "      fill: #1967D2;\n",
              "      height: 32px;\n",
              "      padding: 0 0 0 0;\n",
              "      width: 32px;\n",
              "    }\n",
              "\n",
              "    .colab-df-convert:hover {\n",
              "      background-color: #E2EBFA;\n",
              "      box-shadow: 0px 1px 2px rgba(60, 64, 67, 0.3), 0px 1px 3px 1px rgba(60, 64, 67, 0.15);\n",
              "      fill: #174EA6;\n",
              "    }\n",
              "\n",
              "    .colab-df-buttons div {\n",
              "      margin-bottom: 4px;\n",
              "    }\n",
              "\n",
              "    [theme=dark] .colab-df-convert {\n",
              "      background-color: #3B4455;\n",
              "      fill: #D2E3FC;\n",
              "    }\n",
              "\n",
              "    [theme=dark] .colab-df-convert:hover {\n",
              "      background-color: #434B5C;\n",
              "      box-shadow: 0px 1px 3px 1px rgba(0, 0, 0, 0.15);\n",
              "      filter: drop-shadow(0px 1px 2px rgba(0, 0, 0, 0.3));\n",
              "      fill: #FFFFFF;\n",
              "    }\n",
              "  </style>\n",
              "\n",
              "    <script>\n",
              "      const buttonEl =\n",
              "        document.querySelector('#df-356c71e8-2bff-479c-a3ff-c4051484f3b1 button.colab-df-convert');\n",
              "      buttonEl.style.display =\n",
              "        google.colab.kernel.accessAllowed ? 'block' : 'none';\n",
              "\n",
              "      async function convertToInteractive(key) {\n",
              "        const element = document.querySelector('#df-356c71e8-2bff-479c-a3ff-c4051484f3b1');\n",
              "        const dataTable =\n",
              "          await google.colab.kernel.invokeFunction('convertToInteractive',\n",
              "                                                    [key], {});\n",
              "        if (!dataTable) return;\n",
              "\n",
              "        const docLinkHtml = 'Like what you see? Visit the ' +\n",
              "          '<a target=\"_blank\" href=https://colab.research.google.com/notebooks/data_table.ipynb>data table notebook</a>'\n",
              "          + ' to learn more about interactive tables.';\n",
              "        element.innerHTML = '';\n",
              "        dataTable['output_type'] = 'display_data';\n",
              "        await google.colab.output.renderOutput(dataTable, element);\n",
              "        const docLink = document.createElement('div');\n",
              "        docLink.innerHTML = docLinkHtml;\n",
              "        element.appendChild(docLink);\n",
              "      }\n",
              "    </script>\n",
              "  </div>\n",
              "\n",
              "\n",
              "<div id=\"df-bc0c2749-2089-4910-afd9-3b553c6946d2\">\n",
              "  <button class=\"colab-df-quickchart\" onclick=\"quickchart('df-bc0c2749-2089-4910-afd9-3b553c6946d2')\"\n",
              "            title=\"Suggest charts.\"\n",
              "            style=\"display:none;\">\n",
              "\n",
              "<svg xmlns=\"http://www.w3.org/2000/svg\" height=\"24px\"viewBox=\"0 0 24 24\"\n",
              "     width=\"24px\">\n",
              "    <g>\n",
              "        <path d=\"M19 3H5c-1.1 0-2 .9-2 2v14c0 1.1.9 2 2 2h14c1.1 0 2-.9 2-2V5c0-1.1-.9-2-2-2zM9 17H7v-7h2v7zm4 0h-2V7h2v10zm4 0h-2v-4h2v4z\"/>\n",
              "    </g>\n",
              "</svg>\n",
              "  </button>\n",
              "\n",
              "<style>\n",
              "  .colab-df-quickchart {\n",
              "      --bg-color: #E8F0FE;\n",
              "      --fill-color: #1967D2;\n",
              "      --hover-bg-color: #E2EBFA;\n",
              "      --hover-fill-color: #174EA6;\n",
              "      --disabled-fill-color: #AAA;\n",
              "      --disabled-bg-color: #DDD;\n",
              "  }\n",
              "\n",
              "  [theme=dark] .colab-df-quickchart {\n",
              "      --bg-color: #3B4455;\n",
              "      --fill-color: #D2E3FC;\n",
              "      --hover-bg-color: #434B5C;\n",
              "      --hover-fill-color: #FFFFFF;\n",
              "      --disabled-bg-color: #3B4455;\n",
              "      --disabled-fill-color: #666;\n",
              "  }\n",
              "\n",
              "  .colab-df-quickchart {\n",
              "    background-color: var(--bg-color);\n",
              "    border: none;\n",
              "    border-radius: 50%;\n",
              "    cursor: pointer;\n",
              "    display: none;\n",
              "    fill: var(--fill-color);\n",
              "    height: 32px;\n",
              "    padding: 0;\n",
              "    width: 32px;\n",
              "  }\n",
              "\n",
              "  .colab-df-quickchart:hover {\n",
              "    background-color: var(--hover-bg-color);\n",
              "    box-shadow: 0 1px 2px rgba(60, 64, 67, 0.3), 0 1px 3px 1px rgba(60, 64, 67, 0.15);\n",
              "    fill: var(--button-hover-fill-color);\n",
              "  }\n",
              "\n",
              "  .colab-df-quickchart-complete:disabled,\n",
              "  .colab-df-quickchart-complete:disabled:hover {\n",
              "    background-color: var(--disabled-bg-color);\n",
              "    fill: var(--disabled-fill-color);\n",
              "    box-shadow: none;\n",
              "  }\n",
              "\n",
              "  .colab-df-spinner {\n",
              "    border: 2px solid var(--fill-color);\n",
              "    border-color: transparent;\n",
              "    border-bottom-color: var(--fill-color);\n",
              "    animation:\n",
              "      spin 1s steps(1) infinite;\n",
              "  }\n",
              "\n",
              "  @keyframes spin {\n",
              "    0% {\n",
              "      border-color: transparent;\n",
              "      border-bottom-color: var(--fill-color);\n",
              "      border-left-color: var(--fill-color);\n",
              "    }\n",
              "    20% {\n",
              "      border-color: transparent;\n",
              "      border-left-color: var(--fill-color);\n",
              "      border-top-color: var(--fill-color);\n",
              "    }\n",
              "    30% {\n",
              "      border-color: transparent;\n",
              "      border-left-color: var(--fill-color);\n",
              "      border-top-color: var(--fill-color);\n",
              "      border-right-color: var(--fill-color);\n",
              "    }\n",
              "    40% {\n",
              "      border-color: transparent;\n",
              "      border-right-color: var(--fill-color);\n",
              "      border-top-color: var(--fill-color);\n",
              "    }\n",
              "    60% {\n",
              "      border-color: transparent;\n",
              "      border-right-color: var(--fill-color);\n",
              "    }\n",
              "    80% {\n",
              "      border-color: transparent;\n",
              "      border-right-color: var(--fill-color);\n",
              "      border-bottom-color: var(--fill-color);\n",
              "    }\n",
              "    90% {\n",
              "      border-color: transparent;\n",
              "      border-bottom-color: var(--fill-color);\n",
              "    }\n",
              "  }\n",
              "</style>\n",
              "\n",
              "  <script>\n",
              "    async function quickchart(key) {\n",
              "      const quickchartButtonEl =\n",
              "        document.querySelector('#' + key + ' button');\n",
              "      quickchartButtonEl.disabled = true;  // To prevent multiple clicks.\n",
              "      quickchartButtonEl.classList.add('colab-df-spinner');\n",
              "      try {\n",
              "        const charts = await google.colab.kernel.invokeFunction(\n",
              "            'suggestCharts', [key], {});\n",
              "      } catch (error) {\n",
              "        console.error('Error during call to suggestCharts:', error);\n",
              "      }\n",
              "      quickchartButtonEl.classList.remove('colab-df-spinner');\n",
              "      quickchartButtonEl.classList.add('colab-df-quickchart-complete');\n",
              "    }\n",
              "    (() => {\n",
              "      let quickchartButtonEl =\n",
              "        document.querySelector('#df-bc0c2749-2089-4910-afd9-3b553c6946d2 button');\n",
              "      quickchartButtonEl.style.display =\n",
              "        google.colab.kernel.accessAllowed ? 'block' : 'none';\n",
              "    })();\n",
              "  </script>\n",
              "</div>\n",
              "\n",
              "  <div id=\"id_3602b1c3-bcb9-4862-8ef4-848b04600b43\">\n",
              "    <style>\n",
              "      .colab-df-generate {\n",
              "        background-color: #E8F0FE;\n",
              "        border: none;\n",
              "        border-radius: 50%;\n",
              "        cursor: pointer;\n",
              "        display: none;\n",
              "        fill: #1967D2;\n",
              "        height: 32px;\n",
              "        padding: 0 0 0 0;\n",
              "        width: 32px;\n",
              "      }\n",
              "\n",
              "      .colab-df-generate:hover {\n",
              "        background-color: #E2EBFA;\n",
              "        box-shadow: 0px 1px 2px rgba(60, 64, 67, 0.3), 0px 1px 3px 1px rgba(60, 64, 67, 0.15);\n",
              "        fill: #174EA6;\n",
              "      }\n",
              "\n",
              "      [theme=dark] .colab-df-generate {\n",
              "        background-color: #3B4455;\n",
              "        fill: #D2E3FC;\n",
              "      }\n",
              "\n",
              "      [theme=dark] .colab-df-generate:hover {\n",
              "        background-color: #434B5C;\n",
              "        box-shadow: 0px 1px 3px 1px rgba(0, 0, 0, 0.15);\n",
              "        filter: drop-shadow(0px 1px 2px rgba(0, 0, 0, 0.3));\n",
              "        fill: #FFFFFF;\n",
              "      }\n",
              "    </style>\n",
              "    <button class=\"colab-df-generate\" onclick=\"generateWithVariable('dataframe')\"\n",
              "            title=\"Generate code using this dataframe.\"\n",
              "            style=\"display:none;\">\n",
              "\n",
              "  <svg xmlns=\"http://www.w3.org/2000/svg\" height=\"24px\"viewBox=\"0 0 24 24\"\n",
              "       width=\"24px\">\n",
              "    <path d=\"M7,19H8.4L18.45,9,17,7.55,7,17.6ZM5,21V16.75L18.45,3.32a2,2,0,0,1,2.83,0l1.4,1.43a1.91,1.91,0,0,1,.58,1.4,1.91,1.91,0,0,1-.58,1.4L9.25,21ZM18.45,9,17,7.55Zm-12,3A5.31,5.31,0,0,0,4.9,8.1,5.31,5.31,0,0,0,1,6.5,5.31,5.31,0,0,0,4.9,4.9,5.31,5.31,0,0,0,6.5,1,5.31,5.31,0,0,0,8.1,4.9,5.31,5.31,0,0,0,12,6.5,5.46,5.46,0,0,0,6.5,12Z\"/>\n",
              "  </svg>\n",
              "    </button>\n",
              "    <script>\n",
              "      (() => {\n",
              "      const buttonEl =\n",
              "        document.querySelector('#id_3602b1c3-bcb9-4862-8ef4-848b04600b43 button.colab-df-generate');\n",
              "      buttonEl.style.display =\n",
              "        google.colab.kernel.accessAllowed ? 'block' : 'none';\n",
              "\n",
              "      buttonEl.onclick = () => {\n",
              "        google.colab.notebook.generateWithVariable('dataframe');\n",
              "      }\n",
              "      })();\n",
              "    </script>\n",
              "  </div>\n",
              "\n",
              "    </div>\n",
              "  </div>\n"
            ]
          },
          "metadata": {},
          "execution_count": 30
        }
      ]
    },
    {
      "cell_type": "markdown",
      "metadata": {
        "id": "dbWeA2wCQkce"
      },
      "source": [
        "#### Of course, there are always more than one way to skin a cat...\n",
        "\n",
        "Alternatively, if we did not want to restrict ourselves to just the first headline box, we could write an alternative query, to get back all the headlines, that appear with the pattern of appearing under a `<div class=headlineStack>` and then under a `<li>` tag and then under an `<a>` tag"
      ]
    },
    {
      "cell_type": "code",
      "metadata": {
        "id": "BxxXLHsIQkcf",
        "outputId": "a8a7cb53-87ce-488c-f273-7c71a3d8ef58",
        "colab": {
          "base_uri": "https://localhost:8080/",
          "height": 802
        }
      },
      "source": [
        "headlines = espn_soup.select('div.headlineStack li a')\n",
        "data = [{\"Title\": a.text, \"URL\": a.get(\"href\")} for a in headlines if a.has_attr('href')]\n",
        "df = pandas.DataFrame(data)\n",
        "df"
      ],
      "execution_count": 31,
      "outputs": [
        {
          "output_type": "execute_result",
          "data": {
            "text/plain": [
              "                                                Title  \\\n",
              "0   Fins WR Hill says he's 'good,' will play vs. Pats   \n",
              "1   Retiring Baker: Not goodbye, just 'see you later'   \n",
              "2      Suns without stars Beal, Booker against Lakers   \n",
              "3      Masters unlikely to ease entry for LIV golfers   \n",
              "4        Sens' Pinto gets 41-game gambling suspension   \n",
              "5   Browns' Watson unsure how long injury will linger   \n",
              "6     NCAA at Michigan for investigation, sources say   \n",
              "7         Messi named finalist for MLS newcomer award   \n",
              "8                      Latest NFL trade deadline buzz   \n",
              "9               NBA betting: Three picks for Thursday   \n",
              "10          Fantasy tips and projections for Thursday   \n",
              "11  What Rangers and D-backs need to do to win it all   \n",
              "12               Betting tips, picks, MVP predictions   \n",
              "13                  Betting tips for Bills-Buccaneers   \n",
              "14               Ranking the remaining unbeaten teams   \n",
              "15  Fins WR Hill says he's 'good,' will play vs. Pats   \n",
              "16  Retiring Baker: Not goodbye, just 'see you later'   \n",
              "17     Suns without stars Beal, Booker against Lakers   \n",
              "18     Masters unlikely to ease entry for LIV golfers   \n",
              "19       Sens' Pinto gets 41-game gambling suspension   \n",
              "20  Browns' Watson unsure how long injury will linger   \n",
              "21    NCAA at Michigan for investigation, sources say   \n",
              "22        Messi named finalist for MLS newcomer award   \n",
              "23                     Latest NFL trade deadline buzz   \n",
              "\n",
              "                                                  URL  \n",
              "0   /nfl/story/_/id/38750787/dolphins-wr-tyreek-hi...  \n",
              "1   /mlb/story/_/id/38750240/astros-dusty-baker-re...  \n",
              "2   /nba/story/_/id/38750754/suns-stars-bradley-be...  \n",
              "3   /golf/story/_/id/38749880/masters-unlikely-cha...  \n",
              "4   /nhl/story/_/id/38749754/sources-senators-shan...  \n",
              "5   /nfl/story/_/id/38749890/deshaun-watson-unsure...  \n",
              "6   /college-football/story/_/id/38750516/ncaa-mic...  \n",
              "7   /soccer/story/_/id/38750217/lionel-messi-named...  \n",
              "8   /nfl/insider/story/_/id/38725576/nfl-week-8-tr...  \n",
              "9   /sports-betting/story/_/id/38749633/2023-nba-t...  \n",
              "10  /fantasy/basketball/story/_/id/38749749/mens-f...  \n",
              "11  /mlb/story/_/id/38728143/2023-world-series-tex...  \n",
              "12  /espn/betting/story/_/id/38736932/world-series...  \n",
              "13  /sports-betting/story/_/id/38743592/buffalo-bi...  \n",
              "14  /college-football/insider/story/_/id/38725730/...  \n",
              "15  /nfl/story/_/id/38750787/dolphins-wr-tyreek-hi...  \n",
              "16  /mlb/story/_/id/38750240/astros-dusty-baker-re...  \n",
              "17  /nba/story/_/id/38750754/suns-stars-bradley-be...  \n",
              "18  /golf/story/_/id/38749880/masters-unlikely-cha...  \n",
              "19  /nhl/story/_/id/38749754/sources-senators-shan...  \n",
              "20  /nfl/story/_/id/38749890/deshaun-watson-unsure...  \n",
              "21  /college-football/story/_/id/38750516/ncaa-mic...  \n",
              "22  /soccer/story/_/id/38750217/lionel-messi-named...  \n",
              "23  /nfl/insider/story/_/id/38725576/nfl-week-8-tr...  "
            ],
            "text/html": [
              "\n",
              "  <div id=\"df-76b3994e-13c4-4f00-acb3-f48fb75ca7a8\" class=\"colab-df-container\">\n",
              "    <div>\n",
              "<style scoped>\n",
              "    .dataframe tbody tr th:only-of-type {\n",
              "        vertical-align: middle;\n",
              "    }\n",
              "\n",
              "    .dataframe tbody tr th {\n",
              "        vertical-align: top;\n",
              "    }\n",
              "\n",
              "    .dataframe thead th {\n",
              "        text-align: right;\n",
              "    }\n",
              "</style>\n",
              "<table border=\"1\" class=\"dataframe\">\n",
              "  <thead>\n",
              "    <tr style=\"text-align: right;\">\n",
              "      <th></th>\n",
              "      <th>Title</th>\n",
              "      <th>URL</th>\n",
              "    </tr>\n",
              "  </thead>\n",
              "  <tbody>\n",
              "    <tr>\n",
              "      <th>0</th>\n",
              "      <td>Fins WR Hill says he's 'good,' will play vs. Pats</td>\n",
              "      <td>/nfl/story/_/id/38750787/dolphins-wr-tyreek-hi...</td>\n",
              "    </tr>\n",
              "    <tr>\n",
              "      <th>1</th>\n",
              "      <td>Retiring Baker: Not goodbye, just 'see you later'</td>\n",
              "      <td>/mlb/story/_/id/38750240/astros-dusty-baker-re...</td>\n",
              "    </tr>\n",
              "    <tr>\n",
              "      <th>2</th>\n",
              "      <td>Suns without stars Beal, Booker against Lakers</td>\n",
              "      <td>/nba/story/_/id/38750754/suns-stars-bradley-be...</td>\n",
              "    </tr>\n",
              "    <tr>\n",
              "      <th>3</th>\n",
              "      <td>Masters unlikely to ease entry for LIV golfers</td>\n",
              "      <td>/golf/story/_/id/38749880/masters-unlikely-cha...</td>\n",
              "    </tr>\n",
              "    <tr>\n",
              "      <th>4</th>\n",
              "      <td>Sens' Pinto gets 41-game gambling suspension</td>\n",
              "      <td>/nhl/story/_/id/38749754/sources-senators-shan...</td>\n",
              "    </tr>\n",
              "    <tr>\n",
              "      <th>5</th>\n",
              "      <td>Browns' Watson unsure how long injury will linger</td>\n",
              "      <td>/nfl/story/_/id/38749890/deshaun-watson-unsure...</td>\n",
              "    </tr>\n",
              "    <tr>\n",
              "      <th>6</th>\n",
              "      <td>NCAA at Michigan for investigation, sources say</td>\n",
              "      <td>/college-football/story/_/id/38750516/ncaa-mic...</td>\n",
              "    </tr>\n",
              "    <tr>\n",
              "      <th>7</th>\n",
              "      <td>Messi named finalist for MLS newcomer award</td>\n",
              "      <td>/soccer/story/_/id/38750217/lionel-messi-named...</td>\n",
              "    </tr>\n",
              "    <tr>\n",
              "      <th>8</th>\n",
              "      <td>Latest NFL trade deadline buzz</td>\n",
              "      <td>/nfl/insider/story/_/id/38725576/nfl-week-8-tr...</td>\n",
              "    </tr>\n",
              "    <tr>\n",
              "      <th>9</th>\n",
              "      <td>NBA betting: Three picks for Thursday</td>\n",
              "      <td>/sports-betting/story/_/id/38749633/2023-nba-t...</td>\n",
              "    </tr>\n",
              "    <tr>\n",
              "      <th>10</th>\n",
              "      <td>Fantasy tips and projections for Thursday</td>\n",
              "      <td>/fantasy/basketball/story/_/id/38749749/mens-f...</td>\n",
              "    </tr>\n",
              "    <tr>\n",
              "      <th>11</th>\n",
              "      <td>What Rangers and D-backs need to do to win it all</td>\n",
              "      <td>/mlb/story/_/id/38728143/2023-world-series-tex...</td>\n",
              "    </tr>\n",
              "    <tr>\n",
              "      <th>12</th>\n",
              "      <td>Betting tips, picks, MVP predictions</td>\n",
              "      <td>/espn/betting/story/_/id/38736932/world-series...</td>\n",
              "    </tr>\n",
              "    <tr>\n",
              "      <th>13</th>\n",
              "      <td>Betting tips for Bills-Buccaneers</td>\n",
              "      <td>/sports-betting/story/_/id/38743592/buffalo-bi...</td>\n",
              "    </tr>\n",
              "    <tr>\n",
              "      <th>14</th>\n",
              "      <td>Ranking the remaining unbeaten teams</td>\n",
              "      <td>/college-football/insider/story/_/id/38725730/...</td>\n",
              "    </tr>\n",
              "    <tr>\n",
              "      <th>15</th>\n",
              "      <td>Fins WR Hill says he's 'good,' will play vs. Pats</td>\n",
              "      <td>/nfl/story/_/id/38750787/dolphins-wr-tyreek-hi...</td>\n",
              "    </tr>\n",
              "    <tr>\n",
              "      <th>16</th>\n",
              "      <td>Retiring Baker: Not goodbye, just 'see you later'</td>\n",
              "      <td>/mlb/story/_/id/38750240/astros-dusty-baker-re...</td>\n",
              "    </tr>\n",
              "    <tr>\n",
              "      <th>17</th>\n",
              "      <td>Suns without stars Beal, Booker against Lakers</td>\n",
              "      <td>/nba/story/_/id/38750754/suns-stars-bradley-be...</td>\n",
              "    </tr>\n",
              "    <tr>\n",
              "      <th>18</th>\n",
              "      <td>Masters unlikely to ease entry for LIV golfers</td>\n",
              "      <td>/golf/story/_/id/38749880/masters-unlikely-cha...</td>\n",
              "    </tr>\n",
              "    <tr>\n",
              "      <th>19</th>\n",
              "      <td>Sens' Pinto gets 41-game gambling suspension</td>\n",
              "      <td>/nhl/story/_/id/38749754/sources-senators-shan...</td>\n",
              "    </tr>\n",
              "    <tr>\n",
              "      <th>20</th>\n",
              "      <td>Browns' Watson unsure how long injury will linger</td>\n",
              "      <td>/nfl/story/_/id/38749890/deshaun-watson-unsure...</td>\n",
              "    </tr>\n",
              "    <tr>\n",
              "      <th>21</th>\n",
              "      <td>NCAA at Michigan for investigation, sources say</td>\n",
              "      <td>/college-football/story/_/id/38750516/ncaa-mic...</td>\n",
              "    </tr>\n",
              "    <tr>\n",
              "      <th>22</th>\n",
              "      <td>Messi named finalist for MLS newcomer award</td>\n",
              "      <td>/soccer/story/_/id/38750217/lionel-messi-named...</td>\n",
              "    </tr>\n",
              "    <tr>\n",
              "      <th>23</th>\n",
              "      <td>Latest NFL trade deadline buzz</td>\n",
              "      <td>/nfl/insider/story/_/id/38725576/nfl-week-8-tr...</td>\n",
              "    </tr>\n",
              "  </tbody>\n",
              "</table>\n",
              "</div>\n",
              "    <div class=\"colab-df-buttons\">\n",
              "\n",
              "  <div class=\"colab-df-container\">\n",
              "    <button class=\"colab-df-convert\" onclick=\"convertToInteractive('df-76b3994e-13c4-4f00-acb3-f48fb75ca7a8')\"\n",
              "            title=\"Convert this dataframe to an interactive table.\"\n",
              "            style=\"display:none;\">\n",
              "\n",
              "  <svg xmlns=\"http://www.w3.org/2000/svg\" height=\"24px\" viewBox=\"0 -960 960 960\">\n",
              "    <path d=\"M120-120v-720h720v720H120Zm60-500h600v-160H180v160Zm220 220h160v-160H400v160Zm0 220h160v-160H400v160ZM180-400h160v-160H180v160Zm440 0h160v-160H620v160ZM180-180h160v-160H180v160Zm440 0h160v-160H620v160Z\"/>\n",
              "  </svg>\n",
              "    </button>\n",
              "\n",
              "  <style>\n",
              "    .colab-df-container {\n",
              "      display:flex;\n",
              "      gap: 12px;\n",
              "    }\n",
              "\n",
              "    .colab-df-convert {\n",
              "      background-color: #E8F0FE;\n",
              "      border: none;\n",
              "      border-radius: 50%;\n",
              "      cursor: pointer;\n",
              "      display: none;\n",
              "      fill: #1967D2;\n",
              "      height: 32px;\n",
              "      padding: 0 0 0 0;\n",
              "      width: 32px;\n",
              "    }\n",
              "\n",
              "    .colab-df-convert:hover {\n",
              "      background-color: #E2EBFA;\n",
              "      box-shadow: 0px 1px 2px rgba(60, 64, 67, 0.3), 0px 1px 3px 1px rgba(60, 64, 67, 0.15);\n",
              "      fill: #174EA6;\n",
              "    }\n",
              "\n",
              "    .colab-df-buttons div {\n",
              "      margin-bottom: 4px;\n",
              "    }\n",
              "\n",
              "    [theme=dark] .colab-df-convert {\n",
              "      background-color: #3B4455;\n",
              "      fill: #D2E3FC;\n",
              "    }\n",
              "\n",
              "    [theme=dark] .colab-df-convert:hover {\n",
              "      background-color: #434B5C;\n",
              "      box-shadow: 0px 1px 3px 1px rgba(0, 0, 0, 0.15);\n",
              "      filter: drop-shadow(0px 1px 2px rgba(0, 0, 0, 0.3));\n",
              "      fill: #FFFFFF;\n",
              "    }\n",
              "  </style>\n",
              "\n",
              "    <script>\n",
              "      const buttonEl =\n",
              "        document.querySelector('#df-76b3994e-13c4-4f00-acb3-f48fb75ca7a8 button.colab-df-convert');\n",
              "      buttonEl.style.display =\n",
              "        google.colab.kernel.accessAllowed ? 'block' : 'none';\n",
              "\n",
              "      async function convertToInteractive(key) {\n",
              "        const element = document.querySelector('#df-76b3994e-13c4-4f00-acb3-f48fb75ca7a8');\n",
              "        const dataTable =\n",
              "          await google.colab.kernel.invokeFunction('convertToInteractive',\n",
              "                                                    [key], {});\n",
              "        if (!dataTable) return;\n",
              "\n",
              "        const docLinkHtml = 'Like what you see? Visit the ' +\n",
              "          '<a target=\"_blank\" href=https://colab.research.google.com/notebooks/data_table.ipynb>data table notebook</a>'\n",
              "          + ' to learn more about interactive tables.';\n",
              "        element.innerHTML = '';\n",
              "        dataTable['output_type'] = 'display_data';\n",
              "        await google.colab.output.renderOutput(dataTable, element);\n",
              "        const docLink = document.createElement('div');\n",
              "        docLink.innerHTML = docLinkHtml;\n",
              "        element.appendChild(docLink);\n",
              "      }\n",
              "    </script>\n",
              "  </div>\n",
              "\n",
              "\n",
              "<div id=\"df-b90558c4-e633-4989-b0f6-9ac2ae072863\">\n",
              "  <button class=\"colab-df-quickchart\" onclick=\"quickchart('df-b90558c4-e633-4989-b0f6-9ac2ae072863')\"\n",
              "            title=\"Suggest charts.\"\n",
              "            style=\"display:none;\">\n",
              "\n",
              "<svg xmlns=\"http://www.w3.org/2000/svg\" height=\"24px\"viewBox=\"0 0 24 24\"\n",
              "     width=\"24px\">\n",
              "    <g>\n",
              "        <path d=\"M19 3H5c-1.1 0-2 .9-2 2v14c0 1.1.9 2 2 2h14c1.1 0 2-.9 2-2V5c0-1.1-.9-2-2-2zM9 17H7v-7h2v7zm4 0h-2V7h2v10zm4 0h-2v-4h2v4z\"/>\n",
              "    </g>\n",
              "</svg>\n",
              "  </button>\n",
              "\n",
              "<style>\n",
              "  .colab-df-quickchart {\n",
              "      --bg-color: #E8F0FE;\n",
              "      --fill-color: #1967D2;\n",
              "      --hover-bg-color: #E2EBFA;\n",
              "      --hover-fill-color: #174EA6;\n",
              "      --disabled-fill-color: #AAA;\n",
              "      --disabled-bg-color: #DDD;\n",
              "  }\n",
              "\n",
              "  [theme=dark] .colab-df-quickchart {\n",
              "      --bg-color: #3B4455;\n",
              "      --fill-color: #D2E3FC;\n",
              "      --hover-bg-color: #434B5C;\n",
              "      --hover-fill-color: #FFFFFF;\n",
              "      --disabled-bg-color: #3B4455;\n",
              "      --disabled-fill-color: #666;\n",
              "  }\n",
              "\n",
              "  .colab-df-quickchart {\n",
              "    background-color: var(--bg-color);\n",
              "    border: none;\n",
              "    border-radius: 50%;\n",
              "    cursor: pointer;\n",
              "    display: none;\n",
              "    fill: var(--fill-color);\n",
              "    height: 32px;\n",
              "    padding: 0;\n",
              "    width: 32px;\n",
              "  }\n",
              "\n",
              "  .colab-df-quickchart:hover {\n",
              "    background-color: var(--hover-bg-color);\n",
              "    box-shadow: 0 1px 2px rgba(60, 64, 67, 0.3), 0 1px 3px 1px rgba(60, 64, 67, 0.15);\n",
              "    fill: var(--button-hover-fill-color);\n",
              "  }\n",
              "\n",
              "  .colab-df-quickchart-complete:disabled,\n",
              "  .colab-df-quickchart-complete:disabled:hover {\n",
              "    background-color: var(--disabled-bg-color);\n",
              "    fill: var(--disabled-fill-color);\n",
              "    box-shadow: none;\n",
              "  }\n",
              "\n",
              "  .colab-df-spinner {\n",
              "    border: 2px solid var(--fill-color);\n",
              "    border-color: transparent;\n",
              "    border-bottom-color: var(--fill-color);\n",
              "    animation:\n",
              "      spin 1s steps(1) infinite;\n",
              "  }\n",
              "\n",
              "  @keyframes spin {\n",
              "    0% {\n",
              "      border-color: transparent;\n",
              "      border-bottom-color: var(--fill-color);\n",
              "      border-left-color: var(--fill-color);\n",
              "    }\n",
              "    20% {\n",
              "      border-color: transparent;\n",
              "      border-left-color: var(--fill-color);\n",
              "      border-top-color: var(--fill-color);\n",
              "    }\n",
              "    30% {\n",
              "      border-color: transparent;\n",
              "      border-left-color: var(--fill-color);\n",
              "      border-top-color: var(--fill-color);\n",
              "      border-right-color: var(--fill-color);\n",
              "    }\n",
              "    40% {\n",
              "      border-color: transparent;\n",
              "      border-right-color: var(--fill-color);\n",
              "      border-top-color: var(--fill-color);\n",
              "    }\n",
              "    60% {\n",
              "      border-color: transparent;\n",
              "      border-right-color: var(--fill-color);\n",
              "    }\n",
              "    80% {\n",
              "      border-color: transparent;\n",
              "      border-right-color: var(--fill-color);\n",
              "      border-bottom-color: var(--fill-color);\n",
              "    }\n",
              "    90% {\n",
              "      border-color: transparent;\n",
              "      border-bottom-color: var(--fill-color);\n",
              "    }\n",
              "  }\n",
              "</style>\n",
              "\n",
              "  <script>\n",
              "    async function quickchart(key) {\n",
              "      const quickchartButtonEl =\n",
              "        document.querySelector('#' + key + ' button');\n",
              "      quickchartButtonEl.disabled = true;  // To prevent multiple clicks.\n",
              "      quickchartButtonEl.classList.add('colab-df-spinner');\n",
              "      try {\n",
              "        const charts = await google.colab.kernel.invokeFunction(\n",
              "            'suggestCharts', [key], {});\n",
              "      } catch (error) {\n",
              "        console.error('Error during call to suggestCharts:', error);\n",
              "      }\n",
              "      quickchartButtonEl.classList.remove('colab-df-spinner');\n",
              "      quickchartButtonEl.classList.add('colab-df-quickchart-complete');\n",
              "    }\n",
              "    (() => {\n",
              "      let quickchartButtonEl =\n",
              "        document.querySelector('#df-b90558c4-e633-4989-b0f6-9ac2ae072863 button');\n",
              "      quickchartButtonEl.style.display =\n",
              "        google.colab.kernel.accessAllowed ? 'block' : 'none';\n",
              "    })();\n",
              "  </script>\n",
              "</div>\n",
              "\n",
              "  <div id=\"id_fcd42a03-7ba8-40a9-b6c8-648fbf82e904\">\n",
              "    <style>\n",
              "      .colab-df-generate {\n",
              "        background-color: #E8F0FE;\n",
              "        border: none;\n",
              "        border-radius: 50%;\n",
              "        cursor: pointer;\n",
              "        display: none;\n",
              "        fill: #1967D2;\n",
              "        height: 32px;\n",
              "        padding: 0 0 0 0;\n",
              "        width: 32px;\n",
              "      }\n",
              "\n",
              "      .colab-df-generate:hover {\n",
              "        background-color: #E2EBFA;\n",
              "        box-shadow: 0px 1px 2px rgba(60, 64, 67, 0.3), 0px 1px 3px 1px rgba(60, 64, 67, 0.15);\n",
              "        fill: #174EA6;\n",
              "      }\n",
              "\n",
              "      [theme=dark] .colab-df-generate {\n",
              "        background-color: #3B4455;\n",
              "        fill: #D2E3FC;\n",
              "      }\n",
              "\n",
              "      [theme=dark] .colab-df-generate:hover {\n",
              "        background-color: #434B5C;\n",
              "        box-shadow: 0px 1px 3px 1px rgba(0, 0, 0, 0.15);\n",
              "        filter: drop-shadow(0px 1px 2px rgba(0, 0, 0, 0.3));\n",
              "        fill: #FFFFFF;\n",
              "      }\n",
              "    </style>\n",
              "    <button class=\"colab-df-generate\" onclick=\"generateWithVariable('df')\"\n",
              "            title=\"Generate code using this dataframe.\"\n",
              "            style=\"display:none;\">\n",
              "\n",
              "  <svg xmlns=\"http://www.w3.org/2000/svg\" height=\"24px\"viewBox=\"0 0 24 24\"\n",
              "       width=\"24px\">\n",
              "    <path d=\"M7,19H8.4L18.45,9,17,7.55,7,17.6ZM5,21V16.75L18.45,3.32a2,2,0,0,1,2.83,0l1.4,1.43a1.91,1.91,0,0,1,.58,1.4,1.91,1.91,0,0,1-.58,1.4L9.25,21ZM18.45,9,17,7.55Zm-12,3A5.31,5.31,0,0,0,4.9,8.1,5.31,5.31,0,0,0,1,6.5,5.31,5.31,0,0,0,4.9,4.9,5.31,5.31,0,0,0,6.5,1,5.31,5.31,0,0,0,8.1,4.9,5.31,5.31,0,0,0,12,6.5,5.46,5.46,0,0,0,6.5,12Z\"/>\n",
              "  </svg>\n",
              "    </button>\n",
              "    <script>\n",
              "      (() => {\n",
              "      const buttonEl =\n",
              "        document.querySelector('#id_fcd42a03-7ba8-40a9-b6c8-648fbf82e904 button.colab-df-generate');\n",
              "      buttonEl.style.display =\n",
              "        google.colab.kernel.accessAllowed ? 'block' : 'none';\n",
              "\n",
              "      buttonEl.onclick = () => {\n",
              "        google.colab.notebook.generateWithVariable('df');\n",
              "      }\n",
              "      })();\n",
              "    </script>\n",
              "  </div>\n",
              "\n",
              "    </div>\n",
              "  </div>\n"
            ]
          },
          "metadata": {},
          "execution_count": 31
        }
      ]
    },
    {
      "cell_type": "code",
      "metadata": {
        "id": "hqrHkZwQQkci",
        "outputId": "2fa31f08-da22-4386-cb77-b5256b9642b1",
        "colab": {
          "base_uri": "https://localhost:8080/",
          "height": 802
        }
      },
      "source": [
        "headlines = espn_soup.find_all('a', {'data-mptype': 'headline'})\n",
        "data = [{\"Title\": a.text, \"URL\": a.get(\"href\")} for a in headlines]\n",
        "df = pandas.DataFrame(data)\n",
        "df"
      ],
      "execution_count": 33,
      "outputs": [
        {
          "output_type": "execute_result",
          "data": {
            "text/plain": [
              "                                                Title  \\\n",
              "0   Fins WR Hill says he's 'good,' will play vs. Pats   \n",
              "1   Retiring Baker: Not goodbye, just 'see you later'   \n",
              "2      Suns without stars Beal, Booker against Lakers   \n",
              "3      Masters unlikely to ease entry for LIV golfers   \n",
              "4        Sens' Pinto gets 41-game gambling suspension   \n",
              "5   Browns' Watson unsure how long injury will linger   \n",
              "6     NCAA at Michigan for investigation, sources say   \n",
              "7         Messi named finalist for MLS newcomer award   \n",
              "8                      Latest NFL trade deadline buzz   \n",
              "9               NBA betting: Three picks for Thursday   \n",
              "10          Fantasy tips and projections for Thursday   \n",
              "11  What Rangers and D-backs need to do to win it all   \n",
              "12               Betting tips, picks, MVP predictions   \n",
              "13                  Betting tips for Bills-Buccaneers   \n",
              "14               Ranking the remaining unbeaten teams   \n",
              "15  Fins WR Hill says he's 'good,' will play vs. Pats   \n",
              "16  Retiring Baker: Not goodbye, just 'see you later'   \n",
              "17     Suns without stars Beal, Booker against Lakers   \n",
              "18     Masters unlikely to ease entry for LIV golfers   \n",
              "19       Sens' Pinto gets 41-game gambling suspension   \n",
              "20  Browns' Watson unsure how long injury will linger   \n",
              "21    NCAA at Michigan for investigation, sources say   \n",
              "22        Messi named finalist for MLS newcomer award   \n",
              "23                     Latest NFL trade deadline buzz   \n",
              "\n",
              "                                                  URL  \n",
              "0   /nfl/story/_/id/38750787/dolphins-wr-tyreek-hi...  \n",
              "1   /mlb/story/_/id/38750240/astros-dusty-baker-re...  \n",
              "2   /nba/story/_/id/38750754/suns-stars-bradley-be...  \n",
              "3   /golf/story/_/id/38749880/masters-unlikely-cha...  \n",
              "4   /nhl/story/_/id/38749754/sources-senators-shan...  \n",
              "5   /nfl/story/_/id/38749890/deshaun-watson-unsure...  \n",
              "6   /college-football/story/_/id/38750516/ncaa-mic...  \n",
              "7   /soccer/story/_/id/38750217/lionel-messi-named...  \n",
              "8   /nfl/insider/story/_/id/38725576/nfl-week-8-tr...  \n",
              "9   /sports-betting/story/_/id/38749633/2023-nba-t...  \n",
              "10  /fantasy/basketball/story/_/id/38749749/mens-f...  \n",
              "11  /mlb/story/_/id/38728143/2023-world-series-tex...  \n",
              "12  /espn/betting/story/_/id/38736932/world-series...  \n",
              "13  /sports-betting/story/_/id/38743592/buffalo-bi...  \n",
              "14  /college-football/insider/story/_/id/38725730/...  \n",
              "15  /nfl/story/_/id/38750787/dolphins-wr-tyreek-hi...  \n",
              "16  /mlb/story/_/id/38750240/astros-dusty-baker-re...  \n",
              "17  /nba/story/_/id/38750754/suns-stars-bradley-be...  \n",
              "18  /golf/story/_/id/38749880/masters-unlikely-cha...  \n",
              "19  /nhl/story/_/id/38749754/sources-senators-shan...  \n",
              "20  /nfl/story/_/id/38749890/deshaun-watson-unsure...  \n",
              "21  /college-football/story/_/id/38750516/ncaa-mic...  \n",
              "22  /soccer/story/_/id/38750217/lionel-messi-named...  \n",
              "23  /nfl/insider/story/_/id/38725576/nfl-week-8-tr...  "
            ],
            "text/html": [
              "\n",
              "  <div id=\"df-658429fe-5216-422b-ac71-8c2a9d91fb7c\" class=\"colab-df-container\">\n",
              "    <div>\n",
              "<style scoped>\n",
              "    .dataframe tbody tr th:only-of-type {\n",
              "        vertical-align: middle;\n",
              "    }\n",
              "\n",
              "    .dataframe tbody tr th {\n",
              "        vertical-align: top;\n",
              "    }\n",
              "\n",
              "    .dataframe thead th {\n",
              "        text-align: right;\n",
              "    }\n",
              "</style>\n",
              "<table border=\"1\" class=\"dataframe\">\n",
              "  <thead>\n",
              "    <tr style=\"text-align: right;\">\n",
              "      <th></th>\n",
              "      <th>Title</th>\n",
              "      <th>URL</th>\n",
              "    </tr>\n",
              "  </thead>\n",
              "  <tbody>\n",
              "    <tr>\n",
              "      <th>0</th>\n",
              "      <td>Fins WR Hill says he's 'good,' will play vs. Pats</td>\n",
              "      <td>/nfl/story/_/id/38750787/dolphins-wr-tyreek-hi...</td>\n",
              "    </tr>\n",
              "    <tr>\n",
              "      <th>1</th>\n",
              "      <td>Retiring Baker: Not goodbye, just 'see you later'</td>\n",
              "      <td>/mlb/story/_/id/38750240/astros-dusty-baker-re...</td>\n",
              "    </tr>\n",
              "    <tr>\n",
              "      <th>2</th>\n",
              "      <td>Suns without stars Beal, Booker against Lakers</td>\n",
              "      <td>/nba/story/_/id/38750754/suns-stars-bradley-be...</td>\n",
              "    </tr>\n",
              "    <tr>\n",
              "      <th>3</th>\n",
              "      <td>Masters unlikely to ease entry for LIV golfers</td>\n",
              "      <td>/golf/story/_/id/38749880/masters-unlikely-cha...</td>\n",
              "    </tr>\n",
              "    <tr>\n",
              "      <th>4</th>\n",
              "      <td>Sens' Pinto gets 41-game gambling suspension</td>\n",
              "      <td>/nhl/story/_/id/38749754/sources-senators-shan...</td>\n",
              "    </tr>\n",
              "    <tr>\n",
              "      <th>5</th>\n",
              "      <td>Browns' Watson unsure how long injury will linger</td>\n",
              "      <td>/nfl/story/_/id/38749890/deshaun-watson-unsure...</td>\n",
              "    </tr>\n",
              "    <tr>\n",
              "      <th>6</th>\n",
              "      <td>NCAA at Michigan for investigation, sources say</td>\n",
              "      <td>/college-football/story/_/id/38750516/ncaa-mic...</td>\n",
              "    </tr>\n",
              "    <tr>\n",
              "      <th>7</th>\n",
              "      <td>Messi named finalist for MLS newcomer award</td>\n",
              "      <td>/soccer/story/_/id/38750217/lionel-messi-named...</td>\n",
              "    </tr>\n",
              "    <tr>\n",
              "      <th>8</th>\n",
              "      <td>Latest NFL trade deadline buzz</td>\n",
              "      <td>/nfl/insider/story/_/id/38725576/nfl-week-8-tr...</td>\n",
              "    </tr>\n",
              "    <tr>\n",
              "      <th>9</th>\n",
              "      <td>NBA betting: Three picks for Thursday</td>\n",
              "      <td>/sports-betting/story/_/id/38749633/2023-nba-t...</td>\n",
              "    </tr>\n",
              "    <tr>\n",
              "      <th>10</th>\n",
              "      <td>Fantasy tips and projections for Thursday</td>\n",
              "      <td>/fantasy/basketball/story/_/id/38749749/mens-f...</td>\n",
              "    </tr>\n",
              "    <tr>\n",
              "      <th>11</th>\n",
              "      <td>What Rangers and D-backs need to do to win it all</td>\n",
              "      <td>/mlb/story/_/id/38728143/2023-world-series-tex...</td>\n",
              "    </tr>\n",
              "    <tr>\n",
              "      <th>12</th>\n",
              "      <td>Betting tips, picks, MVP predictions</td>\n",
              "      <td>/espn/betting/story/_/id/38736932/world-series...</td>\n",
              "    </tr>\n",
              "    <tr>\n",
              "      <th>13</th>\n",
              "      <td>Betting tips for Bills-Buccaneers</td>\n",
              "      <td>/sports-betting/story/_/id/38743592/buffalo-bi...</td>\n",
              "    </tr>\n",
              "    <tr>\n",
              "      <th>14</th>\n",
              "      <td>Ranking the remaining unbeaten teams</td>\n",
              "      <td>/college-football/insider/story/_/id/38725730/...</td>\n",
              "    </tr>\n",
              "    <tr>\n",
              "      <th>15</th>\n",
              "      <td>Fins WR Hill says he's 'good,' will play vs. Pats</td>\n",
              "      <td>/nfl/story/_/id/38750787/dolphins-wr-tyreek-hi...</td>\n",
              "    </tr>\n",
              "    <tr>\n",
              "      <th>16</th>\n",
              "      <td>Retiring Baker: Not goodbye, just 'see you later'</td>\n",
              "      <td>/mlb/story/_/id/38750240/astros-dusty-baker-re...</td>\n",
              "    </tr>\n",
              "    <tr>\n",
              "      <th>17</th>\n",
              "      <td>Suns without stars Beal, Booker against Lakers</td>\n",
              "      <td>/nba/story/_/id/38750754/suns-stars-bradley-be...</td>\n",
              "    </tr>\n",
              "    <tr>\n",
              "      <th>18</th>\n",
              "      <td>Masters unlikely to ease entry for LIV golfers</td>\n",
              "      <td>/golf/story/_/id/38749880/masters-unlikely-cha...</td>\n",
              "    </tr>\n",
              "    <tr>\n",
              "      <th>19</th>\n",
              "      <td>Sens' Pinto gets 41-game gambling suspension</td>\n",
              "      <td>/nhl/story/_/id/38749754/sources-senators-shan...</td>\n",
              "    </tr>\n",
              "    <tr>\n",
              "      <th>20</th>\n",
              "      <td>Browns' Watson unsure how long injury will linger</td>\n",
              "      <td>/nfl/story/_/id/38749890/deshaun-watson-unsure...</td>\n",
              "    </tr>\n",
              "    <tr>\n",
              "      <th>21</th>\n",
              "      <td>NCAA at Michigan for investigation, sources say</td>\n",
              "      <td>/college-football/story/_/id/38750516/ncaa-mic...</td>\n",
              "    </tr>\n",
              "    <tr>\n",
              "      <th>22</th>\n",
              "      <td>Messi named finalist for MLS newcomer award</td>\n",
              "      <td>/soccer/story/_/id/38750217/lionel-messi-named...</td>\n",
              "    </tr>\n",
              "    <tr>\n",
              "      <th>23</th>\n",
              "      <td>Latest NFL trade deadline buzz</td>\n",
              "      <td>/nfl/insider/story/_/id/38725576/nfl-week-8-tr...</td>\n",
              "    </tr>\n",
              "  </tbody>\n",
              "</table>\n",
              "</div>\n",
              "    <div class=\"colab-df-buttons\">\n",
              "\n",
              "  <div class=\"colab-df-container\">\n",
              "    <button class=\"colab-df-convert\" onclick=\"convertToInteractive('df-658429fe-5216-422b-ac71-8c2a9d91fb7c')\"\n",
              "            title=\"Convert this dataframe to an interactive table.\"\n",
              "            style=\"display:none;\">\n",
              "\n",
              "  <svg xmlns=\"http://www.w3.org/2000/svg\" height=\"24px\" viewBox=\"0 -960 960 960\">\n",
              "    <path d=\"M120-120v-720h720v720H120Zm60-500h600v-160H180v160Zm220 220h160v-160H400v160Zm0 220h160v-160H400v160ZM180-400h160v-160H180v160Zm440 0h160v-160H620v160ZM180-180h160v-160H180v160Zm440 0h160v-160H620v160Z\"/>\n",
              "  </svg>\n",
              "    </button>\n",
              "\n",
              "  <style>\n",
              "    .colab-df-container {\n",
              "      display:flex;\n",
              "      gap: 12px;\n",
              "    }\n",
              "\n",
              "    .colab-df-convert {\n",
              "      background-color: #E8F0FE;\n",
              "      border: none;\n",
              "      border-radius: 50%;\n",
              "      cursor: pointer;\n",
              "      display: none;\n",
              "      fill: #1967D2;\n",
              "      height: 32px;\n",
              "      padding: 0 0 0 0;\n",
              "      width: 32px;\n",
              "    }\n",
              "\n",
              "    .colab-df-convert:hover {\n",
              "      background-color: #E2EBFA;\n",
              "      box-shadow: 0px 1px 2px rgba(60, 64, 67, 0.3), 0px 1px 3px 1px rgba(60, 64, 67, 0.15);\n",
              "      fill: #174EA6;\n",
              "    }\n",
              "\n",
              "    .colab-df-buttons div {\n",
              "      margin-bottom: 4px;\n",
              "    }\n",
              "\n",
              "    [theme=dark] .colab-df-convert {\n",
              "      background-color: #3B4455;\n",
              "      fill: #D2E3FC;\n",
              "    }\n",
              "\n",
              "    [theme=dark] .colab-df-convert:hover {\n",
              "      background-color: #434B5C;\n",
              "      box-shadow: 0px 1px 3px 1px rgba(0, 0, 0, 0.15);\n",
              "      filter: drop-shadow(0px 1px 2px rgba(0, 0, 0, 0.3));\n",
              "      fill: #FFFFFF;\n",
              "    }\n",
              "  </style>\n",
              "\n",
              "    <script>\n",
              "      const buttonEl =\n",
              "        document.querySelector('#df-658429fe-5216-422b-ac71-8c2a9d91fb7c button.colab-df-convert');\n",
              "      buttonEl.style.display =\n",
              "        google.colab.kernel.accessAllowed ? 'block' : 'none';\n",
              "\n",
              "      async function convertToInteractive(key) {\n",
              "        const element = document.querySelector('#df-658429fe-5216-422b-ac71-8c2a9d91fb7c');\n",
              "        const dataTable =\n",
              "          await google.colab.kernel.invokeFunction('convertToInteractive',\n",
              "                                                    [key], {});\n",
              "        if (!dataTable) return;\n",
              "\n",
              "        const docLinkHtml = 'Like what you see? Visit the ' +\n",
              "          '<a target=\"_blank\" href=https://colab.research.google.com/notebooks/data_table.ipynb>data table notebook</a>'\n",
              "          + ' to learn more about interactive tables.';\n",
              "        element.innerHTML = '';\n",
              "        dataTable['output_type'] = 'display_data';\n",
              "        await google.colab.output.renderOutput(dataTable, element);\n",
              "        const docLink = document.createElement('div');\n",
              "        docLink.innerHTML = docLinkHtml;\n",
              "        element.appendChild(docLink);\n",
              "      }\n",
              "    </script>\n",
              "  </div>\n",
              "\n",
              "\n",
              "<div id=\"df-51b73718-b72d-4b07-8c7b-bdcb892227ae\">\n",
              "  <button class=\"colab-df-quickchart\" onclick=\"quickchart('df-51b73718-b72d-4b07-8c7b-bdcb892227ae')\"\n",
              "            title=\"Suggest charts.\"\n",
              "            style=\"display:none;\">\n",
              "\n",
              "<svg xmlns=\"http://www.w3.org/2000/svg\" height=\"24px\"viewBox=\"0 0 24 24\"\n",
              "     width=\"24px\">\n",
              "    <g>\n",
              "        <path d=\"M19 3H5c-1.1 0-2 .9-2 2v14c0 1.1.9 2 2 2h14c1.1 0 2-.9 2-2V5c0-1.1-.9-2-2-2zM9 17H7v-7h2v7zm4 0h-2V7h2v10zm4 0h-2v-4h2v4z\"/>\n",
              "    </g>\n",
              "</svg>\n",
              "  </button>\n",
              "\n",
              "<style>\n",
              "  .colab-df-quickchart {\n",
              "      --bg-color: #E8F0FE;\n",
              "      --fill-color: #1967D2;\n",
              "      --hover-bg-color: #E2EBFA;\n",
              "      --hover-fill-color: #174EA6;\n",
              "      --disabled-fill-color: #AAA;\n",
              "      --disabled-bg-color: #DDD;\n",
              "  }\n",
              "\n",
              "  [theme=dark] .colab-df-quickchart {\n",
              "      --bg-color: #3B4455;\n",
              "      --fill-color: #D2E3FC;\n",
              "      --hover-bg-color: #434B5C;\n",
              "      --hover-fill-color: #FFFFFF;\n",
              "      --disabled-bg-color: #3B4455;\n",
              "      --disabled-fill-color: #666;\n",
              "  }\n",
              "\n",
              "  .colab-df-quickchart {\n",
              "    background-color: var(--bg-color);\n",
              "    border: none;\n",
              "    border-radius: 50%;\n",
              "    cursor: pointer;\n",
              "    display: none;\n",
              "    fill: var(--fill-color);\n",
              "    height: 32px;\n",
              "    padding: 0;\n",
              "    width: 32px;\n",
              "  }\n",
              "\n",
              "  .colab-df-quickchart:hover {\n",
              "    background-color: var(--hover-bg-color);\n",
              "    box-shadow: 0 1px 2px rgba(60, 64, 67, 0.3), 0 1px 3px 1px rgba(60, 64, 67, 0.15);\n",
              "    fill: var(--button-hover-fill-color);\n",
              "  }\n",
              "\n",
              "  .colab-df-quickchart-complete:disabled,\n",
              "  .colab-df-quickchart-complete:disabled:hover {\n",
              "    background-color: var(--disabled-bg-color);\n",
              "    fill: var(--disabled-fill-color);\n",
              "    box-shadow: none;\n",
              "  }\n",
              "\n",
              "  .colab-df-spinner {\n",
              "    border: 2px solid var(--fill-color);\n",
              "    border-color: transparent;\n",
              "    border-bottom-color: var(--fill-color);\n",
              "    animation:\n",
              "      spin 1s steps(1) infinite;\n",
              "  }\n",
              "\n",
              "  @keyframes spin {\n",
              "    0% {\n",
              "      border-color: transparent;\n",
              "      border-bottom-color: var(--fill-color);\n",
              "      border-left-color: var(--fill-color);\n",
              "    }\n",
              "    20% {\n",
              "      border-color: transparent;\n",
              "      border-left-color: var(--fill-color);\n",
              "      border-top-color: var(--fill-color);\n",
              "    }\n",
              "    30% {\n",
              "      border-color: transparent;\n",
              "      border-left-color: var(--fill-color);\n",
              "      border-top-color: var(--fill-color);\n",
              "      border-right-color: var(--fill-color);\n",
              "    }\n",
              "    40% {\n",
              "      border-color: transparent;\n",
              "      border-right-color: var(--fill-color);\n",
              "      border-top-color: var(--fill-color);\n",
              "    }\n",
              "    60% {\n",
              "      border-color: transparent;\n",
              "      border-right-color: var(--fill-color);\n",
              "    }\n",
              "    80% {\n",
              "      border-color: transparent;\n",
              "      border-right-color: var(--fill-color);\n",
              "      border-bottom-color: var(--fill-color);\n",
              "    }\n",
              "    90% {\n",
              "      border-color: transparent;\n",
              "      border-bottom-color: var(--fill-color);\n",
              "    }\n",
              "  }\n",
              "</style>\n",
              "\n",
              "  <script>\n",
              "    async function quickchart(key) {\n",
              "      const quickchartButtonEl =\n",
              "        document.querySelector('#' + key + ' button');\n",
              "      quickchartButtonEl.disabled = true;  // To prevent multiple clicks.\n",
              "      quickchartButtonEl.classList.add('colab-df-spinner');\n",
              "      try {\n",
              "        const charts = await google.colab.kernel.invokeFunction(\n",
              "            'suggestCharts', [key], {});\n",
              "      } catch (error) {\n",
              "        console.error('Error during call to suggestCharts:', error);\n",
              "      }\n",
              "      quickchartButtonEl.classList.remove('colab-df-spinner');\n",
              "      quickchartButtonEl.classList.add('colab-df-quickchart-complete');\n",
              "    }\n",
              "    (() => {\n",
              "      let quickchartButtonEl =\n",
              "        document.querySelector('#df-51b73718-b72d-4b07-8c7b-bdcb892227ae button');\n",
              "      quickchartButtonEl.style.display =\n",
              "        google.colab.kernel.accessAllowed ? 'block' : 'none';\n",
              "    })();\n",
              "  </script>\n",
              "</div>\n",
              "\n",
              "  <div id=\"id_7c975ad3-e89d-497d-837c-1dfcc2173452\">\n",
              "    <style>\n",
              "      .colab-df-generate {\n",
              "        background-color: #E8F0FE;\n",
              "        border: none;\n",
              "        border-radius: 50%;\n",
              "        cursor: pointer;\n",
              "        display: none;\n",
              "        fill: #1967D2;\n",
              "        height: 32px;\n",
              "        padding: 0 0 0 0;\n",
              "        width: 32px;\n",
              "      }\n",
              "\n",
              "      .colab-df-generate:hover {\n",
              "        background-color: #E2EBFA;\n",
              "        box-shadow: 0px 1px 2px rgba(60, 64, 67, 0.3), 0px 1px 3px 1px rgba(60, 64, 67, 0.15);\n",
              "        fill: #174EA6;\n",
              "      }\n",
              "\n",
              "      [theme=dark] .colab-df-generate {\n",
              "        background-color: #3B4455;\n",
              "        fill: #D2E3FC;\n",
              "      }\n",
              "\n",
              "      [theme=dark] .colab-df-generate:hover {\n",
              "        background-color: #434B5C;\n",
              "        box-shadow: 0px 1px 3px 1px rgba(0, 0, 0, 0.15);\n",
              "        filter: drop-shadow(0px 1px 2px rgba(0, 0, 0, 0.3));\n",
              "        fill: #FFFFFF;\n",
              "      }\n",
              "    </style>\n",
              "    <button class=\"colab-df-generate\" onclick=\"generateWithVariable('df')\"\n",
              "            title=\"Generate code using this dataframe.\"\n",
              "            style=\"display:none;\">\n",
              "\n",
              "  <svg xmlns=\"http://www.w3.org/2000/svg\" height=\"24px\"viewBox=\"0 0 24 24\"\n",
              "       width=\"24px\">\n",
              "    <path d=\"M7,19H8.4L18.45,9,17,7.55,7,17.6ZM5,21V16.75L18.45,3.32a2,2,0,0,1,2.83,0l1.4,1.43a1.91,1.91,0,0,1,.58,1.4,1.91,1.91,0,0,1-.58,1.4L9.25,21ZM18.45,9,17,7.55Zm-12,3A5.31,5.31,0,0,0,4.9,8.1,5.31,5.31,0,0,0,1,6.5,5.31,5.31,0,0,0,4.9,4.9,5.31,5.31,0,0,0,6.5,1,5.31,5.31,0,0,0,8.1,4.9,5.31,5.31,0,0,0,12,6.5,5.46,5.46,0,0,0,6.5,12Z\"/>\n",
              "  </svg>\n",
              "    </button>\n",
              "    <script>\n",
              "      (() => {\n",
              "      const buttonEl =\n",
              "        document.querySelector('#id_7c975ad3-e89d-497d-837c-1dfcc2173452 button.colab-df-generate');\n",
              "      buttonEl.style.display =\n",
              "        google.colab.kernel.accessAllowed ? 'block' : 'none';\n",
              "\n",
              "      buttonEl.onclick = () => {\n",
              "        google.colab.notebook.generateWithVariable('df');\n",
              "      }\n",
              "      })();\n",
              "    </script>\n",
              "  </div>\n",
              "\n",
              "    </div>\n",
              "  </div>\n"
            ]
          },
          "metadata": {},
          "execution_count": 33
        }
      ]
    },
    {
      "cell_type": "markdown",
      "metadata": {
        "id": "H3SgwTKOQkck"
      },
      "source": [
        "## In Class Example: Crawl BuzzFeed\n",
        "\n",
        "* We will try to get the top articles that appear on Buzzfeed\n",
        "* We will grab the link for the article, the text of the title,  and the editor.\n",
        "* The results will be stored in a dataframe (we will see in detail what a dataframe is, in a couple of modules)\n",
        "* Let's also try to create an API that returns a structured JSON object with the results from Buzzfeed.\n"
      ]
    },
    {
      "cell_type": "code",
      "metadata": {
        "id": "vaOYRZpEQkcm"
      },
      "source": [
        "#your code here\n",
        "import requests\n",
        "resp = requests.get(\"http://www.buzzfeed.com\")\n",
        "buzzfeed = BeautifulSoup(resp.text, 'html.parser')\n"
      ],
      "execution_count": 83,
      "outputs": []
    },
    {
      "cell_type": "code",
      "metadata": {
        "id": "Nei56OAhSfcl"
      },
      "source": [
        "story_nodes = buzzfeed.find_all('li', {'aria-label': 'item', \"role\": \"group\"})"
      ],
      "execution_count": 84,
      "outputs": []
    },
    {
      "cell_type": "code",
      "source": [
        "print(story_nodes[0].prettify())"
      ],
      "metadata": {
        "id": "0M8jrD3v_frE"
      },
      "execution_count": null,
      "outputs": []
    },
    {
      "cell_type": "code",
      "metadata": {
        "id": "w0Xwb94eTEiH",
        "outputId": "3307756c-3ebb-4637-abd3-498ac6a60072",
        "colab": {
          "base_uri": "https://localhost:8080/"
        }
      },
      "source": [
        "len(story_nodes)\n"
      ],
      "execution_count": 37,
      "outputs": [
        {
          "output_type": "execute_result",
          "data": {
            "text/plain": [
              "42"
            ]
          },
          "metadata": {},
          "execution_count": 37
        }
      ]
    },
    {
      "cell_type": "code",
      "metadata": {
        "id": "Z9eDO7QjTEvK"
      },
      "source": [],
      "execution_count": 81,
      "outputs": []
    },
    {
      "cell_type": "code",
      "source": [],
      "metadata": {
        "id": "GOM3NGjYJLh_",
        "outputId": "27f8cc4a-7f72-481f-ba15-8ae51c0afb6f",
        "colab": {
          "base_uri": "https://localhost:8080/"
        }
      },
      "execution_count": 82,
      "outputs": [
        {
          "output_type": "stream",
          "name": "stdout",
          "text": [
            "\u001b[31mERROR: Cannot uninstall 'blinker'. It is a distutils installed project and thus we cannot accurately determine which files belong to it which would lead to only a partial uninstall.\u001b[0m\u001b[31m\n",
            "\u001b[0m"
          ]
        },
        {
          "output_type": "stream",
          "name": "stderr",
          "text": [
            "WARNING:pyngrok.process.ngrok:t=2023-10-26T23:10:02+0000 lvl=warn msg=\"ngrok config file found at legacy location, move to XDG location\" xdg_path=/root/.config/ngrok/ngrok.yml legacy_path=/root/.ngrok2/ngrok.yml\n"
          ]
        },
        {
          "output_type": "stream",
          "name": "stdout",
          "text": [
            " * Our page is at https://17e6-34-73-64-71.ngrok-free.app/buzzfeed_api\n",
            " * Serving Flask app '__main__'\n",
            " * Debug mode: off\n"
          ]
        },
        {
          "output_type": "stream",
          "name": "stderr",
          "text": [
            "INFO:werkzeug:\u001b[31m\u001b[1mWARNING: This is a development server. Do not use it in a production deployment. Use a production WSGI server instead.\u001b[0m\n",
            " * Running on http://127.0.0.1:5000\n",
            "INFO:werkzeug:\u001b[33mPress CTRL+C to quit\u001b[0m\n",
            "INFO:werkzeug:127.0.0.1 - - [26/Oct/2023 23:10:36] \"GET /buzzfeed_api HTTP/1.1\" 200 -\n",
            "INFO:werkzeug:127.0.0.1 - - [26/Oct/2023 23:10:36] \"\u001b[33mGET /favicon.ico HTTP/1.1\u001b[0m\" 404 -\n"
          ]
        }
      ]
    },
    {
      "cell_type": "code",
      "metadata": {
        "id": "hKr3oHlGQkcv"
      },
      "source": [
        "# @title Solution for Buzzfeed (as of October 23, 2023)\n",
        "\n",
        "import requests # This command allows us to fetch URLs\n",
        "import pandas\n",
        "import re\n",
        "\n",
        "# Let's start by fetching the page, and parsing it\n",
        "\n",
        "resp = requests.get(\"http://www.buzzfeed.com\")\n",
        "buzzfeed = BeautifulSoup(resp.text, 'html.parser')\n",
        "\n",
        "story_nodes = buzzfeed.find_all('li', {'aria-label': 'item', \"role\": \"group\"})\n",
        "\n",
        "def parseStory(s):\n",
        "    headline = s.find(\"h2\").text.strip()\n",
        "    link = s.find(\"a\").get(\"href\")\n",
        "    category_node = s.find(\"span\", class_=\"bold\")\n",
        "\n",
        "    if category_node:\n",
        "      category_text = category_node.text\n",
        "      if category_text.endswith(\"Trending\"):\n",
        "        category_text = category_text.replace(\"Trending\", \", Trending\")\n",
        "    else:\n",
        "      category_text = None\n",
        "\n",
        "    # Let's search all the \"span\" nodes\n",
        "    time_ago_nodes = s.find_all(\"span\")\n",
        "    # We will store in \"time ago\" the time the article was published\n",
        "    # if we can find it. Otherwise it will remain empty\n",
        "    time_ago = None\n",
        "    for t in time_ago_nodes:\n",
        "      # If the text ends with the \"ago\" then it is time\n",
        "      if t.text.endswith(\" ago\"):\n",
        "        time_ago = t.text.strip()\n",
        "\n",
        "    # Find the editor\n",
        "    editor_node = s.find(\"div\", class_=\"xs-text-6 text-gray xs-mt1\")\n",
        "    editor_text = None\n",
        "    if editor_node:\n",
        "      editor_text = editor_node.text[3:]\n",
        "\n",
        "\n",
        "    entry = {\"headline\": headline,\n",
        "             \"URL\": link,\n",
        "             \"category\": category_text,\n",
        "             \"time_ago\": time_ago,\n",
        "             \"editor\": editor_text\n",
        "             }\n",
        "\n",
        "    return entry\n",
        "\n",
        "data = [parseStory(article) for article in story_nodes]\n",
        "df = pandas.DataFrame(data)\n",
        "df"
      ],
      "execution_count": null,
      "outputs": []
    },
    {
      "cell_type": "code",
      "source": [
        "# @title Solution for Buzzfeed API (as of October 23, 2023)\n",
        "\n",
        "def get_buzzfeed():\n",
        "\n",
        "  resp = requests.get(\"http://www.buzzfeed.com\")\n",
        "  buzzfeed = BeautifulSoup(resp.text, 'html.parser')\n",
        "  story_nodes = buzzfeed.find_all('li', {'aria-label': 'item', \"role\": \"group\"})\n",
        "\n",
        "  entries = []\n",
        "  for s in story_nodes:\n",
        "    entry = parseStory(s)\n",
        "    # Let's add the entry to the list\n",
        "    entries.append(entry)\n",
        "\n",
        "  return entries\n",
        "\n",
        "\n",
        "buzzfeed = get_buzzfeed()\n",
        "\n"
      ],
      "metadata": {
        "id": "gYah1SBUTWgp"
      },
      "execution_count": 88,
      "outputs": []
    },
    {
      "cell_type": "code",
      "source": [
        "# @title Solution for Buzzfeed API (as of October 23, 2023)\n",
        "\n",
        "!pip install -U -q flask pyngrok\n",
        "\n",
        "from flask import Flask, render_template, jsonify\n",
        "from pyngrok import ngrok\n",
        "\n",
        "ngrok_authtoken = '2X0B0I6l2YtIb4teDH937b7rbdH_4rzM4YUiPatv34aLk35PW'\n",
        "ngrok.set_auth_token(ngrok_authtoken)\n",
        "\n",
        "port = 5000\n",
        "app = Flask(__name__)\n",
        "public_url = ngrok.connect(port).public_url\n",
        "\n",
        "@app.route('/buzzfeed_api',  methods=['GET'])\n",
        "def buzzfeed():\n",
        "\n",
        "    list_of_articles = get_buzzfeed()\n",
        "    api_results = {\"total\": len(list_of_articles), \"articles\": list_of_articles}\n",
        "\n",
        "    return jsonify(api_results)\n",
        "\n",
        "print(f\" * Our page is at {public_url}/buzzfeed_api\")\n",
        "app.run(use_reloader=False, port=port)"
      ],
      "metadata": {
        "id": "SWGUL7VvWdIf",
        "outputId": "e635658d-65a4-4ce7-a1e8-11b8229cff5c",
        "colab": {
          "base_uri": "https://localhost:8080/"
        }
      },
      "execution_count": 89,
      "outputs": [
        {
          "output_type": "stream",
          "name": "stdout",
          "text": [
            "\u001b[31mERROR: Cannot uninstall 'blinker'. It is a distutils installed project and thus we cannot accurately determine which files belong to it which would lead to only a partial uninstall.\u001b[0m\u001b[31m\n",
            "\u001b[0m"
          ]
        },
        {
          "output_type": "stream",
          "name": "stderr",
          "text": [
            "WARNING:pyngrok.process.ngrok:t=2023-10-26T23:38:37+0000 lvl=warn msg=\"ngrok config file found at legacy location, move to XDG location\" xdg_path=/root/.config/ngrok/ngrok.yml legacy_path=/root/.ngrok2/ngrok.yml\n"
          ]
        },
        {
          "output_type": "stream",
          "name": "stdout",
          "text": [
            " * Our page is at https://f2a7-34-73-64-71.ngrok-free.app/buzzfeed_api\n",
            " * Serving Flask app '__main__'\n",
            " * Debug mode: off\n"
          ]
        },
        {
          "output_type": "stream",
          "name": "stderr",
          "text": [
            "INFO:werkzeug:\u001b[31m\u001b[1mWARNING: This is a development server. Do not use it in a production deployment. Use a production WSGI server instead.\u001b[0m\n",
            " * Running on http://127.0.0.1:5000\n",
            "INFO:werkzeug:\u001b[33mPress CTRL+C to quit\u001b[0m\n",
            "INFO:werkzeug:127.0.0.1 - - [26/Oct/2023 23:38:41] \"GET /buzzfeed_api HTTP/1.1\" 200 -\n",
            "INFO:werkzeug:127.0.0.1 - - [26/Oct/2023 23:38:42] \"\u001b[33mGET /favicon.ico HTTP/1.1\u001b[0m\" 404 -\n"
          ]
        }
      ]
    }
  ]
}