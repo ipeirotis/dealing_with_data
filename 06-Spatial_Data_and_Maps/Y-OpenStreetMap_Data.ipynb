{
  "nbformat": 4,
  "nbformat_minor": 0,
  "metadata": {
    "colab": {
      "private_outputs": true,
      "provenance": [],
      "authorship_tag": "ABX9TyPYNbsLOMKvK43N5gcoBCu4",
      "include_colab_link": true
    },
    "kernelspec": {
      "name": "python3",
      "display_name": "Python 3"
    },
    "language_info": {
      "name": "python"
    }
  },
  "cells": [
    {
      "cell_type": "markdown",
      "metadata": {
        "id": "view-in-github",
        "colab_type": "text"
      },
      "source": [
        "<a href=\"https://colab.research.google.com/github/ipeirotis/dealing_with_data/blob/master/06-Spatial_Data_and_Maps/Y-OpenStreetMap_Data.ipynb\" target=\"_parent\"><img src=\"https://colab.research.google.com/assets/colab-badge.svg\" alt=\"Open In Colab\"/></a>"
      ]
    },
    {
      "cell_type": "code",
      "source": [
        "!pip install osmnx mapclassify folium"
      ],
      "metadata": {
        "id": "N6FuDCbe55Mw"
      },
      "execution_count": null,
      "outputs": []
    },
    {
      "cell_type": "code",
      "source": [
        "import osmnx as ox"
      ],
      "metadata": {
        "id": "om02ayXX9PL-"
      },
      "execution_count": null,
      "outputs": []
    },
    {
      "cell_type": "code",
      "source": [
        "# Specify the name that is used to seach for the data\n",
        "place_name = \"Manhattan, NY USA\""
      ],
      "metadata": {
        "id": "TqRcAxrC8ogR"
      },
      "execution_count": null,
      "outputs": []
    },
    {
      "cell_type": "code",
      "source": [
        "# import osmnx\n",
        "import osmnx as ox\n",
        "import geopandas as gpd\n",
        "\n",
        "# Get place boundary related to the place name as a geodataframe\n",
        "area = ox.geocode_to_gdf(place_name)"
      ],
      "metadata": {
        "id": "xPuBpqd2915N"
      },
      "execution_count": null,
      "outputs": []
    },
    {
      "cell_type": "code",
      "source": [
        "area.explore(tiles='cartodbpositron')"
      ],
      "metadata": {
        "id": "8Om-vrDy9_wM"
      },
      "execution_count": null,
      "outputs": []
    },
    {
      "cell_type": "code",
      "source": [
        "# List key-value pairs for tags\n",
        "tags = {'building': True}\n",
        "\n",
        "buildings = ox.features_from_place(place_name, tags)\n",
        "buildings.head()"
      ],
      "metadata": {
        "id": "hwWmMH_YAPLU"
      },
      "execution_count": null,
      "outputs": []
    },
    {
      "cell_type": "code",
      "source": [
        "(\n",
        "    buildings[buildings.geometry.geom_type =='Polygon']\n",
        "    .filter([ 'addr:housenumber', 'addr:street','addr:city','addr:state', 'addr:postcode','geometry'])\n",
        "    .sample(1000)\n",
        "    .explore(tiles='cartodbpositron')\n",
        ")"
      ],
      "metadata": {
        "id": "xrBNHfI8Bjm9"
      },
      "execution_count": null,
      "outputs": []
    },
    {
      "cell_type": "code",
      "source": [
        "# Initialize the OSM parser object\n",
        "osm = OSM(fp)"
      ],
      "metadata": {
        "id": "CISdMF2N8GbH"
      },
      "execution_count": null,
      "outputs": []
    }
  ]
}