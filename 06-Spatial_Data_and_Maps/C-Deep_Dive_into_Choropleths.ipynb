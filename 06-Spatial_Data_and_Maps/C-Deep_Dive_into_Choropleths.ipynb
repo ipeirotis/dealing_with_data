{
  "nbformat": 4,
  "nbformat_minor": 0,
  "metadata": {
    "colab": {
      "name": "F-Visualization_of_Population_Data_with_Choropleths.ipynb",
      "provenance": [],
      "include_colab_link": true
    },
    "kernelspec": {
      "display_name": "Python 3",
      "language": "python",
      "name": "python3"
    },
    "language_info": {
      "codemirror_mode": {
        "name": "ipython",
        "version": 3
      },
      "file_extension": ".py",
      "mimetype": "text/x-python",
      "name": "python",
      "nbconvert_exporter": "python",
      "pygments_lexer": "ipython3",
      "version": "3.8.5"
    }
  },
  "cells": [
    {
      "cell_type": "markdown",
      "metadata": {
        "id": "view-in-github",
        "colab_type": "text"
      },
      "source": [
        "<a href=\"https://colab.research.google.com/github/ipeirotis/dealing_with_data/blob/master/06-Spatial_Data_and_Maps/C-Deep_Dive_into_Choropleths.ipynb\" target=\"_parent\"><img src=\"https://colab.research.google.com/assets/colab-badge.svg\" alt=\"Open In Colab\"/></a>"
      ]
    },
    {
      "cell_type": "markdown",
      "metadata": {
        "id": "pF4VZXE5qs3Q"
      },
      "source": [
        "# Visualizing Population and Unemployment Data"
      ]
    },
    {
      "cell_type": "code",
      "source": [
        "!pip install -U -q geopandas folium mapclassify folium geoplot\n",
        "\n",
        "import matplotlib.pyplot as plt\n",
        "import folium\n",
        "import requests\n",
        "\n",
        "import pandas as pd\n",
        "import numpy as np\n",
        "\n",
        "import geopandas as gpd\n",
        "import geoplot\n",
        "import geoplot.crs as gcrs\n",
        "\n",
        "%config InlineBackend.figure_format = 'retina'\n",
        "\n",
        "# Change the graph defaults\n",
        "plt.rcParams['figure.figsize'] = (8, 3)  # Default figure size of 6x2 inches\n",
        "plt.rcParams['axes.grid'] = True\n",
        "plt.rcParams['grid.color'] = 'lightgray'\n",
        "plt.rcParams['font.size'] = 10  # Default font size of 12 points\n",
        "plt.rcParams['lines.linewidth'] = 1  # Default line width of 1 points\n",
        "plt.rcParams['lines.markersize'] = 3  # Default marker size of 3 points\n",
        "plt.rcParams['legend.fontsize'] = 10  # Default legend font size of 10 poin"
      ],
      "metadata": {
        "id": "00TGNNmo0Zw1"
      },
      "execution_count": null,
      "outputs": []
    },
    {
      "cell_type": "code",
      "metadata": {
        "id": "hM6mMWUZqs3j"
      },
      "source": [
        "# To plot the choropleths, we need the shapefiles for the areas. Below we use\n",
        "# shapefiles that come from the US Census data\n",
        "#\n",
        "# More files at https://www.census.gov/geo/maps-data/data/tiger-cart-boundary.html\n",
        "#\n",
        "# Check also http://geojson.xyz/ for more shapefiles\n",
        "#\n",
        "shapefiles_zipcodes = \"http://www2.census.gov/geo/tiger/GENZ2017/shp/cb_2017_us_zcta510_500k.zip\"\n",
        "shapefiles_counties = \"http://www2.census.gov/geo/tiger/GENZ2017/shp/cb_2017_us_county_500k.zip\"\n",
        "shapefiles_states   = \"http://www2.census.gov/geo/tiger/GENZ2017/shp/cb_2017_us_state_500k.zip\""
      ],
      "execution_count": null,
      "outputs": []
    },
    {
      "cell_type": "markdown",
      "metadata": {
        "id": "EdDfTPE9qs3n"
      },
      "source": [
        "## Load GeoDataframe for US States and plot a map"
      ]
    },
    {
      "cell_type": "code",
      "metadata": {
        "id": "suoB9MXSqs3o"
      },
      "source": [
        "df_states = gpd.read_file(shapefiles_states)"
      ],
      "execution_count": null,
      "outputs": []
    },
    {
      "cell_type": "code",
      "metadata": {
        "id": "9UoALB-Yqs3r"
      },
      "source": [
        "# df_states"
      ],
      "execution_count": null,
      "outputs": []
    },
    {
      "cell_type": "code",
      "metadata": {
        "id": "JHksMbpqqs3u"
      },
      "source": [
        "# Dropping non-continental states\n",
        "df_states = df_states[ df_states.NAME!='Alaska' ]\n",
        "df_states = df_states[ df_states.NAME!='Hawaii' ]\n",
        "df_states = df_states[ df_states.NAME!='Puerto Rico' ]\n",
        "df_states = df_states[ df_states.NAME!='Guam' ]\n",
        "df_states = df_states[ df_states.NAME!='Commonwealth of the Northern Mariana Islands' ]\n",
        "df_states = df_states[ df_states.NAME!='American Samoa' ]\n",
        "df_states = df_states[ df_states.NAME!='United States Virgin Islands' ]"
      ],
      "execution_count": null,
      "outputs": []
    },
    {
      "cell_type": "code",
      "metadata": {
        "id": "OfAqaxz2qs3x"
      },
      "source": [
        "# Should be 49. The 48 continental, plus DC\n",
        "assert( len(df_states) == 49 )"
      ],
      "execution_count": null,
      "outputs": []
    },
    {
      "cell_type": "code",
      "metadata": {
        "id": "vwed-5_pqs30"
      },
      "source": [
        "df_states.plot(\n",
        "    figsize=(10,10),\n",
        "    linewidth=0.2,\n",
        "    color='white',\n",
        "    edgecolor='black'\n",
        ")"
      ],
      "execution_count": null,
      "outputs": []
    },
    {
      "cell_type": "markdown",
      "metadata": {
        "id": "tDzBZ_5Mqs33"
      },
      "source": [
        "## Load US Counties Datafame and plot a map"
      ]
    },
    {
      "cell_type": "code",
      "metadata": {
        "id": "8wD2s2Abqs33"
      },
      "source": [
        "df_counties = gpd.read_file(shapefiles_counties)"
      ],
      "execution_count": null,
      "outputs": []
    },
    {
      "cell_type": "code",
      "metadata": {
        "id": "irQez4ILqs35"
      },
      "source": [
        "# df_counties"
      ],
      "execution_count": null,
      "outputs": []
    },
    {
      "cell_type": "code",
      "metadata": {
        "id": "OsORAIfvqs38"
      },
      "source": [
        "len(df_counties)"
      ],
      "execution_count": null,
      "outputs": []
    },
    {
      "cell_type": "code",
      "metadata": {
        "id": "KQDfLfcDqs3-"
      },
      "source": [
        "# There should be 3233 counties looaded\n",
        "assert( len(df_counties) == 3233 )"
      ],
      "execution_count": null,
      "outputs": []
    },
    {
      "cell_type": "code",
      "metadata": {
        "id": "5Ep3pD5_qs4B"
      },
      "source": [
        "# Keep only counties in the lower 48 states + DC\n",
        "keep_county = df_counties.STATEFP.isin(df_states.STATEFP.values)\n",
        "df_counties = df_counties[ keep_county ]"
      ],
      "execution_count": null,
      "outputs": []
    },
    {
      "cell_type": "code",
      "metadata": {
        "id": "strwfzTMqs4D"
      },
      "source": [
        "# There should be 3108 counties remaining\n",
        "assert(len(df_counties) == 3108)"
      ],
      "execution_count": null,
      "outputs": []
    },
    {
      "cell_type": "code",
      "metadata": {
        "id": "VgvZ5YpWqs4F"
      },
      "source": [
        "df_counties.plot(\n",
        "    figsize=(10,10),\n",
        "    linewidth=0.2,\n",
        "    color='white',\n",
        "    edgecolor='black'\n",
        ")"
      ],
      "execution_count": null,
      "outputs": []
    },
    {
      "cell_type": "markdown",
      "metadata": {
        "id": "tMnDeDm6qs4H"
      },
      "source": [
        "## Getting Census Data\n",
        "\n",
        "You need to get an API Key from http://api.census.gov/data/key_signup.html."
      ]
    },
    {
      "cell_type": "code",
      "metadata": {
        "id": "meX7H_WFqs4I"
      },
      "source": [
        "# https://www.census.gov/data/developers/data-sets.html\n",
        "\n",
        "# Querying the \"Decentennial\" (dec) censur of 2010\n",
        "# https://www.census.gov/data/developers/data-sets/decennial-census.html\n",
        "\n",
        "class Census:\n",
        "    def __init__(self, key):\n",
        "        self.key = key\n",
        "\n",
        "    def get(self, fields, geo, dataset='sf1'):\n",
        "        fields = [','.join(fields)]\n",
        "        base_url = f'https://api.census.gov/data/2010/dec/{dataset}?key={self.key}&get='\n",
        "        query = fields\n",
        "        for item in geo:\n",
        "            query.append(item)\n",
        "        add_url = '&'.join(query)\n",
        "        url = base_url + add_url\n",
        "        response = requests.get(url)\n",
        "        return response.json()\n",
        "        # return ast.literal_eval(response.text)\n",
        "\n",
        "api_key = '627d4107b57d4576f2120d2b87b59c7440e5d2af'\n",
        "census = Census(api_key)"
      ],
      "execution_count": null,
      "outputs": []
    },
    {
      "cell_type": "markdown",
      "metadata": {
        "id": "kbC439rQqs4K"
      },
      "source": [
        "## Plot a Choropleth with Population of US States"
      ]
    },
    {
      "cell_type": "code",
      "metadata": {
        "id": "Wl0K0zAtqs4L"
      },
      "source": [
        "# We are querying for \"Population\" (variable P001001)\n",
        "# See https://api.census.gov/data/2010/dec/sf1/variables.html for other variables\n",
        "\n",
        "# Fetch state population data from US Census\n",
        "census_response = census.get(['P001001'], ['for=state:*'])\n",
        "census_response"
      ],
      "execution_count": null,
      "outputs": []
    },
    {
      "cell_type": "code",
      "metadata": {
        "id": "BLqrrp9Lo5pj"
      },
      "source": [
        "# Manipulate the result from the US Census API and convert the result to a dataframe\n",
        "df_state_population = pd.DataFrame(census_response[1:], columns = ['Population', 'STATEFP'])\n",
        "df_state_population['Population'] = pd.to_numeric(df_state_population['Population'])\n",
        "df_state_population['LogPopulation'] = np.log10(df_state_population['Population'])\n",
        "df_state_population"
      ],
      "execution_count": null,
      "outputs": []
    },
    {
      "cell_type": "code",
      "metadata": {
        "id": "Px6u3mLmqs4N"
      },
      "source": [
        "# ax = df_state_population.LogPopulation.hist()\n",
        "# df_state_population.LogPopulation.plot.kde(secondary_y=True, ax = ax)"
      ],
      "execution_count": null,
      "outputs": []
    },
    {
      "cell_type": "code",
      "metadata": {
        "id": "q6SaNQFRqs4Q"
      },
      "source": [
        "# Augment the df_states geodataframe with population information\n",
        "states_choropleth = pd.merge(df_states, df_state_population, on='STATEFP')\n",
        "\n",
        "states_choropleth.plot(\n",
        "    figsize=(10,10),\n",
        "    column='LogPopulation',\n",
        "    cmap='Blues',  # select color scheme from http://matplotlib.org/users/colormaps.html\n",
        "    linewidth=0.1,\n",
        "    edgecolor='black'\n",
        ")"
      ],
      "execution_count": null,
      "outputs": []
    },
    {
      "cell_type": "markdown",
      "metadata": {
        "id": "BqzAtTZIqs4S"
      },
      "source": [
        "## Plot a Choropleth with Population of US Counties"
      ]
    },
    {
      "cell_type": "code",
      "metadata": {
        "id": "wScZjzjSqs4S"
      },
      "source": [
        "# Query the US Census API for the population of each county\n",
        "census_response = census.get(['P001001'], ['in=state:*', 'for=county:*'])\n",
        "# Manipulate the API response and put the results in a dataframe\n",
        "df_county_population = pd.DataFrame(census_response[1:], columns = ['Population', 'STATEFP', 'COUNTYFP'])\n",
        "df_county_population['Population'] = pd.to_numeric(df_county_population['Population'])\n",
        "df_county_population['LogPopulation'] = np.log10(df_county_population['Population'])\n",
        "# df_county_population"
      ],
      "execution_count": null,
      "outputs": []
    },
    {
      "cell_type": "code",
      "metadata": {
        "id": "nTSl_6KNqs4U"
      },
      "source": [
        "df_county_population.head(5)"
      ],
      "execution_count": null,
      "outputs": []
    },
    {
      "cell_type": "code",
      "metadata": {
        "id": "TIf8-96Xqs4X"
      },
      "source": [
        "df_county_population.LogPopulation.plot.kde()\n",
        "df_county_population.LogPopulation.hist(bins=40, density=True)"
      ],
      "execution_count": null,
      "outputs": []
    },
    {
      "cell_type": "code",
      "metadata": {
        "id": "bLvFHMYCqs4Z"
      },
      "source": [
        "# Merge the GeoDataFrame df_counties with the population data\n",
        "counties_choropleth = pd.merge(df_counties, df_county_population, on=['STATEFP', 'COUNTYFP'])\n",
        "\n",
        "counties_choropleth.plot(\n",
        "    figsize=(10,10),\n",
        "    column='LogPopulation',\n",
        "    cmap='Blues', # http://matplotlib.org/users/colormaps.html\n",
        "    # scheme='Quantiles', # alternatives are 'Quantiles', Equal_Interval', and 'Fisher_Jenks'; Quantiles requires PySAL\n",
        "    linewidth=0.1,\n",
        "    edgecolor='black')"
      ],
      "execution_count": null,
      "outputs": []
    },
    {
      "cell_type": "markdown",
      "metadata": {
        "id": "mGY2Mohxqs4b"
      },
      "source": [
        "## Extras"
      ]
    },
    {
      "cell_type": "code",
      "metadata": {
        "id": "A97nlaoFqs4c"
      },
      "source": [
        "# Plot the state borders (with darker, thicker lines) on top of the counties\n",
        "\n",
        "ax = counties_choropleth.plot(\n",
        "    figsize=(10,10),\n",
        "    column='LogPopulation',\n",
        "    cmap='Blues', # http://matplotlib.org/users/colormaps.html\n",
        "    # scheme='Quantiles', # alternatives are 'Quantiles', Equal_Interval', and 'Fisher_Jenks'; Quantiles requires PySAL\n",
        "    linewidth=0.1,\n",
        "    edgecolor='black')\n",
        "\n",
        "df_states.plot(\n",
        "    figsize=(10,10),\n",
        "    linewidth=1, # thicker line\n",
        "    facecolor='none', # no color for fill\n",
        "    edgecolor='#333366', # color for the state borders\n",
        "    ax = ax # plot it on top of the counties plot\n",
        ")\n"
      ],
      "execution_count": null,
      "outputs": []
    },
    {
      "cell_type": "code",
      "metadata": {
        "id": "scs91zO34O_Y"
      },
      "source": [
        "# Check https://pysal.org/mapclassify/api.html for all the difference schemes\n",
        "import mapclassify as mc\n",
        "# scheme = mc.FisherJenks(counties_choropleth['LogPopulation'], k=10)\n",
        "scheme = mc.Quantiles(counties_choropleth['LogPopulation'],k=100)"
      ],
      "execution_count": null,
      "outputs": []
    },
    {
      "cell_type": "code",
      "metadata": {
        "id": "mWIGI8ZEqs4e"
      },
      "source": [
        "# Changing the projection to Orthographic\n",
        "\n",
        "geoplot.choropleth(\n",
        "    counties_choropleth,\n",
        "    hue='LogPopulation',\n",
        "    # scheme=scheme,\n",
        "    cmap='Blues', # try Spectral_r, Spectral, or others from https://matplotlib.org/tutorials/colors/colormaps.html\n",
        "    linewidth=0.2,\n",
        "    edgecolor='black',\n",
        "    projection=gcrs.Orthographic(),\n",
        "    figsize=(10, 10)\n",
        ").gridlines() # plot gridlines\n"
      ],
      "execution_count": null,
      "outputs": []
    },
    {
      "cell_type": "code",
      "metadata": {
        "id": "K7kqTTRYqs4h"
      },
      "source": [
        "# Add state borders in the geoplot choropleth plot\n",
        "\n",
        "ax = geoplot.polyplot(\n",
        "    states_choropleth,\n",
        "    projection=gcrs.Orthographic(),\n",
        "    figsize=(10, 10),\n",
        "    linewidth = 1,\n",
        "    zorder = 2\n",
        ")\n",
        "\n",
        "geoplot.choropleth(\n",
        "    counties_choropleth,\n",
        "    hue='LogPopulation',\n",
        "    # scheme=scheme,\n",
        "    cmap='Blues', # try Spectral_r, Spectral, or others from https://matplotlib.org/tutorials/colors/colormaps.html\n",
        "    linewidth=0.2,\n",
        "    edgecolor='black',\n",
        "    projection=gcrs.Orthographic(),\n",
        "    ax=ax,\n",
        "    zorder = 0\n",
        ").gridlines() # plot gridlines\n",
        "\n"
      ],
      "execution_count": null,
      "outputs": []
    },
    {
      "cell_type": "markdown",
      "metadata": {
        "id": "xEKIq9zdqs4l"
      },
      "source": [
        "## Unemployment Data\n",
        "\n",
        "https://www.bls.gov/lau/\n",
        "    \n",
        " * Labor force data by county, not seasonally adjusted, latest 14 months https://www.bls.gov/web/metro/laucntycur14.txt\n",
        "\n",
        " * Labor force data by county, 2017 annual averages https://www.bls.gov/lau/laucnty17.txt"
      ]
    },
    {
      "cell_type": "code",
      "metadata": {
        "id": "gHyKdLvIqs4m"
      },
      "source": [
        "from io import StringIO\n",
        "\n",
        "url = \"https://www.bls.gov/web/metro/laucntycur14.txt\"\n",
        "\n",
        "# Add a user-agent, to pretend to be a browser, not a Python script\n",
        "headers = {\n",
        "    'User-Agent': 'Mozilla/5.0 (Windows NT 10.0; Win64; x64) AppleWebKit/537.36 (KHTML, like Gecko) Chrome/91.0.4472.124 Safari/537.36'\n",
        "}\n",
        "\n",
        "# get the html of that url\n",
        "response = requests.get(url, headers=headers)\n",
        "\n",
        "# Use StringIO to turn the string into a file-like object\n",
        "string_io = StringIO(response.text)\n",
        "\n",
        "udf = pd.read_csv(\n",
        "    string_io,\n",
        "    skiprows=6,  # skip the first six lines;\n",
        "    header=None,  # we will supply the headers ourselves\n",
        "    skipfooter=6,  # the last six lines are notes; skip them\n",
        "    engine='python',  # we need this to use the skipfooter option\n",
        "    delimiter=\"|\",  # use | as the column delimeter\n",
        "    # skipinitialspace=True,  # ignore the space characters after the delimeter |\n",
        "    thousands=\",\",  # specify that numbers use , for thousand separator\n",
        ")\n",
        "\n",
        "# Setup the headers\n",
        "udf.columns = [\"LAUS\", \"STATEFP\", \"COUNTYFP\", \"County_Name\", \"Period\",\n",
        "               \"Labor_Force\", \"Employed\", \"Unemployed\", \"Rate\"]\n",
        "\n",
        "# Convert STATEFP and COUNTYFP to strings and add leading zeros\n",
        "# to allow for merging later on with the geodataframes\n",
        "# Interestingly, the initial file contains the zeros, but Pandas recognizes\n",
        "# the entries as numbers and converts to integers, so we are forced to convert back\n",
        "udf.STATEFP = udf.STATEFP.apply(str).str.zfill(2)\n",
        "udf.COUNTYFP = udf.COUNTYFP.apply(str).str.zfill(3)\n",
        "\n",
        "\n",
        "# Converting \"Period\" to a proper date\n",
        "# We will need to remove spaces\n",
        "# We will also need to remove the notes (p) and (y); we need to escape the parentheses\n",
        "udf.Period = udf.Period.str.replace(' ','')\n",
        "udf.Period = udf.Period.str.replace('\\(p\\)','')\n",
        "udf.Period = udf.Period.str.replace('\\(y\\)','')\n",
        "\n",
        "udf.Period = pd.to_datetime(udf.Period, format='%b-%y')"
      ],
      "execution_count": null,
      "outputs": []
    },
    {
      "cell_type": "code",
      "metadata": {
        "id": "HQd5Lxk2qs4v"
      },
      "source": [
        "udf.head(5)"
      ],
      "execution_count": null,
      "outputs": []
    },
    {
      "cell_type": "code",
      "metadata": {
        "id": "NKgJznV6qs46"
      },
      "source": [
        "# We now want to convert the \"Period\" to datetime\n",
        "# Let's take a look at the unique values\n",
        "udf.Period.drop_duplicates()"
      ],
      "execution_count": null,
      "outputs": []
    },
    {
      "cell_type": "code",
      "metadata": {
        "id": "998ZTrINqs4_"
      },
      "source": [],
      "execution_count": null,
      "outputs": []
    },
    {
      "cell_type": "code",
      "metadata": {
        "id": "iYyRJjaIqs5C"
      },
      "source": [],
      "execution_count": null,
      "outputs": []
    },
    {
      "cell_type": "code",
      "metadata": {
        "id": "jGrQvWt1qs5Z"
      },
      "source": [
        "unemployment_average = udf.pivot_table(\n",
        "    index = ['STATEFP','COUNTYFP', 'County_Name'],\n",
        "    values = ['Rate','Labor_Force'],\n",
        "    aggfunc = 'mean'\n",
        ")\n",
        "\n",
        "unemployment_average = unemployment_average.reset_index()\n",
        "unemployment_average.head(5)"
      ],
      "execution_count": null,
      "outputs": []
    },
    {
      "cell_type": "code",
      "metadata": {
        "id": "-wlJc4v9qs5e"
      },
      "source": [
        "unemployment_average.Rate.describe()"
      ],
      "execution_count": null,
      "outputs": []
    },
    {
      "cell_type": "code",
      "metadata": {
        "id": "VqjU161Pqs5h"
      },
      "source": [
        "# County with the highest unemployment rate\n",
        "unemployment_average [ unemployment_average.Rate == unemployment_average.Rate.max() ]"
      ],
      "execution_count": null,
      "outputs": []
    },
    {
      "cell_type": "code",
      "metadata": {
        "id": "3FEGK0zGqs5k"
      },
      "source": [
        "# County with the lowest unemployment rate\n",
        "unemployment_average [ unemployment_average.Rate == unemployment_average.Rate.min() ]"
      ],
      "execution_count": null,
      "outputs": []
    },
    {
      "cell_type": "code",
      "metadata": {
        "id": "-Gli-WKyqs58"
      },
      "source": [
        "# County with the median unemployment rate\n",
        "unemployment_average [ unemployment_average.Rate == unemployment_average.Rate.median() ]"
      ],
      "execution_count": null,
      "outputs": []
    },
    {
      "cell_type": "code",
      "metadata": {
        "id": "Iho9fdUOqs6B"
      },
      "source": [
        "unemployment_average.Rate.hist(bins=100,range=(0,20))"
      ],
      "execution_count": null,
      "outputs": []
    },
    {
      "cell_type": "code",
      "metadata": {
        "id": "Od4pJeuOqs6G"
      },
      "source": [
        "unemployment_average.Rate.plot.kde(xlim=(0,20))"
      ],
      "execution_count": null,
      "outputs": []
    },
    {
      "cell_type": "code",
      "metadata": {
        "id": "lDsIvQJBqs6I"
      },
      "source": [
        "ax = unemployment_average.Rate.hist(bins=100,range=(0,20), density=True, alpha=0.5)\n",
        "ax = unemployment_average.Rate.plot.kde(xlim=(0,20), ax=ax, linewidth=3)\n",
        "ax.set_xlabel(\"Unemployment Rate (%)\")\n",
        "pass"
      ],
      "execution_count": null,
      "outputs": []
    },
    {
      "cell_type": "code",
      "metadata": {
        "id": "vN3UB_XPqs6L"
      },
      "source": [
        "# Merge the GeoDataFrame df_counties with the unemployment data\n",
        "# Note that this will drop the rates for counties in Alaska and Hawaii\n",
        "# as this is an inner join, and we have dropped from df_counties Alaska and Hawaii\n",
        "unemployment_choropleth = pd.merge(df_counties, unemployment_average, on=['STATEFP', 'COUNTYFP'])"
      ],
      "execution_count": null,
      "outputs": []
    },
    {
      "cell_type": "code",
      "metadata": {
        "id": "i9ZhaSJZ05QP"
      },
      "source": [
        "# Rank the unemployment rates\n",
        "unemployment_choropleth['rate_percentile'] = unemployment_choropleth['Rate'].rank(pct=True)"
      ],
      "execution_count": null,
      "outputs": []
    },
    {
      "cell_type": "code",
      "metadata": {
        "id": "hVvcxo9lqs6N"
      },
      "source": [
        "unemployment_choropleth.head(5)"
      ],
      "execution_count": null,
      "outputs": []
    },
    {
      "cell_type": "code",
      "metadata": {
        "id": "GRM32p7Eqs6Q"
      },
      "source": [
        "# Compare with https://www.bls.gov/web/metro/twmcort.pdf\n",
        "\n",
        "ax = geoplot.polyplot(\n",
        "    df_states,\n",
        "    projection=gcrs.Orthographic(),\n",
        "    figsize=(20, 20),\n",
        "    linewidth = 1,\n",
        "    zorder = 2\n",
        ")\n",
        "\n",
        "scheme = mc.Quantiles(unemployment_choropleth['Rate'],k=100)\n",
        "\n",
        "geoplot.choropleth(\n",
        "    unemployment_choropleth,\n",
        "    hue='Rate',\n",
        "    scheme=scheme,\n",
        "    cmap='coolwarm', # try RdYlBu_r, RdBu_r, Spectral_r, Spectral, or others from https://matplotlib.org/tutorials/colors/colormaps.html\n",
        "    linewidth=0.2,\n",
        "    edgecolor='black',\n",
        "    projection=gcrs.Orthographic(),\n",
        "    ax=ax,\n",
        "    alpha=0.8,\n",
        "    zorder = 0\n",
        ").gridlines() # plot gridlines\n"
      ],
      "execution_count": null,
      "outputs": []
    },
    {
      "cell_type": "markdown",
      "metadata": {
        "id": "2ZIxGJj2qs6R"
      },
      "source": [
        "### Extra: Saving quantiles as a separate column"
      ]
    },
    {
      "cell_type": "code",
      "metadata": {
        "id": "infT_-ziqs6S"
      },
      "source": [
        "num_quantiles = 10"
      ],
      "execution_count": null,
      "outputs": []
    },
    {
      "cell_type": "code",
      "metadata": {
        "id": "TeMbnQTPqs6U"
      },
      "source": [
        "quantiles = pd.qcut(unemployment_choropleth.Rate, num_quantiles)"
      ],
      "execution_count": null,
      "outputs": []
    },
    {
      "cell_type": "code",
      "metadata": {
        "id": "JZQaErFQqs6X"
      },
      "source": [
        "# Let's see the ranges for the quantiles\n",
        "quantiles.drop_duplicates().sort_values()"
      ],
      "execution_count": null,
      "outputs": []
    },
    {
      "cell_type": "code",
      "metadata": {
        "id": "UMk264pHqs6Z"
      },
      "source": [
        "# We use the labels=Fase to get a number (0,1,2,3...) instead of the range labels\n",
        "unemployment_choropleth[\"qRate\"] = pd.qcut(unemployment_choropleth.Rate, num_quantiles, labels=False)\n",
        "unemployment_choropleth[\"Rate_range\"] = pd.qcut(unemployment_choropleth.Rate, num_quantiles)"
      ],
      "execution_count": null,
      "outputs": []
    },
    {
      "cell_type": "code",
      "metadata": {
        "id": "BXMFQvciqs6b"
      },
      "source": [
        "unemployment_choropleth.head(5)"
      ],
      "execution_count": null,
      "outputs": []
    },
    {
      "cell_type": "markdown",
      "metadata": {
        "id": "JZ0MNXYaqs6d"
      },
      "source": [
        "### Mitigating map visualization bias: Area vs Population"
      ]
    },
    {
      "cell_type": "markdown",
      "metadata": {
        "id": "Z9uNq47Yqs6d"
      },
      "source": [
        "In the example above, where we visualize unemployment rates per county, we introduce a bias: Areas with large area get more prominently displayed. We can try to mitigate this bias, by using cartograms, which scale each area based on a factor that we desire.\n",
        "\n",
        "* **County weight proportional to county area**: Scaling factor `constant` (the default).\n",
        "* **County weight equal across all counties**: Scaling factor proportional to `1/area`\n",
        "* **County weight proportional to county population**: Scaling factor proportional to `population/area`\n",
        "\n",
        "So, for example, if we want each country to have an area proportional to its **population** instead of its **area**, we may want to use Density (population divided by area)"
      ]
    },
    {
      "cell_type": "code",
      "metadata": {
        "id": "ibJpx9Siqs6e"
      },
      "source": [
        "# Density = Population / Area\n",
        "unemployment_choropleth[\"Density\"] = unemployment_choropleth.Labor_Force / unemployment_choropleth.ALAND"
      ],
      "execution_count": null,
      "outputs": []
    },
    {
      "cell_type": "code",
      "metadata": {
        "id": "HJsROUFqqs6h"
      },
      "source": [
        "# Normalize density to have a minimum value of 1...\n",
        "# Alternatively, we can do it to have a max value of 1 by dividing with max\n",
        "unemployment_choropleth[\"Density\"] = unemployment_choropleth.Density / unemployment_choropleth.Density.min()"
      ],
      "execution_count": null,
      "outputs": []
    },
    {
      "cell_type": "code",
      "metadata": {
        "id": "OSMaiwXmqs6i"
      },
      "source": [
        "# Take the log, as densities are roughly log-normally distributed (as is population)\n",
        "# We also normalize it by dividing with the max value (to make it 0...1 )\n",
        "# Finally we add a multiplicative factor of mult_factor\n",
        "mult_factor = 1.5\n",
        "unemployment_choropleth[\"LogDensity\"] = mult_factor * np.log10(unemployment_choropleth.Density)/np.log10(unemployment_choropleth.Density.max())"
      ],
      "execution_count": null,
      "outputs": []
    },
    {
      "cell_type": "code",
      "metadata": {
        "id": "zcvW5AvCqs6k"
      },
      "source": [
        "# Statistics on LogDensity values\n",
        "unemployment_choropleth.LogDensity.describe()"
      ],
      "execution_count": null,
      "outputs": []
    },
    {
      "cell_type": "code",
      "metadata": {
        "id": "9HbqdpHBqs6n"
      },
      "source": [
        "ax = unemployment_choropleth.LogDensity.hist(bins=50,range=(0,mult_factor), density=True, alpha=0.5)\n",
        "ax = unemployment_choropleth.LogDensity.plot.kde(xlim=(0,mult_factor), ax=ax, linewidth=3)\n",
        "ax.set_xlabel(\"County Population Density (log-scale, normalized)\")"
      ],
      "execution_count": null,
      "outputs": []
    },
    {
      "cell_type": "code",
      "metadata": {
        "id": "q1pf2ktAqs6q"
      },
      "source": [
        "unemployment_choropleth[ unemployment_choropleth.Density == unemployment_choropleth.Density.max()]"
      ],
      "execution_count": null,
      "outputs": []
    },
    {
      "cell_type": "code",
      "metadata": {
        "id": "IPvPrFPtqs6r"
      },
      "source": [
        "density_min = unemployment_choropleth.LogDensity.min()\n",
        "density_max = unemployment_choropleth.LogDensity.max()"
      ],
      "execution_count": null,
      "outputs": []
    },
    {
      "cell_type": "code",
      "metadata": {
        "id": "_cH_7-G2qs6t"
      },
      "source": [
        "density_min"
      ],
      "execution_count": null,
      "outputs": []
    },
    {
      "cell_type": "code",
      "metadata": {
        "id": "h7RITF0rqs6v"
      },
      "source": [
        "density_max"
      ],
      "execution_count": null,
      "outputs": []
    },
    {
      "cell_type": "code",
      "metadata": {
        "id": "jJrWhnGAqs6w"
      },
      "source": [
        "geoplot.cartogram(\n",
        "    unemployment_choropleth,\n",
        "    scale='LogDensity',\n",
        "    limits=(density_min,density_max),\n",
        "    projection=gcrs.Orthographic(),\n",
        "    scheme=mc.Quantiles(unemployment_choropleth['Rate'],k=100),\n",
        "    hue='Rate',\n",
        "    cmap='RdYlBu_r',\n",
        "    linewidth=0.2,\n",
        "    edgecolor='black',\n",
        "    alpha=0.8,\n",
        "    figsize=(25, 25))"
      ],
      "execution_count": null,
      "outputs": []
    },
    {
      "cell_type": "code",
      "metadata": {
        "id": "IKk_YJR0qs6y"
      },
      "source": [
        "# Instead of doing manipulations of the density column on the dataframe,\n",
        "# we can instead write a scaling function\n",
        "def log_scale(minval, maxval):\n",
        "    def scalar(val):\n",
        "        max_scaling = mult_factor\n",
        "        min_scaling = 0.0\n",
        "        normed_log = np.log10(val) - np.log10(minval)\n",
        "        max_log = np.log10(maxval) - np.log10(minval)\n",
        "        factor = (max_scaling-min_scaling) * normed_log/max_log + min_scaling\n",
        "        return factor\n",
        "    return scalar\n",
        "\n",
        "ax = geoplot.polyplot(\n",
        "    df_states,\n",
        "    projection=gcrs.Orthographic(),\n",
        "    edgecolor='black',\n",
        "    facecolor='none',\n",
        "    linewidth = 1,\n",
        "    figsize=(25, 25)\n",
        ")\n",
        "\n",
        "geoplot.cartogram(\n",
        "    unemployment_choropleth,\n",
        "    scale='Density',\n",
        "    scale_func=log_scale,\n",
        "    projection=gcrs.Orthographic(),\n",
        "    scheme='quantiles',\n",
        "    hue='Rate',\n",
        "    cmap='RdYlBu_r',\n",
        "    linewidth=0.2,\n",
        "    edgecolor='black',\n",
        "    alpha=0.8,\n",
        "    ax = ax)"
      ],
      "execution_count": null,
      "outputs": []
    }
  ]
}