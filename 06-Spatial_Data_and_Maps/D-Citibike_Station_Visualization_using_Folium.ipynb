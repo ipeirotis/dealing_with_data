{
  "cells": [
    {
      "cell_type": "markdown",
      "metadata": {
        "id": "view-in-github",
        "colab_type": "text"
      },
      "source": [
        "<a href=\"https://colab.research.google.com/github/ipeirotis/dealing_with_data/blob/master/06-Spatial_Data_and_Maps/D-Citibike_Station_Visualization_using_Folium.ipynb\" target=\"_parent\"><img src=\"https://colab.research.google.com/assets/colab-badge.svg\" alt=\"Open In Colab\"/></a>"
      ]
    },
    {
      "cell_type": "markdown",
      "metadata": {
        "id": "F084kTiHM6oK"
      },
      "source": [
        "# Visualization of Citibike Stations using Folium\n"
      ]
    },
    {
      "cell_type": "markdown",
      "metadata": {
        "id": "8oaFHIHRM6oN"
      },
      "source": [
        "Another perfect tool for vizualisation data processed in Python is `folium`. It builds on the data wrangling strengths of the Python ecosystem and the mapping strengths of the Leaflet.js library. It manipulate your data in Python, then visualize it in on a Leaflet map."
      ]
    },
    {
      "cell_type": "code",
      "execution_count": null,
      "metadata": {
        "id": "U8xAUtLnM6oO"
      },
      "outputs": [],
      "source": [
        "# @title Setup\n",
        "\n",
        "!pip install -U -q geopandas tdqm folium mapclassify folium\n",
        "\n",
        "import geopandas as gpd\n",
        "import pandas as pd\n",
        "import numpy as np\n",
        "import matplotlib.pyplot as plt\n",
        "import folium\n",
        "import requests\n",
        "\n",
        "\n",
        "%config InlineBackend.figure_format = 'retina'\n",
        "\n",
        "# Change the graph defaults\n",
        "plt.rcParams['figure.figsize'] = (8, 3)  # Default figure size of 6x2 inches\n",
        "plt.rcParams['axes.grid'] = True\n",
        "plt.rcParams['grid.color'] = 'lightgray'\n",
        "plt.rcParams['font.size'] = 10  # Default font size of 12 points\n",
        "plt.rcParams['lines.linewidth'] = 1  # Default line width of 1 points\n",
        "plt.rcParams['lines.markersize'] = 3  # Default marker size of 3 points\n",
        "plt.rcParams['legend.fontsize'] = 10  # Default legend font size of 10 poin"
      ]
    },
    {
      "cell_type": "markdown",
      "metadata": {
        "id": "x2Gk_8lCM6oP"
      },
      "source": [
        "## Citibike API\n",
        "\n",
        "Let's get the data from the Citibike API."
      ]
    },
    {
      "cell_type": "code",
      "execution_count": null,
      "metadata": {
        "id": "K0V6YifPM6oP"
      },
      "outputs": [],
      "source": [
        "# Fetch the station info\n",
        "url1 = 'https://gbfs.lyft.com/gbfs/2.3/bkn/en/station_information.json'\n",
        "results1 = requests.get(url1).json()\n",
        "data1 = results1[\"data\"][\"stations\"]\n",
        "citibike1 = pd.DataFrame(data1)\n",
        "\n",
        "# And fetch the number of bikes currently in each station\n",
        "url2 = \"https://gbfs.lyft.com/gbfs/2.3/bkn/en/station_status.json\"\n",
        "results2 = requests.get(url2).json()\n",
        "data2 = results2[\"data\"][\"stations\"]\n",
        "\n",
        "citibike2 = pd.DataFrame(data2)\n",
        "\n",
        "citibike = pd.merge(citibike1, citibike2, on='station_id')\n",
        "\n",
        "# Keep only variables of interest\n",
        "citibike = citibike.filter( ['station_id',  'name',  'lon', 'lat',\n",
        "       'capacity', 'is_installed', 'is_renting', 'is_returning',\n",
        "       'num_bikes_available',\n",
        "       'num_docks_available',\n",
        "       'num_ebikes_available',\n",
        "        'num_bikes_disabled',\n",
        "       'num_docks_disabled', 'num_scooters_available',\n",
        "       'num_scooters_unavailable'] )"
      ]
    },
    {
      "cell_type": "code",
      "source": [
        "citibike"
      ],
      "metadata": {
        "id": "SDtZB9C8kdCm"
      },
      "execution_count": null,
      "outputs": []
    },
    {
      "cell_type": "markdown",
      "metadata": {
        "id": "fdv2O796M6oQ"
      },
      "source": [
        "## Selecting tiles\n",
        "\n",
        "The first step is to create a map. At the very basic level, we select the location, zoom level, and potentially the tiles (i.e., the style of the map) for the background. The default is 'OpenStreetMap', but often for visualizations we prefer other, more visually neutral styles. (See http://folium.readthedocs.io/en/latest/quickstart.html for more tile optionS)"
      ]
    },
    {
      "cell_type": "code",
      "execution_count": null,
      "metadata": {
        "id": "G0PGOMbIM6oQ"
      },
      "outputs": [],
      "source": [
        "fmap = folium.Map(location=[40.85, -73.8], zoom_start=12, tiles='OpenStreetMap')\n",
        "fmap"
      ]
    },
    {
      "cell_type": "code",
      "execution_count": null,
      "metadata": {
        "id": "J0L27P5yM6oQ"
      },
      "outputs": [],
      "source": [
        "fmap = folium.Map(location=[40.85, -73.8], zoom_start=12, tiles='cartodbpositron')\n",
        "fmap"
      ]
    },
    {
      "cell_type": "markdown",
      "metadata": {
        "id": "hArgni63M6oQ"
      },
      "source": [
        "## Adding Markers\n",
        "\n",
        "For every station, we are going to add a marker in the map:\n",
        "* Using the longitude and latitude for the location\n",
        "* Modify the color of the marker to reflect the status of the station\n",
        "* Modify the opacity to be the percentage of bikes in the station.\n",
        "* Modify the size of the circle to corresponds to the size of the station."
      ]
    },
    {
      "cell_type": "code",
      "execution_count": null,
      "metadata": {
        "id": "2684X-CdM6oR"
      },
      "outputs": [],
      "source": [
        "fmap = folium.Map(location=[citibike.lat.mean(), citibike.lon.mean()], zoom_start=12,  tiles='cartodbpositron')\n",
        "\n",
        "for name, row in citibike.iterrows():\n",
        "\n",
        "    # Define the opacity of the marker to be proportional to the percentage of bikes in the station\n",
        "    opacity = row[\"num_bikes_available\"]/row[\"capacity\"] if row[\"capacity\"] > 0 else 1.0\n",
        "    # Make the color green for the working stations, red otherwise\n",
        "    color = \"green\" if row[\"is_installed\"] == 1 else \"red\"\n",
        "    # The size of the marker is proportional to the number of docks\n",
        "    size = row[\"capacity\"]/10 if row[\"is_installed\"] == 1 else 3\n",
        "\n",
        "    # We create a marker on the map and we add it to the map\n",
        "    folium.CircleMarker(location=[row[\"lat\"], row[\"lon\"]],\n",
        "                        radius = size,\n",
        "                        color='black', weight=0.5,\n",
        "                        fill=True,\n",
        "                        fill_opacity = opacity,\n",
        "                        fill_color = color,\n",
        "                       ).add_to(fmap)\n",
        "\n",
        "fmap"
      ]
    },
    {
      "cell_type": "code",
      "execution_count": null,
      "metadata": {
        "id": "bGC_D2G5M6oR"
      },
      "outputs": [],
      "source": []
    },
    {
      "cell_type": "markdown",
      "metadata": {
        "id": "BfE3QKwhM6oR"
      },
      "source": [
        "## Adding popups to the markers\n",
        "\n",
        "For each marker, we can also have a popup with text, html, or even other charts/visualizations. Here is an example of adding an HTML popup to each marker."
      ]
    },
    {
      "cell_type": "code",
      "execution_count": null,
      "metadata": {
        "id": "AAiO0_MEM6oR"
      },
      "outputs": [],
      "source": [
        "fmap = folium.Map(location=[citibike.lat.mean(), citibike.lon.mean()], zoom_start=12,  tiles='cartodbpositron')\n",
        "\n",
        "for name, row in citibike.iterrows():\n",
        "\n",
        "    # Define the opacity of the marker to be proportional to the percentage of bikes in the station\n",
        "    opacity = row[\"num_bikes_available\"]/row[\"capacity\"] if row[\"capacity\"] > 0 else 1.0\n",
        "    # Make the color green for the working stations, red otherwise\n",
        "    color = \"green\" if row[\"is_installed\"] == 1 else \"red\"\n",
        "    # The size of the marker is proportional to the number of docks\n",
        "    size = row[\"capacity\"]/10 if row[\"is_installed\"] == 1 else 3\n",
        "\n",
        "    # The code below defines a pop-up for each station with details such as\n",
        "    # the address, number of bikes, capacity, etc.\n",
        "    html = f\"\"\"\n",
        "            <p style='font-family:sans-serif;font-size:11px'>\n",
        "            <strong>Address:</strong> {row[\"name\"]} <br>\n",
        "            <strong>Available Bikes:</strong>  {row[\"num_bikes_available\"]}<br>\n",
        "            <strong>Total Docks: </strong> {row[\"capacity\"]}\n",
        "            \"\"\"\n",
        "    iframe = folium.IFrame(html=html, width=200, height=60)\n",
        "    popup = folium.Popup(iframe, max_width=200)\n",
        "\n",
        "    # We create a marker on the map and we add it to the map\n",
        "    folium.CircleMarker(location=[row[\"lat\"], row[\"lon\"]],\n",
        "                        radius = size,\n",
        "                        popup = popup,\n",
        "                        color='black', weight=0.5,\n",
        "                        fill=True,\n",
        "                        fill_opacity = opacity,\n",
        "                        fill_color = color,\n",
        "                       ).add_to(fmap)\n",
        "\n",
        "fmap"
      ]
    },
    {
      "cell_type": "markdown",
      "source": [
        "## (Optional) Saving the Folium map in a static file"
      ],
      "metadata": {
        "id": "Zkf2OHBktruC"
      }
    },
    {
      "cell_type": "markdown",
      "source": [],
      "metadata": {
        "id": "qgQ4tg2BvtJv"
      }
    },
    {
      "cell_type": "code",
      "source": [
        "# @title Save the map as an HTML file\n",
        "filepath = 'citibike.html'\n",
        "fmap.save(filepath)"
      ],
      "metadata": {
        "id": "3fVCLbDeunI_"
      },
      "execution_count": null,
      "outputs": []
    },
    {
      "cell_type": "code",
      "source": [
        "# @title Save the map as an PNG file\n",
        "\n",
        "!apt-get update > /dev/null # to update ubuntu to correctly run apt install\n",
        "!apt install chromium-chromedriver > /dev/null\n",
        "!pip install -U -q selenium\n",
        "\n",
        "import os\n",
        "from selenium import webdriver\n",
        "import time\n",
        "\n",
        "# Save the map as an HTML file\n",
        "filepath = 'citibike.html'\n",
        "fmap.save(filepath)\n",
        "\n",
        "# Set up the Selenium webdriver\n",
        "chrome_options = webdriver.ChromeOptions()\n",
        "chrome_options.add_argument('--headless')\n",
        "chrome_options.add_argument('--no-sandbox')\n",
        "chrome_options.add_argument('--disable-dev-shm-usage')\n",
        "wd = webdriver.Chrome(options=chrome_options)\n",
        "\n",
        "# Load the saved map with Selenium\n",
        "file_url='file://{path}/{mapfile}'.format(path=os.getcwd(),mapfile=filepath)\n",
        "wd.get(file_url)\n",
        "time.sleep(5)  # Wait a few seconds for the map to fully load\n",
        "\n",
        "# Take a screenshot of the map\n",
        "wd.save_screenshot('citibike.png')\n",
        "\n",
        "# Close the Selenium webdriver\n",
        "wd.quit()\n"
      ],
      "metadata": {
        "id": "zgAqzdD6QpeL"
      },
      "execution_count": null,
      "outputs": []
    }
  ],
  "metadata": {
    "kernelspec": {
      "display_name": "Python 3",
      "language": "python",
      "name": "python3"
    },
    "language_info": {
      "codemirror_mode": {
        "name": "ipython",
        "version": 3
      },
      "file_extension": ".py",
      "mimetype": "text/x-python",
      "name": "python",
      "nbconvert_exporter": "python",
      "pygments_lexer": "ipython3",
      "version": "3.8.2"
    },
    "colab": {
      "provenance": [],
      "include_colab_link": true
    }
  },
  "nbformat": 4,
  "nbformat_minor": 0
}