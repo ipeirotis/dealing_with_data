{
  "nbformat": 4,
  "nbformat_minor": 0,
  "metadata": {
    "colab": {
      "name": "Plotting Census Tracts",
      "provenance": [],
      "authorship_tag": "ABX9TyOsZ26zSpnmgohnkcDVpZer",
      "include_colab_link": true
    },
    "kernelspec": {
      "name": "python3",
      "display_name": "Python 3"
    },
    "language_info": {
      "name": "python"
    }
  },
  "cells": [
    {
      "cell_type": "markdown",
      "metadata": {
        "id": "view-in-github",
        "colab_type": "text"
      },
      "source": [
        "<a href=\"https://colab.research.google.com/github/ipeirotis/dealing_with_data/blob/master/06-Spatial_Data_and_Maps/A-Intro_to_Spatial_Data_US_census_tracts.ipynb\" target=\"_parent\"><img src=\"https://colab.research.google.com/assets/colab-badge.svg\" alt=\"Open In Colab\"/></a>"
      ]
    },
    {
      "cell_type": "markdown",
      "source": [
        "# Intro to Spatial Data: US census tracts and zipcodes"
      ],
      "metadata": {
        "id": "KwapHIeWdYzT"
      }
    },
    {
      "cell_type": "code",
      "metadata": {
        "id": "Mp0BA1HkxsBi"
      },
      "source": [
        "# @title Setup\n",
        "\n",
        "!pip install -U -q geopandas tdqm folium mapclassify folium\n",
        "\n",
        "import geopandas as gpd\n",
        "import pandas as pd\n",
        "import numpy as np\n",
        "import matplotlib.pyplot as plt\n",
        "\n",
        "%config InlineBackend.figure_format = 'retina'\n",
        "\n",
        "# Change the graph defaults\n",
        "plt.rcParams['figure.figsize'] = (8, 3)  # Default figure size of 6x2 inches\n",
        "plt.rcParams['axes.grid'] = True\n",
        "plt.rcParams['grid.color'] = 'lightgray'\n",
        "plt.rcParams['font.size'] = 10  # Default font size of 12 points\n",
        "plt.rcParams['lines.linewidth'] = 1  # Default line width of 1 points\n",
        "plt.rcParams['lines.markersize'] = 3  # Default marker size of 3 points\n",
        "plt.rcParams['legend.fontsize'] = 10  # Default legend font size of 10 poin"
      ],
      "execution_count": null,
      "outputs": []
    },
    {
      "cell_type": "markdown",
      "source": [
        "## Types of Geographical Data and _Shapefiles_\n",
        "\n",
        "When we deal with spatial data, we mainly deal with three general types of data:\n",
        "\n",
        "* Points (e.g., lon/lat coordinates for a location)\n",
        "* Lines (e.g., subway line)\n",
        "* Polygons (e.g., borders of a country, state, zipcode etc)\n",
        "\n",
        "From an analytics point of view, we are espeially interested in segmenting our data based on geography, and if possible also add additional information about the geographical area (e.g., population, average income etc).\n",
        "\n",
        "There is a wide variety of geographical data available online. A big supplier of high-quality geographical data for the US is the US Census. They provide a complex geographical hierarchy, but at the basic level it is:\n",
        "\n",
        "```\n",
        "states > counties > tracts > blockgroups > blocks\n",
        "```\n",
        "\n",
        "The US Census tracts are roughly the size of zipcodes (in fact, a bit smaller, there are around 70K tracts and around 35K zipcodes in the US), and are a very common unit of statistical analysis. In fact, due to the carefulness in which US Census creates the tracts, to be as homogeneous as possible, it is a better geographical division that zipcodes."
      ],
      "metadata": {
        "id": "Cl3sUAXydv2V"
      }
    },
    {
      "cell_type": "markdown",
      "source": [
        "## Examples of Geospatial Data offered by US Census\n",
        "\n",
        "At data.gov you can find a [wide variety of geospatial data](https://catalog.data.gov/dataset/?metadata_type=geospatial). You may want to browse through some of the datasets.\n",
        "\n"
      ],
      "metadata": {
        "id": "fpV4scuQeT50"
      }
    },
    {
      "cell_type": "markdown",
      "source": [
        "## FIPS, States, and Counties"
      ],
      "metadata": {
        "id": "N6bwkfN2dkm4"
      }
    },
    {
      "cell_type": "markdown",
      "source": [
        "A good source of shapefiles for the US is the `TIGER` shapefiles offered by the US Census. For example, we can [get the shapes of all the US Counties](https://catalog.data.gov/dataset/tiger-line-shapefile-2019-nation-u-s-current-county-and-equivalent-national-shapefile).\n",
        "\n"
      ],
      "metadata": {
        "id": "KAdt6Ci4d3Xh"
      }
    },
    {
      "cell_type": "code",
      "source": [
        "counties_url = 'https://www2.census.gov/geo/tiger/TIGER2019/COUNTY/tl_2019_us_county.zip'\n",
        "counties_df = gpd.GeoDataFrame.from_file(counties_url)"
      ],
      "metadata": {
        "id": "toSLXQ7udshZ"
      },
      "execution_count": null,
      "outputs": []
    },
    {
      "cell_type": "code",
      "source": [
        "counties_df = counties_df.filter ( ['GEOID', 'STATEFP', 'COUNTYFP', 'NAMELSAD', 'geometry'])"
      ],
      "metadata": {
        "id": "iJmMbTzEwnJ-"
      },
      "execution_count": null,
      "outputs": []
    },
    {
      "cell_type": "code",
      "source": [
        "# GEOID is the primary key for the county.\n",
        "# It is a combination of the STATEFP + COUNTYFP\n",
        "# The STATEFP and COUNTYFP are standardized at the federal level\n",
        "# and can be used widely to refer to states and counties (and more\n",
        "# fine grained entries)\n",
        "counties_df"
      ],
      "metadata": {
        "id": "0_EdJmQzfq1o"
      },
      "execution_count": null,
      "outputs": []
    },
    {
      "cell_type": "code",
      "source": [
        "# Dropping non-continental states\n",
        "counties_df = counties_df.query( \"STATEFP!='02'\" )  # Alaska\n",
        "counties_df = counties_df.query( \"STATEFP!='15'\" ) # Hawaii\n",
        "counties_df = counties_df.query( \"STATEFP!='72'\" ) # Puerto Rico\n",
        "counties_df = counties_df.query( \"STATEFP!='66'\" ) # Guam\n",
        "counties_df = counties_df.query( \"STATEFP!='69'\" ) # Commonwealth of the Northern Mariana Islands\n",
        "counties_df = counties_df.query( \"STATEFP!='60'\" ) # American Samoa\n",
        "counties_df = counties_df.query( \"STATEFP!='78'\" ) # United States Virgin Islands"
      ],
      "metadata": {
        "id": "VRud2rrDgecW"
      },
      "execution_count": null,
      "outputs": []
    },
    {
      "cell_type": "code",
      "source": [
        "# Let's visualize with a static plot\n",
        "\n",
        "counties_df.plot(\n",
        "    color = 'white',\n",
        "    edgecolor = 'black',\n",
        "    linewidth=0.1,\n",
        "    zorder=0,\n",
        "    facecolor = 'white',\n",
        ")"
      ],
      "metadata": {
        "id": "6S05esnng3--"
      },
      "execution_count": null,
      "outputs": []
    },
    {
      "cell_type": "code",
      "source": [
        "# Now let's visualize with an interactive plot\n",
        "# We limit ourselves to three states, otherwise it takes too long to load\n",
        "(\n",
        "    counties_df\n",
        "    .query(\"STATEFP == '36' or STATEFP == '42' or STATEFP == '34' \")\n",
        "    .explore(\n",
        "        \"NAMELSAD\", # We use the \"NAMELSAD\" to color the counties\n",
        "        cmap='tab20', # We use a non-ordered color map, for categorical data\n",
        "        legend=False,\n",
        "        style_kwds=dict(color=\"black\", linewidth=0.3)\n",
        "    )\n",
        ")"
      ],
      "metadata": {
        "id": "V6vNv11gEc4S"
      },
      "execution_count": null,
      "outputs": []
    },
    {
      "cell_type": "markdown",
      "source": [
        "### Example: Plotting Walkability Scores\n",
        "\n",
        "Let's now use an example dataset from the EPA, the \"walkability index\". The Walkability Index dataset characterizes every Census 2019 **block group** in the US based on its relative walkability.\n",
        "\n",
        "The example below will illustrate a general pattern for creating _choropleths_, a specific type of map visualization, where we color each area of interest with a color, to visualize a quantity of interest; in this case, we will visualize the walkability scores."
      ],
      "metadata": {
        "id": "dn03_YTvh7dY"
      }
    },
    {
      "cell_type": "code",
      "source": [
        "# First, we fetch the walkability dataset from EPA\n",
        "walk = pd.read_csv('https://edg.epa.gov/EPADataCommons/public/OA/EPA_SmartLocationDatabase_V3_Jan_2021_Final.csv')\n",
        "\n",
        "# A bit of bookkeeping: Making sure that the STATEFP/COUNTYFP retain their leading zeros\n",
        "# and are not converted to integers.\n",
        "walk.STATEFP = walk.STATEFP.astype(str).str.zfill(2)\n",
        "walk.COUNTYFP = walk.COUNTYFP.astype(str).str.zfill(3)\n",
        "walk.TRACTCE = walk.TRACTCE.astype(str).str.zfill(6)\n",
        "walk.BLKGRPCE = walk.BLKGRPCE.astype(str)\n",
        "\n",
        "# We make it easier to select counties based on a single column FIPS code instead of\n",
        "# having separately STATEFP and COUNTYFP\n",
        "walk['COUNTY_GEOID'] = walk.STATEFP.astype(str)  + walk.COUNTYFP.astype(str)\n",
        "\n",
        "# Keep only a few of the columns in the dataset, we do not need the rest for this exercise\n",
        "walk = walk.filter ( ['COUNTY_GEOID', 'STATEFP', 'COUNTYFP', 'TRACTCE', 'BLKGRPCE', 'NatWalkInd'])"
      ],
      "metadata": {
        "id": "0adNhpwhhA8N"
      },
      "execution_count": null,
      "outputs": []
    },
    {
      "cell_type": "code",
      "source": [
        "# Let's visualize the walkability score distribution across all 220K blockgroups\n",
        "walk.NatWalkInd.hist(bins=115)"
      ],
      "metadata": {
        "id": "c7YU6JUvhSQ2"
      },
      "execution_count": null,
      "outputs": []
    },
    {
      "cell_type": "markdown",
      "source": [
        "### Aggregate walkability scores on the county level\n",
        "\n",
        "We have the data on a blockgroup level, but we want to calculate the score for counties. So we aggregate the scores across all blockgroups in a county."
      ],
      "metadata": {
        "id": "7QcKdlRv1M7X"
      }
    },
    {
      "cell_type": "code",
      "source": [
        "# Now, let's calculate the average walkability score for each county.\n",
        "# We will average across all blockgroups in that county.\n",
        "\n",
        "county_walk_scores_mean = walk.pivot_table(\n",
        "    index = 'COUNTY_GEOID',\n",
        "    values = 'NatWalkInd',\n",
        "    aggfunc = 'mean' #\n",
        ")\n",
        "\n",
        "county_walk_scores_mean"
      ],
      "metadata": {
        "id": "I0yEedb4hhIs"
      },
      "execution_count": null,
      "outputs": []
    },
    {
      "cell_type": "code",
      "source": [
        "# @title (Optional) Alternative aggregation functions: Max & Mean of top-10%\n",
        "\n",
        "\n",
        "county_walk_scores_max = walk.pivot_table(\n",
        "    index = 'COUNTY_GEOID',\n",
        "    values = 'NatWalkInd',\n",
        "    aggfunc = 'max' # If we want to score each county based on its best score\n",
        ")\n",
        "\n",
        "# Calculates the mean across the top-10%\n",
        "def top_10_percent_avg(series):\n",
        "    threshold = np.ceil(len(series) * 0.1)  # Compute the number of entries for top 10%\n",
        "    top_10_percent = series.nlargest(int(threshold))  # Get the top 10% values\n",
        "    return top_10_percent.mean()  # Return their mean\n",
        "\n",
        "county_walk_scores_mean10perc = walk.pivot_table(\n",
        "    index = 'COUNTY_GEOID',\n",
        "    values = 'NatWalkInd',\n",
        "    aggfunc = top_10_percent_avg # Finds the top-10% of the blockgroups and calculates their average score\n",
        ")"
      ],
      "metadata": {
        "cellView": "form",
        "id": "BPY8F1uXpD4_"
      },
      "execution_count": null,
      "outputs": []
    },
    {
      "cell_type": "markdown",
      "source": [
        "### Putting data together"
      ],
      "metadata": {
        "id": "FfdIjr_Z1dOi"
      }
    },
    {
      "cell_type": "code",
      "source": [
        "# We now join the \"geodataframe\" counties_df, which contains the the shapes/geometries\n",
        "# with the \"walkability scores\" and we keep at the end only the attributes that we need\n",
        "gdf_scores = pd.merge(\n",
        "    left = counties_df, # The geodataframe with the county shapes\n",
        "    right = county_walk_scores_mean, # The walkability scores per county\n",
        "    left_on=\"GEOID\", # The id for the county in the geodataframe is GEOID\n",
        "    right_index=True # The county code in the pivot table is in the index\n",
        ").filter( ['GEOID', 'STATEFP', 'NAMELSAD',  'NatWalkInd', 'geometry']) # Keep only\n",
        "\n",
        "gdf_scores"
      ],
      "metadata": {
        "id": "dAXadjIliwq2"
      },
      "execution_count": null,
      "outputs": []
    },
    {
      "cell_type": "code",
      "source": [
        "# Let's see the most walkable counties (on average)\n",
        "gdf_scores.sort_values('NatWalkInd', ascending=False).head(10)"
      ],
      "metadata": {
        "id": "Sa4iJWPEpu5w"
      },
      "execution_count": null,
      "outputs": []
    },
    {
      "cell_type": "code",
      "source": [
        "gdf_scores.plot(\n",
        "    column = 'NatWalkInd', # Defines what column we will use for the visualization\n",
        "    legend = True,\n",
        "    cmap = 'RdYlGn', # This defines the color scheme\n",
        "    edgecolor = 'black',\n",
        "    linewidth=0.1,\n",
        ")"
      ],
      "metadata": {
        "id": "gFCNTtK7jWdN"
      },
      "execution_count": null,
      "outputs": []
    },
    {
      "cell_type": "code",
      "source": [
        "# When we use color scales to visualize a quantity, we often do not use the\n",
        "# color space effectively, when the distribution of values is skewed.\n",
        "# So, in many cases we covert the quantity into \"percentiles\" (or ranks)\n",
        "# that are guaranteed to be uniformly distributed and allow all colors\n",
        "# of the color scheme to be shown in the visualization.\n",
        "gdf_scores[\"NatWalkInd_percentile\"] = gdf_scores['NatWalkInd'].rank(pct=True)\n",
        "\n",
        "gdf_scores.plot(\n",
        "    column = 'NatWalkInd_percentile',\n",
        "    legend = True,\n",
        "    cmap = 'RdYlGn',\n",
        "    edgecolor = 'black',\n",
        "    linewidth=0.1,\n",
        ")"
      ],
      "metadata": {
        "id": "mxHkuzktnh2m"
      },
      "execution_count": null,
      "outputs": []
    },
    {
      "cell_type": "code",
      "source": [
        "# Let's visualize with an interactive plot\n",
        "(\n",
        "    gdf_scores\n",
        "    .query(\"STATEFP == '36' or STATEFP == '42' or STATEFP == '34' \")\n",
        "    .explore(\n",
        "        \"NatWalkInd\",\n",
        "        cmap='RdYlGn',\n",
        "        legend=False,\n",
        "        style_kwds=dict(color=\"black\", linewidth=0.3)\n",
        "        )\n",
        ")"
      ],
      "metadata": {
        "id": "AhlYR-wLFRA1"
      },
      "execution_count": null,
      "outputs": []
    },
    {
      "cell_type": "markdown",
      "source": [
        "## US Census Tracts\n",
        "\n",
        "\n"
      ],
      "metadata": {
        "id": "3rrsXOvSdigB"
      }
    },
    {
      "cell_type": "markdown",
      "source": [
        "The US Census runs a yearly survey (the ACS survey) that collects a wide variety of detailed information about each census tract. [For example, consider the information about our own census tract](https://censusreporter.org/profiles/14000US36061005501-census-tract-5501-new-york-ny/): data about population, income, age, educational level, house values, renters vs owners, and many many other data points.\n",
        "\n",
        "The file below contains the description of all the US Census tracts:"
      ],
      "metadata": {
        "id": "Hgw8AWZ-dnCQ"
      }
    },
    {
      "cell_type": "code",
      "metadata": {
        "id": "vlCjIiBax0Gt"
      },
      "source": [
        "!curl https://storage.googleapis.com/datasets_nyu/usa_tracts.zip -o usa_tracts.zip"
      ],
      "execution_count": null,
      "outputs": []
    },
    {
      "cell_type": "code",
      "metadata": {
        "id": "NH_sf1i2x0NA"
      },
      "source": [
        "shapefile = f'usa_tracts.zip'\n",
        "tracts_df = gpd.GeoDataFrame.from_file(shapefile)\n",
        "\n",
        "# makes it easier to select counties based on their FIPS code\n",
        "tracts_df.COUNTYFP = tracts_df.STATEFP.astype(str)  + tracts_df.COUNTYFP.astype(str)"
      ],
      "execution_count": null,
      "outputs": []
    },
    {
      "cell_type": "code",
      "source": [
        "tracts_df"
      ],
      "metadata": {
        "id": "69GouVFnjdQh"
      },
      "execution_count": null,
      "outputs": []
    },
    {
      "cell_type": "code",
      "metadata": {
        "id": "TQget-jEx6aZ"
      },
      "source": [
        "# Dropping non-continental states\n",
        "tracts_df = tracts_df[ tracts_df.STATEFP!='02' ]  # Alaska\n",
        "tracts_df = tracts_df[ tracts_df.STATEFP!='15' ] # Hawaii\n",
        "tracts_df = tracts_df[ tracts_df.STATEFP!='72' ] # Puerto Rico\n",
        "tracts_df = tracts_df[ tracts_df.STATEFP!='66' ] # Guam\n",
        "tracts_df = tracts_df[ tracts_df.STATEFP!='69' ] # Commonwealth of the Northern Mariana Islands\n",
        "tracts_df = tracts_df[ tracts_df.STATEFP!='60' ] # American Samoa\n",
        "tracts_df = tracts_df[ tracts_df.STATEFP!='78' ] # United States Virgin Islands"
      ],
      "execution_count": null,
      "outputs": []
    },
    {
      "cell_type": "code",
      "metadata": {
        "id": "vi2m0NqUx9hR"
      },
      "source": [
        "tracts_df.plot(\n",
        "    color = 'white',\n",
        "    edgecolor = 'black',\n",
        "    linewidth=0.1,\n",
        "    zorder=0,\n",
        "    facecolor = 'white',\n",
        ")"
      ],
      "execution_count": null,
      "outputs": []
    },
    {
      "cell_type": "code",
      "metadata": {
        "id": "GTsQLYgbGWaY"
      },
      "source": [],
      "execution_count": null,
      "outputs": []
    },
    {
      "cell_type": "markdown",
      "metadata": {
        "id": "HFdUzD-dGYQO"
      },
      "source": [
        "## ZIP Codes\n",
        "\n",
        "Often people ask why we do not use zipcodes instead of census tracts.\n",
        "\n",
        "The answer is two-fold:\n",
        "\n",
        "* The USPS does not release shapefiles of their zipcodes\n",
        "* [The zip codes are not areas](https://manifold.net/doc/mfd9/zip_codes_are_not_areas.htm). In fact they are a bunch of delivery routes/lines, not areas.\n",
        "* The US Census though releases the [ZIP Code Tabulation Areas (ZCTAs)](https://www.census.gov/programs-surveys/geography/guidance/geo-areas/zctas.html)\n",
        "\n"
      ]
    },
    {
      "cell_type": "code",
      "metadata": {
        "id": "PF4zv5Ip0MCN"
      },
      "source": [
        "!curl https://storage.googleapis.com/datasets_nyu/tl_2020_us_zcta510.zip -o tl_2020_us_zcta510.zip"
      ],
      "execution_count": null,
      "outputs": []
    },
    {
      "cell_type": "code",
      "metadata": {
        "id": "U8mwnbXnGHhk"
      },
      "source": [
        "shapefile = f'tl_2020_us_zcta510.zip'\n",
        "zipcodes_df = gpd.GeoDataFrame.from_file(shapefile)\n"
      ],
      "execution_count": null,
      "outputs": []
    },
    {
      "cell_type": "code",
      "metadata": {
        "id": "SNYcLb36G4wQ"
      },
      "source": [
        "zipcodes_df"
      ],
      "execution_count": null,
      "outputs": []
    },
    {
      "cell_type": "code",
      "metadata": {
        "id": "NHeB_p5HGU4e"
      },
      "source": [
        "zipcodes_df.plot(\n",
        "    figsize=(20,20),\n",
        "    color = 'white',\n",
        "    edgecolor = 'black',\n",
        "    linewidth=0.1,\n",
        "    zorder=0,\n",
        "    facecolor = 'white',\n",
        ")"
      ],
      "execution_count": null,
      "outputs": []
    }
  ]
}