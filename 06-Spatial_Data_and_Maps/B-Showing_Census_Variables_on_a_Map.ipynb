{
  "nbformat": 4,
  "nbformat_minor": 0,
  "metadata": {
    "kernelspec": {
      "display_name": "Python 3",
      "language": "python",
      "name": "python3"
    },
    "language_info": {
      "codemirror_mode": {
        "name": "ipython",
        "version": 3
      },
      "file_extension": ".py",
      "mimetype": "text/x-python",
      "name": "python",
      "nbconvert_exporter": "python",
      "pygments_lexer": "ipython3",
      "version": "3.6.9"
    },
    "colab": {
      "name": "Showing Census Variables on a Map",
      "provenance": [],
      "include_colab_link": true
    }
  },
  "cells": [
    {
      "cell_type": "markdown",
      "metadata": {
        "id": "view-in-github",
        "colab_type": "text"
      },
      "source": [
        "<a href=\"https://colab.research.google.com/github/ipeirotis/dealing_with_data/blob/master/06-Spatial_Data_and_Maps/B-Showing_Census_Variables_on_a_Map.ipynb\" target=\"_parent\"><img src=\"https://colab.research.google.com/assets/colab-badge.svg\" alt=\"Open In Colab\"/></a>"
      ]
    },
    {
      "cell_type": "code",
      "source": [
        "!pip install -U pillow\n",
        "\n",
        "\n",
        "\n",
        "# Hack that resolves the issue\n",
        "# module 'PIL.Image' has no attribute 'Resampling'\n",
        "import PIL.Image\n",
        "if not hasattr(PIL.Image, 'Resampling'):  # Pillow<9.0\n",
        "  PIL.Image.Resampling = PIL.Image\n",
        "# Now PIL.Image.Resampling.BICUBIC is always recognized.\n",
        "\n",
        "print(PIL.__version__ )\n",
        "assert(PIL.__version__ > '9.0.0')"
      ],
      "metadata": {
        "id": "C1SC9YysjRwV",
        "outputId": "e815ba24-ba58-4df7-e81a-89d2b34036b5",
        "colab": {
          "base_uri": "https://localhost:8080/"
        }
      },
      "execution_count": 1,
      "outputs": [
        {
          "output_type": "stream",
          "name": "stdout",
          "text": [
            "Looking in indexes: https://pypi.org/simple, https://us-python.pkg.dev/colab-wheels/public/simple/\n",
            "Requirement already satisfied: pillow in /usr/local/lib/python3.9/dist-packages (9.4.0)\n",
            "9.4.0\n"
          ]
        }
      ]
    },
    {
      "cell_type": "code",
      "metadata": {
        "id": "tcfJS5ry-Gkw"
      },
      "source": [
        "\n",
        "\n",
        "\n",
        "!apt-get install -y -qq libproj-dev proj-data proj-bin libgdal-dev libspatialindex-dev  libgeos-dev\n",
        "\n",
        "!pip uninstall -y -q shapely\n",
        "!pip install shapely --no-binary shapely\n",
        "\n",
        "!pip install -U -q CensusData OWSLib cartopy descartes fiona folium geopandas geoplot mapclassify pyshp pyproj pysal pykdtree pyepsg rtree six \n"
      ],
      "execution_count": null,
      "outputs": []
    },
    {
      "cell_type": "code",
      "metadata": {
        "id": "bSKQCK7F_R13"
      },
      "source": [
        "%matplotlib inline\n",
        "%config InlineBackend.figure_format = 'retina'"
      ],
      "execution_count": null,
      "outputs": []
    },
    {
      "cell_type": "code",
      "metadata": {
        "id": "EVIr4yk0-Gky"
      },
      "source": [
        "import pandas as pd\n",
        "import numpy as np\n",
        "\n",
        "import geopandas as gpd\n",
        "import censusdata\n",
        "import matplotlib.pyplot as plt\n",
        "\n",
        "gpd.options.use_pygeos = True\n"
      ],
      "execution_count": null,
      "outputs": []
    },
    {
      "cell_type": "code",
      "source": [],
      "metadata": {
        "id": "zVDE3xAihs7h"
      },
      "execution_count": null,
      "outputs": []
    },
    {
      "cell_type": "markdown",
      "metadata": {
        "id": "dSkDGV9k-Gkz"
      },
      "source": [
        "## Setup"
      ]
    },
    {
      "cell_type": "code",
      "metadata": {
        "id": "TWJYa54L-Gk0"
      },
      "source": [
        "STATEFP = \"36\"  # New York State\n",
        "COUNTYFP = \"061\"  # Manhattan\n",
        "YEAR = 2019"
      ],
      "execution_count": null,
      "outputs": []
    },
    {
      "cell_type": "markdown",
      "metadata": {
        "id": "cs7k_ftl-Gk2"
      },
      "source": [
        "## Download Tract Shapefile for State and Limit Tracts to County of Interest"
      ]
    },
    {
      "cell_type": "code",
      "metadata": {
        "id": "R_DoMPh5-Gk3"
      },
      "source": [
        "# Download the census tracts shapes from US Census\n",
        "# We download from the TIGER shapefiles repository\n",
        "\n",
        "\n",
        "# Download the boundaries of tracts\n",
        "filename = f\"tl_{YEAR}_{STATEFP}_tract.zip\"\n",
        "!mkdir -p maps\n",
        "!curl  -s https://www2.census.gov/geo/tiger/TIGER$YEAR/TRACT/$filename -o maps/$filename\n",
        "!cd maps && unzip -o $filename\n",
        "shapefile = f\"maps/{filename[:-4]}.shp\"\n",
        "geo_df = gpd.GeoDataFrame.from_file(shapefile)\n",
        "# Keep only the data for the county of interest\n",
        "geo_df = geo_df.query(f\"COUNTYFP == '{COUNTYFP}'\")\n",
        "\n",
        "# We download the water areas, to avoid including water areas in our maps\n",
        "water_filename = f\"tl_{YEAR}_{STATEFP+COUNTYFP}_areawater.zip\"\n",
        "!curl -s https://www2.census.gov/geo/tiger/TIGER$YEAR/AREAWATER/$water_filename  -o maps/$water_filename\n",
        "!cd maps && unzip -o $water_filename\n",
        "water_shapefile = f\"maps/{water_filename[:-4]}.shp\"\n",
        "water_geodf = gpd.GeoDataFrame.from_file(water_shapefile)\n",
        "\n",
        "# Remove water areas from the tracts\n",
        "geo_df = gpd.overlay(geo_df, water_geodf, how=\"difference\")\n"
      ],
      "execution_count": null,
      "outputs": []
    },
    {
      "cell_type": "code",
      "metadata": {
        "id": "U_uH_maM-Gk6"
      },
      "source": [
        "# Plot the tract boundaries\n",
        "geo_df.plot(\n",
        "    figsize=(15, 15),\n",
        "    color=\"white\",\n",
        "    edgecolor=\"black\",\n",
        "    linewidth=0.5,\n",
        "    zorder=0,\n",
        "    facecolor=\"white\",\n",
        ")"
      ],
      "execution_count": null,
      "outputs": []
    },
    {
      "cell_type": "code",
      "source": [
        "geo_df"
      ],
      "metadata": {
        "id": "oxEKItVXmPKS"
      },
      "execution_count": null,
      "outputs": []
    },
    {
      "cell_type": "code",
      "source": [
        "geo_df.explore(\"NAME\", cmap='tab20', legend=False, style_kwds=dict(color=\"black\", linewidth=1))"
      ],
      "metadata": {
        "id": "y0Qx-HHTlnWL"
      },
      "execution_count": null,
      "outputs": []
    },
    {
      "cell_type": "markdown",
      "metadata": {
        "id": "3vSZM3dH-Gk7"
      },
      "source": [
        "## Access Census Details for All Tracts in County"
      ]
    },
    {
      "cell_type": "code",
      "metadata": {
        "id": "fALUCWuNr6Dm"
      },
      "source": [
        "some_useful_census_variables = {\n",
        "        \"B07001_001E\": \"Total_Population\",\n",
        "        \"B07013_002E\": \"Owner\",\n",
        "        \"B07013_003E\": \"Renter\",\n",
        "        \"B07001_017E\": \"Same_house_1_year_ago\",\n",
        "        \"B07013_005E\": \"Same_house_1_year_ago_owner\",\n",
        "        \"B07013_006E\": \"Same_house_1_year_ago_renter\",\n",
        "        \"B19127_001E\": \"Aggregate_Income\",             \n",
        "        \"B19126_001E\": \"Median_Family_Income\", \n",
        "        \"B25064_001E\": \"Median_Gross_Rent\",\n",
        "        \"B25103_001E\": \"Median_Real_Estate_Taxes\",\n",
        "        \"B19083_001E\": \"Gini_Index\",\n",
        "      \n",
        "        \"B19080_001E\": \"Household_Income_Lowest_Quintile_Upper_Limit\",\n",
        "        \"B19080_002E\": \"Household_Income_Second_Quintile_Upper_Limit\",\n",
        "        \"B19080_003E\": \"Household_Income_Third_Quintile_Upper_Limit\",\n",
        "        \"B19080_004E\": \"Household_Income_Fourth_Quintile_Upper_Limit\",\n",
        "        \"B19080_005E\": \"Household_Income_Top_5_Percent_Lower_Limit\",\n",
        "        \n",
        "        \"B13016_002E\": \"Women_Gave_Birth_Last_Year\",\n",
        "        \"B13016_010E\": \"Women_No_Birth_Last_Year\",\n",
        "\n",
        "        \"B25038_015E\": \"Renter_Moved_in_1979_or_earlier\",\n",
        "        \"B25038_014E\": \"Renter_Moved_in_1980_to_1989\",\n",
        "        \"B25038_013E\": \"Renter_Moved_in_1990_to_1999\",\n",
        "        \"B25038_012E\": \"Renter_Moved_in_2000_to_2009\",\n",
        "        \"B25038_011E\": \"Renter_Moved_in_2010_to_2014\",\n",
        "        \"B25038_010E\": \"Renter_Moved_in_2015_or_later\",\n",
        "        \n",
        "        \"B25038_008E\": \"Owner_Moved_in_1979_or_earlier\",\n",
        "        \"B25038_007E\": \"Owner_Moved_in_1980_to_1989\",\n",
        "        \"B25038_006E\": \"Owner_Moved_in_1990_to_1999\",\n",
        "        \"B25038_005E\": \"Owner_Moved_in_2000_to_2009\",\n",
        "        \"B25038_004E\": \"Owner_Moved_in_2010_to_2014\",\n",
        "        \"B25038_003E\": \"Owner_Moved_in_2015_or_later\",\n",
        "        \n",
        "        \"B11016_002E\": \"Family_households\",\n",
        "        \"B11016_003E\": \"Family_households_2person\",\n",
        "        \"B11016_004E\": \"Family_households_3person\",\n",
        "        \"B11016_005E\": \"Family_households_4person\",\n",
        "        \"B11016_006E\": \"Family_households_5person\",\n",
        "        \"B11016_007E\": \"Family_households_6person\",\n",
        "        \"B11016_008E\": \"Family_households_7_or_more\",\n",
        "        \n",
        "        \"B11016_009E\": \"NonFamily_households\",\n",
        "        \"B11016_010E\": \"NonFamily_households_1person\",\n",
        "        \"B11016_011E\": \"NonFamily_households_2person\",\n",
        "        \"B11016_012E\": \"NonFamily_households_3person\",\n",
        "        \"B11016_013E\": \"NonFamily_households_4person\",\n",
        "        \"B11016_014E\": \"NonFamily_households_5person\",\n",
        "        \"B11016_015E\": \"NonFamily_households_6person\",\n",
        "        \"B11016_016E\": \"NonFamily_households_7_or_more\",\n",
        "     \n",
        "        \"B01001_001E\": \"Total_Population_All_Races\",\n",
        "        \"B01001A_001E\": \"Total_Population_White\",\n",
        "        \"B01001B_001E\": \"Total_Population_Black\",     \n",
        "        \"B01001C_001E\": \"Total_Population_Native\",\n",
        "        \"B01001D_001E\": \"Total_Population_Asian\",     \n",
        "        \"B01001E_001E\": \"Total_Population_PacificIslander\",\n",
        "        \"B01001F_001E\": \"Total_Population_Other\",     \n",
        "        \"B01001G_001E\": \"Total_Population_Multiple\",\n",
        "        \"B01001H_001E\": \"Total_Population_White_NonHispanic\",\n",
        "        \"B01001I_001E\": \"Total_Population_Hispanic\"\n",
        " }\n"
      ],
      "execution_count": null,
      "outputs": []
    },
    {
      "cell_type": "code",
      "metadata": {
        "id": "UJlPO6zt-Gk7"
      },
      "source": [
        "def retrieve_census_data(census_attr, friendly_name):\n",
        "\n",
        "  # We specify what locations we want the data for\n",
        "  # We will retrieve information for all the tracts in \n",
        "  # the state (STATEFP) and county (COUNTYFP) that we\n",
        "  # specified earlier\n",
        "  census_location_query = [(\"state\", STATEFP), (\"county\", COUNTYFP), (\"tract\", \"*\")]\n",
        "  census_attribute_query = [census_attr]\n",
        "\n",
        "  # Download data for the variable of interest from census\n",
        "  df = censusdata.download(\n",
        "      \"acs5\", # we use the ACS survey, 5-year data\n",
        "      YEAR, # we use the data from the 2019 survey\n",
        "      censusdata.censusgeo(census_location_query),\n",
        "      census_attribute_query,\n",
        "  )\n",
        "  df = df.rename({census_attr: friendly_name}, axis=\"columns\")\n",
        "\n",
        "  # To visualize the variable, we will assign a percentile score to\n",
        "  # each tract (otherwise outlier values make it hard to differentiate) \n",
        "  df[friendly_name + \"_percentile\"] = df[friendly_name].rank(pct=True)\n",
        "\n",
        "  # Replace the index of the dataframe with state, county, and tract values\n",
        "  df = df.reset_index().rename({\"index\": \"tract_info\"}, axis=\"columns\")\n",
        "  df[\"state\"] = [v.geo[0][1] for v in df.tract_info.values]\n",
        "  df[\"county\"] = [v.geo[1][1] for v in df.tract_info.values]\n",
        "  df[\"tract\"] = [v.geo[2][1] for v in df.tract_info.values]\n",
        "  df = df.drop(\"tract_info\", axis=\"columns\")\n",
        "\n",
        "  # replace missing value indicator with NaN\n",
        "  df = df.replace(to_replace=-666666666, value=pd.NA) \n",
        "  df[friendly_name] = pd.to_numeric(df[friendly_name], errors='coerce')\n",
        "\n",
        "  return df"
      ],
      "execution_count": null,
      "outputs": []
    },
    {
      "cell_type": "markdown",
      "metadata": {
        "id": "B1HSaZqrYk2W"
      },
      "source": [
        "## Visualizing Census Variables on a Map"
      ]
    },
    {
      "cell_type": "markdown",
      "metadata": {
        "id": "AqzJlhW6YrLO"
      },
      "source": [
        "### Population in Tract"
      ]
    },
    {
      "cell_type": "code",
      "metadata": {
        "id": "ujiAau8qtRzX"
      },
      "source": [
        "  # We specify the attribute(s) that we want to retrieve\n",
        "  census_attr = \"B07001_001E\"\n",
        "  friendly_name = \"Total_Population\"\n",
        "\n",
        "  df = retrieve_census_data(census_attr, friendly_name)\n"
      ],
      "execution_count": null,
      "outputs": []
    },
    {
      "cell_type": "code",
      "metadata": {
        "id": "T1W9Al5VblR3"
      },
      "source": [
        "aux_df = pd.merge(\n",
        "    geo_df,\n",
        "    df,\n",
        "    left_on=[\"STATEFP\", \"COUNTYFP\", \"TRACTCE\"],\n",
        "    right_on=[\"state\", \"county\", \"tract\"],\n",
        ")"
      ],
      "execution_count": null,
      "outputs": []
    },
    {
      "cell_type": "code",
      "source": [
        "import matplotlib\n",
        "font = {'family' : 'sans-serif',\n",
        "        'weight' : 'light',\n",
        "        'size'   : 18}\n",
        "\n",
        "matplotlib.rc('font', **font)"
      ],
      "metadata": {
        "id": "G6TtJ0s3-Mad"
      },
      "execution_count": null,
      "outputs": []
    },
    {
      "cell_type": "code",
      "metadata": {
        "id": "Ch6SmV4nbta_"
      },
      "source": [
        "# Plotting the raw population values\n",
        "# Notice that due to a few outlier values, most\n",
        "# of the map looks blue\n",
        "ax = aux_df.dropna().plot(\n",
        "    column=friendly_name,\n",
        "    categorical = False,\n",
        "    linewidth=0.25,\n",
        "    edgecolor=\"Black\",\n",
        "    figsize=(15, 15),\n",
        "    cmap=\"Blues\", \n",
        "    # scheme = \"Quantiles\", k =9,\n",
        "    alpha=0.8, legend=True,\n",
        "    legend_kwds = dict(fmt=\"${:,.0f}\")\n",
        ")\n",
        "ax.set_title(friendly_name)\n",
        "pass # do not print the title in the output"
      ],
      "execution_count": null,
      "outputs": []
    },
    {
      "cell_type": "code",
      "source": [
        "# By using the percentile values instead (which are normalized and uniform)\n",
        "# the colors associated with each tract are now more informative (at the\n",
        "# expense of not highlighting the outliers)\n",
        "ax = aux_df.plot(\n",
        "    column=friendly_name + \"_percentile\",\n",
        "    linewidth=0.25,\n",
        "    edgecolor=\"Black\",\n",
        "    figsize=(15, 15),\n",
        "    cmap=\"coolwarm\",\n",
        "    alpha=0.8, legend=True\n",
        ")\n",
        "ax.set_title(friendly_name + \"_percentile\")\n",
        "pass # do not print the title in the output"
      ],
      "metadata": {
        "id": "KdzhtS3vCvuA"
      },
      "execution_count": null,
      "outputs": []
    },
    {
      "cell_type": "code",
      "metadata": {
        "id": "INz2gSiT-Gk8"
      },
      "source": [
        "# By using the percentile values instead (which are normalized and uniform)\n",
        "# the colors associated with each tract are now more informative (at the\n",
        "# expense of not highlighting the outliers)\n",
        "ax = aux_df.plot(\n",
        "    column=friendly_name + \"_percentile\",\n",
        "    linewidth=0.25,\n",
        "    edgecolor=\"Black\",\n",
        "    figsize=(15, 15),\n",
        "    cmap=\"rainbow\",\n",
        "    alpha=0.8, legend=True\n",
        ")\n",
        "ax.set_title(friendly_name + \"_percentile\")\n",
        "pass # do not print the title in the output"
      ],
      "execution_count": null,
      "outputs": []
    },
    {
      "cell_type": "code",
      "metadata": {
        "id": "vqNa55F7YuhV"
      },
      "source": [],
      "execution_count": null,
      "outputs": []
    },
    {
      "cell_type": "markdown",
      "metadata": {
        "id": "Uaf4UVhEaDef"
      },
      "source": [
        "## Putting multiple maps on a plot, plus Manhattan neighborhoods"
      ]
    },
    {
      "cell_type": "code",
      "metadata": {
        "id": "87quNNQhaBzf"
      },
      "source": [
        "# Dataset from NYC Open Data: https://data.cityofnewyork.us/City-Government/Neighborhood-Tabulation-Areas/cpf4-rkhq\n",
        "nyc_geourl = \"https://data.cityofnewyork.us/api/geospatial/cpf4-rkhq?method=export&format=GeoJSON\"\n",
        "nyc_neighborhoods = gpd.GeoDataFrame.from_file(nyc_geourl)\n",
        "manhattan = nyc_neighborhoods[nyc_neighborhoods.county_fips == \"061\"]"
      ],
      "execution_count": null,
      "outputs": []
    },
    {
      "cell_type": "code",
      "metadata": {
        "id": "nVY7vC1nZ_2P"
      },
      "source": [
        "def plot_variable(df, variable_name, percentile, ax):\n",
        "\n",
        "  if percentile: suffix = \"_percentile\" \n",
        "  else:  suffix = \"\" \n",
        "  \n",
        "    # Plot the variable of interest\n",
        "  ax = df.plot(\n",
        "      column=variable_name + suffix,\n",
        "      linewidth=0.5,\n",
        "      edgecolor=\"Black\",\n",
        "      cmap=\"coolwarm\",\n",
        "      alpha=0.6,\n",
        "      ax = ax\n",
        "  )\n",
        "  ax.set_title(variable_name + suffix)\n",
        "\n",
        "  # For aesthetics, we plot the NYC neighborhoods on top\n",
        "  manhattan.plot(\n",
        "      color=\"white\",\n",
        "      edgecolor=\"black\",\n",
        "      linewidth=2,\n",
        "      zorder=0,\n",
        "      facecolor=\"white\",\n",
        "      ax=ax,\n",
        "  )\n",
        "  return ax"
      ],
      "execution_count": null,
      "outputs": []
    },
    {
      "cell_type": "code",
      "metadata": {
        "id": "refqJGl3uI9q"
      },
      "source": [
        "census_attr = \"B19126_001E\"\n",
        "friendly_name = \"Median_Family_Income\"\n",
        "income_df = retrieve_census_data(census_attr, friendly_name)\n",
        "income_df = pd.merge(geo_df, income_df, left_on=[\"STATEFP\", \"COUNTYFP\", \"TRACTCE\"], right_on=[\"state\", \"county\", \"tract\"])"
      ],
      "execution_count": null,
      "outputs": []
    },
    {
      "cell_type": "code",
      "metadata": {
        "id": "mSj0Ysy9uKe5"
      },
      "source": [
        "census_attr = \"B19083_001E\"\n",
        "friendly_name = \"Gini_Index\"\n",
        "gini_df = retrieve_census_data(census_attr, friendly_name)\n",
        "gini_df = pd.merge(geo_df, gini_df, left_on=[\"STATEFP\", \"COUNTYFP\", \"TRACTCE\"], right_on=[\"state\", \"county\", \"tract\"])"
      ],
      "execution_count": null,
      "outputs": []
    },
    {
      "cell_type": "code",
      "metadata": {
        "id": "A0CmnviOuh3p"
      },
      "source": [
        "census_attr = \"B07001_001E\"\n",
        "friendly_name = \"Total_Population\"\n",
        "population_df = retrieve_census_data(census_attr, friendly_name)\n",
        "population_df = pd.merge(geo_df, population_df, left_on=[\"STATEFP\", \"COUNTYFP\", \"TRACTCE\"], right_on=[\"state\", \"county\", \"tract\"])\n",
        "\n",
        "# Using the land area of each tract, we can calculate the population density\n",
        "# to account for the different sizes of the tracts\n",
        "population_df['Population_Density'] = population_df['Total_Population']/population_df['ALAND']\n",
        "population_df['Population_Density_percentile'] = population_df['Population_Density'].rank(pct=True)"
      ],
      "execution_count": null,
      "outputs": []
    },
    {
      "cell_type": "code",
      "metadata": {
        "id": "DczZ3N8S-Gk8"
      },
      "source": [
        "\n",
        "# Create a figure, with a 1x4 grid. \n",
        "# The \"ax\" is a 1-dimensional array with 4 elements\n",
        "fig, ax = plt.subplots(nrows=1, ncols=4, figsize =(30,15))\n",
        "\n",
        "# We now create one plot for each of the 4 \"axes\" and put the plot in the \n",
        "# corresponding ax\n",
        "plot_variable(population_df, \"Total_Population\", percentile=True, ax = ax[0])\n",
        "plot_variable(population_df, \"Population_Density\", percentile=True, ax = ax[1])\n",
        "plot_variable(income_df, \"Median_Family_Income\", percentile=True, ax = ax[2])\n",
        "plot_variable(gini_df, \"Gini_Index\", percentile=False, ax = ax[3])\n",
        "\n"
      ],
      "execution_count": null,
      "outputs": []
    },
    {
      "cell_type": "code",
      "source": [
        "fig, ax = plt.subplots(nrows=1, ncols=1, figsize =(30,15))\n",
        "plot_variable(income_df, \"Median_Family_Income\", percentile=True, ax = ax)"
      ],
      "metadata": {
        "id": "NvBdrdHF_VTd"
      },
      "execution_count": null,
      "outputs": []
    },
    {
      "cell_type": "code",
      "metadata": {
        "id": "GJpRvx9bmSqp"
      },
      "source": [
        "\n",
        "# Repeat, but with two rows and two columns\n",
        "# Create a figure, with a 2x2 grid. The \"ax\" is a 2-dimensional array\n",
        "fig, ax = plt.subplots(nrows=2, ncols=2, figsize =(10,15))\n",
        "\n",
        "# We now create one plot for each of the 4 \"axes\" and put the plot in the \n",
        "# corresponding ax\n",
        "plot_variable(population_df, \"Total_Population\", percentile=False, ax = ax[0][0])\n",
        "plot_variable(population_df, \"Total_Population\", percentile=True, ax = ax[0][1])\n",
        "plot_variable(population_df, \"Population_Density\", percentile=False, ax = ax[1][0])\n",
        "plot_variable(population_df, \"Population_Density\", percentile=True, ax = ax[1][1])"
      ],
      "execution_count": null,
      "outputs": []
    },
    {
      "cell_type": "code",
      "metadata": {
        "id": "EOF15-CB6VWT"
      },
      "source": [],
      "execution_count": null,
      "outputs": []
    },
    {
      "cell_type": "markdown",
      "metadata": {
        "id": "C8jpwQTH-9r1"
      },
      "source": [
        "## Plot the maps using Folium\n",
        "\n",
        "Good tutorial at https://www.roelpeters.be/plot-choropleth-map-geopandas-folium/ and https://nbviewer.org/github/python-visualization/folium/blob/master/examples/GeoJSON_and_choropleth.ipynb#Using-choropleth-method\n",
        "\n",
        "Consider adjusting the `StepColormap` if you want to use more bins than the default 12 ones provided by Folium."
      ]
    },
    {
      "cell_type": "code",
      "metadata": {
        "id": "rpL8ws4t7NfB"
      },
      "source": [
        "# First we prepare our datasets to be easily joined\n",
        "income_df['FIPS_code'] = income_df['STATEFP'] + income_df['COUNTYFP'] + income_df['TRACTCE']\n",
        "geo_df['FIPS_code'] = geo_df['STATEFP'] + geo_df['COUNTYFP'] + geo_df['TRACTCE']\n",
        "\n",
        "# Need to convert our geopandas into a format that the Choropleth function\n",
        "# of Folium can understand directly. We convert to GeoJSON\n",
        "geometries = geo_df[['FIPS_code', 'geometry']].set_index('FIPS_code').to_json()\n",
        "\n",
        "# We only keep the columns that we need from the data \n",
        "income = income_df[['FIPS_code', 'Median_Family_Income', 'Median_Family_Income_percentile']]"
      ],
      "execution_count": null,
      "outputs": []
    },
    {
      "cell_type": "code",
      "metadata": {
        "id": "BEwh_b9r-Gk9"
      },
      "source": [
        "import folium\n",
        "fmap = folium.Map(location=[40.775, -73.95], zoom_start=12, tiles='cartodbpositron')\n",
        "\n",
        "\n",
        "# We want more color bins than the default, so we create them here\n",
        "quantiles = np.linspace(0,1,num=12)\n",
        "bins = list(income[\"Median_Family_Income\"].quantile(quantiles))\n",
        "\n",
        "folium.Choropleth(geo_data=geometries, \n",
        "                data=income,\n",
        "                name=\"Median_Family_Income\",\n",
        "                columns=['FIPS_code', 'Median_Family_Income'],\n",
        "                key_on='feature.id',\n",
        "                fill_color='RdBu_r', # Red-Blue divergent colormap, reverse order (_r) to put the red for high\n",
        "                fill_opacity=0.5, \n",
        "                line_opacity=0.1,\n",
        "                legend_name='Median_Family_Income',\n",
        "                nan_fill_color = 'gray',\n",
        "                nan_fill_opacity = 0.25,\n",
        "                highlight=True,\n",
        "                bins=bins \n",
        ").add_to(fmap)\n",
        "\n",
        "folium.LayerControl().add_to(fmap)\n",
        "fmap"
      ],
      "execution_count": null,
      "outputs": []
    }
  ]
}