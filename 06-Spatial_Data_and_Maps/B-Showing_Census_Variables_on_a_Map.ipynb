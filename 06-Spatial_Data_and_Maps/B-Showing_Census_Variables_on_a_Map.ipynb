{
  "nbformat": 4,
  "nbformat_minor": 0,
  "metadata": {
    "kernelspec": {
      "display_name": "Python 3",
      "language": "python",
      "name": "python3"
    },
    "language_info": {
      "codemirror_mode": {
        "name": "ipython",
        "version": 3
      },
      "file_extension": ".py",
      "mimetype": "text/x-python",
      "name": "python",
      "nbconvert_exporter": "python",
      "pygments_lexer": "ipython3",
      "version": "3.6.9"
    },
    "colab": {
      "name": "Showing Census Variables on a Map",
      "provenance": [],
      "include_colab_link": true
    }
  },
  "cells": [
    {
      "cell_type": "markdown",
      "metadata": {
        "id": "view-in-github",
        "colab_type": "text"
      },
      "source": [
        "<a href=\"https://colab.research.google.com/github/ipeirotis/dealing_with_data/blob/master/06-Spatial_Data_and_Maps/B-Showing_Census_Variables_on_a_Map.ipynb\" target=\"_parent\"><img src=\"https://colab.research.google.com/assets/colab-badge.svg\" alt=\"Open In Colab\"/></a>"
      ]
    },
    {
      "cell_type": "markdown",
      "source": [
        "# Introduction to Census Data"
      ],
      "metadata": {
        "id": "hXSx1tZy94dC"
      }
    },
    {
      "cell_type": "code",
      "source": [
        "# @title Setup\n",
        "\n",
        "!pip install -U -q geopandas folium censusdata folium mapclassify\n",
        "\n",
        "import geopandas as gpd\n",
        "import pandas as pd\n",
        "import numpy as np\n",
        "import matplotlib.pyplot as plt\n",
        "import censusdata\n",
        "import requests\n",
        "import folium\n",
        "\n",
        "%config InlineBackend.figure_format = 'retina'\n",
        "\n",
        "# Change the graph defaults\n",
        "plt.rcParams['figure.figsize'] = (8, 3)  # Default figure size of 8x3 inches\n",
        "plt.rcParams['axes.grid'] = False\n",
        "plt.rcParams['grid.color'] = 'lightgray'\n",
        "plt.rcParams['font.size'] = 10  # Default font size of 10 points\n",
        "plt.rcParams['lines.linewidth'] = 1  # Default line width of 1 points\n",
        "plt.rcParams['lines.markersize'] = 3  # Default marker size of 3 points\n",
        "plt.rcParams['legend.fontsize'] = 10  # Default legend font size of 10 poin"
      ],
      "metadata": {
        "cellView": "form",
        "id": "klYCtjTS92U6"
      },
      "execution_count": null,
      "outputs": []
    },
    {
      "cell_type": "code",
      "metadata": {
        "id": "R_DoMPh5-Gk3",
        "cellView": "form"
      },
      "source": [
        "# @title Download Tract Shapefile for State and Limit Tracts to County of Interest\n",
        "\n",
        "# Download the census tracts shapes from US Census\n",
        "# We download from the TIGER shapefiles repository\n",
        "\n",
        "STATEFP = \"36\"  # New York State\n",
        "COUNTYFP = \"061\"  # Manhattan\n",
        "YEAR = 2019\n",
        "\n",
        "# Download the boundaries of tracts\n",
        "filename = f\"tl_{YEAR}_{STATEFP}_tract.zip\"\n",
        "!mkdir -p maps\n",
        "!curl  -s https://www2.census.gov/geo/tiger/TIGER$YEAR/TRACT/$filename -o maps/$filename\n",
        "!cd maps && unzip -o $filename > /dev/null\n",
        "shapefile = f\"maps/{filename[:-4]}.shp\"\n",
        "geo_df = gpd.GeoDataFrame.from_file(shapefile)\n",
        "# Keep only the data for the county of interest\n",
        "geo_df = geo_df.query(f\"COUNTYFP == '{COUNTYFP}'\")\n",
        "\n",
        "# We download the water areas, to avoid including water areas in our maps\n",
        "water_filename = f\"tl_{YEAR}_{STATEFP+COUNTYFP}_areawater.zip\"\n",
        "!curl -s https://www2.census.gov/geo/tiger/TIGER$YEAR/AREAWATER/$water_filename  -o maps/$water_filename\n",
        "!cd maps && unzip -o $water_filename  > /dev/null\n",
        "water_shapefile = f\"maps/{water_filename[:-4]}.shp\"\n",
        "water_geodf = gpd.GeoDataFrame.from_file(water_shapefile)\n",
        "\n",
        "# Remove water areas from the tracts\n",
        "geo_df = gpd.overlay(geo_df, water_geodf, how=\"difference\")\n",
        "\n",
        "# Keep only variables of interest\n",
        "geo_df = geo_df.filter(['STATEFP', 'COUNTYFP', 'TRACTCE', 'GEOID', 'NAMELSAD', 'ALAND', 'geometry'])"
      ],
      "execution_count": null,
      "outputs": []
    },
    {
      "cell_type": "code",
      "metadata": {
        "id": "U_uH_maM-Gk6"
      },
      "source": [
        "# Plot the tract boundaries\n",
        "geo_df.plot(\n",
        "    figsize=(10, 10),\n",
        "    color=\"white\",\n",
        "    edgecolor=\"black\",\n",
        "    linewidth=0.5,\n",
        "    zorder=0,\n",
        "    facecolor=\"white\",\n",
        ")"
      ],
      "execution_count": null,
      "outputs": []
    },
    {
      "cell_type": "code",
      "source": [
        "# Interactive visualization, using Folium\n",
        "geo_df.explore(\"NAMELSAD\",\n",
        "               cmap='tab20',\n",
        "               legend=False,\n",
        "               tiles='cartodbpositron',\n",
        "               style_kwds=dict(color=\"black\", linewidth=1)\n",
        "               )"
      ],
      "metadata": {
        "id": "y0Qx-HHTlnWL"
      },
      "execution_count": null,
      "outputs": []
    },
    {
      "cell_type": "code",
      "source": [],
      "metadata": {
        "id": "dTcE6bMQQw75"
      },
      "execution_count": null,
      "outputs": []
    },
    {
      "cell_type": "markdown",
      "source": [
        "## US Census Tracts and the ACS5 survey: Wealth of demographic data"
      ],
      "metadata": {
        "id": "_ALsyZPUQzT1"
      }
    },
    {
      "cell_type": "markdown",
      "source": [
        "The US Census runs a yearly survey (the ACS survey) that collects a wide variety of detailed information about each census tract. [For example, consider the information about our own census tract](https://censusreporter.org/profiles/14000US36061005501-census-tract-5501-new-york-ny/): data about population, income, age, educational level, house values, renters vs owners, and many many other data points.\n",
        "\n",
        "The file below contains the description of all the US Census tracts:"
      ],
      "metadata": {
        "id": "suTVPtdLQxe9"
      }
    },
    {
      "cell_type": "code",
      "source": [
        "# @title Helper function that calls the Census API for the ACS5 survey data\n",
        "\n",
        "\n",
        "def retrieve_census_data_tract(census_attr, friendly_name, state, county, year=\"2019\"):\n",
        "  '''\n",
        "  For county, we can specify county=\"*\" to get all the tracts in the state.\n",
        "  We can also list a comma-separated list to get multiple counties but not all\n",
        "  For example county = \"061,081,047\" will retrieve Manhattan, Queens, and Brooklyn\n",
        "\n",
        "  We can similarly specify a list of states (e.g., state=\"36,42,34\") if we want\n",
        "  to retrieve more than one state at a time. But we cannot have\n",
        "  state=\"*\" and county=\"*\" at the same time\n",
        "  '''\n",
        "\n",
        "  endpoint = f'https://api.census.gov/data/{year}/acs/acs5'\n",
        "  params = {\n",
        "      \"get\" : f\"NAME,{census_attr}\",\n",
        "      \"for\" : \"tract:*\", # We ask for all tracts\n",
        "      \"in\" : f\"state:{state} county:{county}\"\n",
        "  }\n",
        "\n",
        "  resp = requests.get(endpoint, params = params)\n",
        "  data = resp.json()\n",
        "  df = pd.DataFrame(data[1:], columns=data[0])\n",
        "\n",
        "  # Renaming the census variable code to its \"friendly name\"\n",
        "  df = df.rename({census_attr: friendly_name}, axis=\"columns\")\n",
        "  # We do not need the name of the tract\n",
        "  df = df.drop(\"NAME\", axis=\"columns\")\n",
        "\n",
        "  # replace missing value indicator with NaN\n",
        "  df = df.replace(to_replace=-666666666, value=pd.NA)\n",
        "  df[friendly_name] = pd.to_numeric(df[friendly_name], errors='coerce')\n",
        "\n",
        "  # To visualize the variable, we will assign a percentile score to\n",
        "  # each tract (otherwise outlier values make it hard to differentiate)\n",
        "  df[friendly_name + \"_percentile\"] = df[friendly_name].rank(pct=True)\n",
        "\n",
        "  df = df.filter(['state', 'county', 'tract', friendly_name, friendly_name + \"_percentile\"])\n",
        "\n",
        "  return df"
      ],
      "metadata": {
        "id": "mbcrEmm2_x6K"
      },
      "execution_count": null,
      "outputs": []
    },
    {
      "cell_type": "code",
      "source": [
        "# Example code for retrieving a census variable for the location of interest\n",
        "\n",
        "census_attr = \"B07001_001E\"\n",
        "friendly_name = \"Total_Population\"\n",
        "\n",
        "# Get the population of each census tract in Manhattan (STATEFP=36, COUNTYFP=061)\n",
        "# For county, we can specify county=\"*\" to get all the tracts in the state.\n",
        "# We can also list a comma-separated list to get multiple counties but not all\n",
        "# For example county = \"061,081,047\" will retrieve Manhattan, Queens, and Brooklyn\n",
        "df = retrieve_census_data_tract(census_attr, friendly_name, state = \"36\", county = \"061\")\n",
        "df"
      ],
      "metadata": {
        "id": "sW4rKvTXDjh0"
      },
      "execution_count": null,
      "outputs": []
    },
    {
      "cell_type": "markdown",
      "source": [
        "## Exercise\n",
        "\n",
        "Below, you will find a list of various variables of interest. (You can find the full, exhaustive list of variables in [html](https://api.census.gov/data/2021/acs/acs5/variables.html) and [json](https://api.census.gov/data/2021/acs/acs5/variables.json) formats.\n",
        "\n",
        "* Pick a variable of choice and retrieve the data for Manhattan.\n",
        "* Find the FIPS codes for other boroughs/counties of NYC and get the data for these.\n"
      ],
      "metadata": {
        "id": "4SMlQWsJRcNi"
      }
    },
    {
      "cell_type": "code",
      "metadata": {
        "id": "fALUCWuNr6Dm"
      },
      "source": [
        "# @title Some useful census variables and their codes\n",
        "\n",
        "some_useful_census_variables = {\n",
        "        \"B07001_001E\": \"Total_Population\",\n",
        "        \"B07013_002E\": \"Owner\",\n",
        "        \"B07013_003E\": \"Renter\",\n",
        "        \"B07001_017E\": \"Same_house_1_year_ago\",\n",
        "        \"B07013_005E\": \"Same_house_1_year_ago_owner\",\n",
        "        \"B07013_006E\": \"Same_house_1_year_ago_renter\",\n",
        "        \"B19127_001E\": \"Aggregate_Income\",\n",
        "        \"B19126_001E\": \"Median_Family_Income\",\n",
        "        \"B25064_001E\": \"Median_Gross_Rent\",\n",
        "        \"B25103_001E\": \"Median_Real_Estate_Taxes\",\n",
        "        \"B19083_001E\": \"Gini_Index\",\n",
        "\n",
        "        \"B19080_001E\": \"Household_Income_Lowest_Quintile_Upper_Limit\",\n",
        "        \"B19080_002E\": \"Household_Income_Second_Quintile_Upper_Limit\",\n",
        "        \"B19080_003E\": \"Household_Income_Third_Quintile_Upper_Limit\",\n",
        "        \"B19080_004E\": \"Household_Income_Fourth_Quintile_Upper_Limit\",\n",
        "        \"B19080_005E\": \"Household_Income_Top_5_Percent_Lower_Limit\",\n",
        "\n",
        "        \"B13016_002E\": \"Women_Gave_Birth_Last_Year\",\n",
        "        \"B13016_010E\": \"Women_No_Birth_Last_Year\",\n",
        "\n",
        "        \"B25038_015E\": \"Renter_Moved_in_1979_or_earlier\",\n",
        "        \"B25038_014E\": \"Renter_Moved_in_1980_to_1989\",\n",
        "        \"B25038_013E\": \"Renter_Moved_in_1990_to_1999\",\n",
        "        \"B25038_012E\": \"Renter_Moved_in_2000_to_2009\",\n",
        "        \"B25038_011E\": \"Renter_Moved_in_2010_to_2014\",\n",
        "        \"B25038_010E\": \"Renter_Moved_in_2015_or_later\",\n",
        "\n",
        "        \"B25038_008E\": \"Owner_Moved_in_1979_or_earlier\",\n",
        "        \"B25038_007E\": \"Owner_Moved_in_1980_to_1989\",\n",
        "        \"B25038_006E\": \"Owner_Moved_in_1990_to_1999\",\n",
        "        \"B25038_005E\": \"Owner_Moved_in_2000_to_2009\",\n",
        "        \"B25038_004E\": \"Owner_Moved_in_2010_to_2014\",\n",
        "        \"B25038_003E\": \"Owner_Moved_in_2015_or_later\",\n",
        "\n",
        "        \"B11016_002E\": \"Family_households\",\n",
        "        \"B11016_003E\": \"Family_households_2person\",\n",
        "        \"B11016_004E\": \"Family_households_3person\",\n",
        "        \"B11016_005E\": \"Family_households_4person\",\n",
        "        \"B11016_006E\": \"Family_households_5person\",\n",
        "        \"B11016_007E\": \"Family_households_6person\",\n",
        "        \"B11016_008E\": \"Family_households_7_or_more\",\n",
        "\n",
        "        \"B11016_009E\": \"NonFamily_households\",\n",
        "        \"B11016_010E\": \"NonFamily_households_1person\",\n",
        "        \"B11016_011E\": \"NonFamily_households_2person\",\n",
        "        \"B11016_012E\": \"NonFamily_households_3person\",\n",
        "        \"B11016_013E\": \"NonFamily_households_4person\",\n",
        "        \"B11016_014E\": \"NonFamily_households_5person\",\n",
        "        \"B11016_015E\": \"NonFamily_households_6person\",\n",
        "        \"B11016_016E\": \"NonFamily_households_7_or_more\",\n",
        "\n",
        "        \"B01001_001E\": \"Total_Population_All_Races\",\n",
        "        \"B01001A_001E\": \"Total_Population_White\",\n",
        "        \"B01001B_001E\": \"Total_Population_Black\",\n",
        "        \"B01001C_001E\": \"Total_Population_Native\",\n",
        "        \"B01001D_001E\": \"Total_Population_Asian\",\n",
        "        \"B01001E_001E\": \"Total_Population_PacificIslander\",\n",
        "        \"B01001F_001E\": \"Total_Population_Other\",\n",
        "        \"B01001G_001E\": \"Total_Population_Multiple\",\n",
        "        \"B01001H_001E\": \"Total_Population_White_NonHispanic\",\n",
        "        \"B01001I_001E\": \"Total_Population_Hispanic\"\n",
        " }\n"
      ],
      "execution_count": null,
      "outputs": []
    },
    {
      "cell_type": "markdown",
      "metadata": {
        "id": "B1HSaZqrYk2W"
      },
      "source": [
        "## Visualizing Census Variables on a Map"
      ]
    },
    {
      "cell_type": "markdown",
      "metadata": {
        "id": "AqzJlhW6YrLO"
      },
      "source": [
        "### Population in Tract"
      ]
    },
    {
      "cell_type": "code",
      "metadata": {
        "id": "ujiAau8qtRzX"
      },
      "source": [
        "census_attr = \"B07001_001E\"\n",
        "friendly_name = \"Total_Population\"\n",
        "\n",
        "# Get the population of each census tract in Manhattan (STATEFP=36, COUNTYFP=061)\n",
        "df = retrieve_census_data_tract(census_attr, friendly_name, state = \"36\", county = \"061\")\n",
        "df"
      ],
      "execution_count": null,
      "outputs": []
    },
    {
      "cell_type": "code",
      "metadata": {
        "id": "T1W9Al5VblR3"
      },
      "source": [
        "# We now join the \"geodataframe\" (that has the geo boundaries)\n",
        "aux_df = pd.merge(\n",
        "    geo_df,\n",
        "    df,\n",
        "    left_on=[\"STATEFP\", \"COUNTYFP\", \"TRACTCE\"],\n",
        "    right_on=[\"state\", \"county\", \"tract\"],\n",
        "    how = 'left'\n",
        ")"
      ],
      "execution_count": null,
      "outputs": []
    },
    {
      "cell_type": "code",
      "metadata": {
        "id": "Ch6SmV4nbta_"
      },
      "source": [
        "# Plotting the raw population values\n",
        "# Notice that due to a few outlier values,\n",
        "# we do not use the full color scheme\n",
        "ax = aux_df.plot(\n",
        "    figsize=(6,4),\n",
        "    column=friendly_name, # \"Total_Population\" declareb above\n",
        "    linewidth=0.25,\n",
        "    edgecolor=\"Black\",\n",
        "    cmap=\"Blues\", # continuous colormap\n",
        "    # cmap=\"coolwarm\", # divergent colormap\n",
        "    # scheme = \"Quantiles\", k = 5, # We can define buckets instead\n",
        "    alpha=0.8, legend=True\n",
        ")\n",
        "ax.set_title(friendly_name)\n",
        "\n",
        "pass # do not print the title in the output"
      ],
      "execution_count": null,
      "outputs": []
    },
    {
      "cell_type": "code",
      "source": [
        "# By using the percentile values instead (which are normalized and uniform)\n",
        "# the colors associated with each tract are now more informative (at the\n",
        "# expense of not highlighting the outliers)\n",
        "ax = aux_df.plot(\n",
        "    column=friendly_name + \"_percentile\",\n",
        "    linewidth=0.25,\n",
        "    edgecolor=\"Black\",\n",
        "    figsize=(8,4),\n",
        "    cmap=\"coolwarm\",\n",
        "    # scheme = \"Quantiles\", k = 5, # We can define buckets instead of continuous\n",
        "    alpha=0.8, legend=True\n",
        ")\n",
        "ax.set_title(friendly_name + \"_percentile\")\n",
        "pass # do not print the title in the output"
      ],
      "metadata": {
        "id": "KdzhtS3vCvuA"
      },
      "execution_count": null,
      "outputs": []
    },
    {
      "cell_type": "code",
      "metadata": {
        "id": "vqNa55F7YuhV"
      },
      "source": [
        "# Interactive map, using the \"explore\" function\n",
        "aux_df.explore(\n",
        "    friendly_name + \"_percentile\",\n",
        "    cmap='coolwarm',\n",
        "    legend=False,\n",
        "    tiles='cartodbpositron',\n",
        "    style_kwds=dict(color=\"black\", linewidth=1)\n",
        "    )"
      ],
      "execution_count": null,
      "outputs": []
    },
    {
      "cell_type": "markdown",
      "source": [
        "## Exercise\n",
        "\n",
        "Pick a census variable of interest and create a plot for the Manhattan tracts."
      ],
      "metadata": {
        "id": "XY-UtCIwT81p"
      }
    },
    {
      "cell_type": "code",
      "source": [],
      "metadata": {
        "id": "4h0htobCUNA2"
      },
      "execution_count": null,
      "outputs": []
    },
    {
      "cell_type": "markdown",
      "metadata": {
        "id": "Uaf4UVhEaDef"
      },
      "source": [
        "## (Optional) Putting multiple maps on a plot, plus Manhattan neighborhoods"
      ]
    },
    {
      "cell_type": "code",
      "metadata": {
        "id": "87quNNQhaBzf"
      },
      "source": [
        "# Dataset from NYC Open Data: https://data.cityofnewyork.us/City-Government/Neighborhood-Tabulation-Areas/cpf4-rkhq\n",
        "nyc_geourl = \"https://data.cityofnewyork.us/api/geospatial/cpf4-rkhq?method=export&format=GeoJSON\"\n",
        "nyc_neighborhoods = gpd.GeoDataFrame.from_file(nyc_geourl)\n",
        "manhattan = nyc_neighborhoods[nyc_neighborhoods.county_fips == \"061\"]"
      ],
      "execution_count": null,
      "outputs": []
    },
    {
      "cell_type": "code",
      "metadata": {
        "id": "nVY7vC1nZ_2P"
      },
      "source": [
        "def plot_variable(df, variable_name, percentile, ax):\n",
        "\n",
        "  if percentile: suffix = \"_percentile\"\n",
        "  else:  suffix = \"\"\n",
        "\n",
        "    # Plot the variable of interest\n",
        "  ax = df.plot(\n",
        "      column=variable_name + suffix,\n",
        "      linewidth=0.5,\n",
        "      edgecolor=\"Black\",\n",
        "      cmap=\"coolwarm\",\n",
        "      alpha=0.6,\n",
        "      ax = ax\n",
        "  )\n",
        "  ax.set_title(variable_name + suffix)\n",
        "\n",
        "  # For aesthetics, we plot the NYC neighborhoods on top\n",
        "  manhattan.plot(\n",
        "      color=\"white\",\n",
        "      edgecolor=\"black\",\n",
        "      linewidth=2,\n",
        "      zorder=0,\n",
        "      facecolor=\"white\",\n",
        "      ax=ax,\n",
        "  )\n",
        "  return ax"
      ],
      "execution_count": null,
      "outputs": []
    },
    {
      "cell_type": "code",
      "metadata": {
        "id": "refqJGl3uI9q"
      },
      "source": [
        "census_attr = \"B19126_001E\"\n",
        "friendly_name = \"Median_Family_Income\"\n",
        "income_df = retrieve_census_data_tract(census_attr, friendly_name, state = \"36\", county = \"061\")\n",
        "income_df = pd.merge(geo_df, income_df, left_on=[\"STATEFP\", \"COUNTYFP\", \"TRACTCE\"], right_on=[\"state\", \"county\", \"tract\"])"
      ],
      "execution_count": null,
      "outputs": []
    },
    {
      "cell_type": "code",
      "metadata": {
        "id": "mSj0Ysy9uKe5"
      },
      "source": [
        "census_attr = \"B19083_001E\"\n",
        "friendly_name = \"Gini_Index\"\n",
        "gini_df = retrieve_census_data_tract(census_attr, friendly_name, state = \"36\", county = \"061\")\n",
        "gini_df = pd.merge(geo_df, gini_df, left_on=[\"STATEFP\", \"COUNTYFP\", \"TRACTCE\"], right_on=[\"state\", \"county\", \"tract\"])"
      ],
      "execution_count": null,
      "outputs": []
    },
    {
      "cell_type": "code",
      "metadata": {
        "id": "A0CmnviOuh3p"
      },
      "source": [
        "census_attr = \"B07001_001E\"\n",
        "friendly_name = \"Total_Population\"\n",
        "population_df = retrieve_census_data_tract(census_attr, friendly_name, state = \"36\", county = \"061\")\n",
        "population_df = pd.merge(geo_df, population_df, left_on=[\"STATEFP\", \"COUNTYFP\", \"TRACTCE\"], right_on=[\"state\", \"county\", \"tract\"])\n",
        "\n",
        "# Using the land area of each tract, we can calculate the population density\n",
        "# to account for the different sizes of the tracts\n",
        "population_df['Population_Density'] = population_df['Total_Population']/population_df['ALAND']\n",
        "population_df['Population_Density_percentile'] = population_df['Population_Density'].rank(pct=True)"
      ],
      "execution_count": null,
      "outputs": []
    },
    {
      "cell_type": "code",
      "metadata": {
        "id": "DczZ3N8S-Gk8"
      },
      "source": [
        "\n",
        "# Create a figure, with a 1x4 grid.\n",
        "# The \"ax\" is a 1-dimensional array with 4 elements\n",
        "fig, ax = plt.subplots(nrows=1, ncols=4, figsize =(20,8))\n",
        "\n",
        "# We now create one plot for each of the 4 \"axes\" and put the plot in the\n",
        "# corresponding ax\n",
        "plot_variable(population_df, \"Total_Population\", percentile=True, ax = ax[0])\n",
        "plot_variable(population_df, \"Population_Density\", percentile=True, ax = ax[1])\n",
        "plot_variable(income_df, \"Median_Family_Income\", percentile=True, ax = ax[2])\n",
        "plot_variable(gini_df, \"Gini_Index\", percentile=True, ax = ax[3])\n",
        "\n"
      ],
      "execution_count": null,
      "outputs": []
    },
    {
      "cell_type": "code",
      "source": [
        "fig, ax = plt.subplots(nrows=1, ncols=1, figsize =(20,8))\n",
        "plot_variable(income_df, \"Median_Family_Income\", percentile=True, ax = ax)"
      ],
      "metadata": {
        "id": "NvBdrdHF_VTd"
      },
      "execution_count": null,
      "outputs": []
    },
    {
      "cell_type": "code",
      "metadata": {
        "id": "GJpRvx9bmSqp"
      },
      "source": [
        "\n",
        "# Repeat, but with two rows and two columns\n",
        "# Create a figure, with a 2x2 grid. The \"ax\" is a 2-dimensional array\n",
        "fig, ax = plt.subplots(nrows=2, ncols=2, figsize =(10,15))\n",
        "\n",
        "# We now create one plot for each of the 4 \"axes\" and put the plot in the\n",
        "# corresponding ax\n",
        "plot_variable(population_df, \"Total_Population\", percentile=False, ax = ax[0][0])\n",
        "plot_variable(population_df, \"Total_Population\", percentile=True, ax = ax[0][1])\n",
        "plot_variable(population_df, \"Population_Density\", percentile=False, ax = ax[1][0])\n",
        "plot_variable(population_df, \"Population_Density\", percentile=True, ax = ax[1][1])"
      ],
      "execution_count": null,
      "outputs": []
    },
    {
      "cell_type": "code",
      "metadata": {
        "id": "EOF15-CB6VWT"
      },
      "source": [
        "population_df.explore(\"Population_Density\")"
      ],
      "execution_count": null,
      "outputs": []
    },
    {
      "cell_type": "markdown",
      "metadata": {
        "id": "C8jpwQTH-9r1"
      },
      "source": [
        "## (Optional) Plot the maps using Folium\n"
      ]
    },
    {
      "cell_type": "markdown",
      "source": [
        "\n",
        "Good tutorials at:\n",
        "* https://www.roelpeters.be/plot-choropleth-map-geopandas-folium/\n",
        "* https://nbviewer.org/github/python-visualization/folium/blob/master/examples/GeoJSON_and_choropleth.ipynb#Using-choropleth-method\n",
        "\n",
        "Consider adjusting the `StepColormap` if you want to use more bins than the default 12 ones provided by Folium."
      ],
      "metadata": {
        "id": "94Tzii4cQY8l"
      }
    },
    {
      "cell_type": "markdown",
      "source": [
        "### Simple use of Folium using the `explore` function of geopandas"
      ],
      "metadata": {
        "id": "S_cM_cMQO3PU"
      }
    },
    {
      "cell_type": "code",
      "source": [
        "income_df.explore(\"Median_Family_Income_percentile\", cmap='coolwarm', legend=False, tiles='cartodbpositron', style_kwds=dict(color=\"black\", linewidth=1))"
      ],
      "metadata": {
        "id": "fuQMwDcfO2SS"
      },
      "execution_count": null,
      "outputs": []
    },
    {
      "cell_type": "markdown",
      "source": [
        "### More customized use of Folium allowing further customization"
      ],
      "metadata": {
        "id": "c3Tt-WRiO-bl"
      }
    },
    {
      "cell_type": "code",
      "metadata": {
        "id": "rpL8ws4t7NfB"
      },
      "source": [
        "# First we prepare our datasets to be easily joined\n",
        "income_df['FIPS_code'] = income_df['STATEFP'] + income_df['COUNTYFP'] + income_df['TRACTCE']\n",
        "\n",
        "# Need to convert our geopandas into a format that the Choropleth function\n",
        "# of Folium can understand directly. We convert to GeoJSON\n",
        "geometries = geo_df.filter(['GEOID', 'geometry']).set_index('GEOID').to_json()\n",
        "\n",
        "# We only keep the columns that we need from the data\n",
        "income = income_df.filter(['FIPS_code', 'Median_Family_Income', 'Median_Family_Income_percentile'])"
      ],
      "execution_count": null,
      "outputs": []
    },
    {
      "cell_type": "code",
      "metadata": {
        "id": "BEwh_b9r-Gk9"
      },
      "source": [
        "import folium\n",
        "fmap = folium.Map(location=[40.775, -73.95], zoom_start=12, tiles='cartodbpositron')\n",
        "\n",
        "\n",
        "# We want more color bins than the default, so we create them here\n",
        "quantiles = np.linspace(0,1,num=12)\n",
        "bins = list(income[\"Median_Family_Income\"].quantile(quantiles))\n",
        "\n",
        "folium.Choropleth(geo_data=geometries,\n",
        "                data=income,\n",
        "                name=\"Median_Family_Income\",\n",
        "                columns=['FIPS_code', 'Median_Family_Income'],\n",
        "                key_on='feature.id',\n",
        "                fill_color='RdBu_r', # Red-Blue divergent colormap, reverse order (_r) to put the red for high\n",
        "                fill_opacity=0.5,\n",
        "                line_opacity=0.1,\n",
        "                legend_name='Median_Family_Income',\n",
        "                nan_fill_color = 'gray',\n",
        "                nan_fill_opacity = 0.25,\n",
        "                highlight=True,\n",
        "                bins=bins\n",
        ").add_to(fmap)\n",
        "\n",
        "folium.LayerControl().add_to(fmap)\n",
        "fmap"
      ],
      "execution_count": null,
      "outputs": []
    }
  ]
}