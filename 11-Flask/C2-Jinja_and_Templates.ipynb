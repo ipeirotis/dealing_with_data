{
  "nbformat": 4,
  "nbformat_minor": 0,
  "metadata": {
    "anaconda-cloud": {},
    "kernelspec": {
      "display_name": "Python 3",
      "language": "python",
      "name": "python3"
    },
    "language_info": {
      "codemirror_mode": {
        "name": "ipython",
        "version": 3
      },
      "file_extension": ".py",
      "mimetype": "text/x-python",
      "name": "python",
      "nbconvert_exporter": "python",
      "pygments_lexer": "ipython3",
      "version": "3.6.6"
    },
    "colab": {
      "name": "C-Jinja_and_Templates.ipynb",
      "provenance": [],
      "include_colab_link": true
    }
  },
  "cells": [
    {
      "cell_type": "markdown",
      "metadata": {
        "id": "view-in-github",
        "colab_type": "text"
      },
      "source": [
        "<a href=\"https://colab.research.google.com/github/ipeirotis/dealing_with_data/blob/master/11-Flask/C2-Jinja_and_Templates.ipynb\" target=\"_parent\"><img src=\"https://colab.research.google.com/assets/colab-badge.svg\" alt=\"Open In Colab\"/></a>"
      ]
    },
    {
      "cell_type": "markdown",
      "metadata": {
        "id": "4GQE_iOR7TXS"
      },
      "source": [
        "# Jinja Templates\n",
        "\n",
        "We now discuss how to use _data_ within our _templates_. We will be using a template engine called `Jinja` which can be installed as follows:"
      ]
    },
    {
      "cell_type": "code",
      "metadata": {
        "id": "OM0UbUhn7TXU"
      },
      "source": [
        "!pip install -U -q flask pyngrok"
      ],
      "execution_count": null,
      "outputs": []
    },
    {
      "cell_type": "markdown",
      "metadata": {
        "id": "5pQLkrN_7TXb"
      },
      "source": [
        "## Using Jinja for making HTML structure creation more flexible\n",
        "\n",
        "\n",
        "\n"
      ]
    },
    {
      "cell_type": "markdown",
      "source": [
        "### Saving pages to Google Drive\n",
        "\n",
        "Let's also modify our code for the webserver. To avoid losing our templates moving forward, we will now store the templates under a folder in Google Drive."
      ],
      "metadata": {
        "id": "777Wz6sP8Jk2"
      }
    },
    {
      "cell_type": "code",
      "metadata": {
        "id": "r9prWWP1WoOS"
      },
      "source": [
        "# This code connects Google Drive to Colab, and makes the\n",
        "# contents of Google Drive available under \"/content/drive/My Drive\"\n",
        "from google.colab import drive\n",
        "drive.mount('/content/drive')"
      ],
      "execution_count": null,
      "outputs": []
    },
    {
      "cell_type": "code",
      "source": [
        "# Create a folder on Google drive called \"templates\"\n",
        "!mkdir -p /content/drive/My Drive/templates"
      ],
      "metadata": {
        "id": "TsXN4diN8ZJU"
      },
      "execution_count": null,
      "outputs": []
    },
    {
      "cell_type": "code",
      "source": [
        "# @title Setup Code\n",
        "\n",
        "import os\n",
        "from flask import Flask, render_template\n",
        "from pyngrok import ngrok\n",
        "import datetime\n",
        "\n",
        "os.environ[\"FLASK_DEBUG\"] = \"true\"\n",
        "# Open a ngrok tunnel to the HTTP server\n",
        "ngrok_authtoken = '2WgDffgQcSJcesOPKNnZ1jvwxXJ_5sR4FFXtByxhjgkFB62QP'\n",
        "ngrok.set_auth_token(ngrok_authtoken)\n",
        "port = 5000\n",
        "public_url = ngrok.connect(port).public_url\n",
        "print(f\" * ngrok tunnel '{public_url}' -> 'http://127.0.0.1'\")"
      ],
      "metadata": {
        "id": "iRGAhQ2D7H8y"
      },
      "execution_count": null,
      "outputs": []
    },
    {
      "cell_type": "markdown",
      "source": [
        "### Using Templates"
      ],
      "metadata": {
        "id": "KBRhGXPH8h0f"
      }
    },
    {
      "cell_type": "markdown",
      "source": [
        "In our code so far, we have written a bit of HTML code within Python.\n",
        "\n",
        "This is not really a great setup. It is better to separate Python code from HTML code.\n",
        "\n",
        "\n"
      ],
      "metadata": {
        "id": "3vG5qGNs8Mx7"
      }
    },
    {
      "cell_type": "markdown",
      "source": [
        "We will save our HTML code under the `templates` directory that we created above. (It is under `/content/drive/My Drive/templates`.)\n",
        "\n",
        "Let's start by creating our first template:"
      ],
      "metadata": {
        "id": "Bbld5ABZ8x6z"
      }
    },
    {
      "cell_type": "markdown",
      "source": [
        "Create the follwing `index.html` and put it under the templates folder.\n",
        "\n",
        "```html\n",
        "\n",
        "<!DOCTYPE html>\n",
        "<html>\n",
        "<head>\n",
        "    <title>My Flask App</title>\n",
        "</head>\n",
        "<body>\n",
        "    <h1>Hello World!</h1>\n",
        "    <h4>Welcome to the Flask Lesson</h4>\n",
        "    <hr>\n",
        "    <div style=\"color: green\">\n",
        "        <strong>Below an image is displayed</strong>\n",
        "        <p>\n",
        "        <img width=\"300\" src=\"https://upload.wikimedia.org/wikipedia/en/thumb/5/58/NYU_logo.svg/1280px-NYU_logo.svg.png\"/>\n",
        "        <p>This is a simple example how to use HTML in Flask templates</p>\n",
        "    </div>\n",
        "    <p>More info you can find <a href=\"https://www.w3schools.com/html/default.asp\">here</a></p>\n",
        "</body>\n",
        "</html>\n",
        "\n",
        "```"
      ],
      "metadata": {
        "id": "4oXm1Q6EAY6s"
      }
    },
    {
      "cell_type": "code",
      "source": [
        "# Let's start and run our server:\n",
        "\n",
        "# Notice that we add a pointer to our templates folder\n",
        "app = Flask(__name__, template_folder = '/content/drive/My Drive/templates')\n",
        "app.config[\"BASE_URL\"] = public_url\n",
        "\n",
        "# Notice the use of the render_template function\n",
        "@app.route(\"/\")\n",
        "def home():\n",
        "    return render_template(\"index.html\")\n",
        "\n",
        "public_url = ngrok.connect(port).public_url\n",
        "print(f\" * ngrok tunnel '{public_url}' -> 'http://127.0.0.1'\")\n",
        "app.run(use_reloader=False, port=port)"
      ],
      "metadata": {
        "id": "-R0HgSr8ArU2"
      },
      "execution_count": null,
      "outputs": []
    },
    {
      "cell_type": "markdown",
      "source": [
        "### Using Templates with variables"
      ],
      "metadata": {
        "id": "6JEG0gdwA9vp"
      }
    },
    {
      "cell_type": "markdown",
      "source": [
        "\n",
        "We will see that our templates will have a bit of a special structure. We will have HTML that can be automatically populated with data that we pass from Python.\n",
        "\n",
        "Let's look at a simple example. Let's create an `index2.html` file in the templates folder. Notice in particular the `username`, and `today` elements:\n",
        "\n",
        "```html\n",
        "<html>\n",
        "  <title>My main page</title>\n",
        "  <body>\n",
        "    <h1>Hello, {{ username }}!</h1>\n",
        "    <h1>Today is {{ today }}</h1>\n",
        "  </body>\n",
        "</html>\n",
        "```\n",
        "\n"
      ],
      "metadata": {
        "id": "fUAry5V-AkUZ"
      }
    },
    {
      "cell_type": "markdown",
      "source": [
        "\n",
        "Under the covers, the `render_template` function invokes the [Jinja2](http://jinja.pocoo.org/) templating engine that is part of the Flask framework. Jinja2 substitutes `{{ ... }}` blocks with the corresponding values provided as template arguments."
      ],
      "metadata": {
        "id": "BjMgMfUN_fxl"
      }
    },
    {
      "cell_type": "code",
      "metadata": {
        "id": "AO4Km5xn79cT"
      },
      "source": [
        "# Let's start and run our server:\n",
        "\n",
        "# Notice that we add a pointer to our templates folder\n",
        "app = Flask(__name__, template_folder = '/content/drive/My Drive/templates')\n",
        "app.config[\"BASE_URL\"] = public_url\n",
        "\n",
        "# Notice the use of the render_template function\n",
        "# and the use of the parameters username and today\n",
        "# that we pass to the HTML file index.html\n",
        "@app.route(\"/\")\n",
        "def home():\n",
        "    today = datetime.date.today()\n",
        "    return render_template(\"index2.html\", username=\"Panos Ipeirotis\", today=today)\n",
        "\n",
        "public_url = ngrok.connect(port).public_url\n",
        "print(f\" * ngrok tunnel '{public_url}' -> 'http://127.0.0.1'\")\n",
        "app.run(use_reloader=False, port=port)"
      ],
      "execution_count": null,
      "outputs": []
    },
    {
      "cell_type": "markdown",
      "source": [
        "As you may see both keys (`username` and `today`) written in `{{ }}` brackets were replaced by their values defined in the `render_template` function (`\"Panos Ipeirotis\"` and respective today's date).\n"
      ],
      "metadata": {
        "id": "_8itDOITAEk7"
      }
    },
    {
      "cell_type": "markdown",
      "metadata": {
        "id": "9GCUD4x17TXd"
      },
      "source": [
        "## Jinja iterators\n",
        "\n",
        "The Jinja2 templates also support control statements (`if - else`) and `for`-loops, given inside `{% ... %}` blocks.\n",
        "\n",
        "For example, here is a `for` loop, that displays a list of persons name and their age provided in the varaible `persons` ([HTML tags `<ul>` and  `<li>`](https://www.w3schools.com/tags/tag_li.asp) are using for lists creation in HTML structure):\n",
        "\n",
        "Modify the usual web server code, and add the following function:\n",
        "\n",
        "```python\n",
        "@app.route(\"/actors\")\n",
        "def actors():\n",
        "    persons = [\n",
        "        {\"name\": \"Robert De Niro\", \"age\": 73},\n",
        "        {\"name\": \"Leonardo DiCaprio\", \"age\": 42},\n",
        "        {\"name\": \"Tom Hanks\", \"age\": 60},\n",
        "        {\"name\": \"Tom Cruise\", \"age\": 54}\n",
        "    ]\n",
        "    return render_template('actors.html', title=\"My favorite actors\", actors=persons)\n",
        "```\n",
        "\n",
        "And create a file in \"actors.html\" in under the `templates` folder.\n",
        "\n",
        "```html\n",
        "<body>\n",
        "    <h2>{{ title }}</h2>\n",
        "    <ul>\n",
        "        {% for i in actors %}\n",
        "        <li>Name: {{ i.name }}; age: {{ i.age }}</li>\n",
        "        {% endfor %}\n",
        "    </ul>\n",
        "</body>\n",
        "```\n",
        "\n",
        "The logic is very similar to Python's one, but pay attention that `for` loop must be closed by `endfor` clause. <br/>\n"
      ]
    },
    {
      "cell_type": "code",
      "source": [
        "# Let's start and run our server\n",
        "# Remember to create the actors.html file under templates\n",
        "\n",
        "app = Flask(__name__, template_folder = '/content/drive/My Drive/templates')\n",
        "app.config[\"BASE_URL\"] = public_url\n",
        "\n",
        "@app.route(\"/actors\")\n",
        "def actors():\n",
        "    persons = [\n",
        "        {\"name\": \"Robert De Niro\", \"age\": 73},\n",
        "        {\"name\": \"Leonardo DiCaprio\", \"age\": 42},\n",
        "        {\"name\": \"Tom Hanks\", \"age\": 60},\n",
        "        {\"name\": \"Tom Cruise\", \"age\": 54}\n",
        "    ]\n",
        "    return render_template('actors.html', title=\"My favorite actors\", actors=persons)\n",
        "\n",
        "public_url = ngrok.connect(port).public_url\n",
        "print(f\" * Our page is at {public_url}/actors\")\n",
        "app.run(use_reloader=False, port=port)"
      ],
      "metadata": {
        "id": "eKhlBwwHCAn2"
      },
      "execution_count": null,
      "outputs": []
    },
    {
      "cell_type": "markdown",
      "source": [
        "### Conditional statements\n",
        "\n",
        "Let's demonstrate how to use `if`-statements and in the above template make bold all rows where actor is elder than 50 and underline actors who is 60 years old.\n",
        "\n",
        "```html\n",
        "<body>\n",
        "    <h2>{{ title }}</h2>\n",
        "    <ul>\n",
        "        {% for i in actors %}\n",
        "            <li>\n",
        "                {% if i.age == 60 %}\n",
        "                    <u>Name: {{ i.name }}; age: {{ i.age }}</u>\n",
        "                {% elif i.age > 50 %}\n",
        "                    <strong>Name: {{ i.name }}; age: {{ i.age }}</strong>\n",
        "                {% else %}\n",
        "                    Name: {{ i.name }}; age: {{ i.age }}\n",
        "                {% endif %}\n",
        "            </li>\n",
        "        {% endfor %}\n",
        "    </ul>\n",
        "</body>\n",
        "```\n",
        "\n",
        "Also `if`-statement should be closed by `endif` command.\n",
        "\n",
        "You can\n",
        "\n",
        "The capabilities proposing by Jinja2 usage are more wide than we have shown, but it will be absolutely enough for majority of templates creation. More information you may find [here](http://jinja.pocoo.org/docs/2.9/templates/)."
      ],
      "metadata": {
        "id": "DTA8L_6KB4cv"
      }
    },
    {
      "cell_type": "markdown",
      "metadata": {
        "id": "GWuqR2Mk7TXf"
      },
      "source": [
        "### Exercise\n",
        "\n",
        "There is a list with food name and calories\n",
        "\n",
        ">```python\n",
        "food = [\n",
        "    {\"food\": \"Apple pie, 1 piece\", \"calories\": 405, \"protein\": 3, \"fat\": 18, \"carbohydrate\": 60},\n",
        "    {\"food\": \"Banana\", \"calories\": 105, \"protein\": 1, \"fat\": 0, \"carbohydrate\": 27},  \n",
        "    {\"food\": \"Beaf steak\", \"calories\": 240, \"protein\": 23, \"fat\": 15, \"carbohydrate\": 0},\n",
        "    {\"food\": \"Carrot\", \"calories\": 30, \"protein\": 1, \"fat\": 0, \"carbohydrate\": 7},\n",
        "    {\"food\": \"Chicken soup, 1 cup\", \"calories\": 60, \"protein\": 4, \"fat\": 2, \"carbohydrate\": 7}\n",
        "]\n",
        "```\n",
        "\n",
        "Using ONLY Jinja2 template syntax display at the new page http://your_ip:5000/food the list of foods. Feel free to add conditional formatting, eg  when the number of calories exceeds a limit.\n",
        "\n",
        "**Hint:** You need to create a new HTML template and a new view function the webserver code and set fot it the respective URL."
      ]
    },
    {
      "cell_type": "code",
      "metadata": {
        "id": "xoheCvAJ7TXg"
      },
      "source": [],
      "execution_count": null,
      "outputs": []
    }
  ]
}