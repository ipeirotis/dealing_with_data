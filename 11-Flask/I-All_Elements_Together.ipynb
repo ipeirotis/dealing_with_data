{
  "nbformat": 4,
  "nbformat_minor": 0,
  "metadata": {
    "anaconda-cloud": {},
    "kernelspec": {
      "display_name": "Python 3",
      "language": "python",
      "name": "python3"
    },
    "language_info": {
      "codemirror_mode": {
        "name": "ipython",
        "version": 3
      },
      "file_extension": ".py",
      "mimetype": "text/x-python",
      "name": "python",
      "nbconvert_exporter": "python",
      "pygments_lexer": "ipython3",
      "version": "3.6.6"
    },
    "colab": {
      "name": "I-All_Elements_Together.ipynb",
      "provenance": [],
      "include_colab_link": true
    }
  },
  "cells": [
    {
      "cell_type": "markdown",
      "metadata": {
        "id": "view-in-github",
        "colab_type": "text"
      },
      "source": [
        "<a href=\"https://colab.research.google.com/github/ipeirotis/dealing_with_data/blob/master/11-Flask/I-All_Elements_Together.ipynb\" target=\"_parent\"><img src=\"https://colab.research.google.com/assets/colab-badge.svg\" alt=\"Open In Colab\"/></a>"
      ]
    },
    {
      "cell_type": "markdown",
      "metadata": {
        "id": "SkZqhwkf8NUg"
      },
      "source": [
        "# All pieces together\n",
        "\n",
        "This is just a notebook that puts together all the pieces of the code that we have been writing during this tutorial."
      ]
    },
    {
      "cell_type": "code",
      "metadata": {
        "id": "O9o9NsaO8hMy"
      },
      "source": [
        "!pip install -U PyMySQL sqlalchemy flask pyngrok geopandas pygeos"
      ],
      "execution_count": null,
      "outputs": []
    },
    {
      "cell_type": "code",
      "metadata": {
        "id": "LJo_Qn-BD1hr"
      },
      "source": [
        "from google.colab import drive\n",
        "drive.mount('/content/drive')"
      ],
      "execution_count": null,
      "outputs": []
    },
    {
      "cell_type": "code",
      "source": [
        "import os\n",
        "import threading\n",
        "\n",
        "from flask import Flask, render_template, jsonify, request\n",
        "from pyngrok import ngrok\n",
        "\n",
        "from sqlalchemy import create_engine\n",
        "import pandas as pd\n",
        "import base64\n",
        "from io import BytesIO\n",
        "import matplotlib.pyplot as plt\n",
        "import geopandas as gpd\n",
        "\n",
        "# Setup Flask and ngrok\n",
        "os.environ[\"FLASK_DEBUG\"] = \"true\"\n",
        "\n",
        "app = Flask(__name__, template_folder = '/content/drive/MyDrive/templates')\n",
        "port = 5000\n",
        "\n",
        "# Open a ngrok tunnel to the HTTP server\n",
        "ngrok_authtoken = '2EYf3qVk9mi739HjPwSNZXWAtfy_4jF9NAhGqVVVJmm4YehPW'\n",
        "ngrok.set_auth_token(ngrok_authtoken)\n",
        "public_url = ngrok.connect(port).public_url\n",
        "print(f\" * ngrok tunnel '{public_url}' -> 'http://127.0.0.1:{port}'\")\n",
        "\n",
        "# Update any base URLs to use the public ngrok URL\n",
        "app.config[\"BASE_URL\"] = public_url\n",
        "\n",
        "# Setup a connection to the database\n",
        "conn_string = 'mysql+pymysql://{user}:{password}@{host}/{db}?charset={encoding}'.format(\n",
        "    host = 'db.ipeirotis.org', \n",
        "    user = 'student',\n",
        "    db = 'citibike_fall2017',\n",
        "    password = 'dwdstudent2015',\n",
        "    encoding = 'utf8mb4')\n",
        "engine = create_engine(conn_string)\n",
        "\n",
        "# Shapefile dataset from NYC Open Data: https://data.cityofnewyork.us/City-Government/Neighborhood-Tabulation-Areas/cpf4-rkhq\n",
        "!curl 'https://data.cityofnewyork.us/api/geospatial/cpf4-rkhq?method=export&format=GeoJSON' -o nyc-neighborhoods.geojson\n",
        "\n",
        "# Load the shapefile, to create plots on top of the NYC map\n",
        "df_nyc = gpd.GeoDataFrame.from_file('nyc-neighborhoods.geojson')"
      ],
      "metadata": {
        "id": "Ad0WRcmO3RTm"
      },
      "execution_count": null,
      "outputs": []
    },
    {
      "cell_type": "markdown",
      "source": [
        "# Create the HTML pages"
      ],
      "metadata": {
        "id": "CIngcD_AcfPg"
      }
    },
    {
      "cell_type": "markdown",
      "source": [
        "Remember to put the `search_stations.html` and the `list_stations.html` pages under `templates`."
      ],
      "metadata": {
        "id": "Hfgnlhmtci5q"
      }
    },
    {
      "cell_type": "code",
      "source": [
        "# Our website has just two pages.\n",
        "\n",
        "\n",
        "# The main page shows just a big box with a search interface\n",
        "# The HTML for the page is at \n",
        "# https://github.com/ipeirotis/dealing_with_data/blob/master/11-Flask/search_stations.html\n",
        "@app.route('/')\n",
        "def home():\n",
        "    return render_template('search_stations.html')\n",
        "\n",
        "# This page shows the list of the stations\n",
        "# Optionally, we also pass a query to the page with \n",
        "# the name of the station and we do an approximate search\n",
        "#\n",
        "# The HTML for the page is at \n",
        "# https://github.com/ipeirotis/dealing_with_data/blob/master/11-Flask/list_stations.html\n",
        "@app.route('/list_stations',  methods=['GET'])\n",
        "def list_stations():\n",
        "  return render_template(\"list_stations.html\")    "
      ],
      "metadata": {
        "id": "ERdrlBHy3aaK"
      },
      "execution_count": null,
      "outputs": []
    },
    {
      "cell_type": "markdown",
      "source": [
        "# Creating the API calls"
      ],
      "metadata": {
        "id": "I3fxTXGSdGLH"
      }
    },
    {
      "cell_type": "markdown",
      "source": [
        "Below we write the code for the API calls that will power our webpages."
      ],
      "metadata": {
        "id": "nocXTlIBdJHt"
      }
    },
    {
      "cell_type": "code",
      "source": [
        "# This is a function that connects to the database and returns back a \n",
        "# list of Citibike stations. It has an optional paramter \"search_name\"\n",
        "# which will limit the number of stations that are returned.\n",
        "#\n",
        "# We also have the start/limit parameters that limit the number of \n",
        "# returned stations\n",
        "def get_citibike_stations(search_name=None, start=0, limit=1000):\n",
        "  sql = \"SELECT DISTINCT id, name, capacity, lat, lon  FROM status_fall2017\"\n",
        "\n",
        "  # If we have a search query, we add a condition in SQL\n",
        "  if search_name:\n",
        "    sql += \" WHERE name LIKE %(station_name_query)s\"\n",
        "\n",
        "  # This (optional) part limits the number of returned stations\n",
        "  # The offset part allows us to get \"later pages\" of results\n",
        "  # if the limit is not sufficient to get everything back\n",
        "  sql += f\" LIMIT {limit} OFFSET {start}\"\n",
        "\n",
        "  with engine.connect() as con:\n",
        "    # If there is a search query, we populate the parameter in SQL\n",
        "    # Since we want to have an approximate query uisng LIKE, \n",
        "    # we put the wildcard character before and after the search string \n",
        "    if search_name: \n",
        "      params = {\"station_name_query\": '%'+search_name+'%' }\n",
        "      stations = pd.read_sql(sql, con=con, params=params)\n",
        "    else: \n",
        "      stations = pd.read_sql(sql, con=con)\n",
        "\n",
        "  return stations"
      ],
      "metadata": {
        "id": "hGauv-BzSNFE"
      },
      "execution_count": null,
      "outputs": []
    },
    {
      "cell_type": "code",
      "source": [
        "# This is the API call that returns back a list of the Citibike stations\n",
        "# Optionally we pass a query parameter call \"name\" which we then use to \n",
        "# search for Citibike stations that contain that string in their name\n",
        "\n",
        "@app.route('/citibike_api')\n",
        "def citibike_stations():\n",
        "\n",
        "  search_query = request.args.get('station_name_query')\n",
        "  \n",
        "  stations = get_citibike_stations(search_name = search_query)\n",
        "\n",
        "  # Convert the returned dataframe into a list of dictionaries\n",
        "  list_of_stations = stations.to_dict(orient='records')\n",
        "  api_results = {\"stations\": list_of_stations}\n",
        "\n",
        "  # We JSON-ify our dictionary and return it as the API response\n",
        "  return jsonify(api_results)"
      ],
      "metadata": {
        "id": "Z0XyG5_U3eGX"
      },
      "execution_count": null,
      "outputs": []
    },
    {
      "cell_type": "code",
      "source": [
        "# This function gets as input a dataframe with the stations \n",
        "# and returns back a plot. The plot in encoded in \"base64\"\n",
        "# encoding, so that we can return the image back as part of \n",
        "# an API call that returns back JSON data.\n",
        "def create_station_map_image(stations):\n",
        "\n",
        "  fig, ax = plt.subplots(figsize=(7, 5))\n",
        "\n",
        "  # Create the map of NYC neighborhoods\n",
        "  nyc_map = df_nyc.plot(linewidth=0.1, color='White', edgecolor='Gray', ax = ax)\n",
        "\n",
        "  # Plot the matching stations\n",
        "  ax = stations.plot(kind='scatter', x='lon', y='lat', s=3, ax=nyc_map)\n",
        "\n",
        "  buf = BytesIO()\n",
        "  fig.savefig(buf, format=\"png\")\n",
        "  b64encoded = base64.b64encode(buf.getbuffer())\n",
        "  # Embed the result in the html output.\n",
        "  image_data = b64encoded.decode(\"ascii\")\n",
        "\n",
        "  return image_data"
      ],
      "metadata": {
        "id": "PV_cbSIEU4Y0"
      },
      "execution_count": null,
      "outputs": []
    },
    {
      "cell_type": "code",
      "source": [
        "# This API call returns a plot, in JSON format\n",
        "# Specifically, this returns a map of NYC with the \n",
        "# stations that match the query\n",
        "@app.route('/station_map',  methods=['GET'])\n",
        "def station_map():\n",
        "\n",
        "  search_query = request.args.get('station_name_query')\n",
        "  \n",
        "  stations = get_citibike_stations(search_name = search_query)\n",
        "\n",
        "  image_data = create_station_map_image(stations)\n",
        "\n",
        "  # Create the response. We will put the retrieved data as a list of\n",
        "  # dictionaries, under the key \"stations\".\n",
        "  results = {\"image_data\": \"data:image/png;base64,\" + image_data}\n",
        "\n",
        "  # We JSON-ify our dictionary and return it as the API response\n",
        "  return jsonify(results)"
      ],
      "metadata": {
        "id": "7aEI6-bS4JE2"
      },
      "execution_count": null,
      "outputs": []
    },
    {
      "cell_type": "code",
      "metadata": {
        "id": "r2y9jsgqEKAI"
      },
      "source": [
        "# Start the webserver.\n",
        "\n",
        "print(f\" * ngrok tunnel '{public_url}' -> 'http://127.0.0.1:{port}'\")\n",
        "app.run(use_reloader=False, port=port)"
      ],
      "execution_count": null,
      "outputs": []
    },
    {
      "cell_type": "code",
      "metadata": {
        "id": "CpVnDZwwXQ3E"
      },
      "source": [],
      "execution_count": null,
      "outputs": []
    }
  ]
}
