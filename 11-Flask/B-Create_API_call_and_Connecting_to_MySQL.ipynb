{
  "cells": [
    {
      "cell_type": "markdown",
      "metadata": {
        "id": "view-in-github",
        "colab_type": "text"
      },
      "source": [
        "<a href=\"https://colab.research.google.com/github/ipeirotis/dealing_with_data/blob/master/11-Flask/B-Create_API_call_and_Connecting_to_MySQL.ipynb\" target=\"_parent\"><img src=\"https://colab.research.google.com/assets/colab-badge.svg\" alt=\"Open In Colab\"/></a>"
      ]
    },
    {
      "cell_type": "markdown",
      "metadata": {
        "id": "SkZqhwkf8NUg"
      },
      "source": [
        "# Creating of a Flask application showing Citibike stations\n",
        "\n",
        "\n",
        "In this segment we will create a basic app, where we will connect to the Citibike database, and display the list of stations.\n",
        "\n"
      ]
    },
    {
      "cell_type": "code",
      "execution_count": null,
      "metadata": {
        "id": "O9o9NsaO8hMy"
      },
      "outputs": [],
      "source": [
        "!pip install -U PyMySQL sqlalchemy flask pyngrok geopandas"
      ]
    },
    {
      "cell_type": "markdown",
      "metadata": {
        "id": "IU8IJ-_7aEf-"
      },
      "source": [
        "## A Refresher\n",
        "\n",
        "Let's remember first how to get data from the database."
      ]
    },
    {
      "cell_type": "code",
      "execution_count": null,
      "metadata": {
        "id": "EkIL-uRK8NUi"
      },
      "outputs": [],
      "source": [
        "# This code creates a connection to the database\n",
        "from sqlalchemy import create_engine, text\n",
        "import pandas as pd\n",
        "import geopandas as gpd\n",
        "\n",
        "conn_string = 'mysql+pymysql://{user}:{password}@{host}/{db}?charset={encoding}'.format(\n",
        "    host = 'db.ipeirotis.org',\n",
        "    user = 'student',\n",
        "    db = 'citibike_fall2017',\n",
        "    password = 'dwdstudent2015',\n",
        "    encoding = 'utf8mb4')\n",
        "\n",
        "engine = create_engine(conn_string)"
      ]
    },
    {
      "cell_type": "code",
      "execution_count": null,
      "metadata": {
        "id": "HZ8BAoiy8NUm"
      },
      "outputs": [],
      "source": [
        "sql = \"SELECT DISTINCT id, name, capacity, lat, lon  FROM status_fall2017\"\n",
        "\n",
        "with engine.connect() as connection:\n",
        "    stations = pd.read_sql(text(sql), con=connection)\n",
        "\n",
        "stations.to_dict(orient='records')"
      ]
    },
    {
      "cell_type": "code",
      "source": [
        "stations.plot(kind='scatter', x='lon', y='lat')"
      ],
      "metadata": {
        "id": "nW_qe4HEZU63"
      },
      "execution_count": null,
      "outputs": []
    },
    {
      "cell_type": "code",
      "source": [
        "# Dataset from NYC Open Data: https://data.cityofnewyork.us/City-Government/Neighborhood-Tabulation-Areas/cpf4-rkhq\n",
        "!curl 'https://data.cityofnewyork.us/api/geospatial/cpf4-rkhq?method=export&format=GeoJSON' -o nyc-neighborhoods.geojson\n",
        "\n",
        "# Load the shapefile\n",
        "df_nyc = gpd.GeoDataFrame.from_file('nyc-neighborhoods.geojson')\n",
        "\n",
        "# Create the map of NYC neighborhoods\n",
        "nyc_map = df_nyc.plot(linewidth=0.5, color='White', edgecolor='Black', figsize=(7, 5))\n",
        "\n",
        "# Plot the stations on top of the map\n",
        "stations.plot(kind='scatter', x='lon', y='lat', s=1, ax = nyc_map)"
      ],
      "metadata": {
        "id": "r0jXjFHOZxsL"
      },
      "execution_count": null,
      "outputs": []
    },
    {
      "cell_type": "code",
      "source": [
        "# The code below is purely optional.\n",
        "# For comparison, let's get the current data from the Citibike API\n",
        "import requests\n",
        "\n",
        "# This gives information for each station that remains stable over time\n",
        "url_stations = \"https://gbfs.citibikenyc.com/gbfs/en/station_information.json\"\n",
        "\n",
        "# We fetch for now just the time-invariant data\n",
        "results = requests.get(url_stations).json()\n",
        "\n",
        "# Put the results from the Citibike API in a dataframe\n",
        "df = pd.DataFrame(results['data']['stations'])\n",
        "\n",
        "# Remove the noisy lon/lat points with coordinates (0,0)\n",
        "df = df.query(\"lon!=0  and lat!=0\")\n",
        "\n",
        "# Create the map of NYC neighborhoods\n",
        "nyc_map = df_nyc.plot(linewidth=0.5, color='White', edgecolor='Black', figsize=(7, 5))\n",
        "\n",
        "# Plot the stations on top of the map\n",
        "df.plot(kind='scatter', x='lon', y='lat', s=1, ax = nyc_map)"
      ],
      "metadata": {
        "id": "Zw2TM-vkbnXN"
      },
      "execution_count": null,
      "outputs": []
    },
    {
      "cell_type": "markdown",
      "metadata": {
        "id": "p886T8018NUr"
      },
      "source": [
        "## Creating an API endpoint"
      ]
    },
    {
      "cell_type": "code",
      "source": [
        "import os\n",
        "import threading\n",
        "\n",
        "from flask import Flask\n",
        "from pyngrok import ngrok\n",
        "\n",
        "from flask import render_template, jsonify\n",
        "from sqlalchemy import create_engine\n",
        "import pandas as pd\n",
        "import base64\n",
        "from io import BytesIO\n",
        "import matplotlib.pyplot as plt"
      ],
      "metadata": {
        "id": "gXrRs3aMN-mN"
      },
      "execution_count": null,
      "outputs": []
    },
    {
      "cell_type": "code",
      "execution_count": null,
      "metadata": {
        "id": "ENdW5LfNDu1x"
      },
      "outputs": [],
      "source": [
        "# Setup Flask and ngrok\n",
        "\n",
        "os.environ[\"FLASK_DEBUG\"] = \"true\"\n",
        "\n",
        "app = Flask(__name__)\n",
        "port = 5000\n",
        "\n",
        "# Open a ngrok tunnel to the HTTP server\n",
        "ngrok_authtoken = '2WgDffgQcSJcesOPKNnZ1jvwxXJ_5sR4FFXtByxhjgkFB62QP'\n",
        "ngrok.set_auth_token(ngrok_authtoken)\n",
        "public_url = ngrok.connect(port).public_url\n",
        "print(f\" * ngrok tunnel '{public_url}' -> 'http://127.0.0.1:{port}'\")\n",
        "\n",
        "# Update any base URLs to use the public ngrok URL\n",
        "app.config[\"BASE_URL\"] = public_url\n"
      ]
    },
    {
      "cell_type": "code",
      "execution_count": null,
      "metadata": {
        "id": "WitaXPMD3uq-"
      },
      "outputs": [],
      "source": [
        "# Setup a connection to the database\n",
        "conn_string = 'mysql+pymysql://{user}:{password}@{host}/{db}?charset={encoding}'.format(\n",
        "    host = 'db.ipeirotis.org',\n",
        "    user = 'student',\n",
        "    db = 'citibike_fall2017',\n",
        "    password = 'dwdstudent2015',\n",
        "    encoding = 'utf8mb4')\n",
        "engine = create_engine(conn_string)"
      ]
    },
    {
      "cell_type": "markdown",
      "metadata": {
        "id": "0Lq0I6tz8NUv"
      },
      "source": [
        "A few things to notice.\n",
        "\n",
        "First, notice the `@app.route('/citibike_api',  methods=['GET'])` command. This part specifies that our API endpoint will be accessible under the `http://our_web_server_address/citibike_api`.\n",
        "\n",
        "\n",
        "Then, we define the function `def citibike_stations():` that will create the response of that API call. What the function returns is what the API call will return back.\n",
        "\n",
        "Notice that insider the `citibike_stations` function, we connect to the database, and issue an SQL query to the database.\n",
        "\n",
        "Finally, we get back the results of the query, we put the results in a Python dictionary, and we use the `jsonify` function to convert our dictionary to JSON and return it as the API result.\n"
      ]
    },
    {
      "cell_type": "code",
      "execution_count": null,
      "metadata": {
        "id": "yFRIhQmhmCsy"
      },
      "outputs": [],
      "source": [
        "# Define Flask routes\n",
        "@app.route(\"/\")\n",
        "def index():\n",
        "    return \"Hello from Colab!\""
      ]
    },
    {
      "cell_type": "code",
      "execution_count": null,
      "metadata": {
        "id": "9n8aCC6QaeJq"
      },
      "outputs": [],
      "source": [
        "@app.route('/citibike_api',  methods=['GET'])\n",
        "def citibike_stations():\n",
        "\n",
        "    sql = \"SELECT DISTINCT id, name, capacity, lat, lon  FROM status_fall2017\"\n",
        "    # Connect to the database, execute the query, and get back the results\n",
        "    with engine.connect() as connection:\n",
        "        stations = pd.read_sql(text(sql), con=connection)\n",
        "\n",
        "    # Create the response. We will put the retrieved data as a list of\n",
        "    # dictionaries, under the key \"stations\".\n",
        "    list_of_stations = stations.to_dict(orient='records')\n",
        "\n",
        "    api_results = {\"stations\": list_of_stations}\n",
        "\n",
        "    # We JSON-ify our dictionary and return it as the API response\n",
        "    return jsonify(api_results)"
      ]
    },
    {
      "cell_type": "markdown",
      "source": [
        "The next api call `/station_map` is a bit different. Instead of returning back the raw data, creates a plot, and then returns the image data in the JSON response. The image data is encoded in \"base64\" format. We will examine how we can use such API calls to serve dynamically generated images for our website."
      ],
      "metadata": {
        "id": "cgmyJ6YtTFMZ"
      }
    },
    {
      "cell_type": "code",
      "execution_count": null,
      "metadata": {
        "id": "ferWNpAY329c"
      },
      "outputs": [],
      "source": [
        "@app.route('/station_map',  methods=['GET'])\n",
        "def station_map():\n",
        "\n",
        "    # Connect to the database, execute the query, and get back the results\n",
        "    sql = \"SELECT DISTINCT id, name, capacity, lat, lon  FROM status_fall2017\"\n",
        "    with engine.connect() as connection:\n",
        "        stations = pd.read_sql(text(sql), con=connection)\n",
        "\n",
        "    fig, ax = plt.subplots()\n",
        "    ax = stations.plot(kind='scatter', x='lon', y='lat', ax=ax)\n",
        "\n",
        "    buf = BytesIO()\n",
        "    fig.savefig(buf, format=\"png\")\n",
        "    # Embed the result in the html output.\n",
        "    data = base64.b64encode(buf.getbuffer()).decode(\"ascii\")\n",
        "\n",
        "    # Create the response. We will put the retrieved data as a list of\n",
        "    # dictionaries, under the key \"stations\".\n",
        "    results = {\"image\": data}\n",
        "\n",
        "    # We JSON-ify our dictionary and return it as the API response\n",
        "    return jsonify(results)\n",
        "\n",
        "    # return f\"<img src='data:image/png;base64,{data}'/>\"\n",
        "\n"
      ]
    },
    {
      "cell_type": "code",
      "source": [
        "@app.route('/station_image',  methods=['GET'])\n",
        "def station_image():\n",
        "\n",
        "    # Connect to the database, execute the query, and get back the results\n",
        "    sql = \"SELECT DISTINCT id, name, capacity, lat, lon  FROM status_fall2017\"\n",
        "    with engine.connect() as connection:\n",
        "        stations = pd.read_sql(text(sql), con=connection)\n",
        "\n",
        "    fig, ax = plt.subplots()\n",
        "    ax = stations.plot(kind='scatter', x='lon', y='lat', ax=ax)\n",
        "\n",
        "    buf = BytesIO()\n",
        "    fig.savefig(buf, format=\"png\")\n",
        "    # Embed the result in the html output.\n",
        "    data = base64.b64encode(buf.getbuffer()).decode(\"ascii\")\n",
        "\n",
        "    # Create the response. We will put the retrieved data as a list of\n",
        "    # dictionaries, under the key \"stations\".\n",
        "    results = {\"image\": data}\n",
        "\n",
        "    # We JSON-ify our dictionary and return it as the API response\n",
        "    # return jsonify(results)\n",
        "\n",
        "    return f\"<img src='data:image/png;base64,{data}'/>\"\n",
        "\n"
      ],
      "metadata": {
        "id": "Ca9qOJle7Bht"
      },
      "execution_count": null,
      "outputs": []
    },
    {
      "cell_type": "code",
      "execution_count": null,
      "metadata": {
        "id": "tCqSOSD_3wdA"
      },
      "outputs": [],
      "source": [
        "# Once you run your app, check the /citibike_api and the /station_map API calls\n",
        "\n",
        "print(f\" * ngrok tunnel '{public_url}' -> 'http://127.0.0.1:{port}'\")\n",
        "app.run(use_reloader=False, port=port)"
      ]
    },
    {
      "cell_type": "markdown",
      "source": [
        "## Accepting Parameters"
      ],
      "metadata": {
        "id": "uyVHCLtV3Kmi"
      }
    },
    {
      "cell_type": "markdown",
      "source": [
        "Now let's see how we can query for the status of a Citibike station over time.\n",
        "\n",
        "For this part, we want to create a new function, where we will pass the `station_id` as a **parameter**. Then our code will read the value of the parameter `station_id` and then will query the database to get the status of that station.\n",
        "\n",
        "The related pieces of code for reading a parameter are the following\n",
        "\n",
        "> `from flask import request`\n",
        "\n",
        "> `station_id = request.args.get('station_id')`"
      ],
      "metadata": {
        "id": "sGRLii5K3VBL"
      }
    },
    {
      "cell_type": "code",
      "source": [
        "@app.route('/station_status')\n",
        "def station_status():\n",
        "  \"\"\"\n",
        "    API endpoint to get the status of a specific Citibike station.\n",
        "    \"\"\"\n",
        "  param = request.args.get('station_id')\n",
        "  try:\n",
        "    param_value = int(param)\n",
        "  except:\n",
        "    return jsonify({\"error\": \"No station_id parameter given or other problem\"})\n",
        "\n",
        "  sql = '''SELECT available_bikes,\n",
        "                      available_docks,\n",
        "                      capacity,\n",
        "                      available_bikes / capacity AS percent_full,\n",
        "                      communication_time\n",
        "               FROM status_fall2017\n",
        "               WHERE id = :station_id'''\n",
        "\n",
        "  with engine.connect() as con:\n",
        "    station_status = pd.read_sql(text(sql),\n",
        "                                 con=con,\n",
        "                                 params={\"station_id\": param_value})\n",
        "\n",
        "  station_status_over_time = station_status.to_dict(orient='records')\n",
        "\n",
        "  api_results = {\n",
        "      \"station_id\": param_value,\n",
        "      \"status_over_time\": station_status_over_time\n",
        "  }\n",
        "\n",
        "  # We JSON-ify our dictionary and return it as the API response\n",
        "  return jsonify(api_results)"
      ],
      "metadata": {
        "id": "cB9tPsmE3cji"
      },
      "execution_count": null,
      "outputs": []
    },
    {
      "cell_type": "code",
      "source": [
        "import sqlalchemy\n",
        "sqlalchemy.__version__"
      ],
      "metadata": {
        "id": "9dL7uP-JBZ_A"
      },
      "execution_count": null,
      "outputs": []
    },
    {
      "cell_type": "code",
      "source": [
        "# Now, in addition to the /citibike_api and the /station_map API calls\n",
        "# you also have the /station_status API call.\n",
        "\n",
        "# You can visit then https://<YOURIP>/station_status?station_id=72\n",
        "# and see the results\n",
        "\n",
        "print(f\" * ngrok tunnel '{public_url}' -> 'http://127.0.0.1:{port}'\")\n",
        "print(f\" * ngrok tunnel '{public_url}/station_status?station_id=72 ' -> 'http://127.0.0.1:{port}'\")\n",
        "app.run(use_reloader=False, port=port)"
      ],
      "metadata": {
        "id": "BcJ6RDpG4Hz8"
      },
      "execution_count": null,
      "outputs": []
    },
    {
      "cell_type": "markdown",
      "source": [
        "## Exercise\n",
        "\n",
        "a. Connect to a database of your choice and create an API call that returns the results from the database in JSON format. (For example, return the recipe entries from your database, in JSON format.)\n",
        "\n",
        "b. Using the results from your query is part (a), create a plot and create an API call that return the \"base64\" of the plot.\n",
        "\n",
        "c. Create an API call that receives a parameter."
      ],
      "metadata": {
        "id": "7pb2N1v5cxfX"
      }
    }
  ],
  "metadata": {
    "anaconda-cloud": {},
    "colab": {
      "name": "B-Create_API_call_and_Connecting_to_MySQL.ipynb",
      "provenance": [],
      "include_colab_link": true
    },
    "kernelspec": {
      "display_name": "Python 3 (ipykernel)",
      "language": "python",
      "name": "python3"
    },
    "language_info": {
      "codemirror_mode": {
        "name": "ipython",
        "version": 3
      },
      "file_extension": ".py",
      "mimetype": "text/x-python",
      "name": "python",
      "nbconvert_exporter": "python",
      "pygments_lexer": "ipython3",
      "version": "3.10.4"
    }
  },
  "nbformat": 4,
  "nbformat_minor": 0
}