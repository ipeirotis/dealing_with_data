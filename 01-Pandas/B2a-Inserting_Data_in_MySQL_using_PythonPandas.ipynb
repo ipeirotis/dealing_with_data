{
  "cells": [
    {
      "cell_type": "markdown",
      "metadata": {
        "id": "view-in-github",
        "colab_type": "text"
      },
      "source": [
        "<a href=\"https://colab.research.google.com/github/ipeirotis/dealing_with_data/blob/master/01-Pandas/B2a-Inserting_Data_in_MySQL_using_PythonPandas.ipynb\" target=\"_parent\"><img src=\"https://colab.research.google.com/assets/colab-badge.svg\" alt=\"Open In Colab\"/></a>"
      ]
    },
    {
      "cell_type": "markdown",
      "metadata": {
        "id": "N75EKVk3-4Ie"
      },
      "source": [
        "## Inserting and Reading data from MySQL using Pandas\n",
        "\n",
        "First let's start with a basic piece of code that fetches the data that we want to insert in the database. For our example, we will get the data about the Citibike stations, using the correspoding API call provided by the Citibike website:"
      ]
    },
    {
      "cell_type": "code",
      "execution_count": null,
      "metadata": {
        "id": "rO1DzwuX-4Ii"
      },
      "outputs": [],
      "source": [
        "!pip install -U -q PyMySQL sqlalchemy"
      ]
    },
    {
      "cell_type": "code",
      "execution_count": null,
      "metadata": {
        "id": "EJlZrTT7-4Ij"
      },
      "outputs": [],
      "source": [
        "import requests"
      ]
    },
    {
      "cell_type": "code",
      "execution_count": null,
      "metadata": {
        "id": "eWtOxTSp-4Ik"
      },
      "outputs": [],
      "source": [
        "# Let's get the data from the Citibike API\n",
        "\n",
        "# This gives information for each station that remains stable over time\n",
        "url_stations = \"https://gbfs.citibikenyc.com/gbfs/en/station_information.json\"\n",
        "# This gives the live status of all the stations (e.g., bikes available etc)\n",
        "url_status = \"https://gbfs.citibikenyc.com/gbfs/en/station_status.json\"\n",
        "\n",
        "# We fetch for now just the time-invariant data\n",
        "results = requests.get(url_stations).json()"
      ]
    },
    {
      "cell_type": "code",
      "execution_count": null,
      "metadata": {
        "id": "FUcH_Eqd-4Ik"
      },
      "outputs": [],
      "source": [
        "# We only need a subset of the data in the JSON returned by the Citibike API, so we keep only what we need\n",
        "data = results[\"data\"][\"stations\"]"
      ]
    },
    {
      "cell_type": "code",
      "execution_count": null,
      "metadata": {
        "id": "7C2PBDad-4Il"
      },
      "outputs": [],
      "source": [
        "len(data)"
      ]
    },
    {
      "cell_type": "code",
      "execution_count": null,
      "metadata": {
        "id": "Q5-TBkh6-4Il"
      },
      "outputs": [],
      "source": [
        "import pandas as pd\n",
        "\n",
        "df = pd.DataFrame(data)\n",
        "df.head(5)"
      ]
    },
    {
      "cell_type": "code",
      "execution_count": null,
      "metadata": {
        "id": "GuQWUC3I-4Im"
      },
      "outputs": [],
      "source": [
        "# We drop the 'rental methods' columns,\n",
        "# as they contains multiple values and\n",
        "# we cannot insert lists in a database cell.\n",
        "df.drop(\n",
        "    [\"rental_methods\", \"eightd_station_services\", \"rental_uris\"],\n",
        "    axis=\"columns\",\n",
        "    inplace=True,\n",
        ")\n",
        "df.head(5)"
      ]
    },
    {
      "cell_type": "markdown",
      "metadata": {
        "id": "YTWsfw2c-4In"
      },
      "source": [
        "### Writing a Pandas Dataframe in a MySQL Table"
      ]
    },
    {
      "cell_type": "code",
      "execution_count": null,
      "metadata": {
        "id": "A-MJutFw-4In"
      },
      "outputs": [],
      "source": [
        "import sqlalchemy\n",
        "from sqlalchemy import create_engine, text\n",
        "\n",
        "conn_string = \"mysql+pymysql://{user}:{password}@{host}/\".format(\n",
        "    host=\"db.ipeirotis.org\", user=\"student\", password=\"dwdstudent2015\"\n",
        ")\n",
        "\n",
        "engine = create_engine(conn_string)"
      ]
    },
    {
      "cell_type": "markdown",
      "metadata": {
        "id": "axMqhcM5-4Io"
      },
      "source": [
        "Once we have connected successfully, we need to create our database:"
      ]
    },
    {
      "cell_type": "code",
      "execution_count": null,
      "metadata": {
        "id": "zBf1fqKl-4Io"
      },
      "outputs": [],
      "source": [
        "# Query to create a database\n",
        "# In this example, we will try to create the (existing) database \"public\"\n",
        "# But in general, we can give any name to the database\n",
        "db_name = \"public\"\n",
        "create_db_query = (\n",
        "    f\"CREATE DATABASE IF NOT EXISTS {db_name} DEFAULT CHARACTER SET 'utf8'\"\n",
        ")\n",
        "\n",
        "# Create a database\n",
        "with engine.connect() as con:\n",
        "    con.execute(text(create_db_query))\n",
        "\n",
        "\n",
        "# And lets switch to the database\n",
        "with engine.connect() as con:\n",
        "    con.execute(text(f\"USE {db_name}\"))"
      ]
    },
    {
      "cell_type": "code",
      "execution_count": null,
      "metadata": {
        "id": "YxowtfR--4Ip"
      },
      "outputs": [],
      "source": [
        "# To avoid conflicts between people writing in the same database, we add a random suffix in the tables\n",
        "# We only create the variable once while running the notebook\n",
        "import uuid\n",
        "\n",
        "if \"suffix\" not in globals():\n",
        "  suffix = str(uuid.uuid4())[:8]\n",
        "print(suffix)"
      ]
    },
    {
      "cell_type": "markdown",
      "metadata": {
        "id": "E52WMcz8-4Iq"
      },
      "source": [
        "### Create Table and Store Data in Database using the `to_sql` command"
      ]
    },
    {
      "cell_type": "markdown",
      "metadata": {
        "id": "IOzQWSls-4Iq"
      },
      "source": [
        "Then we create the table where we will store our data. Since we already have the data in a Pandas DataFrame, it is very easy to put the data in a database."
      ]
    },
    {
      "cell_type": "code",
      "execution_count": null,
      "metadata": {
        "id": "ZUsSbmV5-4Iq"
      },
      "outputs": [],
      "source": [
        "table_name = f\"Stations_{suffix}\"\n",
        "# Create a table\n",
        "# See http://pandas.pydata.org/pandas-docs/stable/generated/pandas.DataFrame.to_sql.html for the documentation\n",
        "\n",
        "# This step is optional, but it is good practice to define explicitly the\n",
        "# data types before storing things in a database. In many cases, this can be ommitted, though.\n",
        "\n",
        "create_table_query = f\"\"\"CREATE TABLE IF NOT EXISTS {db_name}.{table_name}\n",
        "                                (legacy_id int,\n",
        "                                station_id varchar(100),\n",
        "                                region_id int,\n",
        "                                external_id varchar(50),\n",
        "                                lat float,\n",
        "                                lon float,\n",
        "                                short_name varchar(10),\n",
        "                                name varchar(250),\n",
        "                                station_type varchar(10),\n",
        "                                capacity int,\n",
        "                                electric_bike_surcharge_waiver bool,\n",
        "                                eightd_has_key_dispenser bool,\n",
        "                                has_kiosk bool,\n",
        "                                PRIMARY KEY(station_id)\n",
        "                                )\"\"\"\n",
        "\n",
        "with engine.connect() as con:\n",
        "  con.execute(text(create_table_query))\n",
        "\n"
      ]
    },
    {
      "cell_type": "code",
      "source": [
        "\n",
        "df.to_sql(\n",
        "    name=table_name,\n",
        "    schema=db_name,\n",
        "    con=engine,\n",
        "    if_exists=\"append\",\n",
        "    index=False\n",
        ")"
      ],
      "metadata": {
        "id": "-MgXVrKvN3b9"
      },
      "execution_count": null,
      "outputs": []
    },
    {
      "cell_type": "code",
      "execution_count": null,
      "metadata": {
        "id": "Ujrt3GL4-4Ir"
      },
      "outputs": [],
      "source": [
        "# Once we have the data in the table, we also specify a primary key\n",
        "# If we had FOREIGN KEYS we can add them in the same way\n",
        "\n",
        "# add_key_query = f\"ALTER TABLE {table_name} ADD PRIMARY KEY(station_id)\"\n",
        "# print(add_key_query)\n",
        "\n",
        "# with engine.connect() as con:\n",
        "#  con.execute(text(add_key_query))"
      ]
    },
    {
      "cell_type": "markdown",
      "metadata": {
        "id": "QD5SzoRU-4Ir"
      },
      "source": [
        "### Reading from a SQL Database in Python using the `read_sql` command in Pandas"
      ]
    },
    {
      "cell_type": "markdown",
      "metadata": {
        "id": "ZHOkkoTV-4Is"
      },
      "source": [
        "We can similarly read from the database using Pandas"
      ]
    },
    {
      "cell_type": "code",
      "execution_count": null,
      "metadata": {
        "id": "39RMzAcy-4Is"
      },
      "outputs": [],
      "source": [
        "query = text(f\"SELECT * FROM {db_name}.{table_name}\")\n",
        "print(query)"
      ]
    },
    {
      "cell_type": "code",
      "execution_count": null,
      "metadata": {
        "id": "NIcS8SD2-4Is"
      },
      "outputs": [],
      "source": [
        "with engine.connect() as con:\n",
        "  df2 = pd.read_sql(query, con=con)\n",
        "df2.head(5)"
      ]
    },
    {
      "cell_type": "markdown",
      "metadata": {
        "id": "tyBLAzyy-4Is"
      },
      "source": [
        "### Export Data from Database to CSV or Excel"
      ]
    },
    {
      "cell_type": "markdown",
      "metadata": {
        "id": "Ae4_McNB-4It"
      },
      "source": [
        "And remember that from Pandas it is also possible to export in other formats, such as Excel of CSV."
      ]
    },
    {
      "cell_type": "code",
      "execution_count": null,
      "metadata": {
        "id": "AZZLmGm1-4It"
      },
      "outputs": [],
      "source": [
        "# The necessary library to write in Excel\n",
        "# !sudo pip3 install -U openpyxl"
      ]
    },
    {
      "cell_type": "code",
      "execution_count": null,
      "metadata": {
        "id": "RDMvCX1s-4It"
      },
      "outputs": [],
      "source": [
        "df2.to_excel(\"citibike.xlsx\")\n",
        "df2.to_csv(\"citibike.csv\")"
      ]
    },
    {
      "cell_type": "markdown",
      "metadata": {
        "id": "_9AAiRVZ-4It"
      },
      "source": [
        "### Cleanup"
      ]
    },
    {
      "cell_type": "markdown",
      "metadata": {
        "id": "2Vor7vxB-4It"
      },
      "source": [
        "Finally, let's clean up and delete the table that we created"
      ]
    },
    {
      "cell_type": "code",
      "execution_count": null,
      "metadata": {
        "id": "bR7dH1o3-4Iu"
      },
      "outputs": [],
      "source": [
        "drop_table_query = f\"DROP TABLE IF EXISTS {db_name}.{table_name}\"\n",
        "print(drop_table_query)\n",
        "\n",
        "with engine.connect() as con:\n",
        "  con.execute(text(drop_table_query))\n",
        "\n"
      ]
    },
    {
      "cell_type": "markdown",
      "metadata": {
        "id": "al24Bpnf-4Iu"
      },
      "source": [
        "### Exercise\n",
        "\n",
        "The `url_status = 'https://gbfs.citibikenyc.com/gbfs/en/station_status.json'` URL contains the status of the stations. Write code that reads the results from that API call, and then stores the data in a separate table. Add a \"foreign key\" constraint from the Status table to the Stations table that we created above."
      ]
    },
    {
      "cell_type": "code",
      "execution_count": null,
      "metadata": {
        "id": "WdDYqtE2-4Iu"
      },
      "outputs": [],
      "source": []
    }
  ],
  "metadata": {
    "kernelspec": {
      "display_name": "Python 3",
      "language": "python",
      "name": "python3"
    },
    "language_info": {
      "codemirror_mode": {
        "name": "ipython",
        "version": 3
      },
      "file_extension": ".py",
      "mimetype": "text/x-python",
      "name": "python",
      "nbconvert_exporter": "python",
      "pygments_lexer": "ipython3",
      "version": "3.8.5"
    },
    "colab": {
      "provenance": [],
      "include_colab_link": true
    }
  },
  "nbformat": 4,
  "nbformat_minor": 0
}