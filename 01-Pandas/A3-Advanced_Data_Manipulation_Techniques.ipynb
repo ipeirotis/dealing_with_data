{
  "nbformat": 4,
  "nbformat_minor": 0,
  "metadata": {
    "colab": {
      "name": "A2-Introduction: Basic Data Manipulation",
      "provenance": [],
      "include_colab_link": true
    },
    "kernelspec": {
      "display_name": "Python 3",
      "language": "python",
      "name": "python3"
    },
    "language_info": {
      "codemirror_mode": {
        "name": "ipython",
        "version": 3
      },
      "file_extension": ".py",
      "mimetype": "text/x-python",
      "name": "python",
      "nbconvert_exporter": "python",
      "pygments_lexer": "ipython3",
      "version": "3.8.5"
    }
  },
  "cells": [
    {
      "cell_type": "markdown",
      "metadata": {
        "id": "view-in-github",
        "colab_type": "text"
      },
      "source": [
        "<a href=\"https://colab.research.google.com/github/ipeirotis/dealing_with_data/blob/master/01-Pandas/A3-Advanced_Data_Manipulation_Techniques.ipynb\" target=\"_parent\"><img src=\"https://colab.research.google.com/assets/colab-badge.svg\" alt=\"Open In Colab\"/></a>"
      ]
    },
    {
      "cell_type": "markdown",
      "metadata": {
        "id": "2fdYUrR2RPLK"
      },
      "source": [
        "# Introduction to Pandas: Basic Data Manipulation Techniques"
      ]
    },
    {
      "cell_type": "markdown",
      "metadata": {
        "id": "ycUTUOp0RPLL"
      },
      "source": [
        "## Setup and preliminaries"
      ]
    },
    {
      "cell_type": "markdown",
      "source": [
        "Install the necessary libraries to connect to MySQL and to read Excel files"
      ],
      "metadata": {
        "id": "0p4nxRUUNjqs"
      }
    },
    {
      "cell_type": "code",
      "source": [
        "!pip3 install -U -q PyMySQL sqlalchemy"
      ],
      "metadata": {
        "id": "utQbDZCIrJSQ",
        "outputId": "13bde324-c32b-4920-a761-97b2f1d03a76",
        "colab": {
          "base_uri": "https://localhost:8080/"
        }
      },
      "execution_count": 2,
      "outputs": [
        {
          "output_type": "stream",
          "name": "stdout",
          "text": [
            "\u001b[?25l     \u001b[90m━━━━━━━━━━━━━━━━━━━━━━━━━━━━━━━━━━━━━━━━\u001b[0m \u001b[32m0.0/45.0 kB\u001b[0m \u001b[31m?\u001b[0m eta \u001b[36m-:--:--\u001b[0m\r\u001b[2K     \u001b[90m━━━━━━━━━━━━━━━━━━━━━━━━━━━━━━━━━━━━━━━━\u001b[0m \u001b[32m45.0/45.0 kB\u001b[0m \u001b[31m1.5 MB/s\u001b[0m eta \u001b[36m0:00:00\u001b[0m\n",
            "\u001b[?25h"
          ]
        }
      ]
    },
    {
      "cell_type": "markdown",
      "metadata": {
        "id": "SPK-fH_vRPLR"
      },
      "source": [
        "In order to read and process files, we are going to use a very powerful, and widely used Python library, called pandas. So, our next step is to import the pandas library in Python, and a few related libraries:"
      ]
    },
    {
      "cell_type": "code",
      "metadata": {
        "id": "rs9khdOxRPLS"
      },
      "source": [
        "import pandas as pd\n",
        "import numpy as np\n",
        "import matplotlib\n",
        "import matplotlib.pyplot as plt\n",
        "import seaborn as sns"
      ],
      "execution_count": 3,
      "outputs": []
    },
    {
      "cell_type": "markdown",
      "metadata": {
        "id": "K2KzbTtORPLZ"
      },
      "source": [
        "And we type some code to simply change the visual style of the plots. (The code below is optional and not necessary, and for now you do not need to understand what exactly is happening.)"
      ]
    },
    {
      "cell_type": "code",
      "metadata": {
        "id": "KZt6cUxCRPLN"
      },
      "source": [
        "# Render our plots with high resolution\n",
        "%config InlineBackend.figure_format = 'retina'"
      ],
      "execution_count": 4,
      "outputs": []
    },
    {
      "cell_type": "code",
      "metadata": {
        "id": "enddmxxDRPLa"
      },
      "source": [
        "# Make the graphs a bit bigger\n",
        "matplotlib.style.use([\"seaborn-v0_8-talk\", \"seaborn-v0_8-ticks\", \"seaborn-v0_8-whitegrid\"])"
      ],
      "execution_count": 5,
      "outputs": []
    },
    {
      "cell_type": "markdown",
      "metadata": {
        "id": "zRkwgJ2BRPLl"
      },
      "source": [
        "## Reading data using SQL from a MySQL Server"
      ]
    },
    {
      "cell_type": "markdown",
      "metadata": {
        "id": "3YF27gS9RPLl"
      },
      "source": [
        "We will use a dataset with [restaurant inspection results in NYC](https://data.cityofnewyork.us/Health/DOHMH-New-York-City-Restaurant-Inspection-Results/43nn-pn8j). The dataset that we are going to use has been cleaned up, normalized, and stored in our MySQL database, under the `doh_restaurants` database."
      ]
    },
    {
      "cell_type": "code",
      "metadata": {
        "id": "h5GO33l5RPLm"
      },
      "source": [
        "import os\n",
        "from sqlalchemy import create_engine\n",
        "from sqlalchemy import text\n",
        "\n",
        "conn_string = 'mysql+pymysql://{user}:{password}@{host}/{db}?charset=utf8mb4'.format(\n",
        "    host = 'db.ipeirotis.org',\n",
        "    user = 'student',\n",
        "    password = 'dwdstudent2015',\n",
        "    db = 'doh_restaurants',\n",
        "    encoding = 'utf8mb4')\n",
        "\n",
        "engine = create_engine(conn_string)"
      ],
      "execution_count": 6,
      "outputs": []
    },
    {
      "cell_type": "markdown",
      "metadata": {
        "id": "WNsW_56mRPLq"
      },
      "source": [
        "We fetch the results of the query using the `read_sql` command."
      ]
    },
    {
      "cell_type": "code",
      "source": [
        "# This query returns back the restaurants in the DOH database\n",
        "sql = '''\n",
        "\tSELECT R.CAMIS, R.DBA, R.BUILDING, R.STREET, R.ZIPCODE, R.BORO,\n",
        "          R.CUISINE_DESCRIPTION, R.LATITUDE, R.LONGITUDE, R.NTA\n",
        "\t\tFROM doh_restaurants.restaurants R\n",
        "'''\n",
        "\n",
        "with engine.connect() as connection:\n",
        "\trestaurants = pd.read_sql(text(sql), con=connection)"
      ],
      "metadata": {
        "id": "xlfDX5AtvG58"
      },
      "execution_count": 7,
      "outputs": []
    },
    {
      "cell_type": "code",
      "metadata": {
        "id": "n0_mc9_6RPLq"
      },
      "source": [
        "# This query returns back the results of the inspections of each restaurant\n",
        "sql = '''\n",
        "\tSELECT R.CAMIS, R.DBA, R.ZIPCODE, R.BORO, R.CUISINE_DESCRIPTION, R.NTA,\n",
        "\t\t\t\t I.INSPECTION_DATE, I.INSPECTION_ID,\n",
        "\t\t\t\t I.INSPECTION_TYPE, I.SCORE, I.GRADE\n",
        "\tFROM restaurants R\n",
        "\t\tJOIN inspections I ON I.CAMIS = R.CAMIS\n",
        "'''\n",
        "\n",
        "with engine.connect() as connection:\n",
        "\tinspections = pd.read_sql(text(sql), con=connection)"
      ],
      "execution_count": 8,
      "outputs": []
    },
    {
      "cell_type": "code",
      "source": [
        "# This query returns back the results and violations captured in the\n",
        "# latest inspection of each restaurant\n",
        "sql = '''\n",
        "  WITH latest_inspection AS (\n",
        "\t\tSELECT CAMIS, MAX(INSPECTION_DATE) AS INSPECTION_DATE FROM inspections\n",
        "\t\tGROUP BY CAMIS\n",
        "\t)\n",
        "\tSELECT R.CAMIS, R.DBA, R.ZIPCODE, R.BORO,\n",
        "          I.INSPECTION_DATE, I.INSPECTION_ID, I.INSPECTION_TYPE,\n",
        "          V.VIOLATION_CODE, I.SCORE, I.GRADE\n",
        "\t\tFROM restaurants R\n",
        "\t\t\tJOIN latest_inspection L ON R.CAMIS = L.CAMIS\n",
        "\t\t\tJOIN inspections I ON I.CAMIS = L.CAMIS AND L.INSPECTION_DATE = I.INSPECTION_DATE\n",
        "\t\t\tJOIN violations V ON I.INSPECTION_ID = V.INSPECTION_ID\n",
        "'''\n",
        "\n",
        "with engine.connect() as connection:\n",
        "\tviolations = pd.read_sql(text(sql), con=connection)"
      ],
      "metadata": {
        "id": "Gbua5h9RFP0F"
      },
      "execution_count": 9,
      "outputs": []
    },
    {
      "cell_type": "markdown",
      "metadata": {
        "id": "pTKmk7LqRPOC"
      },
      "source": [
        "# Selecting a subset of the columns -- `filter()`\n",
        "\n",
        "In a dataframe, we can specify the column(s) that we want to keep, and get back another dataframe with just the subset of the columns that we want to keep."
      ]
    },
    {
      "cell_type": "code",
      "metadata": {
        "id": "kdGNyALJRPOD"
      },
      "source": [
        "inspections"
      ],
      "execution_count": null,
      "outputs": []
    },
    {
      "cell_type": "code",
      "metadata": {
        "id": "KoA5JqtFRPOF"
      },
      "source": [
        "inspections.filter(\n",
        "    items = [\"DBA\", \"GRADE\", \"INSPECTION_DATE\"]\n",
        ")"
      ],
      "execution_count": null,
      "outputs": []
    },
    {
      "cell_type": "code",
      "metadata": {
        "id": "0DbB0h26RPON"
      },
      "source": [
        "columns = [\"CAMIS\", \"DBA\", \"GRADE\", \"INSPECTION_DATE\", \"SCORE\"]\n",
        "\n",
        "# Notice the use of \"chain notation\" below\n",
        "# Chain notation means putting parentheses around\n",
        "# the command and then having each operation in its\n",
        "# own line\n",
        "(\n",
        "  inspections\n",
        "  .filter( items = columns )\n",
        "  .head(10)\n",
        ")\n"
      ],
      "execution_count": null,
      "outputs": []
    },
    {
      "cell_type": "markdown",
      "metadata": {
        "id": "pNmPSBrJUrfy"
      },
      "source": [
        "We can also use the `like` option to find all the column names that include a certain string. For example, to get all the columns that include the string `DATE`:"
      ]
    },
    {
      "cell_type": "code",
      "metadata": {
        "id": "0skTt0rNRPOP"
      },
      "source": [
        "inspections.filter(\n",
        "    like = 'DATE'\n",
        ")"
      ],
      "execution_count": null,
      "outputs": []
    },
    {
      "cell_type": "markdown",
      "metadata": {
        "id": "dXTR3gaYU3D9"
      },
      "source": [
        "We can expand the functionality and also use regular expressions:"
      ]
    },
    {
      "cell_type": "code",
      "metadata": {
        "id": "oE5G-RtCU9NS"
      },
      "source": [
        "restaurants.filter(\n",
        "    regex = r'^C' # all the columns that start with C\n",
        ")"
      ],
      "execution_count": null,
      "outputs": []
    },
    {
      "cell_type": "code",
      "metadata": {
        "id": "KWg63of5xbjY"
      },
      "source": [],
      "execution_count": null,
      "outputs": []
    },
    {
      "cell_type": "markdown",
      "source": [
        "### Exercise\n",
        "\n",
        "Keep the columns \"DBA\", \"SCORE\", \"CUISINE DESCRIPTION\" and \"ZIPCODE\" from the `inspections` dataframe."
      ],
      "metadata": {
        "id": "v0gv_vjt_tKo"
      }
    },
    {
      "cell_type": "code",
      "source": [
        "# your code here"
      ],
      "metadata": {
        "id": "Sn1_-Zts_w6g"
      },
      "execution_count": null,
      "outputs": []
    },
    {
      "cell_type": "markdown",
      "metadata": {
        "id": "bHIvI4svxcJ0"
      },
      "source": [
        "# Renaming Columns -- `rename()`"
      ]
    },
    {
      "cell_type": "markdown",
      "metadata": {
        "id": "7fLRqM4kxf1W"
      },
      "source": [
        "To do the equivalent of `SELECT attr AS alias` in Pandas, we use the `rename` command, and pass a dictionary specifying which columns we want to rename:\n",
        "\n"
      ]
    },
    {
      "cell_type": "code",
      "metadata": {
        "id": "jSnqzBFwxqnk"
      },
      "source": [
        "restaurants.rename(\n",
        "    columns = {\n",
        "      \"CAMIS\": \"RESTID\",\n",
        "      \"DBA\": \"REST_NAME\",\n",
        "      \"BUILDING\": \"STREET_NUM\",\n",
        "      \"BORO\": \"BOROUGH\"\n",
        "    }\n",
        ")"
      ],
      "execution_count": null,
      "outputs": []
    },
    {
      "cell_type": "markdown",
      "metadata": {
        "id": "hcirVVhaRPOR"
      },
      "source": [
        "# Selecting rows -- `query()`\n",
        "\n",
        "To select rows, we can write basic queries using the `query()` command:"
      ]
    },
    {
      "cell_type": "code",
      "metadata": {
        "id": "8_u2KIdGXav3"
      },
      "source": [
        "# Find all violations for restaurants with DBA being Starbucks\n",
        "restaurants.query(' DBA == \"STARBUCKS\" ')"
      ],
      "execution_count": null,
      "outputs": []
    },
    {
      "cell_type": "code",
      "metadata": {
        "id": "37-qYFVyRPOT"
      },
      "source": [
        "# Find all violations with code 04L (i.e., \"has mice\")\n",
        "violations.query(' VIOLATION_CODE == \"04L\" ')"
      ],
      "execution_count": null,
      "outputs": []
    },
    {
      "cell_type": "code",
      "metadata": {
        "id": "V106ezm-RPOW"
      },
      "source": [
        "# We can store the result in a dataframe called  has_mice\n",
        "has_mice = violations.query(' VIOLATION_CODE == \"04L\" ')\n",
        "has_mice"
      ],
      "execution_count": null,
      "outputs": []
    },
    {
      "cell_type": "code",
      "metadata": {
        "id": "ieEWvEbZRPOf"
      },
      "source": [
        "# List the most frequent DBA values in the has_mice dataframe\n",
        "has_mice[\"DBA\"].value_counts().head(20)"
      ],
      "execution_count": null,
      "outputs": []
    },
    {
      "cell_type": "code",
      "source": [
        "# For comparison, the most frequent DBA names overall across restaurants\n",
        "restaurants[\"DBA\"].value_counts().head(20)"
      ],
      "metadata": {
        "id": "4uxLzTiWIXN0"
      },
      "execution_count": null,
      "outputs": []
    },
    {
      "cell_type": "markdown",
      "metadata": {
        "id": "SaIVZ16DRPOn"
      },
      "source": [
        "And we can use more complex conditions."
      ]
    },
    {
      "cell_type": "code",
      "metadata": {
        "id": "OBDoVR50RPOo"
      },
      "source": [
        "has_mice_10012 = (\n",
        "    violations\n",
        "    .query('  VIOLATION_CODE == \"04L\" and ZIPCODE == \"10012\" ')\n",
        "    .filter( items = ['DBA', 'INSPECTION_DATE'] )\n",
        ")\n",
        "\n",
        "has_mice_10012"
      ],
      "execution_count": null,
      "outputs": []
    },
    {
      "cell_type": "markdown",
      "source": [
        "...and just to have a bit more fun:"
      ],
      "metadata": {
        "id": "vPB54yQ7Nbez"
      }
    },
    {
      "cell_type": "code",
      "source": [
        "# all restaurants with mice\n",
        "mice = has_mice[\"DBA\"].value_counts()\n",
        "mice.head(5) # show the top-5"
      ],
      "metadata": {
        "id": "OL5kbSmVNd3C"
      },
      "execution_count": null,
      "outputs": []
    },
    {
      "cell_type": "code",
      "source": [
        "# top-25 most popular restaurant names\n",
        "topK = 25\n",
        "top_restaurants = restaurants[\"DBA\"].value_counts().head(topK)\n",
        "top_restaurants.head(5) # show the top-5"
      ],
      "metadata": {
        "id": "-OSLLAzJrDZO"
      },
      "execution_count": null,
      "outputs": []
    },
    {
      "cell_type": "code",
      "source": [
        "# Now calculate what % of the top restaurant chains had mice\n",
        "# The dropna() removes the restaurants that do not appear in top_restaurants\n",
        "(mice / top_restaurants).dropna()"
      ],
      "metadata": {
        "id": "Gu8d0MBXrAnc"
      },
      "execution_count": null,
      "outputs": []
    },
    {
      "cell_type": "markdown",
      "source": [
        "### Exercise\n",
        "\n",
        "The following command reads the table `violation_codes`. In addition to the `04L`, check the violation descriptions for the codes `04K`, `04M`, `04N`, and `04O`. Then create an analysis for the restaurants in the area that have these violations.\n",
        "\n",
        "[This StackOverflow post](https://stackoverflow.com/questions/33990955/combine-pandas-dataframe-query-method-with-isin) explains how to use the `IN` construct with Pandas."
      ],
      "metadata": {
        "id": "4lLxFaoDKcug"
      }
    },
    {
      "cell_type": "code",
      "source": [
        "with engine.connect() as connection:\n",
        "  sql = \"SELECT * FROM doh_restaurants.violation_codes\"\n",
        "  codes = pd.read_sql(text(sql), con=connection)"
      ],
      "metadata": {
        "id": "bRU5I1OBKheb"
      },
      "execution_count": null,
      "outputs": []
    },
    {
      "cell_type": "markdown",
      "source": [
        "#### Solution"
      ],
      "metadata": {
        "id": "kvUfl5fDMHPd"
      }
    },
    {
      "cell_type": "code",
      "source": [
        "filthy_near_NYU = (\n",
        "    violations\n",
        "    .query('  VIOLATION_CODE in [\"04K\", \"04L\", \"04M\", \"04N\", \"04O\"]  ' )\n",
        "    .query('  ZIPCODE in [\"10012\", \"10003\", \"10014\"] ')\n",
        "    .query('  INSPECTION_DATE > \"2023-01-01\" ')\n",
        "    .filter( items = ['DBA', 'INSPECTION_DATE'] )\n",
        "    .sort_values(\"INSPECTION_DATE\", ascending=False)\n",
        "    .drop_duplicates()\n",
        ")\n",
        "\n",
        "filthy_near_NYU.head(20)"
      ],
      "metadata": {
        "id": "3licPH6JMIvK"
      },
      "execution_count": null,
      "outputs": []
    },
    {
      "cell_type": "markdown",
      "metadata": {
        "id": "07cNAS0Lcf_y"
      },
      "source": [
        "# Selecting distinct values -- `drop_duplicates()`"
      ]
    },
    {
      "cell_type": "markdown",
      "metadata": {
        "id": "ii2uPjjydLyD"
      },
      "source": [
        "We can do the equivalent of `SELECT DISTINCT` in Pandas by doing the following"
      ]
    },
    {
      "cell_type": "code",
      "metadata": {
        "id": "TmHYLEwhdMei"
      },
      "source": [
        "(\n",
        "    restaurants\n",
        "    .query(' CUISINE_DESCRIPTION == \"Coffee/Tea\"  and ZIPCODE == \"10012\" ')\n",
        "    .filter( items = ['DBA'])\n",
        "    .drop_duplicates()\n",
        ")"
      ],
      "execution_count": null,
      "outputs": []
    },
    {
      "cell_type": "markdown",
      "metadata": {
        "id": "8eqOEGYXdl6K"
      },
      "source": [
        "# Sorting values -- `sort_values()`\n",
        "\n",
        "And we can do the equivalent of `ORDER BY` by using the `.sort_values()"
      ]
    },
    {
      "cell_type": "code",
      "metadata": {
        "id": "vImT3bKGdz1_"
      },
      "source": [
        "(\n",
        "    has_mice_10012\n",
        "    .sort_values(\"INSPECTION_DATE\", ascending=False)\n",
        "    .head(15)\n",
        ")"
      ],
      "execution_count": null,
      "outputs": []
    },
    {
      "cell_type": "code",
      "metadata": {
        "id": "Qa78sxUEeev3"
      },
      "source": [
        "(\n",
        "    has_mice_10012\n",
        "    .sort_values([\"INSPECTION_DATE\",\"DBA\"], ascending=[False,True])\n",
        "    .head(15)\n",
        ")"
      ],
      "execution_count": null,
      "outputs": []
    },
    {
      "cell_type": "markdown",
      "source": [
        "# Join two tables -- `pd.merge()`"
      ],
      "metadata": {
        "id": "byLuREOx-SU9"
      }
    },
    {
      "cell_type": "code",
      "source": [
        "# Fetch data about population of NYC neighborhoods (NTAs)\n",
        "nyc_population_url = 'https://data.cityofnewyork.us/api/views/rnsn-acs2/rows.csv?accessType=DOWNLOAD'\n",
        "nyc_pop = pd.read_csv(nyc_population_url)\n",
        "nyc_pop"
      ],
      "metadata": {
        "id": "3kFRciNS-XmF"
      },
      "execution_count": null,
      "outputs": []
    },
    {
      "cell_type": "code",
      "source": [
        "nyc_pop.columns"
      ],
      "metadata": {
        "id": "zafPOq9l_FWJ"
      },
      "execution_count": null,
      "outputs": []
    },
    {
      "cell_type": "code",
      "source": [
        "# Change the name of the columns\n",
        "nyc_pop.columns = ['BOROUGH', 'FIPS_COUNTY', 'NTA_CODE',\n",
        "       'NTA_NAME', 'POPULATION_2000', 'POPULATION_2010',\n",
        "       'POP_DIFF_NUMBER', 'POP_DIFF_PCT']\n",
        "\n",
        "# Drop unnecessary columns\n",
        "# nyc_pop = nyc_pop.drop(['POPULATION_2000', 'POP_DIFF_NUMBER', 'POP_DIFF_PCT'], axis='columns')\n",
        "\n",
        "# Dropping lines with empty cell values\n",
        "nyc_pop = nyc_pop.dropna()"
      ],
      "metadata": {
        "id": "hdVeEzMH_Fxu"
      },
      "execution_count": null,
      "outputs": []
    },
    {
      "cell_type": "markdown",
      "source": [
        "## Merging two dataframes"
      ],
      "metadata": {
        "id": "inWJfzxZA47R"
      }
    },
    {
      "cell_type": "code",
      "source": [
        "merged = pd.merge(\n",
        "  left = inspections,\n",
        "  right = nyc_pop,\n",
        "  left_on = 'NTA',\n",
        "  right_on = 'NTA_CODE'\n",
        ")\n",
        "\n",
        "merged"
      ],
      "metadata": {
        "id": "zCeJI4m2A28R"
      },
      "execution_count": null,
      "outputs": []
    },
    {
      "cell_type": "code",
      "source": [
        "# How would you improve the plot below?\n",
        "\n",
        "merged.plot(\n",
        "    kind='scatter',\n",
        "    y = 'SCORE',\n",
        "    x = 'POPULATION_2010',\n",
        "    s = 1\n",
        ")"
      ],
      "metadata": {
        "id": "23RVic7MBNHo"
      },
      "execution_count": null,
      "outputs": []
    },
    {
      "cell_type": "markdown",
      "metadata": {
        "id": "8UR7tKEURPOu"
      },
      "source": [
        "# Pivot Tables\n",
        "\n"
      ]
    },
    {
      "cell_type": "markdown",
      "source": [
        "### Simple pivot tables\n",
        "\n",
        "[Pivot tables](http://pandas.pydata.org/pandas-docs/stable/generated/pandas.pivot_table.html) is one of the most commonly used exploratory tools, and in Pandas they are extremely flexible.\n",
        "\n",
        "For example, let's try to examine the average inspection score, broken down by cuisine."
      ],
      "metadata": {
        "id": "yYkjSgvuqvt3"
      }
    },
    {
      "cell_type": "code",
      "source": [
        "pivot = pd.pivot_table(\n",
        "    data=inspections,\n",
        "    index=\"CUISINE_DESCRIPTION\",  # specifies the rows\n",
        "    values=\"SCORE\",  # specifies the content of the cells\n",
        "    aggfunc=\"mean\",  # we calculate the average/mean score\n",
        ")"
      ],
      "metadata": {
        "id": "ojdh6bstCh2C"
      },
      "execution_count": 11,
      "outputs": []
    },
    {
      "cell_type": "code",
      "source": [
        "# The full pivot table\n",
        "pivot"
      ],
      "metadata": {
        "id": "zSaNEwxq_lOd"
      },
      "execution_count": null,
      "outputs": []
    },
    {
      "cell_type": "code",
      "source": [
        "# Plotting the scores of the 10 highest cuisines\n",
        "pivot.sort_values('SCORE').tail(10).plot(kind='barh')"
      ],
      "metadata": {
        "id": "0asooRX2CyGt",
        "outputId": "8d7a9b7b-84e0-4049-84b1-2509b0d3806f",
        "colab": {
          "base_uri": "https://localhost:8080/",
          "height": 634
        }
      },
      "execution_count": 19,
      "outputs": [
        {
          "output_type": "execute_result",
          "data": {
            "text/plain": [
              "<Axes: ylabel='CUISINE_DESCRIPTION'>"
            ]
          },
          "metadata": {},
          "execution_count": 19
        },
        {
          "output_type": "display_data",
          "data": {
            "text/plain": [
              "<Figure size 1040x715 with 1 Axes>"
            ],
            "image/png": "[encoded data removed]"
          },
          "metadata": {
            "image/png": {
              "width": 1012,
              "height": 600
            }
          }
        }
      ]
    },
    {
      "cell_type": "code",
      "metadata": {
        "id": "m5m48HZFRPOu"
      },
      "source": [
        "# Count the number of CAMIS values that appear on each date\n",
        "pivot = pd.pivot_table(\n",
        "    data=inspections,\n",
        "    index=\"INSPECTION_DATE\",  # specifies the rows\n",
        "    values=\"CAMIS\",  # specifies the content of the cells\n",
        "    aggfunc=\"count\",  # we ask to count how many different CAMIS values we see\n",
        ")"
      ],
      "execution_count": null,
      "outputs": []
    },
    {
      "cell_type": "code",
      "metadata": {
        "id": "PXbdJgt8RPOy"
      },
      "source": [
        "pivot"
      ],
      "execution_count": null,
      "outputs": []
    },
    {
      "cell_type": "markdown",
      "metadata": {
        "id": "sw_ySegDRPO0"
      },
      "source": [
        "Now, let's plot this. By default, Pandas considers the \"index\" column to be the x-axis, and plots the rest."
      ]
    },
    {
      "cell_type": "code",
      "metadata": {
        "id": "LcxPgXE6RPO9"
      },
      "source": [
        "pivot.plot()"
      ],
      "execution_count": null,
      "outputs": []
    },
    {
      "cell_type": "code",
      "metadata": {
        "id": "vvzK9tjhRPO_"
      },
      "source": [
        "# We keep the last 100 entries and plot\n",
        "pivot.tail(100).plot()"
      ],
      "execution_count": null,
      "outputs": []
    },
    {
      "cell_type": "markdown",
      "metadata": {
        "id": "Voat735yRPPZ"
      },
      "source": [
        "### Exercise\n",
        "\n",
        "Now let's do an exercise,  instead of counting the number of inspections, we want to compute the average score assigned by the inspectors. Hint: We will need to change the `values` and the `aggfunc` parameters in the `pivot_table` function above."
      ]
    },
    {
      "cell_type": "code",
      "metadata": {
        "id": "IlCG1ciIRPPa"
      },
      "source": [
        "# your code here"
      ],
      "execution_count": null,
      "outputs": []
    },
    {
      "cell_type": "markdown",
      "metadata": {
        "id": "FLgKXET5RPPb",
        "solution2": "hidden",
        "solution2_first": true
      },
      "source": [
        "#### Solution"
      ]
    },
    {
      "cell_type": "code",
      "metadata": {
        "id": "As9qTwYLRPPb",
        "solution2": "hidden"
      },
      "source": [
        "pivot = pd.pivot_table(\n",
        "    data=inspections,\n",
        "    index=\"INSPECTION_DATE\",  # specifies the rows\n",
        "    values=\"SCORE\",  # specifies the content of the cells\n",
        "    aggfunc=\"mean\",  # compute the average SCORE\n",
        ")"
      ],
      "execution_count": null,
      "outputs": []
    },
    {
      "cell_type": "code",
      "metadata": {
        "id": "3IidFXaRRPPc",
        "solution2": "hidden"
      },
      "source": [
        "pivot.plot(figsize=(10, 4))"
      ],
      "execution_count": null,
      "outputs": []
    },
    {
      "cell_type": "code",
      "source": [],
      "metadata": {
        "id": "JUwPHXWGLpiZ"
      },
      "execution_count": null,
      "outputs": []
    },
    {
      "cell_type": "markdown",
      "metadata": {
        "id": "PuzOxstCRPPA"
      },
      "source": [
        "### Changing date granularity\n",
        "\n",
        "We can also use the [resample](http://pandas.pydata.org/pandas-docs/stable/generated/pandas.DataFrame.resample.html) command to change the frequency from one day, to, say, 7 days. Then we can compute, say, the average (`mean()`) for these days, or the total number (`sum()`) of inspections."
      ]
    },
    {
      "cell_type": "code",
      "metadata": {
        "id": "ffCg-Jo-RPPB"
      },
      "source": [
        "pivot = pd.pivot_table(\n",
        "    data=inspections,\n",
        "    index=\"INSPECTION_DATE\",  # specifies the rows\n",
        "    values=\"CAMIS\",  # specifies the content of the cells\n",
        "    aggfunc=\"count\",  # we ask to count how many different CAMIS values we see\n",
        ")\n",
        "\n",
        "pivot.resample(\"1W\").sum()"
      ],
      "execution_count": null,
      "outputs": []
    },
    {
      "cell_type": "markdown",
      "metadata": {
        "id": "9B5xxo0gRPPC"
      },
      "source": [
        "Now, let's plot this. By default, Pandas considers the \"index\" column to be the x-axis, and plots the rest."
      ]
    },
    {
      "cell_type": "code",
      "metadata": {
        "id": "VDa0KRaqRPPC"
      },
      "source": [
        "# Plot the average number of inspections, over 7-day periods\n",
        "pivot.resample(\"1W\").sum().plot()"
      ],
      "execution_count": null,
      "outputs": []
    },
    {
      "cell_type": "code",
      "metadata": {
        "id": "M4WKhTGLRPPF"
      },
      "source": [
        "# Plot the total number of inspections, over 1-month periods\n",
        "pivot.resample(\"1M\").sum().plot()"
      ],
      "execution_count": null,
      "outputs": []
    },
    {
      "cell_type": "code",
      "metadata": {
        "id": "e_WH-s_DRPPK"
      },
      "source": [
        "plot = pivot.resample(\"7D\").mean().plot()\n",
        "plot.set_xlabel(\"Date of Inspection\")\n",
        "plot.set_ylabel(\"Average Number of Inspections (over a 7-day period)\")\n",
        "plot.set_title(\"Analysis of Number of Inspections over Time\")"
      ],
      "execution_count": null,
      "outputs": []
    },
    {
      "cell_type": "markdown",
      "metadata": {
        "id": "wuhabll3RPPL"
      },
      "source": [
        "### Pivot Table with two (or more) variables\n",
        "\n",
        "We would like to break down the results by borough, so we add the `column` parameter."
      ]
    },
    {
      "cell_type": "code",
      "metadata": {
        "id": "x57cwCMARPPM"
      },
      "source": [
        "# Show grades broken down by borough\n",
        "pivot2 = pd.pivot_table(\n",
        "    data=inspections,  #\n",
        "    index=\"GRADE\",\n",
        "    columns=\"BORO\",\n",
        "    values=\"CAMIS\",\n",
        "    aggfunc=\"count\"\n",
        ")\n",
        "pivot2"
      ],
      "execution_count": null,
      "outputs": []
    },
    {
      "cell_type": "code",
      "metadata": {
        "id": "KMpy5ZOYRPPS"
      },
      "source": [
        "# By default, the \"index\" becomes the x-axis and we plot all numeric columns\n",
        "pivot2.plot(kind='bar')"
      ],
      "execution_count": null,
      "outputs": []
    },
    {
      "cell_type": "markdown",
      "source": [
        "#### Normalization"
      ],
      "metadata": {
        "id": "G7ILoF2jwAXg"
      }
    },
    {
      "cell_type": "code",
      "source": [
        "# Let's say that we want to normalize the values\n",
        "# to account for the different number of inspections\n",
        "# in each borough\n",
        "pivot2.sum()"
      ],
      "metadata": {
        "id": "CBK2AWNAvIVg"
      },
      "execution_count": null,
      "outputs": []
    },
    {
      "cell_type": "code",
      "source": [
        "# This command normalizes each column, by dividing with its sum:\n",
        "pivot2 / pivot2.sum()"
      ],
      "metadata": {
        "id": "8-rMTEBrvpvb"
      },
      "execution_count": null,
      "outputs": []
    },
    {
      "cell_type": "code",
      "source": [
        "normalized_by_borough = pivot2 / pivot2.sum()\n",
        "\n",
        "# Percent of inspections per borough with a given grade\n",
        "normalized_by_borough.plot(kind='bar')"
      ],
      "metadata": {
        "id": "B-ZMwlyqvxxb"
      },
      "execution_count": null,
      "outputs": []
    },
    {
      "cell_type": "markdown",
      "source": [
        "#### Normalization and Transpose"
      ],
      "metadata": {
        "id": "iTNXe4lYv90l"
      }
    },
    {
      "cell_type": "code",
      "source": [
        "# This takes the transpose of the dataframe\n",
        "pivot2.T"
      ],
      "metadata": {
        "id": "EilqcAPnycVg"
      },
      "execution_count": null,
      "outputs": []
    },
    {
      "cell_type": "code",
      "source": [
        "# Plotting the transpose now uses the boroughs as the \"x\" axis\n",
        "pivot2.T.plot(kind='barh')"
      ],
      "metadata": {
        "id": "l2888zb6rOlR"
      },
      "execution_count": null,
      "outputs": []
    },
    {
      "cell_type": "code",
      "source": [
        "# Variation,\n",
        "pivot2.T.plot(kind='barh', stacked=True)"
      ],
      "metadata": {
        "id": "z191SUr7wnQ3"
      },
      "execution_count": null,
      "outputs": []
    },
    {
      "cell_type": "code",
      "source": [
        "normalized_by_borough.T.plot(kind='barh', stacked=True).legend(frameon=True)"
      ],
      "metadata": {
        "id": "0cCgPPlnwNsY"
      },
      "execution_count": null,
      "outputs": []
    },
    {
      "cell_type": "markdown",
      "source": [
        "\n",
        "\n",
        "### Exercise\n",
        "\n",
        "We now want to examine if different cuisines have different inspection scores. Compute the average inspection score by cuisine. Use the `sort_values()` command ([documentation](https://pandas.pydata.org/pandas-docs/stable/generated/pandas.DataFrame.sort_values.html)) to order cuisines by their inspection scores. Analyze further by breaking down the score over inspection dates, and plot."
      ],
      "metadata": {
        "id": "zH7HoWXO9sbj"
      }
    },
    {
      "cell_type": "code",
      "source": [],
      "metadata": {
        "id": "zGzg60Fo9uv-"
      },
      "execution_count": null,
      "outputs": []
    },
    {
      "cell_type": "markdown",
      "source": [
        "#### Solution"
      ],
      "metadata": {
        "id": "iOK_LNF-9zkv"
      }
    },
    {
      "cell_type": "code",
      "source": [
        "pivot = pd.pivot_table(\n",
        "    data=inspections,\n",
        "    index=\"INSPECTION_DATE\",  # dates are the rows\n",
        "    columns=\"CUISINE_DESCRIPTION\",  # cuisines are the columns\n",
        "    values=\"SCORE\",  # we analyze the SCORE\n",
        "    aggfunc=\"mean\",  # compute the average SCORE\n",
        ")\n",
        "# Select 3 columns (american, frenchn, chinese), compute the average score for a month\n",
        "# and plot the results\n",
        "pivot[[\"American\", \"French\", \"Chinese\"]].resample(\"1M\").mean().plot(figsize=(10, 4))"
      ],
      "metadata": {
        "id": "5qKvSZ6Z90ko"
      },
      "execution_count": null,
      "outputs": []
    },
    {
      "cell_type": "markdown",
      "metadata": {
        "id": "sV9NGwc2bUCS"
      },
      "source": [
        "# Defining new columns -- `assign()` and `apply()`\n",
        "\n"
      ]
    },
    {
      "cell_type": "markdown",
      "metadata": {
        "id": "sdiZXyXIq4rx"
      },
      "source": [
        "### Using the `assign()` approach"
      ]
    },
    {
      "cell_type": "markdown",
      "metadata": {
        "id": "SlTXmZwqkcSE"
      },
      "source": [
        "The `assign` command applies a function to a dataframe and returns back a new dataframe with the new column(s)."
      ]
    },
    {
      "cell_type": "code",
      "source": [
        "# We define functions that take as input a dataframe df\n",
        "# and return back a new column.\n",
        "\n",
        "# This function combines STREET/BUILDING/BORO/ZIPCODE columns into one address\n",
        "#\n",
        "def combine_address(df):\n",
        "  return (df.BUILDING + ' ' + df.STREET + ', ' + df.BORO + ', NY ' + df.ZIPCODE).str.upper()\n",
        "\n",
        "\n",
        "# This function computes the distance (in miles) from NYU,\n",
        "# given the lat/lon of the other location\n",
        "#\n",
        "def distance(df):\n",
        "  NYU_lon = -73.9962293\n",
        "  NYU_lat = 40.7291527\n",
        "  # The calculation below is simply the Pythagorean theorem.\n",
        "  # The normalizing values \"0.0146\" and \"0.0196\"\n",
        "  # are just for converting lat/lon differences to miles\n",
        "  distance = ((df['LATITUDE']-NYU_lat)/0.0146)**2 + ((df['LONGITUDE']-NYU_lon)/0.0196)**2\n",
        "  return np.sqrt(distance)\n",
        "\n"
      ],
      "metadata": {
        "id": "D3NMDMFu6cpz"
      },
      "execution_count": null,
      "outputs": []
    },
    {
      "cell_type": "code",
      "metadata": {
        "id": "Lqr1oIJYczP3"
      },
      "source": [
        "# We now use the `assign` function to create two new columns\n",
        "# using the logic in the functions above,\n",
        "(\n",
        "  restaurants\n",
        "  .assign(\n",
        "      distance_from_NYU = distance,\n",
        "      address = combine_address\n",
        "  )\n",
        "  .filter(items = ['DBA','address','distance_from_NYU'])\n",
        ")"
      ],
      "execution_count": null,
      "outputs": []
    },
    {
      "cell_type": "code",
      "metadata": {
        "id": "9Ub8-qFWixeb"
      },
      "source": [
        "# And let's eliminate now duplicates and sort by distance\n",
        "(\n",
        "  restaurants\n",
        "  .assign(\n",
        "      distance_from_NYU = distance,\n",
        "      address = combine_address\n",
        "  )\n",
        "  .filter(items = ['DBA','address','distance_from_NYU'])\n",
        "  .query('distance_from_NYU > 0') # eliminates NaN values from distance_from_NYU\n",
        "  .drop_duplicates()\n",
        "  .sort_values('distance_from_NYU')\n",
        "  .head(25)\n",
        ")"
      ],
      "execution_count": null,
      "outputs": []
    },
    {
      "cell_type": "markdown",
      "metadata": {
        "id": "vgr0Yg_3k6qW"
      },
      "source": [
        "### Using the `apply` approach"
      ]
    },
    {
      "cell_type": "markdown",
      "metadata": {
        "id": "njW0EhjzmyK6"
      },
      "source": [
        "The `apply` function allow the users to pass a function and apply it on every single row or column of a Pandas datarame."
      ]
    },
    {
      "cell_type": "code",
      "metadata": {
        "id": "yIZ_H-s6db9e"
      },
      "source": [
        "!sudo pip3 install -q -U geopy\n",
        "\n",
        "from geopy import distance\n",
        "\n",
        "# A bit more accurate distance calculation, which returns back\n",
        "# the distance in miles. However, we cannot pass a dataframe\n",
        "# to the function but only individual values\n",
        "def distance_from_NYU_geodesic(row):\n",
        "  NYU_lon = -73.9962293\n",
        "  NYU_lat = 40.7291527\n",
        "  NYU = (NYU_lat, NYU_lon)\n",
        "  rest = (row.LATITUDE, row.LONGITUDE)\n",
        "  #if pd.isnull(row.Latitude) or pd.isnull(row.Longitude):\n",
        "  #  return None\n",
        "  return distance.distance(NYU, rest).miles\n"
      ],
      "execution_count": null,
      "outputs": []
    },
    {
      "cell_type": "code",
      "metadata": {
        "id": "71KKNBOqlBTp"
      },
      "source": [
        "# We now create a smaller version of the dataset with just\n",
        "# the names/address/lon/lat of the restaurants\n",
        "rest_names_locations = (\n",
        "    restaurants\n",
        "    .assign(\n",
        "      address = combine_address\n",
        "    )\n",
        "    .filter(items = ['CAMIS','DBA','address','LONGITUDE', 'LATITUDE'])\n",
        "    .query(' LONGITUDE==LONGITUDE ') # idiomatic expression for saying IS NOT NULL\n",
        "    .query(' LATITUDE==LATITUDE ') # idiomatic expression for saying IS NOT NULL\n",
        "    .drop_duplicates()\n",
        ")\n",
        "\n",
        "rest_names_locations"
      ],
      "execution_count": null,
      "outputs": []
    },
    {
      "cell_type": "code",
      "metadata": {
        "id": "8Q0gGzxOpE7x"
      },
      "source": [
        "# We will now apply the function distance_from_NYU_geodesic\n",
        "# to every row of the dataset:\n",
        "rest_names_locations.apply(distance_from_NYU_geodesic, axis='columns')\n"
      ],
      "execution_count": null,
      "outputs": []
    },
    {
      "cell_type": "code",
      "metadata": {
        "id": "82MvcB29pG1z"
      },
      "source": [
        "# We will now save the result into a new column\n",
        "rest_names_locations['distance_from_NYU']=rest_names_locations.apply(distance_from_NYU_geodesic, axis='columns')"
      ],
      "execution_count": null,
      "outputs": []
    },
    {
      "cell_type": "code",
      "metadata": {
        "id": "j6vbuAUfdglf"
      },
      "source": [
        "# Let's see how many restaurants are within half a mile from NYU :)\n",
        "(\n",
        "    rest_names_locations\n",
        "    .query('distance_from_NYU < 0.5')\n",
        "    .sort_values('distance_from_NYU')\n",
        ")"
      ],
      "execution_count": null,
      "outputs": []
    },
    {
      "cell_type": "code",
      "metadata": {
        "id": "54FqcwHSeUM7"
      },
      "source": [],
      "execution_count": null,
      "outputs": []
    },
    {
      "cell_type": "markdown",
      "metadata": {
        "id": "iTcny4zSw426"
      },
      "source": [
        "# Aggregation functions -- `agg()`"
      ]
    },
    {
      "cell_type": "code",
      "metadata": {
        "id": "XUNvMhwNCWF5"
      },
      "source": [
        "inspections['SCORE'].agg('mean')"
      ],
      "execution_count": null,
      "outputs": []
    },
    {
      "cell_type": "code",
      "metadata": {
        "id": "XpVaAe2uz8Bk"
      },
      "source": [
        "inspections['SCORE'].agg(['mean','std','count','nunique'])"
      ],
      "execution_count": null,
      "outputs": []
    },
    {
      "cell_type": "code",
      "metadata": {
        "id": "dJP_gFvKzCNY"
      },
      "source": [
        "inspections.agg(\n",
        "    {\n",
        "        'SCORE': ['mean','std','count','nunique'],\n",
        "        'CAMIS':  ['nunique','count']\n",
        "    }\n",
        ")"
      ],
      "execution_count": null,
      "outputs": []
    },
    {
      "cell_type": "code",
      "metadata": {
        "id": "92Gsuibr0Zi1"
      },
      "source": [
        "inspections.agg(\n",
        "        num_scored_violations = ('SCORE', 'count'),\n",
        "        mean_score = ('SCORE', 'mean'),\n",
        "        std_score  = ('SCORE', 'std'),\n",
        "        num_entries = ('CAMIS',  'count'),\n",
        "        num_restaurants = ('CAMIS',  'nunique'),\n",
        "  )"
      ],
      "execution_count": null,
      "outputs": []
    },
    {
      "cell_type": "markdown",
      "metadata": {
        "id": "NDAZWbRxw5JJ"
      },
      "source": [
        "# Calculating aggregates per groups -- `groupby()`"
      ]
    },
    {
      "cell_type": "code",
      "metadata": {
        "id": "AtjmJWijDXYU"
      },
      "source": [
        "inspections.groupby('INSPECTION_DATE').agg({'SCORE': 'mean'})"
      ],
      "execution_count": null,
      "outputs": []
    },
    {
      "cell_type": "code",
      "metadata": {
        "id": "eSoefDKZEbMp"
      },
      "source": [
        "(\n",
        "  inspections\n",
        "  .groupby('INSPECTION_DATE')\n",
        "  .agg(\n",
        "    score_mean = ('SCORE', 'mean'), # calculate the mean of the score\n",
        "    graded_restaurants = ('CAMIS', 'nunique') # count unique restaurant IDs\n",
        "  )\n",
        "  .tail(20) # show the last 20 lines\n",
        ")"
      ],
      "execution_count": null,
      "outputs": []
    },
    {
      "cell_type": "code",
      "metadata": {
        "id": "5DQIJuYIeNi8"
      },
      "source": [
        "(\n",
        "  inspections\n",
        "  .groupby('INSPECTION_DATE')\n",
        "  .agg(\n",
        "    score_mean = ('SCORE', 'mean'), # calculate the aveage score for the date\n",
        "    graded_restaurants = ('CAMIS', 'nunique') # and the number of restaurants\n",
        "  )\n",
        "  .query('graded_restaurants>10') # keep only days with at least 10 graded restauranta\n",
        "  .filter(items=['score_mean']) # we only want to plot the score\n",
        "  .plot()\n",
        ")"
      ],
      "execution_count": null,
      "outputs": []
    },
    {
      "cell_type": "code",
      "source": [
        "(\n",
        "  inspections\n",
        "  .groupby('INSPECTION_DATE')\n",
        "  .agg(\n",
        "    score_mean = ('SCORE', 'mean'), # calculate the aveage score for the date\n",
        "    graded_restaurants = ('CAMIS', 'nunique') # and the number of restaurants\n",
        "  )\n",
        "  .query('graded_restaurants>10') # keep only days with at least 10 graded restauranta\n",
        "  .filter(items=['score_mean']) # we only want to plot the score\n",
        "  .resample('1M').mean() # change the frequency to 1 month, and show avg score per month\n",
        "  .plot(\n",
        "    style='--o', # use a dotted line and circles as markers\n",
        "    linewidth=2, # the line should be 1 pixel wide\n",
        "    markersize=8, # the marker size set to 8\n",
        "  )\n",
        ")"
      ],
      "metadata": {
        "id": "2RrB4nvsTZJo"
      },
      "execution_count": null,
      "outputs": []
    },
    {
      "cell_type": "markdown",
      "metadata": {
        "id": "bS8nDH9DRPPW"
      },
      "source": [
        "## Advanced Pivot Tables\n",
        "\n",
        "We can also add multiple attributes in the index and columns. It is also possible to have multiple aggregation functions, and we can even define our own aggregation functions."
      ]
    },
    {
      "cell_type": "code",
      "metadata": {
        "id": "oX1uJBmsRPPW"
      },
      "source": [
        "# We break down by BORO and GRADE, and also calculate\n",
        "# inspections scores\n",
        "pivot_advanced = pd.pivot_table(\n",
        "    data=violations,  #\n",
        "    index=\"INSPECTION_DATE\",\n",
        "    columns=[\"BORO\", \"GRADE\"],\n",
        "    values=\"SCORE\",\n",
        "    aggfunc=[\"mean\", \"std\"],\n",
        ")\n",
        "\n",
        "# Take the total number of inspections (unique and non-unique)\n",
        "agg = pivot_advanced.resample(\"1M\").mean()\n",
        "\n",
        "# Show the last 5 entries and show the transpose (.T)\n",
        "agg.tail().T"
      ],
      "execution_count": null,
      "outputs": []
    },
    {
      "cell_type": "code",
      "metadata": {
        "id": "qv0aU9yQRPPh"
      },
      "source": [
        "# your code here"
      ],
      "execution_count": null,
      "outputs": []
    },
    {
      "cell_type": "code",
      "metadata": {
        "id": "OjG4WrB5RPPj",
        "solution2": "hidden"
      },
      "source": [],
      "execution_count": null,
      "outputs": []
    }
  ]
}