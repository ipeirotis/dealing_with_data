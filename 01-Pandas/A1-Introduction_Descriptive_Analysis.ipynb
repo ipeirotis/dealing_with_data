{
  "nbformat": 4,
  "nbformat_minor": 0,
  "metadata": {
    "colab": {
      "name": "A-Introduction_to_Pandas",
      "provenance": [],
      "toc_visible": true,
      "include_colab_link": true
    },
    "kernelspec": {
      "display_name": "Python 3",
      "language": "python",
      "name": "python3"
    },
    "language_info": {
      "codemirror_mode": {
        "name": "ipython",
        "version": 3
      },
      "file_extension": ".py",
      "mimetype": "text/x-python",
      "name": "python",
      "nbconvert_exporter": "python",
      "pygments_lexer": "ipython3",
      "version": "3.8.5"
    }
  },
  "cells": [
    {
      "cell_type": "markdown",
      "metadata": {
        "id": "view-in-github",
        "colab_type": "text"
      },
      "source": [
        "<a href=\"https://colab.research.google.com/github/ipeirotis/dealing_with_data/blob/master/01-Pandas/A1-Introduction_Descriptive_Analysis.ipynb\" target=\"_parent\"><img src=\"https://colab.research.google.com/assets/colab-badge.svg\" alt=\"Open In Colab\"/></a>"
      ]
    },
    {
      "cell_type": "markdown",
      "metadata": {
        "id": "2fdYUrR2RPLK"
      },
      "source": [
        "# Introduction to Pandas"
      ]
    },
    {
      "cell_type": "markdown",
      "metadata": {
        "id": "ycUTUOp0RPLL"
      },
      "source": [
        "## Setup and preliminaries"
      ]
    },
    {
      "cell_type": "markdown",
      "source": [
        "Install the necessary libraries to connect to MySQL and to read Excel files"
      ],
      "metadata": {
        "id": "0p4nxRUUNjqs"
      }
    },
    {
      "cell_type": "code",
      "source": [
        "!pip3 install -U -q PyMySQL sqlalchemy"
      ],
      "metadata": {
        "id": "utQbDZCIrJSQ"
      },
      "execution_count": null,
      "outputs": []
    },
    {
      "cell_type": "markdown",
      "metadata": {
        "id": "SPK-fH_vRPLR"
      },
      "source": [
        "In order to read and process files, we are going to use a very powerful, and widely used Python library, called pandas. So, our next step is to import the pandas library in Python, and a few related libraries:"
      ]
    },
    {
      "cell_type": "code",
      "metadata": {
        "id": "rs9khdOxRPLS"
      },
      "source": [
        "import pandas as pd\n",
        "import numpy as np\n",
        "import matplotlib\n",
        "import matplotlib.pyplot as plt\n",
        "import seaborn as sns"
      ],
      "execution_count": null,
      "outputs": []
    },
    {
      "cell_type": "markdown",
      "metadata": {
        "id": "K2KzbTtORPLZ"
      },
      "source": [
        "And we type some code to simply change the visual style of the plots. (The code below is optional and not necessary, and for now you do not need to understand what exactly is happening.)"
      ]
    },
    {
      "cell_type": "code",
      "metadata": {
        "id": "KZt6cUxCRPLN"
      },
      "source": [
        "# Render our plots with high resolution\n",
        "%config InlineBackend.figure_format = 'retina'"
      ],
      "execution_count": null,
      "outputs": []
    },
    {
      "cell_type": "code",
      "metadata": {
        "id": "enddmxxDRPLa"
      },
      "source": [
        "# Make the graphs a bit bigger\n",
        "matplotlib.style.use([\"seaborn-v0_8-talk\", \"seaborn-v0_8-ticks\", \"seaborn-v0_8-whitegrid\"])"
      ],
      "execution_count": null,
      "outputs": []
    },
    {
      "cell_type": "code",
      "source": [
        "# Setting the default figure size for Pandas plots\n",
        "pd.options.plotting.backend = 'matplotlib'\n",
        "plt.rcParams['figure.figsize'] = [10, 3]"
      ],
      "metadata": {
        "id": "WYEBiXkftfLu"
      },
      "execution_count": null,
      "outputs": []
    },
    {
      "cell_type": "markdown",
      "metadata": {
        "id": "Ou04bj1STXa4"
      },
      "source": [
        "# Loading Data"
      ]
    },
    {
      "cell_type": "markdown",
      "source": [
        "Pandas offers the ability to read and write from/to many different data types. We read from a MySQL server using SQL in this notebook.\n",
        "\n",
        "Later, we will discuss [more examples](https://github.com/ipeirotis/dealing_with_data/blob/master/01-Pandas/B1-Pandas_Reading_Data.ipynb), showing how to download and read CSV files, Excel files, fixed-width datasets, and even how to read directly tables from web pages.\n",
        "\n",
        "The [official documentation](https://pandas.pydata.org/docs/reference/io.html) has the full list."
      ],
      "metadata": {
        "id": "znhDezG1Twq-"
      }
    },
    {
      "cell_type": "markdown",
      "metadata": {
        "id": "zRkwgJ2BRPLl"
      },
      "source": [
        "## Reading data using SQL from a MySQL Server"
      ]
    },
    {
      "cell_type": "markdown",
      "metadata": {
        "id": "3YF27gS9RPLl"
      },
      "source": [
        "We will use a dataset with [restaurant inspection results in NYC](https://data.cityofnewyork.us/Health/DOHMH-New-York-City-Restaurant-Inspection-Results/43nn-pn8j). The dataset that we are going to use has been cleaned up, normalized, and stored in our MySQL database, under the `doh_restaurants` database."
      ]
    },
    {
      "cell_type": "code",
      "metadata": {
        "id": "h5GO33l5RPLm"
      },
      "source": [
        "import os\n",
        "from sqlalchemy import create_engine\n",
        "from sqlalchemy import text\n",
        "\n",
        "conn_string = 'mysql+pymysql://{user}:{password}@{host}/{db}?charset=utf8mb4'.format(\n",
        "    host = 'db.ipeirotis.org',\n",
        "    user = 'student',\n",
        "    password = 'dwdstudent2015',\n",
        "    db = 'doh_restaurants',\n",
        "    encoding = 'utf8mb4')\n",
        "\n",
        "engine = create_engine(conn_string)"
      ],
      "execution_count": null,
      "outputs": []
    },
    {
      "cell_type": "markdown",
      "metadata": {
        "id": "WNsW_56mRPLq"
      },
      "source": [
        "We fetch the results of the query using the `read_sql` command."
      ]
    },
    {
      "cell_type": "code",
      "source": [
        "# This query returns back the restaurants in the DOH database\n",
        "sql = '''\n",
        "\tSELECT R.CAMIS, R.DBA, R.BUILDING, R.STREET, R.ZIPCODE, R.BORO,\n",
        "          R.CUISINE_DESCRIPTION, R.LATITUDE, R.LONGITUDE\n",
        "\t\tFROM doh_restaurants.restaurants R\n",
        "'''\n",
        "\n",
        "with engine.connect() as connection:\n",
        "\trestaurants = pd.read_sql(text(sql), con=connection)"
      ],
      "metadata": {
        "id": "xlfDX5AtvG58"
      },
      "execution_count": null,
      "outputs": []
    },
    {
      "cell_type": "code",
      "metadata": {
        "id": "n0_mc9_6RPLq"
      },
      "source": [
        "# This query returns back the results of the inspections of each restaurant\n",
        "sql = '''\n",
        "\tSELECT R.CAMIS, R.DBA, R.ZIPCODE, R.BORO, R.CUISINE_DESCRIPTION,\n",
        "\t\t\t\t I.INSPECTION_DATE, I.INSPECTION_ID,\n",
        "\t\t\t\t I.INSPECTION_TYPE, I.SCORE, I.GRADE\n",
        "\tFROM restaurants R\n",
        "\t\tJOIN inspections I ON I.CAMIS = R.CAMIS\n",
        "'''\n",
        "\n",
        "with engine.connect() as connection:\n",
        "\tinspections = pd.read_sql(text(sql), con=connection)"
      ],
      "execution_count": null,
      "outputs": []
    },
    {
      "cell_type": "code",
      "source": [
        "# This query returns back the results and violations captured in the\n",
        "# latest inspection of each restaurant\n",
        "sql = '''\n",
        "  WITH latest_inspection AS (\n",
        "\t\tSELECT CAMIS, MAX(INSPECTION_DATE) AS INSPECTION_DATE FROM inspections\n",
        "\t\tGROUP BY CAMIS\n",
        "\t)\n",
        "\tSELECT R.CAMIS, R.DBA, R.ZIPCODE, R.BORO,\n",
        "          I.INSPECTION_DATE, I.INSPECTION_ID, I.INSPECTION_TYPE,\n",
        "          V.VIOLATION_CODE, I.SCORE, I.GRADE\n",
        "\t\tFROM restaurants R\n",
        "\t\t\tJOIN latest_inspection L ON R.CAMIS = L.CAMIS\n",
        "\t\t\tJOIN inspections I ON I.CAMIS = L.CAMIS AND L.INSPECTION_DATE = I.INSPECTION_DATE\n",
        "\t\t\tJOIN violations V ON I.INSPECTION_ID = V.INSPECTION_ID\n",
        "'''\n",
        "\n",
        "with engine.connect() as connection:\n",
        "\tviolations = pd.read_sql(text(sql), con=connection)"
      ],
      "metadata": {
        "id": "Gbua5h9RFP0F"
      },
      "execution_count": null,
      "outputs": []
    },
    {
      "cell_type": "markdown",
      "metadata": {
        "id": "13OxAtwORPLt"
      },
      "source": [
        "When you run your query using Pandas, you get back a kind of object called a DataFrame, which is made up of rows and columns. Let's take a look at how the object looks like:"
      ]
    },
    {
      "cell_type": "code",
      "source": [
        "restaurants"
      ],
      "metadata": {
        "id": "yi6DLJiJvcH_"
      },
      "execution_count": null,
      "outputs": []
    },
    {
      "cell_type": "code",
      "source": [
        "# If you want the first 6 lines:\n",
        "# restaurants.head(6)"
      ],
      "metadata": {
        "id": "c2GYjPU4GVBJ"
      },
      "execution_count": null,
      "outputs": []
    },
    {
      "cell_type": "code",
      "source": [
        "# If you want the last 10 lines:\n",
        "# restaurants.tail(10)"
      ],
      "metadata": {
        "id": "KUCK6lCrGVD5"
      },
      "execution_count": null,
      "outputs": []
    },
    {
      "cell_type": "markdown",
      "source": [
        "### Exercise\n",
        "\n",
        "Inspect the contents of the `inspections` and `violations` dataframes"
      ],
      "metadata": {
        "id": "6a2EWLmLN36D"
      }
    },
    {
      "cell_type": "code",
      "metadata": {
        "id": "kHawKZ5fRPLu"
      },
      "source": [
        "# Your code here"
      ],
      "execution_count": null,
      "outputs": []
    },
    {
      "cell_type": "code",
      "source": [
        "# Your code here"
      ],
      "metadata": {
        "id": "9kpUkXl-F0bT"
      },
      "execution_count": null,
      "outputs": []
    },
    {
      "cell_type": "code",
      "source": [],
      "metadata": {
        "id": "kXloq0BHKtMI"
      },
      "execution_count": null,
      "outputs": []
    },
    {
      "cell_type": "markdown",
      "source": [
        "### Exercise 2\n",
        "\n",
        "Create a dataframe called `manh_rest` that contains the restaurants located in Manhattan, which mirrors the `restaurants` dataframe but is limited to only restaurants in Manhattan. You need to write the appropriate SQL query and get back the data that you need.\n",
        "\n",
        "Also create a dataframe called `manh_insp` that contains inspections just for Manhattan restaurants.\n",
        "\n",
        "We will use these dataframes later on for more exercises."
      ],
      "metadata": {
        "id": "c3oEB56pKtoa"
      }
    },
    {
      "cell_type": "code",
      "source": [
        "# This query returns back the restaurants in the DOH database\n",
        "sql = '''\n",
        "\tSELECT R.CAMIS, R.DBA, R.BUILDING, R.STREET, R.ZIPCODE, R.BORO,\n",
        "          R.CUISINE_DESCRIPTION, R.LATITUDE, R.LONGITUDE\n",
        "\t\tFROM doh_restaurants.restaurants R\n",
        "    WHERE R.BORO = 'MANHATTAN'\n",
        "'''\n",
        "\n",
        "with engine.connect() as connection:\n",
        "\tmanh_rest = pd.read_sql(text(sql), con=connection)\n",
        "\n",
        "\n",
        "# This query returns back the results of the inspections of each restaurant\n",
        "sql = '''\n",
        "\tSELECT R.CAMIS, R.DBA, R.ZIPCODE, R.BORO, R.CUISINE_DESCRIPTION,\n",
        "\t\t\t\t I.INSPECTION_DATE, I.INSPECTION_ID,\n",
        "\t\t\t\t I.INSPECTION_TYPE, I.SCORE, I.GRADE\n",
        "\tFROM restaurants R\n",
        "\t\tJOIN inspections I ON I.CAMIS = R.CAMIS\n",
        "  WHERE R.BORO = 'MANHATTAN'\n",
        "'''\n",
        "\n",
        "with engine.connect() as connection:\n",
        "\tmanh_insp = pd.read_sql(text(sql), con=connection)"
      ],
      "metadata": {
        "id": "EvkkeyUzLBVi"
      },
      "execution_count": null,
      "outputs": []
    },
    {
      "cell_type": "markdown",
      "metadata": {
        "id": "EZIRsPfkbFRN"
      },
      "source": [
        "# Data Types and Descriptive Statistics"
      ]
    },
    {
      "cell_type": "markdown",
      "source": [
        "## Data Types using `.dtypes`"
      ],
      "metadata": {
        "id": "k4Q1lJcRwUtS"
      }
    },
    {
      "cell_type": "markdown",
      "metadata": {
        "id": "9-iZUdU_bFRO"
      },
      "source": [
        "We can also check the data types for each column"
      ]
    },
    {
      "cell_type": "code",
      "metadata": {
        "id": "4bsnaxMvbFRO"
      },
      "source": [
        "restaurants.dtypes"
      ],
      "execution_count": null,
      "outputs": []
    },
    {
      "cell_type": "markdown",
      "source": [
        "### Exercise\n",
        "\n",
        "Get the data types for the \"inspections\" and \"violations\""
      ],
      "metadata": {
        "id": "J6-OqMcHwMN9"
      }
    },
    {
      "cell_type": "code",
      "source": [
        "# your code here"
      ],
      "metadata": {
        "id": "d7P0UqlYwFca"
      },
      "execution_count": null,
      "outputs": []
    },
    {
      "cell_type": "markdown",
      "metadata": {
        "id": "_nLcGpcDRPLz"
      },
      "source": [
        "## Descriptive statistics\n",
        "\n"
      ]
    },
    {
      "cell_type": "markdown",
      "metadata": {
        "id": "4AIX3fGLRPL7"
      },
      "source": [
        "### Descriptive Statistics for Numeric Variables\n"
      ]
    },
    {
      "cell_type": "markdown",
      "metadata": {
        "id": "_44IGXw4RPL_"
      },
      "source": [
        "#### Basic descriptive statistics for numeric variables\n",
        "\n",
        "Given that SCORE is a numeric variable, we can get more detailed descriptive statistics for the variable using the `.describe()` command:"
      ]
    },
    {
      "cell_type": "code",
      "metadata": {
        "id": "91cmXd7FRPL_"
      },
      "source": [
        "inspections[\"SCORE\"].describe()"
      ],
      "execution_count": null,
      "outputs": []
    },
    {
      "cell_type": "markdown",
      "metadata": {
        "id": "GfpyQuyGRPMC"
      },
      "source": [
        "And now that SCORE is a numeric variable, we can examine its distribution by using the `hist` command of Pandas, which creates a histogram. (The histogram is lso available as `.hist`, or `plot(kind='hist'))`.)"
      ]
    },
    {
      "cell_type": "code",
      "metadata": {
        "id": "0Qs50xHYRPMC"
      },
      "source": [
        "inspections[\"SCORE\"].plot.hist()"
      ],
      "execution_count": null,
      "outputs": []
    },
    {
      "cell_type": "markdown",
      "metadata": {
        "id": "AqWLiM1GRPME"
      },
      "source": [
        "By default, the histogram has ~10 bars in out plot. We can change the resolution of the histogram using the `bins` variable. Larger number of `bins` allow for higher resolution, but if we increase the number too much, many bins end up having very few, or no data points. For example, experiment with changing the balue of bins below, and change the value from 50 to something bigger."
      ]
    },
    {
      "cell_type": "code",
      "metadata": {
        "id": "Ham9TxYoRPMF"
      },
      "source": [
        "inspections[\"SCORE\"].plot.hist(bins=50)"
      ],
      "execution_count": null,
      "outputs": []
    },
    {
      "cell_type": "markdown",
      "source": [
        "The cumulative option allows us to see how many entries have scores below a particular value."
      ],
      "metadata": {
        "id": "t5s4MM5haJzx"
      }
    },
    {
      "cell_type": "code",
      "source": [
        "inspections[\"SCORE\"].plot.hist(bins=50, cumulative=True)"
      ],
      "metadata": {
        "id": "4gxx39ypZd2x"
      },
      "execution_count": null,
      "outputs": []
    },
    {
      "cell_type": "code",
      "metadata": {
        "id": "z6nkNDoORPMK"
      },
      "source": [
        "# A quick exposure to various options of the \"hist\" command\n",
        "inspections[\"SCORE\"].plot.hist(\n",
        "    bins=50,  # use 50 bars\n",
        "    range=(0, 50),  # only consider scores from 0 to 50\n",
        "    density=False,  # show normalized count (density=True), or raw counts (density= False)\n",
        "    figsize=(10, 3),  # controls the size of the plot\n",
        "    alpha=0.8,  # make the plot 20% transparent\n",
        ")"
      ],
      "execution_count": null,
      "outputs": []
    },
    {
      "cell_type": "code",
      "source": [
        "# Changing plot to cumulative\n",
        "inspections[\"SCORE\"].plot.hist(\n",
        "    bins=50,  # use 50 bars\n",
        "    range=(0, 50),  # only consider scores from 0 to 50\n",
        "    density=True,  # show normalized count (density=True), or raw counts (density= False)\n",
        "    cumulative=True, # change the histogram to be cumulative\n",
        "    figsize=(10, 3),  # controls the size of the plot\n",
        "    alpha=0.8,  # make the plot 20% transparent\n",
        ")"
      ],
      "metadata": {
        "id": "Hd4qhiEXZrvY"
      },
      "execution_count": null,
      "outputs": []
    },
    {
      "cell_type": "markdown",
      "source": [
        "#### Exercises\n",
        "\n",
        "* Create the corresponding histograms for the `manh_insp` dataframe that we created earlier. Some people claim that Manhattan restaurants are favored by the inspectors and get lower scores. Do you agree?\n",
        "\n",
        "* Create histograms for the `LONGITUDE` and `LATITUDE` variables from the `restaurants` dataframe.\n",
        "\n",
        "* Create histograms for the `LONGITUDE` and `LATITUDE` variables from the `manh_rest` dataframe."
      ],
      "metadata": {
        "id": "YNcPHZsInjfP"
      }
    },
    {
      "cell_type": "code",
      "source": [
        "# your code here"
      ],
      "metadata": {
        "id": "I1kV-pBpn9Cl"
      },
      "execution_count": null,
      "outputs": []
    },
    {
      "cell_type": "markdown",
      "metadata": {
        "id": "QqX3BxknRPMM"
      },
      "source": [
        "#### Kernel Density Estimation (KDE)\n",
        "\n",
        "An alternative to histograms is to use the **kernel density**, which estimates a continuous function, instead of the bucketized counts, which tends to be discontunuous and bumpy. We can access this usind the [`.plot(kind='kde')`](https://pandas.pydata.org/docs/reference/api/pandas.DataFrame.plot.kde.html) command:"
      ]
    },
    {
      "cell_type": "code",
      "metadata": {
        "id": "YDXan_BCRPMN"
      },
      "source": [
        "# This plots the density of a numeric attribute\n",
        "# kde = kernel density estimation\n",
        "inspections[\"SCORE\"].plot(kind=\"kde\", color=\"Black\", xlim=(0, 50), figsize=(10, 3))"
      ],
      "execution_count": null,
      "outputs": []
    },
    {
      "cell_type": "markdown",
      "metadata": {
        "id": "CHNYw_8YjcyR"
      },
      "source": [
        "#### Extra: Combining plots\n",
        "\n",
        "Just as a quick note, we can actually easily combine plots in Pandas, by saving a plot in a variable, and then passing the parameter `ax = ....` in the new figure that we are creating. That `ax` parameter indicates that we want to plot the new chart on top of the plot specified in the `ax` parameter."
      ]
    },
    {
      "cell_type": "code",
      "metadata": {
        "id": "GdbTISRojJsN"
      },
      "source": [
        "# We save the plot in the variable \"histogram_figure\"\n",
        "histogram_figure = inspections[\"SCORE\"].plot.hist(\n",
        "    bins=50,  # use 50 bars\n",
        "    range=(0, 50),  # x-axis from 0 to 50\n",
        "    density=True,  # show normalized count (density=True), or raw counts (density= False)\n",
        "    figsize=(10, 3),  # controls the size of the plot\n",
        "    alpha=0.8,  # make the plot 20% transparent\n",
        ")\n",
        "\n",
        "# To combine the plots, we pass the ax = histogram_figure parameter\n",
        "inspections[\"SCORE\"].plot(\n",
        "    kind=\"kde\",\n",
        "    color=\"Black\",\n",
        "    xlim=(0, 50),\n",
        "    figsize=(10, 3),\n",
        "    ax=histogram_figure # <<== We plot this figure on top of \"histogram_figure\"\n",
        ")"
      ],
      "execution_count": null,
      "outputs": []
    },
    {
      "cell_type": "markdown",
      "source": [
        "#### Exercise\n",
        "\n",
        "* Combine the KDE plots for the `SCORE` variable from the `inspections` dataframe and the `manh_insp` dataframe.\n",
        "* Change the color of the line for one of the two data sources, so that you can see easier the difference between the two.\n",
        "* Add a bit of transparency to the lines so that you can avoid covering one line fully by the other."
      ],
      "metadata": {
        "id": "I24EWyYo1uGM"
      }
    },
    {
      "cell_type": "code",
      "source": [],
      "metadata": {
        "id": "kZZAJy8O2GJ7"
      },
      "execution_count": null,
      "outputs": []
    },
    {
      "cell_type": "markdown",
      "source": [
        "#### Extra 2: Plotting Geographical Position\n",
        "\n",
        "The code below illustrates how to plot the geographical location of the restaurants. We use a `scatterplot` plot, and we use the `LONGITUDE` and `LATITUDE` as variables to place the dots of the scatterplot."
      ],
      "metadata": {
        "id": "iArMNcjTKJmZ"
      }
    },
    {
      "cell_type": "code",
      "source": [
        "restaurants.plot(\n",
        "    kind = 'scatter',\n",
        "    x = 'LONGITUDE',\n",
        "    y = 'LATITUDE',\n",
        "    c = 'Red', # sets the color for the dots\n",
        "    # s = 0.25, # keep the size of each dot small\n",
        "    # figsize = (8,8), # resise the figure\n",
        "    # alpha = 0.5 # make dots transparent\n",
        ")"
      ],
      "metadata": {
        "id": "EnqHKSAKIxxv"
      },
      "execution_count": null,
      "outputs": []
    },
    {
      "cell_type": "markdown",
      "source": [
        "#### Extra 3: Plotting Geographical Boundaries\n",
        "\n",
        "The plot below is mainly for illustrative purposes right now. We will dive deeper in these techniques when working on spatial data."
      ],
      "metadata": {
        "id": "9-6cQpdFKVFo"
      }
    },
    {
      "cell_type": "code",
      "source": [
        "import geopandas as gpd\n",
        "\n",
        "# This code downloads a dataset with the neighborhoods of NYC\n",
        "# and plots their outlines.\n",
        "\n",
        "# Dataset from NYC Open Data: https://data.cityofnewyork.us/City-Government/Neighborhood-Tabulation-Areas/cpf4-rkhq\n",
        "df_nyc = gpd.GeoDataFrame.from_file('https://data.cityofnewyork.us/api/geospatial/cpf4-rkhq?method=export&format=Shapefile')\n",
        "\n",
        "df_nyc.plot(\n",
        "    linewidth=0.5,\n",
        "    color='White',\n",
        "    edgecolor='Black',\n",
        "    figsize=(8, 8),\n",
        "    alpha=0.5\n",
        ")"
      ],
      "metadata": {
        "id": "FkpiJtHzKF4O"
      },
      "execution_count": null,
      "outputs": []
    },
    {
      "cell_type": "code",
      "source": [
        "# this is the map of NYC neighborhoods, that we use as the first\n",
        "# layer of our plot\n",
        "base = df_nyc.plot(\n",
        "    linewidth=0.5,\n",
        "    color='White',\n",
        "    edgecolor='Black',\n",
        "    figsize=(8, 8),\n",
        "    alpha=0.5)\n",
        "\n",
        "# On a second layer, we plot a scatterplot with the locations of the\n",
        "# restaurants\n",
        "scatter = restaurants.plot(\n",
        "    kind = 'scatter',\n",
        "    x = 'LONGITUDE',\n",
        "    y = 'LATITUDE',\n",
        "    s = 1, # keep the size of each dot small\n",
        "    # figsize = (10,10), # resize the figure\n",
        "    alpha = 0.5, # make dots transparent\n",
        "    ax = base # we create this plot on top of the first layer (\"base\" variable)\n",
        ")\n",
        "\n",
        "# On a third layer, we plot a 2-d kernel density plot that is drawn using colors\n",
        "sns.kdeplot(\n",
        "    data=restaurants,\n",
        "    x='LONGITUDE',\n",
        "    y='LATITUDE',\n",
        "    gridsize=100,  # controls the resolution\n",
        "    cmap='rainbow',  # color scheme\n",
        "    fill= True, # whether to have a density plot (True), or just the contours (False)\n",
        "    alpha=0.5,\n",
        "    thresh=0.01, # stop putting color in areas with density below 0.01\n",
        "    n_levels=50,  # How many contours/levels to have\n",
        "    # height = 10, # figure height\n",
        "    ax = scatter # we create this plot on top of the second layer (\"scatter\" variable)\n",
        ")"
      ],
      "metadata": {
        "id": "RxPaPUbaKmlQ"
      },
      "execution_count": null,
      "outputs": []
    },
    {
      "cell_type": "markdown",
      "metadata": {
        "id": "4vcYE-MURPMP"
      },
      "source": [
        "### Descriptive Statistics for Dates\n"
      ]
    },
    {
      "cell_type": "markdown",
      "metadata": {
        "id": "5JJJB4dERPMd"
      },
      "source": [
        "#### Exercise\n",
        "\n",
        "* Plot a histogram for `INSPECTION_DATE`. What do you see?\n",
        "* Try modifying the `bins` parameter. What are the results?\n",
        "* The `range=(start, finish)` command is often useful, when we want to focus on a particular part of the dataset. Try using that for  `INSPECTION DATE` to limit the dates to be between 1/1/2019 and 05/31/2024."
      ]
    },
    {
      "cell_type": "code",
      "metadata": {
        "id": "MxRHvWPxRPMm"
      },
      "source": [
        "# your code here"
      ],
      "execution_count": null,
      "outputs": []
    },
    {
      "cell_type": "markdown",
      "metadata": {
        "id": "G8XqYeBbRPMo",
        "solution2": "hidden",
        "solution2_first": true
      },
      "source": [
        "#### Solution"
      ]
    },
    {
      "cell_type": "code",
      "metadata": {
        "id": "ds2zDG6xRPMp",
        "solution2": "hidden"
      },
      "source": [
        "# Not very appealing\n",
        "inspections[\"INSPECTION_DATE\"].hist(figsize=(10,3))"
      ],
      "execution_count": null,
      "outputs": []
    },
    {
      "cell_type": "code",
      "metadata": {
        "id": "JcBGiZ0pRPMt",
        "solution2": "hidden"
      },
      "source": [
        "inspections[\"INSPECTION_DATE\"].hist(\n",
        "    range=(\"2019-01-01\", \"2024-05-31\"),  # limit the range of dates\n",
        "    bins=285,  # number of week in the range\n",
        "    figsize=(10, 3),  # resize 10-width, 3-height\n",
        ")"
      ],
      "execution_count": null,
      "outputs": []
    },
    {
      "cell_type": "markdown",
      "metadata": {
        "id": "dsAgjwRyRPM7"
      },
      "source": [
        "### Descriptive Statistics for Categorical/string columns"
      ]
    },
    {
      "cell_type": "markdown",
      "metadata": {
        "id": "gRaEBS-GRPM7"
      },
      "source": [
        "We can also get quick statistics about the common values that appear in each column:"
      ]
    },
    {
      "cell_type": "code",
      "metadata": {
        "id": "syGbdu-9RPM-"
      },
      "source": [
        "restaurants[\"CUISINE_DESCRIPTION\"].value_counts()"
      ],
      "execution_count": null,
      "outputs": []
    },
    {
      "cell_type": "code",
      "source": [
        "# Let's keep just the top-10\n",
        "restaurants[\"CUISINE_DESCRIPTION\"].value_counts().head(10)"
      ],
      "metadata": {
        "id": "77EL3B1xe-Z7"
      },
      "execution_count": null,
      "outputs": []
    },
    {
      "cell_type": "markdown",
      "metadata": {
        "id": "EzHAljAjRPNA"
      },
      "source": [
        "And we can use the \"plot\" command to plot the resulting histogram. ([More details](http://pandas.pydata.org/pandas-docs/stable/visualization.html))"
      ]
    },
    {
      "cell_type": "code",
      "metadata": {
        "id": "QUlBxouPRPNB"
      },
      "source": [
        "# We use a horizontal bar chart, aka \"barh\",\n",
        "# to make the text labels easier to read\n",
        "restaurants[\"CUISINE_DESCRIPTION\"].value_counts().head(10).plot(kind=\"barh\", figsize=(8,3))"
      ],
      "execution_count": null,
      "outputs": []
    },
    {
      "cell_type": "code",
      "source": [
        "restaurants[\"CUISINE_DESCRIPTION\"].value_counts().head(10).sort_values().plot(kind=\"barh\", figsize=(8,3))"
      ],
      "metadata": {
        "id": "PcBIHvd2uS-W"
      },
      "execution_count": null,
      "outputs": []
    },
    {
      "cell_type": "markdown",
      "source": [
        "#### Exercise\n",
        "\n",
        "Create a plot with the frequency of restaurant names (i.e., `DBA` variable in the `restaurants` dataframe). Which chains have the most restaurants in NYC? How does the list for the whole NYC compare to the list for Manhattan (ie analyze the `restaurants` and the `manh_rest` dataframes)"
      ],
      "metadata": {
        "id": "MLhMily2BJrv"
      }
    },
    {
      "cell_type": "code",
      "source": [],
      "metadata": {
        "id": "62cUrY1bxmaa"
      },
      "execution_count": null,
      "outputs": []
    },
    {
      "cell_type": "markdown",
      "source": [
        "#### Exercise\n",
        "\n",
        "Using the \"violations\" dataframe, analyze the `VIOLATION_CODE` attribute and identify the most common violation codes in the data. Create a bar plot as above to show the frequency of the various violations codes.\n",
        "\n",
        "If you are adventurous, issue a query against the database using the `read_sql` command and get the descriptions of the violations from the table `doh_restaurants.violaction_codes`"
      ],
      "metadata": {
        "id": "cO8UxX4yxm6t"
      }
    },
    {
      "cell_type": "code",
      "metadata": {
        "id": "UzD-ebpzRPNd"
      },
      "source": [
        "# your code here"
      ],
      "execution_count": null,
      "outputs": []
    },
    {
      "cell_type": "markdown",
      "source": [
        "#### Solution"
      ],
      "metadata": {
        "id": "cgU_jjaZfdyh"
      }
    },
    {
      "cell_type": "code",
      "source": [
        "violations[\"VIOLATION_CODE\"].value_counts().head(10).plot(kind='barh', figsize=(8,3))"
      ],
      "metadata": {
        "id": "7wke6j7aghaZ"
      },
      "execution_count": null,
      "outputs": []
    },
    {
      "cell_type": "code",
      "source": [
        "violations[\"VIOLATION_CODE\"].value_counts().head(10).sort_values().plot(kind='barh', figsize=(8,3))"
      ],
      "metadata": {
        "id": "kPwCJicGf35z"
      },
      "execution_count": null,
      "outputs": []
    },
    {
      "cell_type": "code",
      "source": [
        "with engine.connect() as connection:\n",
        "  sql = \"SELECT * FROM violation_codes\"\n",
        "  codes = pd.read_sql(text(sql), con=connection)\n",
        "codes"
      ],
      "metadata": {
        "id": "Tx78lY-SffMa"
      },
      "execution_count": null,
      "outputs": []
    },
    {
      "cell_type": "markdown",
      "metadata": {
        "id": "MAbbMV_qRPNv"
      },
      "source": [
        "#### Exercise\n",
        "\n",
        "* Create a plot showing the number of restaurants across **zipcodes** and **boroughts**. Use the `ZIPCODE` and `BORO` columns and the `value_counts()` function."
      ]
    },
    {
      "cell_type": "code",
      "metadata": {
        "id": "a5cD2Fj2RPNw"
      },
      "source": [
        "# your code here"
      ],
      "execution_count": null,
      "outputs": []
    },
    {
      "cell_type": "code",
      "metadata": {
        "id": "qv0aU9yQRPPh"
      },
      "source": [
        "# your code here"
      ],
      "execution_count": null,
      "outputs": []
    },
    {
      "cell_type": "code",
      "metadata": {
        "id": "OjG4WrB5RPPj",
        "solution2": "hidden"
      },
      "source": [],
      "execution_count": null,
      "outputs": []
    }
  ]
}