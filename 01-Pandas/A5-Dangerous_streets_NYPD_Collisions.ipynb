{
  "nbformat": 4,
  "nbformat_minor": 0,
  "metadata": {
    "colab": {
      "private_outputs": true,
      "provenance": [],
      "authorship_tag": "ABX9TyPc3q4/wozg+u60a0dB0qz6",
      "include_colab_link": true
    },
    "kernelspec": {
      "name": "python3",
      "display_name": "Python 3"
    },
    "language_info": {
      "name": "python"
    }
  },
  "cells": [
    {
      "cell_type": "markdown",
      "metadata": {
        "id": "view-in-github",
        "colab_type": "text"
      },
      "source": [
        "<a href=\"https://colab.research.google.com/github/ipeirotis/dealing_with_data/blob/master/01-Pandas/A5-Dangerous_streets_NYPD_Collisions.ipynb\" target=\"_parent\"><img src=\"https://colab.research.google.com/assets/colab-badge.svg\" alt=\"Open In Colab\"/></a>"
      ]
    },
    {
      "cell_type": "markdown",
      "source": [
        "# Analyzing Pedestrian Safety in New York City\n",
        "\n",
        "This notebook explores pedestrian safety in New York City by analyzing collision data to identify areas and streets with a high risk for pedestrians. Our objective is to leverage data analytics and spatial visualization to gain insights into dangerous locations and potentially inform urban planning and safety initiatives.\n",
        "\n",
        "We will use data from the NYC Open Data portal, specifically the Motor Vehicle Collisions data, and geographical data for New York City."
      ],
      "metadata": {
        "id": "rNHI2jIgl-2p"
      }
    },
    {
      "cell_type": "code",
      "source": [
        "%pip install  -U -q  google-cloud-bigquery"
      ],
      "metadata": {
        "id": "eh6kUnHglRXu"
      },
      "execution_count": null,
      "outputs": []
    },
    {
      "cell_type": "code",
      "source": [
        "# This section sets up the Python environment, imports necessary libraries,\n",
        "# and authenticates access to Google Cloud Platform (GCP) services,\n",
        "# specifically Google BigQuery.\n",
        "\n",
        "# Configure the display format for inline plots in the notebook.\n",
        "# 'retina' provides sharper images on high-resolution screens.\n",
        "%config InlineBackend.figure_format = 'retina'\n",
        "\n",
        "# Import essential libraries for data analysis, spatial operations, and visualization.\n",
        "import geopandas as gpd  # For working with geospatial data (like map boundaries)\n",
        "import seaborn as sns    # For creating statistical graphics\n",
        "\n",
        "# Import modules for interacting with Google Cloud services.\n",
        "from google.cloud import bigquery  # For querying data stored in Google BigQuery\n",
        "from google.colab import auth      # For authenticating access in Google Colab\n",
        "\n",
        "# Authenticate the user to access Google Cloud services.\n",
        "# This will prompt you to log in and authorize access if running in Google Colab.\n",
        "auth.authenticate_user()\n",
        "\n",
        "# Set your Google Cloud Project ID.\n",
        "# *** IMPORTANT: Replace 'ipeirotis-hrd' with your actual GCP project ID. ***\n",
        "project_id = 'ipeirotis-hrd' # <-- Change this to your project ID!\n",
        "\n",
        "# Create a BigQuery client object.\n",
        "# This client is used to send SQL queries to BigQuery and retrieve results.\n",
        "# We specify the project ID so the client knows which project to use.\n",
        "bq = bigquery.Client(project=project_id)"
      ],
      "metadata": {
        "id": "EJvvVWhjdo4b"
      },
      "execution_count": null,
      "outputs": []
    },
    {
      "cell_type": "markdown",
      "source": [
        "## Data Source and Preparation\n",
        "\n",
        "We are utilizing the NYC Motor Vehicle Collisions dataset, available through Google Cloud's BigQuery public datasets (`nyu-datasets.collisions.collisions`). This dataset contains detailed information about traffic collisions across New York City.\n",
        "\n",
        "To identify streets with a significantly higher risk for pedestrians, we've formulated a SQL query that calculates the pedestrian fatality rate for each street and compares it to the overall average. We are focusing on streets with a sufficient number of collisions to ensure statistical significance.\n",
        "\n",
        "The results of this query will be loaded into a Pandas DataFrame for further analysis and visualization."
      ],
      "metadata": {
        "id": "dMDZkrlBmB0m"
      }
    },
    {
      "cell_type": "code",
      "execution_count": null,
      "metadata": {
        "id": "AntlsZwbdTZp"
      },
      "outputs": [],
      "source": [
        "sql = '''\n",
        "-- This query identifies the locations of pedestrian injuries or fatalities\n",
        "-- on streets with a significantly higher pedestrian fatality rate.\n",
        "\n",
        "WITH\n",
        "  -- Calculate statistics for each street including total fatalities and total collisions\n",
        "  StreetStats AS (\n",
        "    SELECT\n",
        "      ON_STREET_NAME,\n",
        "      BOROUGH,\n",
        "      SUM(PEDESTRIANS_INJURED) + SUM(PEDESTRIANS_KILLED) AS total_fatalities,\n",
        "      COUNT(*) AS total_collisions\n",
        "    FROM\n",
        "      nyu-datasets.collisions.collisions\n",
        "    WHERE\n",
        "      ON_STREET_NAME IS NOT NULL -- Exclude collisions without a street name\n",
        "    GROUP BY\n",
        "      ON_STREET_NAME,\n",
        "      BOROUGH\n",
        "    HAVING\n",
        "      COUNT(*) >= 50 -- Only consider streets with at least 50 collisions\n",
        "  ),\n",
        "\n",
        "  -- Calculate the overall average pedestrian fatality rate across all considered streets\n",
        "  OverallFatalityRate AS (\n",
        "    SELECT\n",
        "      SUM(total_fatalities) / SUM(total_collisions) AS avg_fatality_rate\n",
        "    FROM\n",
        "      StreetStats\n",
        "  ),\n",
        "\n",
        "  -- Identify streets that have a fatality rate more than 3 times the overall average\n",
        "  DangerousStreets AS (\n",
        "    SELECT\n",
        "      ss.ON_STREET_NAME,\n",
        "      ss.BOROUGH\n",
        "    FROM\n",
        "      StreetStats ss\n",
        "    CROSS JOIN\n",
        "      OverallFatalityRate ofr\n",
        "    WHERE\n",
        "      ss.total_fatalities / ss.total_collisions > 3 * ofr.avg_fatality_rate\n",
        "  )\n",
        "\n",
        "-- Select the latitude and longitude of collisions that occurred on dangerous streets\n",
        "-- where pedestrians were injured or killed\n",
        "SELECT\n",
        "  c.UNIQUE_KEY,\n",
        "  c.DATE_TIME,\n",
        "  c.ON_STREET_NAME,\n",
        "  c.BOROUGH,\n",
        "  c.LATITUDE,\n",
        "  c.LONGITUDE\n",
        "FROM\n",
        "  nyu-datasets.collisions.collisions c\n",
        "INNER JOIN\n",
        "  DangerousStreets ds\n",
        "ON\n",
        "  c.ON_STREET_NAME = ds.ON_STREET_NAME\n",
        "  AND c.BOROUGH = ds.BOROUGH\n",
        "WHERE\n",
        "  c.PEDESTRIANS_INJURED > 0 -- Include collisions with injured pedestrians\n",
        "  OR c.PEDESTRIANS_KILLED > 0 -- Include collisions with killed pedestrians\n",
        "'''\n",
        "\n",
        "df = bq.query(sql).to_dataframe()\n"
      ]
    },
    {
      "cell_type": "code",
      "source": [
        "display(df)"
      ],
      "metadata": {
        "id": "ypbsEzhfoREv"
      },
      "execution_count": null,
      "outputs": []
    },
    {
      "cell_type": "markdown",
      "source": [
        "## Visualizing High-Risk Areas\n",
        "\n",
        "To understand the spatial distribution of pedestrian injuries and fatalities on these identified dangerous streets, we will visualize the data on a map of New York City.\n",
        "\n",
        "We will use the `geopandas` library to load the geographical shapefile of NYC boroughs and `seaborn` to create a scatter plot of the collision locations and a Kernel Density Estimate (KDE) plot to highlight areas of high collision density. This visualization will help us visually identify hotspots where pedestrian safety is a significant concern."
      ],
      "metadata": {
        "id": "nQKTYxj2mGIv"
      }
    },
    {
      "cell_type": "code",
      "source": [
        "# Define the URL for the GeoJSON file containing NYC borough boundaries\n",
        "shapefile_url = 'https://data.cityofnewyork.us/resource/9nt8-h7nd.geojson'\n",
        "\n",
        "# Load the geographical data for NYC boroughs using geopandas\n",
        "# geopandas reads the GeoJSON file and creates a GeoDataFrame\n",
        "df_nyc = gpd.GeoDataFrame.from_file(shapefile_url)\n",
        "\n",
        "# Create the initial plot which is the map of NYC boroughs\n",
        "# We set the size of the plot and style the borough boundaries\n",
        "map_plot = df_nyc.plot(\n",
        "              linewidth=0.5, # makes the lines outlining the boroughs thin\n",
        "              color='White', # fills the inside of the boroughs with white.\n",
        "              edgecolor='Black', # makes the outlines of the boroughs black.\n",
        "              figsize=(15, 10) # sets the overall size of the plot on your screen.\n",
        "              )\n",
        "\n",
        "# Overlay a scatter plot on the map to show the location of each accident\n",
        "# Each point represents an accident with pedestrian injuries or fatalities on a dangerous street\n",
        "df.plot(\n",
        "    x='LONGITUDE',      # Use the LONGITUDE column for the x-axis (east-west position)\n",
        "    y='LATITUDE',       # Use the LATITUDE column for the y-axis (north-south position)\n",
        "    kind='scatter',     # Specify that this is a scatter plot (individual points)\n",
        "    s=3,                # Set the size of each scatter point\n",
        "    c='red',            # Set the color of the scatter points to red\n",
        "    ax = map_plot,      # Crucially, plot on the same axes as the NYC map (overlaying)\n",
        "    alpha = 0.8         # Make the points slightly transparent for better visibility where points overlap\n",
        ")\n",
        "\n",
        "# Add a Kernel Density Estimate (KDE) plot to visualize areas with high concentrations of accidents\n",
        "# This helps to visually identify accident hotspots\n",
        "sns.kdeplot(\n",
        "    data=df,         # Use the same accident data\n",
        "    x='LONGITUDE',   # Use longitude for the x-axis\n",
        "    y='LATITUDE',    # Use latitude for the y-axis\n",
        "    fill=True,       # Fill the density areas with color\n",
        "    thresh=0.10,     # Only show areas with density above a certain threshold (reduces clutter)\n",
        "    levels=20,       # Draw 20 contour levels to show gradations in density\n",
        "    cmap='rainbow',  # Use the 'rainbow' color map for the density areas\n",
        "    ax=map_plot,     # Draw this KDE plot on the same axes as the map and scatter plot\n",
        "    alpha = 0.5,     # Make the density areas semi-transparent\n",
        "    bw_adjust=0.3    # Adjusts the smoothness of the density contours\n",
        "                     # (smaller values make it more jagged, larger values smoother)\n",
        ")"
      ],
      "metadata": {
        "id": "r-UsKbbjdjuv"
      },
      "execution_count": null,
      "outputs": []
    },
    {
      "cell_type": "markdown",
      "source": [
        "## Discussion and Potential Insights\n",
        "\n",
        "The map visualization will help us answer questions such as:\n",
        "\n",
        "*   Which boroughs or specific areas have the highest concentration of pedestrian injuries and fatalities on high-risk streets?\n",
        "*   Are there specific patterns or clusters of collisions that suggest common underlying causes?\n",
        "\n",
        "The insights gained from this analysis can be valuable for:\n",
        "\n",
        "*   **Urban Planners:** Identifying areas that require traffic calming measures, improved pedestrian infrastructure, or targeted safety campaigns.\n",
        "*   **Policy Makers:** Informing the development of new safety regulations and enforcement strategies.\n",
        "*   **Transportation Authorities:** Prioritizing resources for safety improvements in high-risk locations.\n",
        "\n",
        "This analysis serves as an example of how publicly available data and analytical tools can be used to address real-world urban challenges and inform data-driven decision-making."
      ],
      "metadata": {
        "id": "gtx9-vtCmWzm"
      }
    }
  ]
}