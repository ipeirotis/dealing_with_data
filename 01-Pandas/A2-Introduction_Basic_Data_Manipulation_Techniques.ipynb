{
  "nbformat": 4,
  "nbformat_minor": 0,
  "metadata": {
    "colab": {
      "name": "A2-Introduction: Basic Data Manipulation",
      "provenance": [],
      "toc_visible": true,
      "include_colab_link": true
    },
    "kernelspec": {
      "display_name": "Python 3",
      "language": "python",
      "name": "python3"
    },
    "language_info": {
      "codemirror_mode": {
        "name": "ipython",
        "version": 3
      },
      "file_extension": ".py",
      "mimetype": "text/x-python",
      "name": "python",
      "nbconvert_exporter": "python",
      "pygments_lexer": "ipython3",
      "version": "3.8.5"
    }
  },
  "cells": [
    {
      "cell_type": "markdown",
      "metadata": {
        "id": "view-in-github",
        "colab_type": "text"
      },
      "source": [
        "<a href=\"https://colab.research.google.com/github/ipeirotis/dealing_with_data/blob/master/01-Pandas/A2-Introduction_Basic_Data_Manipulation_Techniques.ipynb\" target=\"_parent\"><img src=\"https://colab.research.google.com/assets/colab-badge.svg\" alt=\"Open In Colab\"/></a>"
      ]
    },
    {
      "cell_type": "markdown",
      "metadata": {
        "id": "2fdYUrR2RPLK"
      },
      "source": [
        "# Introduction to Pandas: Basic Data Manipulation Techniques"
      ]
    },
    {
      "cell_type": "markdown",
      "metadata": {
        "id": "ycUTUOp0RPLL"
      },
      "source": [
        "## Setup and preliminaries"
      ]
    },
    {
      "cell_type": "markdown",
      "source": [
        "Install the necessary libraries to connect to MySQL and to read Excel files"
      ],
      "metadata": {
        "id": "0p4nxRUUNjqs"
      }
    },
    {
      "cell_type": "code",
      "source": [
        "!pip3 install -U -q PyMySQL sqlalchemy"
      ],
      "metadata": {
        "id": "utQbDZCIrJSQ"
      },
      "execution_count": null,
      "outputs": []
    },
    {
      "cell_type": "markdown",
      "metadata": {
        "id": "SPK-fH_vRPLR"
      },
      "source": [
        "In order to read and process files, we are going to use a very powerful, and widely used Python library, called pandas. So, our next step is to import the pandas library in Python, and a few related libraries:"
      ]
    },
    {
      "cell_type": "code",
      "metadata": {
        "id": "rs9khdOxRPLS"
      },
      "source": [
        "import pandas as pd\n",
        "import numpy as np\n",
        "import matplotlib\n",
        "import matplotlib.pyplot as plt\n",
        "import seaborn as sns"
      ],
      "execution_count": null,
      "outputs": []
    },
    {
      "cell_type": "markdown",
      "metadata": {
        "id": "K2KzbTtORPLZ"
      },
      "source": [
        "And we type some code to simply change the visual style of the plots. (The code below is optional and not necessary, and for now you do not need to understand what exactly is happening.)"
      ]
    },
    {
      "cell_type": "code",
      "metadata": {
        "id": "KZt6cUxCRPLN"
      },
      "source": [
        "# Render our plots with high resolution\n",
        "%config InlineBackend.figure_format = 'retina'"
      ],
      "execution_count": null,
      "outputs": []
    },
    {
      "cell_type": "code",
      "metadata": {
        "id": "enddmxxDRPLa"
      },
      "source": [
        "# Make the graphs a bit bigger\n",
        "matplotlib.style.use([\"seaborn-v0_8-talk\", \"seaborn-v0_8-ticks\", \"seaborn-v0_8-whitegrid\"])"
      ],
      "execution_count": null,
      "outputs": []
    },
    {
      "cell_type": "markdown",
      "metadata": {
        "id": "zRkwgJ2BRPLl"
      },
      "source": [
        "## Reading data using SQL from a MySQL Server"
      ]
    },
    {
      "cell_type": "markdown",
      "metadata": {
        "id": "3YF27gS9RPLl"
      },
      "source": [
        "We will use a dataset with [restaurant inspection results in NYC](https://data.cityofnewyork.us/Health/DOHMH-New-York-City-Restaurant-Inspection-Results/43nn-pn8j). The dataset that we are going to use has been cleaned up, normalized, and stored in our MySQL database, under the `doh_restaurants` database."
      ]
    },
    {
      "cell_type": "code",
      "metadata": {
        "id": "h5GO33l5RPLm"
      },
      "source": [
        "import os\n",
        "from sqlalchemy import create_engine\n",
        "from sqlalchemy import text\n",
        "\n",
        "conn_string = 'mysql+pymysql://{user}:{password}@{host}/{db}?charset=utf8mb4'.format(\n",
        "    host = 'db.ipeirotis.org',\n",
        "    user = 'student',\n",
        "    password = 'dwdstudent2015',\n",
        "    db = 'doh_restaurants',\n",
        "    encoding = 'utf8mb4')\n",
        "\n",
        "engine = create_engine(conn_string)"
      ],
      "execution_count": null,
      "outputs": []
    },
    {
      "cell_type": "markdown",
      "metadata": {
        "id": "WNsW_56mRPLq"
      },
      "source": [
        "We fetch the results of the query using the `read_sql` command."
      ]
    },
    {
      "cell_type": "code",
      "source": [
        "# This query returns back the restaurants in the DOH database\n",
        "sql = '''\n",
        "\tSELECT R.CAMIS, R.DBA, R.BUILDING, R.STREET, R.ZIPCODE, R.BORO,\n",
        "          R.CUISINE_DESCRIPTION, R.LATITUDE, R.LONGITUDE, R.NTA\n",
        "\t\tFROM doh_restaurants.restaurants R\n",
        "'''\n",
        "\n",
        "with engine.connect() as connection:\n",
        "\trestaurants = pd.read_sql(text(sql), con=connection)"
      ],
      "metadata": {
        "id": "xlfDX5AtvG58"
      },
      "execution_count": null,
      "outputs": []
    },
    {
      "cell_type": "code",
      "metadata": {
        "id": "n0_mc9_6RPLq"
      },
      "source": [
        "# This query returns back the results of the inspections of each restaurant\n",
        "sql = '''\n",
        "\tSELECT R.CAMIS, R.DBA, R.ZIPCODE, R.BORO, R.CUISINE_DESCRIPTION, R.NTA,\n",
        "\t\t\t\t I.INSPECTION_DATE, I.INSPECTION_ID,\n",
        "\t\t\t\t I.INSPECTION_TYPE, I.SCORE, I.GRADE\n",
        "\tFROM restaurants R\n",
        "\t\tJOIN inspections I ON I.CAMIS = R.CAMIS\n",
        "'''\n",
        "\n",
        "with engine.connect() as connection:\n",
        "\tinspections = pd.read_sql(text(sql), con=connection)"
      ],
      "execution_count": null,
      "outputs": []
    },
    {
      "cell_type": "code",
      "source": [
        "# This query returns back the results and violations captured in the\n",
        "# latest inspection of each restaurant\n",
        "sql = '''\n",
        "  WITH latest_inspection AS (\n",
        "\t\tSELECT CAMIS, MAX(INSPECTION_DATE) AS INSPECTION_DATE FROM inspections\n",
        "\t\tGROUP BY CAMIS\n",
        "\t)\n",
        "\tSELECT R.CAMIS, R.DBA, R.ZIPCODE, R.BORO,\n",
        "          I.INSPECTION_DATE, I.INSPECTION_ID, I.INSPECTION_TYPE,\n",
        "          V.VIOLATION_CODE, I.SCORE, I.GRADE\n",
        "\t\tFROM restaurants R\n",
        "\t\t\tJOIN latest_inspection L ON R.CAMIS = L.CAMIS\n",
        "\t\t\tJOIN inspections I ON I.CAMIS = L.CAMIS AND L.INSPECTION_DATE = I.INSPECTION_DATE\n",
        "\t\t\tJOIN violations V ON I.INSPECTION_ID = V.INSPECTION_ID\n",
        "'''\n",
        "\n",
        "with engine.connect() as connection:\n",
        "\tviolations = pd.read_sql(text(sql), con=connection)"
      ],
      "metadata": {
        "id": "Gbua5h9RFP0F"
      },
      "execution_count": null,
      "outputs": []
    },
    {
      "cell_type": "markdown",
      "metadata": {
        "id": "pTKmk7LqRPOC"
      },
      "source": [
        "# Selecting a subset of the columns -- `filter()`\n",
        "\n",
        "In a dataframe, we can specify the column(s) that we want to keep, and get back another dataframe with just the subset of the columns that we want to keep."
      ]
    },
    {
      "cell_type": "code",
      "metadata": {
        "id": "kdGNyALJRPOD"
      },
      "source": [
        "inspections"
      ],
      "execution_count": null,
      "outputs": []
    },
    {
      "cell_type": "code",
      "metadata": {
        "id": "KoA5JqtFRPOF"
      },
      "source": [
        "inspections.filter(\n",
        "    items = [\"DBA\", \"GRADE\", \"INSPECTION_DATE\"]\n",
        ")"
      ],
      "execution_count": null,
      "outputs": []
    },
    {
      "cell_type": "code",
      "metadata": {
        "id": "0DbB0h26RPON"
      },
      "source": [
        "columns = [\"CAMIS\", \"DBA\", \"GRADE\", \"INSPECTION_DATE\", \"SCORE\"]\n",
        "\n",
        "# Notice the use of \"chain notation\" below\n",
        "# Chain notation means putting parentheses around\n",
        "# the command and then having each operation in its\n",
        "# own line\n",
        "(\n",
        "  inspections\n",
        "  .filter( items = columns )\n",
        "  .head(10)\n",
        ")\n"
      ],
      "execution_count": null,
      "outputs": []
    },
    {
      "cell_type": "markdown",
      "metadata": {
        "id": "pNmPSBrJUrfy"
      },
      "source": [
        "We can also use the `like` option to find all the column names that include a certain string. For example, to get all the columns that include the string `DATE`:"
      ]
    },
    {
      "cell_type": "code",
      "metadata": {
        "id": "0skTt0rNRPOP"
      },
      "source": [
        "inspections.filter(\n",
        "    like = 'DATE'\n",
        ")"
      ],
      "execution_count": null,
      "outputs": []
    },
    {
      "cell_type": "markdown",
      "metadata": {
        "id": "dXTR3gaYU3D9"
      },
      "source": [
        "We can expand the functionality and also use regular expressions:"
      ]
    },
    {
      "cell_type": "code",
      "metadata": {
        "id": "oE5G-RtCU9NS"
      },
      "source": [
        "restaurants.filter(\n",
        "    regex = r'^C' # all the columns that start with C\n",
        ")"
      ],
      "execution_count": null,
      "outputs": []
    },
    {
      "cell_type": "code",
      "metadata": {
        "id": "KWg63of5xbjY"
      },
      "source": [],
      "execution_count": null,
      "outputs": []
    },
    {
      "cell_type": "markdown",
      "source": [
        "### Exercise\n",
        "\n",
        "Keep the columns \"DBA\", \"SCORE\", \"CUISINE DESCRIPTION\" and \"ZIPCODE\" from the `inspections` dataframe."
      ],
      "metadata": {
        "id": "v0gv_vjt_tKo"
      }
    },
    {
      "cell_type": "code",
      "source": [
        "# your code here"
      ],
      "metadata": {
        "id": "Sn1_-Zts_w6g"
      },
      "execution_count": null,
      "outputs": []
    },
    {
      "cell_type": "markdown",
      "metadata": {
        "id": "bHIvI4svxcJ0"
      },
      "source": [
        "# Renaming Columns -- `rename()`"
      ]
    },
    {
      "cell_type": "markdown",
      "metadata": {
        "id": "7fLRqM4kxf1W"
      },
      "source": [
        "To do the equivalent of `SELECT attr AS alias` in Pandas, we use the `rename` command, and pass a dictionary specifying which columns we want to rename:\n",
        "\n"
      ]
    },
    {
      "cell_type": "code",
      "metadata": {
        "id": "jSnqzBFwxqnk"
      },
      "source": [
        "restaurants.rename(\n",
        "    columns = {\n",
        "      \"CAMIS\": \"RESTID\",\n",
        "      \"DBA\": \"REST_NAME\",\n",
        "      \"BUILDING\": \"STREET_NUM\",\n",
        "      \"BORO\": \"BOROUGH\"\n",
        "    }\n",
        ")"
      ],
      "execution_count": null,
      "outputs": []
    },
    {
      "cell_type": "markdown",
      "metadata": {
        "id": "hcirVVhaRPOR"
      },
      "source": [
        "# Selecting rows -- `query()`\n",
        "\n",
        "To select rows, we can write basic queries using the `query()` command:"
      ]
    },
    {
      "cell_type": "code",
      "metadata": {
        "id": "8_u2KIdGXav3"
      },
      "source": [
        "# Find all violations for restaurants with DBA being Starbucks\n",
        "restaurants.query(' DBA == \"STARBUCKS\" ')"
      ],
      "execution_count": null,
      "outputs": []
    },
    {
      "cell_type": "code",
      "metadata": {
        "id": "37-qYFVyRPOT"
      },
      "source": [
        "# Find all violations with code 04L (i.e., \"has mice\")\n",
        "violations.query(' VIOLATION_CODE == \"04L\" ')"
      ],
      "execution_count": null,
      "outputs": []
    },
    {
      "cell_type": "code",
      "metadata": {
        "id": "V106ezm-RPOW"
      },
      "source": [
        "# We can store the result in a dataframe called  has_mice\n",
        "has_mice = violations.query(' VIOLATION_CODE == \"04L\" ')\n",
        "has_mice"
      ],
      "execution_count": null,
      "outputs": []
    },
    {
      "cell_type": "code",
      "metadata": {
        "id": "ieEWvEbZRPOf"
      },
      "source": [
        "# List the most frequent DBA values in the has_mice dataframe\n",
        "has_mice[\"DBA\"].value_counts().head(20)"
      ],
      "execution_count": null,
      "outputs": []
    },
    {
      "cell_type": "code",
      "source": [
        "# For comparison, the most frequent DBA names overall across restaurants\n",
        "restaurants[\"DBA\"].value_counts().head(20)"
      ],
      "metadata": {
        "id": "4uxLzTiWIXN0"
      },
      "execution_count": null,
      "outputs": []
    },
    {
      "cell_type": "markdown",
      "metadata": {
        "id": "SaIVZ16DRPOn"
      },
      "source": [
        "And we can use more complex conditions."
      ]
    },
    {
      "cell_type": "code",
      "metadata": {
        "id": "OBDoVR50RPOo"
      },
      "source": [
        "has_mice_10012 = (\n",
        "    violations\n",
        "    .query('  VIOLATION_CODE == \"04L\" and ZIPCODE == \"10012\" ')\n",
        "    .filter( items = ['DBA', 'INSPECTION_DATE'] )\n",
        ")\n",
        "\n",
        "has_mice_10012"
      ],
      "execution_count": null,
      "outputs": []
    },
    {
      "cell_type": "markdown",
      "source": [
        "...and just to have a bit more fun:"
      ],
      "metadata": {
        "id": "vPB54yQ7Nbez"
      }
    },
    {
      "cell_type": "code",
      "source": [
        "# all restaurants with mice\n",
        "mice = has_mice[\"DBA\"].value_counts()\n",
        "mice.head(5) # show the top-5"
      ],
      "metadata": {
        "id": "OL5kbSmVNd3C"
      },
      "execution_count": null,
      "outputs": []
    },
    {
      "cell_type": "code",
      "source": [
        "# top-25 most popular restaurant names\n",
        "topK = 25\n",
        "top_restaurants = restaurants[\"DBA\"].value_counts().head(topK)\n",
        "top_restaurants.head(5) # show the top-5"
      ],
      "metadata": {
        "id": "-OSLLAzJrDZO"
      },
      "execution_count": null,
      "outputs": []
    },
    {
      "cell_type": "code",
      "source": [
        "# Now calculate what % of the top restaurant chains had mice\n",
        "# The dropna() removes the restaurants that do not appear in top_restaurants\n",
        "(mice / top_restaurants).dropna()"
      ],
      "metadata": {
        "id": "Gu8d0MBXrAnc"
      },
      "execution_count": null,
      "outputs": []
    },
    {
      "cell_type": "markdown",
      "source": [
        "### Exercise\n",
        "\n",
        "The following command reads the table `violation_codes`. In addition to the `04L`, check the violation descriptions for the codes `04K`, `04M`, `04N`, and `04O`. Then create an analysis for the restaurants in the area that have these violations.\n",
        "\n",
        "[This StackOverflow post](https://stackoverflow.com/questions/33990955/combine-pandas-dataframe-query-method-with-isin) explains how to use the `IN` construct with Pandas."
      ],
      "metadata": {
        "id": "4lLxFaoDKcug"
      }
    },
    {
      "cell_type": "code",
      "source": [
        "with engine.connect() as connection:\n",
        "  sql = \"SELECT * FROM doh_restaurants.violation_codes\"\n",
        "  codes = pd.read_sql(text(sql), con=connection)"
      ],
      "metadata": {
        "id": "bRU5I1OBKheb"
      },
      "execution_count": null,
      "outputs": []
    },
    {
      "cell_type": "markdown",
      "source": [
        "#### Solution"
      ],
      "metadata": {
        "id": "kvUfl5fDMHPd"
      }
    },
    {
      "cell_type": "code",
      "source": [
        "filthy_near_NYU = (\n",
        "    violations\n",
        "    .query('  VIOLATION_CODE in [\"04K\", \"04L\", \"04M\", \"04N\", \"04O\"]  ' )\n",
        "    .query('  ZIPCODE in [\"10012\", \"10003\", \"10014\"] ')\n",
        "    .query('  INSPECTION_DATE > \"2023-01-01\" ')\n",
        "    .filter( items = ['DBA', 'INSPECTION_DATE'] )\n",
        "    .sort_values(\"INSPECTION_DATE\", ascending=False)\n",
        "    .drop_duplicates()\n",
        ")\n",
        "\n",
        "filthy_near_NYU.head(20)"
      ],
      "metadata": {
        "id": "3licPH6JMIvK"
      },
      "execution_count": null,
      "outputs": []
    },
    {
      "cell_type": "markdown",
      "metadata": {
        "id": "07cNAS0Lcf_y"
      },
      "source": [
        "# Selecting distinct values -- `drop_duplicates()`"
      ]
    },
    {
      "cell_type": "markdown",
      "metadata": {
        "id": "ii2uPjjydLyD"
      },
      "source": [
        "We can do the equivalent of `SELECT DISTINCT` in Pandas by doing the following"
      ]
    },
    {
      "cell_type": "code",
      "metadata": {
        "id": "TmHYLEwhdMei"
      },
      "source": [
        "(\n",
        "    restaurants\n",
        "    .query(' CUISINE_DESCRIPTION == \"Coffee/Tea\"  and ZIPCODE == \"10012\" ')\n",
        "    .filter( items = ['DBA'])\n",
        "    .drop_duplicates()\n",
        ")"
      ],
      "execution_count": null,
      "outputs": []
    },
    {
      "cell_type": "markdown",
      "metadata": {
        "id": "8eqOEGYXdl6K"
      },
      "source": [
        "# Sorting values -- `sort_values()`\n",
        "\n",
        "And we can do the equivalent of `ORDER BY` by using the `.sort_values()"
      ]
    },
    {
      "cell_type": "code",
      "metadata": {
        "id": "vImT3bKGdz1_"
      },
      "source": [
        "(\n",
        "    has_mice_10012\n",
        "    .sort_values(\"INSPECTION_DATE\", ascending=False)\n",
        "    .head(15)\n",
        ")"
      ],
      "execution_count": null,
      "outputs": []
    },
    {
      "cell_type": "code",
      "metadata": {
        "id": "Qa78sxUEeev3"
      },
      "source": [
        "(\n",
        "    has_mice_10012\n",
        "    .sort_values([\"INSPECTION_DATE\",\"DBA\"], ascending=[False,True])\n",
        "    .head(15)\n",
        ")"
      ],
      "execution_count": null,
      "outputs": []
    },
    {
      "cell_type": "markdown",
      "source": [
        "# Join two tables -- `pd.merge()`"
      ],
      "metadata": {
        "id": "byLuREOx-SU9"
      }
    },
    {
      "cell_type": "code",
      "source": [
        "# Fetch data about population of NYC neighborhoods (NTAs)\n",
        "nyc_population_url = 'https://data.cityofnewyork.us/api/views/rnsn-acs2/rows.csv?accessType=DOWNLOAD'\n",
        "nyc_pop = pd.read_csv(nyc_population_url)\n",
        "nyc_pop"
      ],
      "metadata": {
        "id": "3kFRciNS-XmF"
      },
      "execution_count": null,
      "outputs": []
    },
    {
      "cell_type": "code",
      "source": [
        "nyc_pop.columns"
      ],
      "metadata": {
        "id": "zafPOq9l_FWJ"
      },
      "execution_count": null,
      "outputs": []
    },
    {
      "cell_type": "code",
      "source": [
        "# Change the name of the columns\n",
        "nyc_pop.columns = ['BOROUGH', 'FIPS_COUNTY', 'NTA_CODE',\n",
        "       'NTA_NAME', 'POPULATION_2000', 'POPULATION_2010',\n",
        "       'POP_DIFF_NUMBER', 'POP_DIFF_PCT']\n",
        "\n",
        "# Drop unnecessary columns\n",
        "# nyc_pop = nyc_pop.drop(['POPULATION_2000', 'POP_DIFF_NUMBER', 'POP_DIFF_PCT'], axis='columns')\n",
        "\n",
        "# Dropping lines with empty cell values\n",
        "nyc_pop = nyc_pop.dropna()"
      ],
      "metadata": {
        "id": "hdVeEzMH_Fxu"
      },
      "execution_count": null,
      "outputs": []
    },
    {
      "cell_type": "markdown",
      "source": [
        "## Merging two dataframes"
      ],
      "metadata": {
        "id": "inWJfzxZA47R"
      }
    },
    {
      "cell_type": "code",
      "source": [
        "merged = pd.merge(\n",
        "  left = inspections,\n",
        "  right = nyc_pop,\n",
        "  left_on = 'NTA',\n",
        "  right_on = 'NTA_CODE'\n",
        ")\n",
        "\n",
        "merged"
      ],
      "metadata": {
        "id": "zCeJI4m2A28R"
      },
      "execution_count": null,
      "outputs": []
    },
    {
      "cell_type": "code",
      "source": [
        "# How would you improve the plot below?\n",
        "\n",
        "merged.plot(\n",
        "    kind='scatter',\n",
        "    y = 'SCORE',\n",
        "    x = 'POPULATION_2010',\n",
        "    s = 1\n",
        ")"
      ],
      "metadata": {
        "id": "23RVic7MBNHo"
      },
      "execution_count": null,
      "outputs": []
    },
    {
      "cell_type": "markdown",
      "metadata": {
        "id": "NDAZWbRxw5JJ"
      },
      "source": [
        "# Calculating aggregates per groups -- `groupby()`"
      ]
    },
    {
      "cell_type": "code",
      "source": [
        "# Calculate the average of the \"SCORE\" variable, grouped by neighborhood name\n",
        "merged.groupby('NTA_NAME')[\"SCORE\"].mean()"
      ],
      "metadata": {
        "id": "cfAJI-suUFlm"
      },
      "execution_count": null,
      "outputs": []
    },
    {
      "cell_type": "code",
      "source": [
        "merged.groupby('NTA_NAME')[\"SCORE\"].mean().sort_values()"
      ],
      "metadata": {
        "id": "Wg8dmJ7gZIiP"
      },
      "execution_count": null,
      "outputs": []
    },
    {
      "cell_type": "code",
      "source": [
        "# Calculate the average score per population\n",
        "merged.groupby('POPULATION_2010')[\"SCORE\"].mean()"
      ],
      "metadata": {
        "id": "st4syJ0UUw33"
      },
      "execution_count": null,
      "outputs": []
    },
    {
      "cell_type": "code",
      "source": [
        "# Calculate the average score per neighborhood\n",
        "\n",
        "# The \"reset_index()\" converts the \"Series\" (single column dataframe) to a Dataframe\n",
        "grouped_df = merged.groupby('POPULATION_2010')[\"SCORE\"].mean().reset_index()\n",
        "\n",
        "grouped_df.plot(\n",
        "    kind='scatter',\n",
        "    y = 'SCORE',\n",
        "    x = 'POPULATION_2010',\n",
        "    s = 5, figsize = (5,5)\n",
        ")"
      ],
      "metadata": {
        "id": "WZn7eppiU9I0"
      },
      "execution_count": null,
      "outputs": []
    },
    {
      "cell_type": "code",
      "source": [
        "# We can use \"seaborn\" a visualization library to create a better version of the plot\n",
        "# with a regression line added\n",
        "# https://seaborn.pydata.org/generated/seaborn.lmplot.html\n",
        "sns.lmplot(\n",
        "    data = grouped_df,\n",
        "    x='POPULATION_2010',\n",
        "    y = 'SCORE'\n",
        ")"
      ],
      "metadata": {
        "id": "foiCSwFLVv7w"
      },
      "execution_count": null,
      "outputs": []
    },
    {
      "cell_type": "code",
      "source": [
        "# count how many inspections per neighborhood\n",
        "grouped_df = merged.groupby('NTA_NAME')['CAMIS'].count()\n",
        "grouped_df"
      ],
      "metadata": {
        "id": "TaeLs-NQXiOy"
      },
      "execution_count": null,
      "outputs": []
    },
    {
      "cell_type": "markdown",
      "source": [
        "#### Multiple aggregations per group -- agg() function"
      ],
      "metadata": {
        "id": "cetpIQODX5mv"
      }
    },
    {
      "cell_type": "code",
      "source": [
        "(\n",
        "  merged\n",
        "  .groupby('NTA_NAME')\n",
        "  .agg(\n",
        "    score_mean = ('SCORE', 'mean'), # calculate the mean of the score\n",
        "    inspections = ('CAMIS', 'count'), # count the number of inspections\n",
        "    graded_restaurants = ('CAMIS', 'nunique') # count unique restaurant IDs\n",
        "  )\n",
        "  .sort_values('inspections', ascending=False) # sort in descending order of inspections\n",
        "  .tail(20) # show the last 20 lines\n",
        ")"
      ],
      "metadata": {
        "id": "RYULMzubYVkY"
      },
      "execution_count": null,
      "outputs": []
    },
    {
      "cell_type": "code",
      "metadata": {
        "id": "eSoefDKZEbMp"
      },
      "source": [
        "(\n",
        "  inspections\n",
        "  .groupby('INSPECTION_DATE')\n",
        "  .agg(\n",
        "    score_mean = ('SCORE', 'mean'), # calculate the mean of the score\n",
        "    graded_restaurants = ('CAMIS', 'nunique') # count unique restaurant IDs\n",
        "  )\n",
        "  .tail(20) # show the last 20 lines\n",
        ")"
      ],
      "execution_count": null,
      "outputs": []
    },
    {
      "cell_type": "code",
      "metadata": {
        "id": "5DQIJuYIeNi8"
      },
      "source": [
        "(\n",
        "  inspections\n",
        "  .groupby('INSPECTION_DATE')\n",
        "  .agg(\n",
        "    score_mean = ('SCORE', 'mean'), # calculate the aveage score for the date\n",
        "    graded_restaurants = ('CAMIS', 'nunique') # and the number of restaurants\n",
        "  )\n",
        "  .query('graded_restaurants>10') # keep only days with at least 10 graded restauranta\n",
        "  .filter(items=['score_mean']) # we only want to plot the score\n",
        "  .plot()\n",
        ")"
      ],
      "execution_count": null,
      "outputs": []
    },
    {
      "cell_type": "code",
      "source": [
        "(\n",
        "  inspections\n",
        "  .groupby('INSPECTION_DATE')\n",
        "  .agg(\n",
        "    score_mean = ('SCORE', 'mean'), # calculate the aveage score for the date\n",
        "    graded_restaurants = ('CAMIS', 'nunique') # and the number of restaurants\n",
        "  )\n",
        "  .query('graded_restaurants>10') # keep only days with at least 10 graded restauranta\n",
        "  .filter(items=['score_mean']) # we only want to plot the score\n",
        "  .resample('1M').mean() # change the frequency to 1 month, and show avg score per month\n",
        "  .plot(\n",
        "    style='--o', # use a dotted line and circles as markers\n",
        "    linewidth=2, # the line should be 1 pixel wide\n",
        "    markersize=8, # the marker size set to 8\n",
        "  )\n",
        ")"
      ],
      "metadata": {
        "id": "2RrB4nvsTZJo"
      },
      "execution_count": null,
      "outputs": []
    },
    {
      "cell_type": "code",
      "metadata": {
        "id": "OjG4WrB5RPPj",
        "solution2": "hidden"
      },
      "source": [],
      "execution_count": null,
      "outputs": []
    },
    {
      "cell_type": "markdown",
      "metadata": {
        "id": "iTcny4zSw426"
      },
      "source": [
        "# Aggregation functions -- `agg()`"
      ]
    },
    {
      "cell_type": "code",
      "metadata": {
        "id": "XUNvMhwNCWF5"
      },
      "source": [
        "inspections['SCORE'].agg('mean')"
      ],
      "execution_count": null,
      "outputs": []
    },
    {
      "cell_type": "code",
      "metadata": {
        "id": "XpVaAe2uz8Bk"
      },
      "source": [
        "inspections['SCORE'].agg(['mean','std','count','nunique'])"
      ],
      "execution_count": null,
      "outputs": []
    },
    {
      "cell_type": "code",
      "metadata": {
        "id": "dJP_gFvKzCNY"
      },
      "source": [
        "inspections.agg(\n",
        "    {\n",
        "        'SCORE': ['mean','std','count','nunique'],\n",
        "        'CAMIS':  ['nunique','count']\n",
        "    }\n",
        ")"
      ],
      "execution_count": null,
      "outputs": []
    },
    {
      "cell_type": "code",
      "metadata": {
        "id": "92Gsuibr0Zi1"
      },
      "source": [
        "inspections.agg(\n",
        "        num_scored_violations = ('SCORE', 'count'),\n",
        "        mean_score = ('SCORE', 'mean'),\n",
        "        std_score  = ('SCORE', 'std'),\n",
        "        num_entries = ('CAMIS',  'count'),\n",
        "        num_restaurants = ('CAMIS',  'nunique'),\n",
        "  )"
      ],
      "execution_count": null,
      "outputs": []
    }
  ]
}