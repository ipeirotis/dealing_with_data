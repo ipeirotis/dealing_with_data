{
  "nbformat": 4,
  "nbformat_minor": 0,
  "metadata": {
    "colab": {
      "private_outputs": true,
      "provenance": [],
      "authorship_tag": "ABX9TyOx0DZ8XtAeJVxF8xvZjVGZ",
      "include_colab_link": true
    },
    "kernelspec": {
      "name": "python3",
      "display_name": "Python 3"
    },
    "language_info": {
      "name": "python"
    }
  },
  "cells": [
    {
      "cell_type": "markdown",
      "metadata": {
        "id": "view-in-github",
        "colab_type": "text"
      },
      "source": [
        "<a href=\"https://colab.research.google.com/github/ipeirotis/dealing_with_data/blob/master/02-WebAPIs/A3_OpenAI.ipynb\" target=\"_parent\"><img src=\"https://colab.research.google.com/assets/colab-badge.svg\" alt=\"Open In Colab\"/></a>"
      ]
    },
    {
      "cell_type": "markdown",
      "source": [
        "# Open AI API\n",
        "\n",
        "*The hottest new programming language is English*\n",
        "\n",
        "-- [Andrej Karpathy](https://twitter.com/karpathy/status/1617979122625712128)"
      ],
      "metadata": {
        "id": "1RNR_Mi4YCZh"
      }
    },
    {
      "cell_type": "markdown",
      "source": [
        "In this lesson, we will use the Open AI and GPT to performa a variety of tasks."
      ],
      "metadata": {
        "id": "jKsOVgEvYXVn"
      }
    },
    {
      "cell_type": "markdown",
      "source": [
        "### Setup"
      ],
      "metadata": {
        "id": "0zaCV0a1FIqC"
      }
    },
    {
      "cell_type": "code",
      "source": [
        "!pip install -U -q openai"
      ],
      "metadata": {
        "id": "Pw7zNeSwFkG5"
      },
      "execution_count": null,
      "outputs": []
    },
    {
      "cell_type": "code",
      "execution_count": null,
      "metadata": {
        "id": "SyxQyi2gA7Nv"
      },
      "outputs": [],
      "source": [
        "import openai\n",
        "import base64\n",
        "import textwrap\n",
        "import json\n",
        "from bs4 import BeautifulSoup\n",
        "import requests\n",
        "\n",
        "key = 'KEY ON SLACK'\n",
        "openai.api_key = base64.b64decode(key).decode('ascii')"
      ]
    },
    {
      "cell_type": "markdown",
      "source": [
        "## Helper function\n",
        "\n",
        "Throughout this course, we will use OpenAI's `gpt-3.5-turbo` model and the [chat completions endpoint](https://platform.openai.com/docs/guides/gpt/chat-completions-api). If necessary, we can switch to the `gpt-4-32k` model (slower, but better and with higher context length).\n",
        "\n",
        "This helper function will make it easier to use prompts and look at the generated outputs:"
      ],
      "metadata": {
        "id": "AwsuCbrgCx81"
      }
    },
    {
      "cell_type": "code",
      "source": [
        "def get_completion(prompt, model=\"gpt-3.5-turbo\"):\n",
        "    messages = [{\"role\": \"user\", \"content\": prompt}]\n",
        "    response = openai.ChatCompletion.create(\n",
        "        model=model,\n",
        "        messages=messages,\n",
        "        temperature=0, # this is the degree of randomness of the model's output\n",
        "    )\n",
        "    return response.choices[0].message[\"content\"]\n",
        "\n"
      ],
      "metadata": {
        "id": "ZiQWeFiRtbhn"
      },
      "execution_count": null,
      "outputs": []
    },
    {
      "cell_type": "code",
      "source": [
        "get_completion(\"Can you tell me where Stern School of Business is located?\")"
      ],
      "metadata": {
        "id": "NHz0CDQKjH0o"
      },
      "execution_count": null,
      "outputs": []
    },
    {
      "cell_type": "code",
      "source": [
        "get_completion(\"Do you know the undergraduate program at Stern?\")"
      ],
      "metadata": {
        "id": "dyBNekrZjdYa"
      },
      "execution_count": null,
      "outputs": []
    },
    {
      "cell_type": "markdown",
      "source": [
        "## Prompting and Responses\n",
        "\n",
        "### Sentiment Analysis\n",
        "\n",
        "In our scenario, we will ask GPT to infer sentiment and topics from product reviews and news articles.\n",
        "\n"
      ],
      "metadata": {
        "id": "j9z6lcROFvfJ"
      }
    },
    {
      "cell_type": "code",
      "source": [
        "# This is the review that we want to analyze\n",
        "\n",
        "review = \"\"\"\n",
        "Needed a nice lamp for my bedroom, and this one had\n",
        "additional storage and not too high of a price point.\n",
        "Got it fast.  The string to our lamp broke during the\n",
        "transit and the company happily sent over a new one.\n",
        "Came within a few days as well. It was easy to put\n",
        "together.  I had a missing part, so I contacted their\n",
        "support and they very quickly got me the missing piece!\n",
        "Lumina seems to me to be a great company that cares\n",
        "about their customers and products!!\n",
        "\"\"\""
      ],
      "metadata": {
        "id": "_mhLSF12VlYv"
      },
      "execution_count": null,
      "outputs": []
    },
    {
      "cell_type": "code",
      "source": [
        "# This is the prompt that we submit to GPT (notice that we embed the review)\n",
        "\n",
        "prompt = f\"\"\"\n",
        "What is the sentiment of the following product review below?\n",
        "\n",
        "Review text: {review}\n",
        "\"\"\""
      ],
      "metadata": {
        "id": "I-Xw5VpKFzH4"
      },
      "execution_count": null,
      "outputs": []
    },
    {
      "cell_type": "code",
      "source": [
        "response = get_completion(prompt)\n",
        "print(response)"
      ],
      "metadata": {
        "id": "PQe0rreFVq7b"
      },
      "execution_count": null,
      "outputs": []
    },
    {
      "cell_type": "markdown",
      "source": [
        "You will notice that the reponse is good for a human, but perhaps we want to ask GPT to give us a more concise and structured response."
      ],
      "metadata": {
        "id": "_Kb5Pw7EWK96"
      }
    },
    {
      "cell_type": "code",
      "source": [
        "# The hottest new programming language is English\n",
        "\n",
        "prompt = f\"\"\"\n",
        "What is the sentiment of the following product review?\n",
        "Give your answer as a single word, either \"positive\" or \"negative\".\n",
        "\n",
        "Review text: '''{review}'''\n",
        "\"\"\"\n",
        "response = get_completion(prompt)\n",
        "print(response)"
      ],
      "metadata": {
        "id": "bHqJxy6VWJ_j"
      },
      "execution_count": null,
      "outputs": []
    },
    {
      "cell_type": "code",
      "source": [
        "prompt = f\"\"\"\n",
        "What is the sentiment of the following product review?\n",
        "Give your answer as a single word, either \"positive\" or \"negative\".\n",
        "\n",
        "Review text: '''I went there for dinner. Had to wait for an hour for the host\n",
        "to sit us to the table. Drinks overpriced, food bland. Too much hype.'''\n",
        "\"\"\"\n",
        "response = get_completion(prompt)\n",
        "print(response)"
      ],
      "metadata": {
        "id": "eMbAI6RTXpXd"
      },
      "execution_count": null,
      "outputs": []
    },
    {
      "cell_type": "markdown",
      "source": [
        "### Identify types of emotions"
      ],
      "metadata": {
        "id": "D9KYs9J2Xpz8"
      }
    },
    {
      "cell_type": "code",
      "source": [
        "prompt = f\"\"\"\n",
        "Identify a list of emotions that the writer of the\n",
        "following review is expressing. Include no more than\n",
        "five items in the list. Format your answer as a list of\n",
        "lower-case words separated by commas.\n",
        "\n",
        "Review text: '''{review}'''\n",
        "\"\"\"\n",
        "response = get_completion(prompt)\n",
        "print(response)"
      ],
      "metadata": {
        "id": "wt-baS9iXnDA"
      },
      "execution_count": null,
      "outputs": []
    },
    {
      "cell_type": "code",
      "source": [
        "prompt = f\"\"\"\n",
        "Identify a list of emotions that the writer of the\n",
        "following review is expressing. Include no more than\n",
        "five items in the list. Format your answer as a list of\n",
        "lower-case words separated by commas.\n",
        "\n",
        "Review text: '''I went there for dinner. Had to wait for an hour for the host\n",
        "to sit us to the table. Drinks overpriced, food bland. Too much hype.'''\n",
        "\"\"\"\n",
        "response = get_completion(prompt)\n",
        "print(response)"
      ],
      "metadata": {
        "id": "HWXWfkzRlM8G"
      },
      "execution_count": null,
      "outputs": []
    },
    {
      "cell_type": "code",
      "source": [
        "emotion_list = response.split(\", \")\n",
        "emotion_list"
      ],
      "metadata": {
        "id": "TxKfcjxDuMMh"
      },
      "execution_count": null,
      "outputs": []
    },
    {
      "cell_type": "markdown",
      "source": [
        "### Extract product and company name from customer reviews"
      ],
      "metadata": {
        "id": "Rz8RoeYNXzL8"
      }
    },
    {
      "cell_type": "code",
      "source": [
        "prompt = f\"\"\"\n",
        "Identify the following items from the review text:\n",
        "- Item purchased by reviewer\n",
        "- Company that made the item\n",
        "\n",
        "Format your response as a JSON object with\n",
        "\"Item\" and \"Brand\" as the keys.\n",
        "If the information isn't present, use \"unknown\"\n",
        "as the value.\n",
        "Make your response as short as possible.\n",
        "\n",
        "Review text: '''{review}'''\n",
        "\"\"\"\n",
        "response = get_completion(prompt)\n",
        "print(response)"
      ],
      "metadata": {
        "id": "dlwZzyhhXxiT"
      },
      "execution_count": null,
      "outputs": []
    },
    {
      "cell_type": "code",
      "source": [
        "data = json.loads(response)\n",
        "data"
      ],
      "metadata": {
        "id": "EBuai3XeubbB"
      },
      "execution_count": null,
      "outputs": []
    },
    {
      "cell_type": "markdown",
      "source": [
        "### Doing multiple tasks at once"
      ],
      "metadata": {
        "id": "XsTHMebRXx9U"
      }
    },
    {
      "cell_type": "code",
      "source": [
        "prompt = f\"\"\"\n",
        "Identify the following items from the review text:\n",
        "- Sentiment (positive or negative)\n",
        "- Is the reviewer expressing anger? (true or false)\n",
        "- Item purchased by reviewer\n",
        "- Company that made the item\n",
        "\n",
        "The review is delimited with triple backticks.\n",
        "Format your response as a JSON object with\n",
        "\"Sentiment\", \"Anger\", \"Item\" and \"Brand\" as the keys.\n",
        "If the information isn't present, use \"unknown\"\n",
        "as the value.\n",
        "Format the Anger value as a boolean.\n",
        "Make your response as short as possible.\n",
        "\n",
        "Review text: '''{review}'''\n",
        "\"\"\"\n",
        "response = get_completion(prompt)\n",
        "print(response)"
      ],
      "metadata": {
        "id": "9yOXNNi2X4PO"
      },
      "execution_count": null,
      "outputs": []
    },
    {
      "cell_type": "code",
      "source": [
        "data = json.loads(response)\n",
        "data"
      ],
      "metadata": {
        "id": "jbugQkntHoFE"
      },
      "execution_count": null,
      "outputs": []
    },
    {
      "cell_type": "markdown",
      "source": [
        "## Summarize stories"
      ],
      "metadata": {
        "id": "ztp5XVDFaruR"
      }
    },
    {
      "cell_type": "code",
      "source": [
        "story = \"\"\"\n",
        "In a recent survey conducted by the government,\n",
        "public sector employees were asked to rate their level\n",
        "of satisfaction with the department they work at.\n",
        "The results revealed that NASA was the most popular\n",
        "department with a satisfaction rating of 95%.\n",
        "\n",
        "One NASA employee, John Smith, commented on the findings,\n",
        "stating, \"I'm not surprised that NASA came out on top.\n",
        "It's a great place to work with amazing people and\n",
        "incredible opportunities. I'm proud to be a part of\n",
        "such an innovative organization.\"\n",
        "\n",
        "The results were also welcomed by NASA's management team,\n",
        "with Director Tom Johnson stating, \"We are thrilled to\n",
        "hear that our employees are satisfied with their work at NASA.\n",
        "We have a talented and dedicated team who work tirelessly\n",
        "to achieve our goals, and it's fantastic to see that their\n",
        "hard work is paying off.\"\n",
        "\n",
        "The survey also revealed that the\n",
        "Social Security Administration had the lowest satisfaction\n",
        "rating, with only 45% of employees indicating they were\n",
        "satisfied with their job. The government has pledged to\n",
        "address the concerns raised by employees in the survey and\n",
        "work towards improving job satisfaction across all departments.\n",
        "\"\"\""
      ],
      "metadata": {
        "id": "_1nZQktRate1"
      },
      "execution_count": null,
      "outputs": []
    },
    {
      "cell_type": "code",
      "source": [
        "prompt = f\"\"\"\n",
        "Summarize the story below, using 20 words or less.\n",
        "\n",
        "Story: {story}\n",
        "\"\"\"\n",
        "response = get_completion(prompt)\n",
        "\n",
        "# The textwrap simply allows us to print the text\n",
        "# with a maximum width, so that we can read it.\n",
        "print(textwrap.fill(response, width=80))"
      ],
      "metadata": {
        "id": "a11Gwcb5awHF"
      },
      "execution_count": null,
      "outputs": []
    },
    {
      "cell_type": "markdown",
      "source": [
        "### Infer topics"
      ],
      "metadata": {
        "id": "IyXnh6-HcY6a"
      }
    },
    {
      "cell_type": "code",
      "source": [
        "prompt = f\"\"\"\n",
        "Determine five topics that are being discussed in the\n",
        "following text. Make each item one or two words long.\n",
        "\n",
        "Format your response as a list of items separated by commas.\n",
        "\n",
        "Story: '''{story}'''\n",
        "\"\"\"\n",
        "response = get_completion(prompt)\n",
        "print(response)"
      ],
      "metadata": {
        "id": "JvooIlTrcYFg"
      },
      "execution_count": null,
      "outputs": []
    },
    {
      "cell_type": "code",
      "source": [
        "topics = response.split(\", \")\n",
        "topics"
      ],
      "metadata": {
        "id": "ZnhLQTsZu9O1"
      },
      "execution_count": null,
      "outputs": []
    },
    {
      "cell_type": "code",
      "source": [],
      "metadata": {
        "id": "2JVXG8BlvJyi"
      },
      "execution_count": null,
      "outputs": []
    },
    {
      "cell_type": "markdown",
      "source": [
        "## Exercise\n",
        "\n",
        "* Use the API at https://newsapi.org to fetch the news.  * Fetch all articles about a company of your choice, from the last month, sorted by recent first (e.g., for Tesla https://newsapi.org/v2/everything?q=tesla&from=2023-05-12&sortBy=publishedAt&apiKey=API_KEY).\n",
        "* Analyze the sentiment of the news and/or summarize the latest news about the company. Initially, work only with 3-5 articles, to ensure that your code works. Do not try to analyze 100 articles at once.\n"
      ],
      "metadata": {
        "id": "w0bWGfL6v6YQ"
      }
    },
    {
      "cell_type": "code",
      "source": [
        "# Helper functions\n",
        "def retrieve_text_from_url(url):\n",
        "    \"\"\"Remove html tags from a string\"\"\"\n",
        "    try:\n",
        "      resp = requests.get(url)\n",
        "      soup = BeautifulSoup(resp.text, \"html.parser\")\n",
        "      return soup.get_text()\n",
        "    except:\n",
        "      return \"\""
      ],
      "metadata": {
        "id": "cvYMpiU1OsBj"
      },
      "execution_count": null,
      "outputs": []
    },
    {
      "cell_type": "code",
      "source": [
        "# Helper functions\n",
        "def get_company_news(company, page = 1, num_articles=100):\n",
        "  endpoint = 'https://newsapi.org/v2/everything'\n",
        "  parameters = {\n",
        "      'q' : company, # query for a company name\n",
        "      'from': '2023-05-15', # retrieve articles over the last month\n",
        "      'sortBy': 'publishedAt', # sort the most recent articles on top\n",
        "      'apiKey' : '960f6acd257a47eba0a336ec72337d03',\n",
        "      'searchIn' : 'title', # the name of the company should appear in the title of the news article\n",
        "      'pageSize' : num_articles, # return at most num_articles\n",
        "      'page': page # which page of results to return\n",
        "  }\n",
        "  resp = requests.get(endpoint, params=parameters)\n",
        "  data = resp.json()\n",
        "  print(data)\n",
        "  if 'articles' in data:\n",
        "    return data['articles']\n",
        "  else:\n",
        "    return []"
      ],
      "metadata": {
        "id": "1PvGHxGLxrvG"
      },
      "execution_count": null,
      "outputs": []
    },
    {
      "cell_type": "code",
      "source": [
        "# Helper function for analyzing using ChatGPT\n",
        "def analyze_article(article):\n",
        "  '''\n",
        "  This function takes as input a JSON object that has the same structure\n",
        "  as an article coming back from NewsAPI and returns back the results\n",
        "  from ChatGPT.\n",
        "  '''\n",
        "\n",
        "  article_title = article['title']\n",
        "  article_text = retrieve_text_from_url(article['url'])[:5000] # keep first 5,000 characters\n",
        "\n",
        "  prompt = f'''\n",
        "  Analyze the contents of this article and return the sentiment of the article\n",
        "  towards {company_to_analyze}.\n",
        "\n",
        "  Structure the result as a JSON object,  with a Summary field,\n",
        "  a Sentiment field, a Sentiment_Score and a list of topics.\n",
        "\n",
        "  The summary should be between 10 and 40 words long.\n",
        "  The sentiment should be Positive, Neutral, or Negative.\n",
        "  The sentiment score should be between -1 and 1, with -1 being most negative, 1 being most positive, and 0 being neutral.\n",
        "\n",
        "  Story: {article_title} -- {article_text}\n",
        "  '''\n",
        "\n",
        "  try:\n",
        "    response = get_completion(prompt)\n",
        "    data = json.loads(response)\n",
        "    return data\n",
        "  except: #There was an error\n",
        "    return {}"
      ],
      "metadata": {
        "id": "eaDcanb5O-6V"
      },
      "execution_count": null,
      "outputs": []
    },
    {
      "cell_type": "markdown",
      "source": [
        "Here is some code below to get you started. Try not to limit yourself to the prompt below, or even to the analysis done here. Come up with ideas and try them out. Learning is more important than the final result!"
      ],
      "metadata": {
        "id": "nZRfyvT770my"
      }
    },
    {
      "cell_type": "code",
      "source": [
        "company_to_analyze = 'Microsoft'\n",
        "\n",
        "# Get the articles for the company\n",
        "articles = get_company_news(company=company_to_analyze, num_articles=3)"
      ],
      "metadata": {
        "id": "sFJTCV4WCQCd"
      },
      "execution_count": null,
      "outputs": []
    },
    {
      "cell_type": "code",
      "source": [
        "# Let's take a look at an article in the list\n",
        "i = 2\n",
        "articles[i]"
      ],
      "metadata": {
        "id": "shvx7LV6zruS"
      },
      "execution_count": null,
      "outputs": []
    },
    {
      "cell_type": "code",
      "source": [
        "# Let's analyze the articles\n",
        "for a in articles:\n",
        "  print(analyze_article(a))"
      ],
      "metadata": {
        "id": "MPATWO7Y5lC5"
      },
      "execution_count": null,
      "outputs": []
    },
    {
      "cell_type": "code",
      "source": [
        "# YOUR CODE HERE\n",
        "#\n",
        "# Go through all the articles and store the results\n",
        "# Do some analysis of the retrieved data\n"
      ],
      "metadata": {
        "id": "RW5zS7Wc7pQT"
      },
      "execution_count": null,
      "outputs": []
    },
    {
      "cell_type": "markdown",
      "source": [
        "## Exercises\n",
        "\n",
        "* Use NewsAPI to get the top headlines for different languages. Ask ChatGPT to summarize the news being discussed in different languages.\n",
        "\n",
        "* Plot the average sentiment score for a company over time. Examine the use of advanced plots (eg violin plots) to show the distribution of sentiment over time, not just the averages."
      ],
      "metadata": {
        "id": "vuE8r2rkRyxT"
      }
    }
  ]
}