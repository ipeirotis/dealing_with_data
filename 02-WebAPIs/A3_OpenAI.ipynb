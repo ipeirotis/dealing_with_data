{
  "nbformat": 4,
  "nbformat_minor": 0,
  "metadata": {
    "colab": {
      "private_outputs": true,
      "provenance": [],
      "authorship_tag": "ABX9TyNsNPsniBhRvsKbOU791ucz",
      "include_colab_link": true
    },
    "kernelspec": {
      "name": "python3",
      "display_name": "Python 3"
    },
    "language_info": {
      "name": "python"
    }
  },
  "cells": [
    {
      "cell_type": "markdown",
      "metadata": {
        "id": "view-in-github",
        "colab_type": "text"
      },
      "source": [
        "<a href=\"https://colab.research.google.com/github/ipeirotis/dealing_with_data/blob/master/02-WebAPIs/A3_OpenAI.ipynb\" target=\"_parent\"><img src=\"https://colab.research.google.com/assets/colab-badge.svg\" alt=\"Open In Colab\"/></a>"
      ]
    },
    {
      "cell_type": "markdown",
      "source": [
        "# Open AI API\n",
        "\n",
        "*The hottest new programming language is English* \n",
        "\n",
        "-- [Andrej Karpathy](https://twitter.com/karpathy/status/1617979122625712128)"
      ],
      "metadata": {
        "id": "1RNR_Mi4YCZh"
      }
    },
    {
      "cell_type": "markdown",
      "source": [
        "In this lesson, we will use the Open AI and GPT to performa a variety of tasks."
      ],
      "metadata": {
        "id": "jKsOVgEvYXVn"
      }
    },
    {
      "cell_type": "markdown",
      "source": [
        "### Setup"
      ],
      "metadata": {
        "id": "0zaCV0a1FIqC"
      }
    },
    {
      "cell_type": "code",
      "source": [
        "!pip install -U -q openai"
      ],
      "metadata": {
        "id": "Pw7zNeSwFkG5"
      },
      "execution_count": null,
      "outputs": []
    },
    {
      "cell_type": "code",
      "execution_count": null,
      "metadata": {
        "id": "SyxQyi2gA7Nv"
      },
      "outputs": [],
      "source": [
        "import openai\n",
        "import base64\n",
        "import textwrap\n",
        "\n",
        "key = 'KEY ON SLACK'\n",
        "openai.api_key = base64.b64decode(key).decode('ascii')"
      ]
    },
    {
      "cell_type": "markdown",
      "source": [
        "## Helper function\n",
        "\n",
        "Throughout this course, we will use OpenAI's `gpt-3.5-turbo` model and the [chat completions endpoint](https://platform.openai.com/docs/guides/gpt/chat-completions-api).\n",
        "\n",
        "This helper function will make it easier to use prompts and look at the generated outputs:"
      ],
      "metadata": {
        "id": "AwsuCbrgCx81"
      }
    },
    {
      "cell_type": "code",
      "source": [
        "def get_completion(prompt, model=\"gpt-3.5-turbo\"):\n",
        "    messages = [{\"role\": \"user\", \"content\": prompt}]\n",
        "    response = openai.ChatCompletion.create(\n",
        "        model=model,\n",
        "        messages=messages,\n",
        "        temperature=0, # this is the degree of randomness of the model's output\n",
        "    )\n",
        "    return response.choices[0].message[\"content\"]"
      ],
      "metadata": {
        "id": "3AkOGJd7A-o7"
      },
      "execution_count": null,
      "outputs": []
    },
    {
      "cell_type": "markdown",
      "source": [
        "## Prompting and Responses\n",
        "\n",
        "### Sentiment Analysis\n",
        "\n",
        "In our scenario, we will ask GPT to infer sentiment and topics from product reviews and news articles.\n",
        "\n"
      ],
      "metadata": {
        "id": "j9z6lcROFvfJ"
      }
    },
    {
      "cell_type": "code",
      "source": [
        "# This is the review that we want to analyze\n",
        "\n",
        "review = \"\"\"\n",
        "Needed a nice lamp for my bedroom, and this one had \n",
        "additional storage and not too high of a price point. \n",
        "Got it fast.  The string to our lamp broke during the \n",
        "transit and the company happily sent over a new one. \n",
        "Came within a few days as well. It was easy to put \n",
        "together.  I had a missing part, so I contacted their \n",
        "support and they very quickly got me the missing piece! \n",
        "Lumina seems to me to be a great company that cares \n",
        "about their customers and products!!\n",
        "\"\"\""
      ],
      "metadata": {
        "id": "_mhLSF12VlYv"
      },
      "execution_count": null,
      "outputs": []
    },
    {
      "cell_type": "code",
      "source": [
        "# This is the prompt that we submit to GPT (notice that we embed the review)\n",
        "\n",
        "prompt = f\"\"\"\n",
        "What is the sentiment of the following product review below?\n",
        "\n",
        "Review text: {review}\n",
        "\"\"\"\n"
      ],
      "metadata": {
        "id": "I-Xw5VpKFzH4"
      },
      "execution_count": null,
      "outputs": []
    },
    {
      "cell_type": "code",
      "source": [
        "response = get_completion(prompt)\n",
        "print(response)"
      ],
      "metadata": {
        "id": "PQe0rreFVq7b"
      },
      "execution_count": null,
      "outputs": []
    },
    {
      "cell_type": "markdown",
      "source": [
        "You will notice that the reponse is good for a human, but perhaps we want to ask GPT to give us a more concise and structured response."
      ],
      "metadata": {
        "id": "_Kb5Pw7EWK96"
      }
    },
    {
      "cell_type": "code",
      "source": [
        "# The hottest new programming language is English\n",
        "\n",
        "prompt = f\"\"\"\n",
        "What is the sentiment of the following product review?\n",
        "Give your answer as a single word, either \"positive\" or \"negative\".\n",
        "\n",
        "Review text: '''{review}'''\n",
        "\"\"\"\n",
        "response = get_completion(prompt)\n",
        "print(response)"
      ],
      "metadata": {
        "id": "bHqJxy6VWJ_j"
      },
      "execution_count": null,
      "outputs": []
    },
    {
      "cell_type": "code",
      "source": [],
      "metadata": {
        "id": "eMbAI6RTXpXd"
      },
      "execution_count": null,
      "outputs": []
    },
    {
      "cell_type": "markdown",
      "source": [
        "### Identify types of emotions"
      ],
      "metadata": {
        "id": "D9KYs9J2Xpz8"
      }
    },
    {
      "cell_type": "code",
      "source": [
        "prompt = f\"\"\"\n",
        "Identify a list of emotions that the writer of the \n",
        "following review is expressing. Include no more than \n",
        "five items in the list. Format your answer as a list of \n",
        "lower-case words separated by commas.\n",
        "\n",
        "Review text: '''{review}'''\n",
        "\"\"\"\n",
        "response = get_completion(prompt)\n",
        "print(response)"
      ],
      "metadata": {
        "id": "wt-baS9iXnDA"
      },
      "execution_count": null,
      "outputs": []
    },
    {
      "cell_type": "markdown",
      "source": [
        "### Extract product and company name from customer reviews"
      ],
      "metadata": {
        "id": "Rz8RoeYNXzL8"
      }
    },
    {
      "cell_type": "code",
      "source": [
        "prompt = f\"\"\"\n",
        "Identify the following items from the review text: \n",
        "- Item purchased by reviewer\n",
        "- Company that made the item\n",
        "\n",
        "Format your response as a JSON object with \n",
        "\"Item\" and \"Brand\" as the keys. \n",
        "If the information isn't present, use \"unknown\" \n",
        "as the value.\n",
        "Make your response as short as possible.\n",
        "  \n",
        "Review text: '''{review}'''\n",
        "\"\"\"\n",
        "response = get_completion(prompt)\n",
        "print(response)"
      ],
      "metadata": {
        "id": "dlwZzyhhXxiT"
      },
      "execution_count": null,
      "outputs": []
    },
    {
      "cell_type": "markdown",
      "source": [
        "### Doing multiple tasks at once"
      ],
      "metadata": {
        "id": "XsTHMebRXx9U"
      }
    },
    {
      "cell_type": "code",
      "source": [
        "prompt = f\"\"\"\n",
        "Identify the following items from the review text: \n",
        "- Sentiment (positive or negative)\n",
        "- Is the reviewer expressing anger? (true or false)\n",
        "- Item purchased by reviewer\n",
        "- Company that made the item\n",
        "\n",
        "The review is delimited with triple backticks. \n",
        "Format your response as a JSON object with \n",
        "\"Sentiment\", \"Anger\", \"Item\" and \"Brand\" as the keys.\n",
        "If the information isn't present, use \"unknown\" \n",
        "as the value.\n",
        "Format the Anger value as a boolean.\n",
        "Make your response as short as possible.\n",
        "\n",
        "Review text: '''{review}'''\n",
        "\"\"\"\n",
        "response = get_completion(prompt)\n",
        "print(response)"
      ],
      "metadata": {
        "id": "9yOXNNi2X4PO"
      },
      "execution_count": null,
      "outputs": []
    },
    {
      "cell_type": "code",
      "source": [
        "response"
      ],
      "metadata": {
        "id": "jbugQkntHoFE"
      },
      "execution_count": null,
      "outputs": []
    },
    {
      "cell_type": "code",
      "source": [
        "import json\n",
        "\n",
        "data = json.loads(response)"
      ],
      "metadata": {
        "id": "PUBevgz_HhDc"
      },
      "execution_count": null,
      "outputs": []
    },
    {
      "cell_type": "code",
      "source": [
        "data"
      ],
      "metadata": {
        "id": "MQc5jbPbaquf"
      },
      "execution_count": null,
      "outputs": []
    },
    {
      "cell_type": "markdown",
      "source": [
        "## Summarize stories"
      ],
      "metadata": {
        "id": "ztp5XVDFaruR"
      }
    },
    {
      "cell_type": "code",
      "source": [
        "story = \"\"\"\n",
        "In a recent survey conducted by the government, \n",
        "public sector employees were asked to rate their level \n",
        "of satisfaction with the department they work at. \n",
        "The results revealed that NASA was the most popular \n",
        "department with a satisfaction rating of 95%.\n",
        "\n",
        "One NASA employee, John Smith, commented on the findings, \n",
        "stating, \"I'm not surprised that NASA came out on top. \n",
        "It's a great place to work with amazing people and \n",
        "incredible opportunities. I'm proud to be a part of \n",
        "such an innovative organization.\"\n",
        "\n",
        "The results were also welcomed by NASA's management team, \n",
        "with Director Tom Johnson stating, \"We are thrilled to \n",
        "hear that our employees are satisfied with their work at NASA. \n",
        "We have a talented and dedicated team who work tirelessly \n",
        "to achieve our goals, and it's fantastic to see that their \n",
        "hard work is paying off.\"\n",
        "\n",
        "The survey also revealed that the \n",
        "Social Security Administration had the lowest satisfaction \n",
        "rating, with only 45% of employees indicating they were \n",
        "satisfied with their job. The government has pledged to \n",
        "address the concerns raised by employees in the survey and \n",
        "work towards improving job satisfaction across all departments.\n",
        "\"\"\""
      ],
      "metadata": {
        "id": "_1nZQktRate1"
      },
      "execution_count": null,
      "outputs": []
    },
    {
      "cell_type": "code",
      "source": [
        "prompt = f\"\"\"\n",
        "Summarize the story below in 40 words or less.\n",
        "\n",
        "\n",
        "Story: {story}\n",
        "\"\"\"\n",
        "response = get_completion(prompt)\n",
        "\n",
        "# The textwrap simply allows us to print the text\n",
        "# with a maximum width, so that we can read it.\n",
        "print(textwrap.fill(response, width=80))"
      ],
      "metadata": {
        "id": "a11Gwcb5awHF"
      },
      "execution_count": null,
      "outputs": []
    },
    {
      "cell_type": "markdown",
      "source": [
        "### Infer topics"
      ],
      "metadata": {
        "id": "IyXnh6-HcY6a"
      }
    },
    {
      "cell_type": "code",
      "source": [
        "prompt = f\"\"\"\n",
        "Determine five topics that are being discussed in the \n",
        "following text. Make each item one or two words long. \n",
        "\n",
        "Format your response as a list of items separated by commas.\n",
        "\n",
        "Story: '''{story}'''\n",
        "\"\"\"\n",
        "response = get_completion(prompt)\n",
        "print(response)"
      ],
      "metadata": {
        "id": "JvooIlTrcYFg"
      },
      "execution_count": null,
      "outputs": []
    }
  ]
}