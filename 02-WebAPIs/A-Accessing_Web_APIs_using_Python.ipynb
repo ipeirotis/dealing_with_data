{
  "nbformat": 4,
  "nbformat_minor": 0,
  "metadata": {
    "kernelspec": {
      "display_name": "Python 3",
      "language": "python",
      "name": "python3"
    },
    "language_info": {
      "codemirror_mode": {
        "name": "ipython",
        "version": 3
      },
      "file_extension": ".py",
      "mimetype": "text/x-python",
      "name": "python",
      "nbconvert_exporter": "python",
      "pygments_lexer": "ipython3",
      "version": "3.6.7"
    },
    "colab": {
      "name": "A-Accessing_Web_APIs_using_Python.ipynb",
      "provenance": [],
      "include_colab_link": true
    }
  },
  "cells": [
    {
      "cell_type": "markdown",
      "metadata": {
        "id": "view-in-github",
        "colab_type": "text"
      },
      "source": [
        "<a href=\"https://colab.research.google.com/github/ipeirotis/dealing_with_data/blob/master/02-WebAPIs/A-Accessing_Web_APIs_using_Python.ipynb\" target=\"_parent\"><img src=\"https://colab.research.google.com/assets/colab-badge.svg\" alt=\"Open In Colab\"/></a>"
      ]
    },
    {
      "cell_type": "markdown",
      "source": [
        "# Introduction to Web APIs\n",
        "\n",
        "\n"
      ],
      "metadata": {
        "id": "nrrKwhkoXrYH"
      }
    },
    {
      "cell_type": "markdown",
      "source": [
        "## Web APIs (vs. Web Browsers): Two Ways to Interact with the Web\n",
        "\n",
        "Think of the Internet as a massive digital warehouse filled with valuable data and services. You can interact with this warehouse in two primary ways: through a **web browser** or by using **Web APIs**. The critical difference lies in who (or what) performs the interaction and how.\n",
        "\n",
        "---\n",
        "\n",
        "### 1. Web Browser: Human Interaction\n",
        "\n",
        "* **Who:** A person.\n",
        "* **How:** You use a browser (e.g., Chrome, Safari) to visit websites like `finance.yahoo.com`.\n",
        "* **What Happens:** The website sends back visually formatted pages with text, images, buttons, and ads designed for human interaction.\n",
        "* **Purpose:** To inform or entertain people.\n",
        "* **Analogy:** Walking into a department store, browsing shelves and price tags manually.\n",
        "\n",
        "\n",
        "### 2. Web API: Automated Interaction\n",
        "\n",
        "* **Who:** A computer program or script (e.g., Python script).\n",
        "* **How:** Your script sends structured requests directly to an \"API endpoint\" (a dedicated URL).\n",
        "* **What Happens:** The server responds with structured, raw data (commonly in JSON), optimized for immediate machine processing.\n",
        "* **Purpose:** Provide data or trigger actions programmatically.\n",
        "* **Analogy:** Sending a robot directly into the warehouse with a specific shopping list (e.g., \"Retrieve price for item ID 12345\"), skipping manual browsing entirely.\n",
        "\n",
        "---"
      ],
      "metadata": {
        "id": "jWRJJMooYMJt"
      }
    },
    {
      "cell_type": "markdown",
      "source": [
        "\n",
        "## Types of APIs for Business Analytics: \"Read\"-\"Think\"-\"Do\"\n",
        "\n",
        "APIs can be categorized based on their core functionality:\n",
        "\n",
        "### 1. Data Retrieval APIs (\"Read\" APIs)\n",
        "\n",
        "These APIs give you access to data from external systems.\n",
        "\n",
        "* **Live Data Examples:**\n",
        "\n",
        "  * **Financial:** *Alpha Vantage API* for real-time stock prices.\n",
        "  * **Social Media:** *Twitter API* for real-time tweet streams.\n",
        "  * **Logistics:** *Google Maps API* for current traffic data.\n",
        "\n",
        "* **Historical Data Examples:**\n",
        "\n",
        "  * **Government Records:** *U.S. National Archives API* for historical data.\n",
        "  * **Academic Research:** *JSTOR API* for scholarly metadata.\n",
        "  * **Market Research:** Weather APIs for historical weather analysis.\n",
        "\n",
        "### 2. Data Processing APIs (\"Think\" APIs)\n",
        "\n",
        "These APIs accept your data, analyze or transform it, and return insightful results.\n",
        "\n",
        "* **Natural Language Processing:** *Google Cloud Natural Language API* analyzes text for sentiment and themes.\n",
        "* **Image Recognition:** *Google Cloud Vision API* identifies objects, text, or logos in images.\n",
        "* **Geocoding:** *Mapbox Geocoding API* converts street addresses into geographic coordinates.\n",
        "\n",
        "### 3. Automation APIs (\"Do\" APIs)\n",
        "\n",
        "These APIs automate tasks or trigger actions across applications.\n",
        "\n",
        "* **Automated Reporting:** *Slack API* can post alerts based on data thresholds (e.g., sales targets).\n",
        "* **Marketing Automation:** Add contacts automatically to mailing lists with *Mailchimp* or *HubSpot APIs* based on customer feedback.\n",
        "* **System Integration:** Automate invoicing with accounting APIs like *QuickBooks* when sales occur on platforms like *Shopify*.\n",
        "\n",
        "---\n",
        "\n",
        "By mastering APIs, you dramatically enhance your capability as a business analyst, automating workflows, and effortlessly managing vast amounts of data.\n"
      ],
      "metadata": {
        "id": "KBxdlF0BYRqG"
      }
    },
    {
      "cell_type": "markdown",
      "metadata": {
        "id": "cAFZ6CAr7bG4"
      },
      "source": [
        "# Interacting with Web APIs\n",
        "\n"
      ]
    },
    {
      "cell_type": "markdown",
      "metadata": {
        "id": "ixwqMWMx7bG6"
      },
      "source": [
        "We are going to learn how to use Web APIs using Python. Using a Web API is similar to using function, but the \"function\" that we call is located in another machine, and we submit the parameters of the function through the web.\n",
        "\n"
      ]
    },
    {
      "cell_type": "markdown",
      "source": [
        "## Motivating example: Weather-targeting in ads\n",
        "\n",
        "Here are a few examples of ad campaigns that leveraged weather information to effectively target customers.\n",
        "\n",
        "| Brand & Year | Weather Signal | Activation | Business Impact |\n",
        "| :--- | :--- | :--- | :--- |\n",
        "| **1. Pantene “Haircast” (USA, 2013)** | Local humidity spikes (bad-hair-day risk) pulled from The Weather Channel. | When women opened the Weather Channel app on a high-humidity day, they saw a “Haircast” forecast plus the exact Pantene SKU to tame frizz, linked to a Walgreens offer. | +24% YoY Pantene sales at Walgreens; +10% baseline lift and displays in 5,500 stores. |\n",
        "| **2. Campbell’s Soup Watson Ads (USA, 2016)** | Cold or blustery conditions from users’ GPS forecast. | Inside The Weather Company app, an AI banner invited people to “warm up” with recipe ideas; copy, imagery, and calls-to-action changed in real time. | First commercial Watson Ads unit; demonstrated higher engagement vs. static creative. |\n",
        "| **3. Stella Artois Cidre “Serve Chilled” (UK, 2013)** | +2 °C above the monthly norm AND no rain. | Digital out-of-home billboards lit up only during perfect cider-drinking weather near supermarkets; the programmatic buy paused when the trigger lapsed. | 65.6% YoY sales jump during the campaign and up to 50% media-cost efficiency. |\n",
        "| **4. Walgreens Allergy Stories (USA, 2023)** | Neighborhood-level pollen counts via IBM Watson Weather. | Served Instagram Stories only when local pollen was “high,” opening with the alert and flashing a coupon for antihistamines. | +276% click-through vs. prior allergy ads; -41% cost per person reached; -64% cost per click. |\n",
        "\n"
      ],
      "metadata": {
        "id": "TRY6LyemQnpA"
      }
    },
    {
      "cell_type": "markdown",
      "metadata": {
        "id": "c539Rnwl7bG7"
      },
      "source": [
        "## First Example: GeoIP resolution"
      ]
    },
    {
      "cell_type": "markdown",
      "metadata": {
        "id": "DSfrhGnZ7bG7"
      },
      "source": [
        "We will start with an example that is doing a \"geoIP\" resolution: it takes the IP of a computer and returns back its location."
      ]
    },
    {
      "cell_type": "code",
      "metadata": {
        "id": "IT5l_Q6y7bG8"
      },
      "source": [
        "ipstack_api_key = 'KEY ON SLACK'\n",
        "openweathermap_key = 'KEY ON SLACK'"
      ],
      "execution_count": null,
      "outputs": []
    },
    {
      "cell_type": "code",
      "source": [],
      "metadata": {
        "id": "JvJFuAwYhz8i"
      },
      "execution_count": null,
      "outputs": []
    },
    {
      "cell_type": "code",
      "metadata": {
        "id": "L3qbzyE67bG8"
      },
      "source": [
        "# We first import the requests library\n",
        "import requests\n",
        "\n",
        "\n",
        "url = f'http://api.ipstack.com/check?access_key={ipstack_api_key}'\n",
        "resp = requests.get(url)"
      ],
      "execution_count": null,
      "outputs": []
    },
    {
      "cell_type": "code",
      "metadata": {
        "id": "ttnV7yHn7bG9"
      },
      "source": [
        "# Let's see the content of the response\n",
        "# As you can see, it contain the JSON response\n",
        "resp.text"
      ],
      "execution_count": null,
      "outputs": []
    },
    {
      "cell_type": "code",
      "metadata": {
        "id": "otOu9AjI7bG9"
      },
      "source": [
        "# We want to transform the JSON file into a Python dictionary object\n",
        "# We use the response.json() command to get back a dictionary\n",
        "data = resp.json()"
      ],
      "execution_count": null,
      "outputs": []
    },
    {
      "cell_type": "code",
      "metadata": {
        "id": "MXzdpKCY7bG-"
      },
      "source": [
        "# Now data is a Python dictionary\n",
        "data"
      ],
      "execution_count": null,
      "outputs": []
    },
    {
      "cell_type": "code",
      "metadata": {
        "id": "HA3fz9LU7bG-"
      },
      "source": [
        "# And we can access the fields of the JSON as we normally access Python dictionary entries\n",
        "print(\"Lon:\", data[\"longitude\"], \"Lat:\", data[\"latitude\"])"
      ],
      "execution_count": null,
      "outputs": []
    },
    {
      "cell_type": "code",
      "source": [
        "# A few more data points\n",
        "print(\"City:\", data[\"city\"])\n",
        "print(\"Region:\", data[\"region_name\"], data[\"region_code\"])\n",
        "print(\"Zipcode:\", data[\"zip\"])"
      ],
      "metadata": {
        "id": "fjVpUeCcFFHc"
      },
      "execution_count": null,
      "outputs": []
    },
    {
      "cell_type": "markdown",
      "metadata": {
        "id": "RmbcMvh27bG-"
      },
      "source": [
        "And in one piece:"
      ]
    },
    {
      "cell_type": "code",
      "metadata": {
        "id": "3OBLSVuS7bG-"
      },
      "source": [
        "import requests\n",
        "url = f'http://api.ipstack.com/check?access_key={ipstack_api_key}'\n",
        "resp = requests.get(url)\n",
        "data = resp.json()\n",
        "print(\"Lon:\", data[\"longitude\"], \"Lat:\", data[\"latitude\"])\n",
        "print(\"City:\", data[\"city\"])\n",
        "print(\"Region:\", data[\"region_name\"], data[\"region_code\"])\n",
        "print(\"Zipcode:\", data[\"zip\"])"
      ],
      "execution_count": null,
      "outputs": []
    },
    {
      "cell_type": "markdown",
      "metadata": {
        "id": "bQnz1L6Y7bG-"
      },
      "source": [
        "## Using Parameters with API Calls\n"
      ]
    },
    {
      "cell_type": "markdown",
      "metadata": {
        "id": "t27OU8Pd7bG_"
      },
      "source": [
        "\n",
        "The first API call that we tried was very simple. We just fetched a URL. Now let's see a URL that accepts as input a set of **parameters**. We have already seen this concept with functions; the parameters of the API calls are the exact equivalent but for Web APIs, which are, at their core, functions that we call over the web."
      ]
    },
    {
      "cell_type": "markdown",
      "metadata": {
        "id": "n9ZA3ekO7bG_"
      },
      "source": [
        "### Example: OpenWeatherMap"
      ]
    },
    {
      "cell_type": "markdown",
      "metadata": {
        "id": "7IlNOVgI7bG_"
      },
      "source": [
        "Let's try to query OpenWeatherMap now, to get data about the weather. [Documentation](https://openweathermap.org/api/one-call-3).\n",
        "\n",
        "Below you can find the URL that you can copy and paste in your browser, to get the weather for the lat/lon coordinates (`40.728955`, `-73.996154`) (i.e., the Stern building).\n",
        "\n",
        "You will notice that it contains parameters as part of the URL, including an `appid` which is a key that is used to limit the number of calls that can be issued by a single application.\n",
        "\n",
        "Try the URL in your browser."
      ]
    },
    {
      "cell_type": "raw",
      "metadata": {
        "id": "AN6vrZFm7bG_"
      },
      "source": [
        "```\n",
        "https://api.openweathermap.org/data/3.0/onecall?lat=40.728955&lon=-73.996154&exclude=minutely,hourly,daily&units=imperial&mode=json&appid=ffb7b9808e07c9135bdcc7d1e867253d\n",
        "```"
      ]
    },
    {
      "cell_type": "markdown",
      "metadata": {
        "id": "nf8LSCiW7bG_"
      },
      "source": [
        "Below you can find the same code, but now we have a Python dictionary to organize and list the parameters."
      ]
    },
    {
      "cell_type": "code",
      "metadata": {
        "id": "BZeUya-Y7bHA"
      },
      "source": [
        "import requests\n",
        "\n",
        "openweathermap_url = \"https://api.openweathermap.org/data/3.0/onecall\"\n",
        "parameters = {\n",
        "    'lat'   : 40.728955,\n",
        "    'lon'   : -73.996154,\n",
        "    'units' : 'imperial',\n",
        "    'exclude' : 'minutely,hourly,daily',\n",
        "    'mode'  : 'json',\n",
        "    'appid' : openweathermap_key\n",
        "}\n",
        "resp = requests.get(openweathermap_url, params=parameters)\n",
        "data = resp.json()\n",
        "data"
      ],
      "execution_count": null,
      "outputs": []
    },
    {
      "cell_type": "markdown",
      "metadata": {
        "id": "ui0Az-Wk7bHA"
      },
      "source": [
        "## Exercise 1"
      ]
    },
    {
      "cell_type": "markdown",
      "metadata": {
        "id": "-I8Ngs9c7bHA"
      },
      "source": [
        "\n",
        "a. Extract the current temperature from the returned JSON response.\n"
      ]
    },
    {
      "cell_type": "code",
      "metadata": {
        "id": "EU9frQ_l7bHA"
      },
      "source": [
        "# your code here"
      ],
      "execution_count": null,
      "outputs": []
    },
    {
      "cell_type": "markdown",
      "metadata": {
        "id": "bEnlymfz7bHA"
      },
      "source": [
        "b. Extract the description of the current weather"
      ]
    },
    {
      "cell_type": "code",
      "metadata": {
        "id": "gjMZ7AzJ7bHB"
      },
      "source": [
        "# your code here"
      ],
      "execution_count": null,
      "outputs": []
    },
    {
      "cell_type": "markdown",
      "metadata": {
        "id": "hAAZKBa27bHB"
      },
      "source": [
        "c. Try to change the units to `metric` and repeat\n"
      ]
    },
    {
      "cell_type": "code",
      "metadata": {
        "id": "bm5UXxZV7bHB"
      },
      "source": [
        "# your code here"
      ],
      "execution_count": null,
      "outputs": []
    },
    {
      "cell_type": "markdown",
      "metadata": {
        "solution2": "hidden",
        "solution2_first": true,
        "id": "HQaxxR8S7bHB"
      },
      "source": [
        "### Solution for Exercise 1"
      ]
    },
    {
      "cell_type": "code",
      "metadata": {
        "solution2": "hidden",
        "id": "pr9rdq1i7bHB"
      },
      "source": [
        "print(f\"Temperature: {data['current']['temp']}F\")"
      ],
      "execution_count": null,
      "outputs": []
    },
    {
      "cell_type": "code",
      "metadata": {
        "solution2": "hidden",
        "id": "OvuCUqoa7bHC"
      },
      "source": [
        "print(f\"Description: {data['current']['weather'][0]['description']}\")"
      ],
      "execution_count": null,
      "outputs": []
    },
    {
      "cell_type": "code",
      "metadata": {
        "solution2": "hidden",
        "id": "rlwCD-5E7bHC"
      },
      "source": [
        "import requests\n",
        "\n",
        "openweathermap_url = \"https://api.openweathermap.org/data/3.0/onecall\"\n",
        "parameters = {\n",
        "    'lat'   : 40.728955,\n",
        "    'lon'   : -73.996154,\n",
        "    'units' : 'metric',\n",
        "    'exclude' : 'minutely,hourly,daily',\n",
        "    'mode'  : 'json',\n",
        "    'appid' : openweathermap_key\n",
        "}\n",
        "resp = requests.get(openweathermap_url, params=parameters)\n",
        "data = resp.json()\n",
        "data"
      ],
      "execution_count": null,
      "outputs": []
    },
    {
      "cell_type": "markdown",
      "metadata": {
        "id": "fMwAteBp7bHE"
      },
      "source": [
        "## Exercise 2\n",
        "\n"
      ]
    },
    {
      "cell_type": "markdown",
      "metadata": {
        "id": "u3R7jQpC7bHE"
      },
      "source": [
        "Read the location of your computer using the GeoIP API. Then use the OpenWeatherMap to query the API and fetch the temperature for the location returned by the GeoIP API. For this exercise, you will need to learn to read variables from a Web API (geoip) and use them as input in another (openweathermap)"
      ]
    },
    {
      "cell_type": "code",
      "metadata": {
        "id": "LDbtOK5d7bHE"
      },
      "source": [
        "#your code here"
      ],
      "execution_count": null,
      "outputs": []
    },
    {
      "cell_type": "markdown",
      "metadata": {
        "solution2": "hidden",
        "solution2_first": true,
        "id": "J2o3pEuA7bHE"
      },
      "source": [
        "### Solution for Exercise 2"
      ]
    },
    {
      "cell_type": "code",
      "metadata": {
        "scrolled": true,
        "solution2": "hidden",
        "id": "608bIRh37bHE"
      },
      "source": [
        "import requests\n",
        "\n",
        "# Query the GeoIP API first, and keep parts of the result that we need\n",
        "# including longitude and latitude\n",
        "geoip_url = f'http://api.ipstack.com/check?access_key={ipstack_api_key}'\n",
        "resp = requests.get(geoip_url)\n",
        "geoip_data = resp.json()\n",
        "lon = geoip_data[\"longitude\"]\n",
        "lat = geoip_data[\"latitude\"]\n",
        "city = geoip_data[\"city\"]\n",
        "state = geoip_data[\"region_code\"]\n",
        "zipcode = geoip_data[\"zip\"]\n",
        "\n",
        "# Query the OpenWeatherMap API for the lat/lon coordinates returned by GeoIP\n",
        "openweathermap_url = \"https://api.openweathermap.org/data/3.0/onecall\"\n",
        "parameters = {\n",
        "    'lat'   : lat,\n",
        "    'lon'   : lon,\n",
        "    'units' : 'imperial',\n",
        "    'exclude' : 'minutely,hourly,daily',\n",
        "    'mode'  : 'json',\n",
        "    'appid' : openweathermap_key\n",
        "}\n",
        "resp = requests.get(openweathermap_url, params=parameters)\n",
        "weather_data = resp.json()\n",
        "weather_description = weather_data['current']['weather'][0]['description']\n",
        "current_temperature = data['current']['temp']\n",
        "\n",
        "# Print out the results\n",
        "print(\"Location:\", city, state, zipcode)\n",
        "print(\"Weather:\", weather_data['current']['weather'][0]['description'])\n",
        "print(\"Temperature:\", data['current']['temp'])"
      ],
      "execution_count": null,
      "outputs": []
    }
  ]
}