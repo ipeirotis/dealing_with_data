{
  "nbformat": 4,
  "nbformat_minor": 0,
  "metadata": {
    "kernelspec": {
      "display_name": "Python 3",
      "language": "python",
      "name": "python3"
    },
    "language_info": {
      "codemirror_mode": {
        "name": "ipython",
        "version": 3
      },
      "file_extension": ".py",
      "mimetype": "text/x-python",
      "name": "python",
      "nbconvert_exporter": "python",
      "pygments_lexer": "ipython3",
      "version": "3.6.7"
    },
    "colab": {
      "name": "A-Accessing_Web_APIs_using_Python.ipynb",
      "provenance": [],
      "include_colab_link": true
    }
  },
  "cells": [
    {
      "cell_type": "markdown",
      "metadata": {
        "id": "view-in-github",
        "colab_type": "text"
      },
      "source": [
        "<a href=\"https://colab.research.google.com/github/ipeirotis/dealing_with_data/blob/master/02-WebAPIs/A-Accessing_Web_APIs_using_Python.ipynb\" target=\"_parent\"><img src=\"https://colab.research.google.com/assets/colab-badge.svg\" alt=\"Open In Colab\"/></a>"
      ]
    },
    {
      "cell_type": "markdown",
      "metadata": {
        "id": "cAFZ6CAr7bG4"
      },
      "source": [
        "# Interacting with Web APIs\n",
        "\n"
      ]
    },
    {
      "cell_type": "markdown",
      "metadata": {
        "id": "ixwqMWMx7bG6"
      },
      "source": [
        "We are going to examine now the concept of a Web API. A web API is similar to a function call, but the \"function\" that we call is located in another machine, and we submit the parameters of the function through the web.\n",
        "\n"
      ]
    },
    {
      "cell_type": "markdown",
      "metadata": {
        "id": "c539Rnwl7bG7"
      },
      "source": [
        "## First Example: GeoIP resolution"
      ]
    },
    {
      "cell_type": "markdown",
      "metadata": {
        "id": "DSfrhGnZ7bG7"
      },
      "source": [
        "We will start with an example that is doing a \"geoIP\" resolution: it takes the IP of a computer and returns back its location."
      ]
    },
    {
      "cell_type": "code",
      "metadata": {
        "id": "IT5l_Q6y7bG8"
      },
      "source": [
        "ipstack_api_key = 'KEY ON SLACK'\n",
        "openweathermap_key = 'KEY ON SLACK'"
      ],
      "execution_count": null,
      "outputs": []
    },
    {
      "cell_type": "code",
      "source": [],
      "metadata": {
        "id": "JvJFuAwYhz8i"
      },
      "execution_count": null,
      "outputs": []
    },
    {
      "cell_type": "code",
      "metadata": {
        "id": "L3qbzyE67bG8"
      },
      "source": [
        "# We first import the requests library\n",
        "import requests\n",
        "\n",
        "\n",
        "url = f'http://api.ipstack.com/check?access_key={ipstack_api_key}'\n",
        "resp = requests.get(url)"
      ],
      "execution_count": null,
      "outputs": []
    },
    {
      "cell_type": "code",
      "metadata": {
        "id": "ttnV7yHn7bG9"
      },
      "source": [
        "# Let's see the content of the response\n",
        "# As you can see, it contain the JSON response\n",
        "resp.text"
      ],
      "execution_count": null,
      "outputs": []
    },
    {
      "cell_type": "code",
      "metadata": {
        "id": "otOu9AjI7bG9"
      },
      "source": [
        "# We want to transform the JSON file into a Python dictionary object\n",
        "# We use the response.json() command to get back a dictionary\n",
        "data = resp.json()"
      ],
      "execution_count": null,
      "outputs": []
    },
    {
      "cell_type": "code",
      "metadata": {
        "id": "MXzdpKCY7bG-"
      },
      "source": [
        "# Now data is a Python dictionary\n",
        "data"
      ],
      "execution_count": null,
      "outputs": []
    },
    {
      "cell_type": "code",
      "metadata": {
        "id": "HA3fz9LU7bG-"
      },
      "source": [
        "# And we can access the fields of the JSON as we normally access Python dictionary entries\n",
        "print(\"Lon:\", data[\"longitude\"], \"Lat:\", data[\"latitude\"])"
      ],
      "execution_count": null,
      "outputs": []
    },
    {
      "cell_type": "code",
      "source": [
        "# A few more data points\n",
        "print(\"City:\", data[\"city\"])\n",
        "print(\"Region:\", data[\"region_name\"], data[\"region_code\"])\n",
        "print(\"Zipcode:\", data[\"zip\"])"
      ],
      "metadata": {
        "id": "fjVpUeCcFFHc"
      },
      "execution_count": null,
      "outputs": []
    },
    {
      "cell_type": "markdown",
      "metadata": {
        "id": "RmbcMvh27bG-"
      },
      "source": [
        "And in one piece:"
      ]
    },
    {
      "cell_type": "code",
      "metadata": {
        "id": "3OBLSVuS7bG-"
      },
      "source": [
        "import requests\n",
        "url = f'http://api.ipstack.com/check?access_key={ipstack_api_key}'\n",
        "resp = requests.get(url)\n",
        "data = resp.json()\n",
        "print(\"Lon:\", data[\"longitude\"], \"Lat:\", data[\"latitude\"])\n",
        "print(\"City:\", data[\"city\"])\n",
        "print(\"Region:\", data[\"region_name\"], data[\"region_code\"])\n",
        "print(\"Zipcode:\", data[\"zip\"])"
      ],
      "execution_count": null,
      "outputs": []
    },
    {
      "cell_type": "markdown",
      "metadata": {
        "id": "bQnz1L6Y7bG-"
      },
      "source": [
        "## Using Parameters with API Calls\n"
      ]
    },
    {
      "cell_type": "markdown",
      "metadata": {
        "id": "t27OU8Pd7bG_"
      },
      "source": [
        "\n",
        "The first API call that we tried was very simple. We just fetched a URL. Now let's see a URL that accepts as input a set of **parameters**. We have already seen this concept with functions; the parameters of the API calls are the exact equivalent but for Web APIs, which are, at their core, functions that we call over the web."
      ]
    },
    {
      "cell_type": "markdown",
      "metadata": {
        "id": "n9ZA3ekO7bG_"
      },
      "source": [
        "### Example: OpenWeatherMap"
      ]
    },
    {
      "cell_type": "markdown",
      "metadata": {
        "id": "7IlNOVgI7bG_"
      },
      "source": [
        "Let's try to query OpenWeatherMap now, to get data about the weather. [Documentation](https://openweathermap.org/api/one-call-3).\n",
        "\n",
        "Below you can find the URL that you can copy and paste in your browser, to get the weather for the lat/lon coordinates (`40.728955`, `-73.996154`) (i.e., the Stern building).\n",
        "\n",
        "You will notice that it contains parameters as part of the URL, including an `appid` which is a key that is used to limit the number of calls that can be issued by a single application.\n",
        "\n",
        "Try the URL in your browser."
      ]
    },
    {
      "cell_type": "raw",
      "metadata": {
        "id": "AN6vrZFm7bG_"
      },
      "source": [
        "```\n",
        "https://api.openweathermap.org/data/3.0/onecall?lat=40.728955&lon=-73.996154&exclude=minutely,hourly,daily&units=imperial&mode=json&appid=ffb7b9808e07c9135bdcc7d1e867253d\n",
        "```"
      ]
    },
    {
      "cell_type": "markdown",
      "metadata": {
        "id": "nf8LSCiW7bG_"
      },
      "source": [
        "Below you can find the same code, but now we have a Python dictionary to organize and list the parameters."
      ]
    },
    {
      "cell_type": "code",
      "metadata": {
        "id": "BZeUya-Y7bHA"
      },
      "source": [
        "import requests\n",
        "\n",
        "openweathermap_url = \"https://api.openweathermap.org/data/3.0/onecall\"\n",
        "parameters = {\n",
        "    'lat'   : 40.728955,\n",
        "    'lon'   : -73.996154,\n",
        "    'units' : 'imperial',\n",
        "    'exclude' : 'minutely,hourly,daily',\n",
        "    'mode'  : 'json',\n",
        "    'appid' : openweathermap_key\n",
        "}\n",
        "resp = requests.get(openweathermap_url, params=parameters)\n",
        "data = resp.json()\n",
        "data"
      ],
      "execution_count": null,
      "outputs": []
    },
    {
      "cell_type": "markdown",
      "metadata": {
        "id": "ui0Az-Wk7bHA"
      },
      "source": [
        "## Exercise 1"
      ]
    },
    {
      "cell_type": "markdown",
      "metadata": {
        "id": "-I8Ngs9c7bHA"
      },
      "source": [
        "\n",
        "a. Extract the current temperature from the returned JSON response.\n"
      ]
    },
    {
      "cell_type": "code",
      "metadata": {
        "id": "EU9frQ_l7bHA"
      },
      "source": [
        "# your code here"
      ],
      "execution_count": null,
      "outputs": []
    },
    {
      "cell_type": "markdown",
      "metadata": {
        "id": "bEnlymfz7bHA"
      },
      "source": [
        "b. Extract the description of the current weather"
      ]
    },
    {
      "cell_type": "code",
      "metadata": {
        "id": "gjMZ7AzJ7bHB"
      },
      "source": [
        "# your code here"
      ],
      "execution_count": null,
      "outputs": []
    },
    {
      "cell_type": "markdown",
      "metadata": {
        "id": "hAAZKBa27bHB"
      },
      "source": [
        "c. Try to change the units to `metric` and repeat\n"
      ]
    },
    {
      "cell_type": "code",
      "metadata": {
        "id": "bm5UXxZV7bHB"
      },
      "source": [
        "# your code here"
      ],
      "execution_count": null,
      "outputs": []
    },
    {
      "cell_type": "markdown",
      "metadata": {
        "solution2": "hidden",
        "solution2_first": true,
        "id": "HQaxxR8S7bHB"
      },
      "source": [
        "### Solution for Exercise 1"
      ]
    },
    {
      "cell_type": "code",
      "metadata": {
        "solution2": "hidden",
        "id": "pr9rdq1i7bHB"
      },
      "source": [
        "print(f\"Temperature: {data['current']['temp']}F\")"
      ],
      "execution_count": null,
      "outputs": []
    },
    {
      "cell_type": "code",
      "metadata": {
        "solution2": "hidden",
        "id": "OvuCUqoa7bHC"
      },
      "source": [
        "print(f\"Description: {data['current']['weather'][0]['description']}\")"
      ],
      "execution_count": null,
      "outputs": []
    },
    {
      "cell_type": "code",
      "metadata": {
        "solution2": "hidden",
        "id": "rlwCD-5E7bHC"
      },
      "source": [
        "import requests\n",
        "\n",
        "openweathermap_url = \"https://api.openweathermap.org/data/3.0/onecall\"\n",
        "parameters = {\n",
        "    'lat'   : 40.728955,\n",
        "    'lon'   : -73.996154,\n",
        "    'units' : 'metric',\n",
        "    'exclude' : 'minutely,hourly,daily',\n",
        "    'mode'  : 'json',\n",
        "    'appid' : openweathermap_key\n",
        "}\n",
        "resp = requests.get(openweathermap_url, params=parameters)\n",
        "data = resp.json()\n",
        "data"
      ],
      "execution_count": null,
      "outputs": []
    },
    {
      "cell_type": "markdown",
      "metadata": {
        "id": "fMwAteBp7bHE"
      },
      "source": [
        "## Exercise 2\n",
        "\n"
      ]
    },
    {
      "cell_type": "markdown",
      "metadata": {
        "id": "u3R7jQpC7bHE"
      },
      "source": [
        "Read the location of your computer using the GeoIP API. Then use the OpenWeatherMap to query the API and fetch the temperature for the location returned by the GeoIP API. For this exercise, you will need to learn to read variables from a Web API (geoip) and use them as input in another (openweathermap)"
      ]
    },
    {
      "cell_type": "code",
      "metadata": {
        "id": "LDbtOK5d7bHE"
      },
      "source": [
        "#your code here"
      ],
      "execution_count": null,
      "outputs": []
    },
    {
      "cell_type": "markdown",
      "metadata": {
        "solution2": "hidden",
        "solution2_first": true,
        "id": "J2o3pEuA7bHE"
      },
      "source": [
        "### Solution for Exercise 2"
      ]
    },
    {
      "cell_type": "code",
      "metadata": {
        "scrolled": true,
        "solution2": "hidden",
        "id": "608bIRh37bHE"
      },
      "source": [
        "import requests\n",
        "\n",
        "# Query the GeoIP API first, and keep parts of the result that we need\n",
        "# including longitude and latitude\n",
        "geoip_url = f'http://api.ipstack.com/check?access_key={ipstack_api_key}'\n",
        "resp = requests.get(geoip_url)\n",
        "geoip_data = resp.json()\n",
        "lon = geoip_data[\"longitude\"]\n",
        "lat = geoip_data[\"latitude\"]\n",
        "city = geoip_data[\"city\"]\n",
        "state = geoip_data[\"region_code\"]\n",
        "zipcode = geoip_data[\"zip\"]\n",
        "\n",
        "# Query the OpenWeatherMap API for the lat/lon coordinates returned by GeoIP\n",
        "openweathermap_url = \"https://api.openweathermap.org/data/3.0/onecall\"\n",
        "parameters = {\n",
        "    'lat'   : lat,\n",
        "    'lon'   : lon,\n",
        "    'units' : 'imperial',\n",
        "    'exclude' : 'minutely,hourly,daily',\n",
        "    'mode'  : 'json',\n",
        "    'appid' : openweathermap_key\n",
        "}\n",
        "resp = requests.get(openweathermap_url, params=parameters)\n",
        "weather_data = resp.json()\n",
        "weather_description = weather_data['current']['weather'][0]['description']\n",
        "current_temperature = data['current']['temp']\n",
        "\n",
        "# Print out the results\n",
        "print(\"Location:\", city, state, zipcode)\n",
        "print(\"Weather:\", weather_data['current']['weather'][0]['description'])\n",
        "print(\"Temperature:\", data['current']['temp'])"
      ],
      "execution_count": null,
      "outputs": []
    }
  ]
}