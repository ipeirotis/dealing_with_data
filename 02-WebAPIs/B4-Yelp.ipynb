{
  "nbformat": 4,
  "nbformat_minor": 0,
  "metadata": {
    "kernelspec": {
      "display_name": "Python 3",
      "language": "python",
      "name": "python3"
    },
    "language_info": {
      "codemirror_mode": {
        "name": "ipython",
        "version": 3
      },
      "file_extension": ".py",
      "mimetype": "text/x-python",
      "name": "python",
      "nbconvert_exporter": "python",
      "pygments_lexer": "ipython3",
      "version": "3.6.7"
    },
    "colab": {
      "name": "B4-Yelp.ipynb",
      "provenance": [],
      "include_colab_link": true
    }
  },
  "cells": [
    {
      "cell_type": "markdown",
      "metadata": {
        "id": "view-in-github",
        "colab_type": "text"
      },
      "source": [
        "<a href=\"https://colab.research.google.com/github/ipeirotis/dealing_with_data/blob/master/02-WebAPIs/B4-Yelp.ipynb\" target=\"_parent\"><img src=\"https://colab.research.google.com/assets/colab-badge.svg\" alt=\"Open In Colab\"/></a>"
      ]
    },
    {
      "cell_type": "code",
      "source": [
        "import requests\n",
        "import pandas as pd"
      ],
      "metadata": {
        "id": "9ac6Na_NU2Fz"
      },
      "execution_count": null,
      "outputs": []
    },
    {
      "cell_type": "code",
      "metadata": {
        "id": "VenA9eKOqoqu"
      },
      "source": [
        "# Go to https://www.yelp.com/developers/\n",
        "# create an app, and get the key\n",
        "key = 'iI4dsdXt-g13ESGVicCEP7g8svwE657yNKQtQx0UXtrjgteJuPjddz_RYf92YIWiUJxpMx_To53E2hXoMQmnpOSc3Jws0L7SAQTH2Qdno9XFlOih236mUlx6AIEhW3Yx'\n",
        "auth_header = {'Authorization': 'Bearer ' + key}\n",
        "\n",
        "# We demo the \"Business Search\" part of the Yelp API\n",
        "# See https://www.yelp.com/developers/documentation/v3/business_search \n",
        "# for documentation\n",
        "url = 'https://api.yelp.com/v3/businesses/search'\n",
        "\n",
        "# We search for \"Village Taverna in New York\"\n",
        "# Check the documentation for other parameters\n",
        "parameters = {\n",
        "    \"term\": \"village taverna\",\n",
        "    \"location\": \"new york, ny\",\n",
        "    \"limit\": 50\n",
        "}\n",
        "\n",
        "# Issue the authenticated request\n",
        "resp = requests.get(url, headers=auth_header, params=parameters)\n",
        "data = resp.json()"
      ],
      "execution_count": null,
      "outputs": []
    },
    {
      "cell_type": "code",
      "metadata": {
        "id": "QNyXMIsfqoqz"
      },
      "source": [
        "# Here is what we get back from Yelp\n",
        "data"
      ],
      "execution_count": null,
      "outputs": []
    },
    {
      "cell_type": "code",
      "metadata": {
        "id": "9WsiAauOqoq1"
      },
      "source": [
        "# We get back the answer. It contains three keys\n",
        "# The main one is the \"business\", which contains a list of the results\n",
        "data.keys()"
      ],
      "execution_count": null,
      "outputs": []
    },
    {
      "cell_type": "code",
      "source": [
        "data['total']"
      ],
      "metadata": {
        "id": "Z9H5EZ_pUJzF"
      },
      "execution_count": null,
      "outputs": []
    },
    {
      "cell_type": "code",
      "source": [
        "data['region']"
      ],
      "metadata": {
        "id": "cn9jI2poUJCj"
      },
      "execution_count": null,
      "outputs": []
    },
    {
      "cell_type": "code",
      "source": [
        "# This is the key part of the JSON object that contains the \n",
        "# results. It is a list of dictionaries. Each dictionary\n",
        "# contains the entry for a single result\n",
        "data['businesses']"
      ],
      "metadata": {
        "id": "lYG_TbR0UINp"
      },
      "execution_count": null,
      "outputs": []
    },
    {
      "cell_type": "code",
      "source": [
        "# Let's take a look at the first result\n",
        "data['businesses'][0]"
      ],
      "metadata": {
        "id": "zsefBT9KUbXX"
      },
      "execution_count": null,
      "outputs": []
    },
    {
      "cell_type": "code",
      "metadata": {
        "id": "Zvej2IKlqoq5"
      },
      "source": [
        "# We can put the results directly into a dataframe like that:\n",
        "# although this is not ideal\n",
        "df = pd.DataFrame(data['businesses'])\n",
        "\n",
        "# The issue with the approach above is that some columns (e.g location) \n",
        "# are composite and instead of containing values, the datafrane now\n",
        "# contain *dictionaries* as cell entries\n",
        "df.head(5)"
      ],
      "execution_count": null,
      "outputs": []
    },
    {
      "cell_type": "code",
      "metadata": {
        "id": "HWdNXg-qqoq8"
      },
      "source": [
        "# In principle, the json_normalize command should be \n",
        "# able to parse the JSON response and create a dataframe\n",
        "# https://pandas.pydata.org/pandas-docs/stable/reference/api/pandas.json_normalize.html\n",
        "\n",
        "df = pd.json_normalize(data['businesses'])\n",
        "\n",
        "# We also drop columns that we do not need\n",
        "df = df.drop('categories', axis='columns')\n",
        "df = df.drop('transactions', axis='columns')\n",
        "df = df.drop('image_url', axis='columns')\n",
        "df = df.drop('location.address2', axis='columns')\n",
        "df = df.drop('location.address3', axis='columns')\n",
        "df = df.drop('location.display_address', axis='columns')\n",
        "\n",
        "df"
      ],
      "execution_count": null,
      "outputs": []
    }
  ]
}
