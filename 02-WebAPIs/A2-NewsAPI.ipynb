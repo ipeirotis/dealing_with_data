{
  "nbformat": 4,
  "nbformat_minor": 0,
  "metadata": {
    "kernelspec": {
      "display_name": "Python 3",
      "language": "python",
      "name": "python3"
    },
    "language_info": {
      "codemirror_mode": {
        "name": "ipython",
        "version": 3
      },
      "file_extension": ".py",
      "mimetype": "text/x-python",
      "name": "python",
      "nbconvert_exporter": "python",
      "pygments_lexer": "ipython3",
      "version": "3.6.7"
    },
    "colab": {
      "name": "NewsAPI.ipynb",
      "provenance": [],
      "include_colab_link": true
    }
  },
  "cells": [
    {
      "cell_type": "markdown",
      "metadata": {
        "id": "view-in-github",
        "colab_type": "text"
      },
      "source": [
        "<a href=\"https://colab.research.google.com/github/ipeirotis/dealing_with_data/blob/master/02-WebAPIs/A2-NewsAPI.ipynb\" target=\"_parent\"><img src=\"https://colab.research.google.com/assets/colab-badge.svg\" alt=\"Open In Colab\"/></a>"
      ]
    },
    {
      "cell_type": "code",
      "metadata": {
        "id": "bcRk8Vml8W4U"
      },
      "source": [
        "newsapi_key = '1dd3e90294f944c98f653a218f3a8ff4'"
      ],
      "execution_count": null,
      "outputs": []
    },
    {
      "cell_type": "code",
      "metadata": {
        "id": "hJoMgSIN8W4X"
      },
      "source": [
        "import requests"
      ],
      "execution_count": null,
      "outputs": []
    },
    {
      "cell_type": "code",
      "metadata": {
        "id": "lbSxyRkS8W4X"
      },
      "source": [
        "endpoint = 'https://newsapi.org/v2/top-headlines'\n",
        "parameters = {\n",
        "    'country' : 'us',\n",
        "    'category' : 'business',\n",
        "    'apiKey' : newsapi_key,\n",
        "    'pageSize' : 100\n",
        "}\n",
        "resp = requests.get(endpoint, params=parameters)"
      ],
      "execution_count": null,
      "outputs": []
    },
    {
      "cell_type": "code",
      "metadata": {
        "id": "2K9_FSEE8W4Y"
      },
      "source": [
        "data = resp.json()"
      ],
      "execution_count": null,
      "outputs": []
    },
    {
      "cell_type": "code",
      "metadata": {
        "id": "2ePdlGqW8W4Y"
      },
      "source": [
        "data.keys()"
      ],
      "execution_count": null,
      "outputs": []
    },
    {
      "cell_type": "code",
      "metadata": {
        "id": "EuevLxvY8W4Y"
      },
      "source": [
        "data['status']"
      ],
      "execution_count": null,
      "outputs": []
    },
    {
      "cell_type": "code",
      "metadata": {
        "id": "5P-ocnrf8W4Z"
      },
      "source": [
        "data['totalResults']"
      ],
      "execution_count": null,
      "outputs": []
    },
    {
      "cell_type": "code",
      "metadata": {
        "id": "kJNEF6mh8W4Z"
      },
      "source": [
        "# This is  a list of the returned articles\n",
        "data['articles']"
      ],
      "execution_count": null,
      "outputs": []
    },
    {
      "cell_type": "code",
      "metadata": {
        "id": "V6ksEOAu8W4Z"
      },
      "source": [
        "# This is the first article in the list\n",
        "data['articles'][0]"
      ],
      "execution_count": null,
      "outputs": []
    },
    {
      "cell_type": "code",
      "source": [
        "data['articles'][0].keys()"
      ],
      "metadata": {
        "id": "Bu_ZV8yWIt6c"
      },
      "execution_count": null,
      "outputs": []
    },
    {
      "cell_type": "code",
      "metadata": {
        "id": "RcvkXq768W4a"
      },
      "source": [
        "# Print the titles of the news articles\n",
        "for article in data['articles']:\n",
        "    print(article['title'])\n",
        "    print('-------')"
      ],
      "execution_count": null,
      "outputs": []
    },
    {
      "cell_type": "code",
      "metadata": {
        "id": "5GfuMjhq8W4b"
      },
      "source": [
        "import pandas as pd\n",
        "df = pd.json_normalize( data['articles'] )\n",
        "df"
      ],
      "execution_count": null,
      "outputs": []
    },
    {
      "cell_type": "code",
      "metadata": {
        "id": "EQ5I6OG78W4b"
      },
      "source": [
        ""
      ],
      "execution_count": null,
      "outputs": []
    }
  ]
}
